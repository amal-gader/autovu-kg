{
 "cells": [
  {
   "cell_type": "code",
   "execution_count": null,
   "metadata": {},
   "outputs": [],
   "source": [
    "from fuzzywuzzy import fuzz\n",
    "from fuzzywuzzy import process\n",
    "\n",
    "def fuzzy_match(name1, name2, threshold=80):\n",
    "    similarity_score = fuzz.ratio(name1, name2)\n",
    "    print(f\"Similarity between '{name1}' and '{name2}': {similarity_score}\")\n",
    "    return similarity_score >= threshold\n",
    "\n",
    "# Example names\n",
    "name1 = \"Yang Yuanqing\"\n",
    "name2 = \"Yuanqing Yang.\"\n",
    "\n",
    "# Use fuzzy matching to see if they are considered the same entity\n",
    "match = fuzzy_match(name1, name2, threshold=80)\n",
    "\n",
    "if match:\n",
    "    print(f\"The names '{name1}' and '{name2}' are a match!\")\n",
    "else:\n",
    "    print(f\"The names '{name1}' and '{name2}' are not a match.\")"
   ]
  },
  {
   "cell_type": "code",
   "execution_count": null,
   "metadata": {},
   "outputs": [],
   "source": [
    "import re\n",
    "\n",
    "def jaccard_similarity(str1, str2, n=2):\n",
    "    \"\"\"\n",
    "    Calculate the Jaccard Similarity between two strings based on n-grams.\n",
    "    \n",
    "    :param str1: First string\n",
    "    :param str2: Second string\n",
    "    :param n: Length of n-grams\n",
    "    :return: Jaccard similarity score between 0 and 1\n",
    "    \"\"\"\n",
    "    \n",
    "    # Convert strings to lowercase to ignore case sensitivity\n",
    "    str1, str2 = str1.lower(), str2.lower()\n",
    "    \n",
    "    # Create n-grams for both strings\n",
    "    ngrams1 = set([str1[i:i+n] for i in range(len(str1)-n+1)])\n",
    "    ngrams2 = set([str2[i:i+n] for i in range(len(str2)-n+1)])\n",
    "    \n",
    "    # Calculate the intersection and union of the sets\n",
    "    intersection = ngrams1.intersection(ngrams2)\n",
    "    union = ngrams1.union(ngrams2)\n",
    "    \n",
    "    # Return the Jaccard similarity score\n",
    "    return len(intersection) / len(union)\n",
    "\n",
    "# Test example\n",
    "name1 = \"Peter R. Orszag\"\n",
    "name2 = \"Peter Orszag\"\n",
    "\n",
    "similarity = jaccard_similarity(name1, name2, n=2)\n",
    "print(f\"Jaccard Similarity between '{name1}' and '{name2}': {similarity:.2f}\")"
   ]
  }
 ],
 "metadata": {
  "kernelspec": {
   "display_name": "venv",
   "language": "python",
   "name": "python3"
  },
  "language_info": {
   "name": "python",
   "version": "3.8.10"
  }
 },
 "nbformat": 4,
 "nbformat_minor": 2
}
