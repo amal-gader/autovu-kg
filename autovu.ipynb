{
 "cells": [
  {
   "cell_type": "code",
   "execution_count": 1,
   "metadata": {},
   "outputs": [
    {
     "data": {
      "text/html": [
       "<div>\n",
       "<style scoped>\n",
       "    .dataframe tbody tr th:only-of-type {\n",
       "        vertical-align: middle;\n",
       "    }\n",
       "\n",
       "    .dataframe tbody tr th {\n",
       "        vertical-align: top;\n",
       "    }\n",
       "\n",
       "    .dataframe thead th {\n",
       "        text-align: right;\n",
       "    }\n",
       "</style>\n",
       "<table border=\"1\" class=\"dataframe\">\n",
       "  <thead>\n",
       "    <tr style=\"text-align: right;\">\n",
       "      <th></th>\n",
       "      <th>companyLabel</th>\n",
       "      <th>ceoLabel</th>\n",
       "    </tr>\n",
       "  </thead>\n",
       "  <tbody>\n",
       "    <tr>\n",
       "      <th>0</th>\n",
       "      <td>Nvidia</td>\n",
       "      <td>Jensen Huang</td>\n",
       "    </tr>\n",
       "    <tr>\n",
       "      <th>1</th>\n",
       "      <td>BNP Paribas</td>\n",
       "      <td>Jean-Laurent Bonnafé</td>\n",
       "    </tr>\n",
       "    <tr>\n",
       "      <th>2</th>\n",
       "      <td>Block, Inc.</td>\n",
       "      <td>Jack Dorsey</td>\n",
       "    </tr>\n",
       "    <tr>\n",
       "      <th>3</th>\n",
       "      <td>Reliance Industries Limited</td>\n",
       "      <td>Mukesh Ambani</td>\n",
       "    </tr>\n",
       "    <tr>\n",
       "      <th>4</th>\n",
       "      <td>Frasers Group</td>\n",
       "      <td>Mike Ashley</td>\n",
       "    </tr>\n",
       "    <tr>\n",
       "      <th>...</th>\n",
       "      <td>...</td>\n",
       "      <td>...</td>\n",
       "    </tr>\n",
       "    <tr>\n",
       "      <th>340</th>\n",
       "      <td>Banca Transilvania</td>\n",
       "      <td>Ömer Tetik</td>\n",
       "    </tr>\n",
       "    <tr>\n",
       "      <th>341</th>\n",
       "      <td>Miniso</td>\n",
       "      <td>Ye Guofu</td>\n",
       "    </tr>\n",
       "    <tr>\n",
       "      <th>342</th>\n",
       "      <td>Deutsche Post AG</td>\n",
       "      <td>Tobias Meyer</td>\n",
       "    </tr>\n",
       "    <tr>\n",
       "      <th>343</th>\n",
       "      <td>Intel</td>\n",
       "      <td>Michelle Johnston Holthaus</td>\n",
       "    </tr>\n",
       "    <tr>\n",
       "      <th>344</th>\n",
       "      <td>Commonwealth Bank</td>\n",
       "      <td>Donald Neil Sanders</td>\n",
       "    </tr>\n",
       "  </tbody>\n",
       "</table>\n",
       "<p>345 rows × 2 columns</p>\n",
       "</div>"
      ],
      "text/plain": [
       "                    companyLabel                    ceoLabel\n",
       "0                         Nvidia                Jensen Huang\n",
       "1                    BNP Paribas        Jean-Laurent Bonnafé\n",
       "2                    Block, Inc.                 Jack Dorsey\n",
       "3    Reliance Industries Limited               Mukesh Ambani\n",
       "4                  Frasers Group                 Mike Ashley\n",
       "..                           ...                         ...\n",
       "340           Banca Transilvania                  Ömer Tetik\n",
       "341                       Miniso                    Ye Guofu\n",
       "342             Deutsche Post AG                Tobias Meyer\n",
       "343                        Intel  Michelle Johnston Holthaus\n",
       "344            Commonwealth Bank         Donald Neil Sanders\n",
       "\n",
       "[345 rows x 2 columns]"
      ]
     },
     "execution_count": 1,
     "metadata": {},
     "output_type": "execute_result"
    }
   ],
   "source": [
    "import pandas as pd\n",
    "\n",
    "df = pd.read_csv('data/company_ceo_31-03.csv')\n",
    "df"
   ]
  },
  {
   "cell_type": "code",
   "execution_count": 1,
   "metadata": {},
   "outputs": [
    {
     "name": "stderr",
     "output_type": "stream",
     "text": [
      "/root/autovu/autovu.py:33: LangChainDeprecationWarning: The class `ChatOpenAI` was deprecated in LangChain 0.0.10 and will be removed in 1.0. An updated version of the class exists in the langchain-openai package and should be used instead. To use it run `pip install -U langchain-openai` and import as `from langchain_openai import ChatOpenAI`.\n",
      "  llm = ChatOpenAI(\n",
      "/root/autovu/autovu.py:52: LangChainDeprecationWarning: The method `BaseChatModel.__call__` was deprecated in langchain-core 0.1.7 and will be removed in 1.0. Use invoke instead.\n",
      "  response = llm(messages)\n"
     ]
    },
    {
     "data": {
      "text/plain": [
       "'Answer: Andrew Bailey, Confidence: high.'"
      ]
     },
     "execution_count": 1,
     "metadata": {},
     "output_type": "execute_result"
    }
   ],
   "source": [
    "from autovu import answer_no_web\n",
    "\n",
    "answer_no_web(\"Who is the current governor of the bank of England?\")"
   ]
  },
  {
   "cell_type": "code",
   "execution_count": null,
   "metadata": {},
   "outputs": [],
   "source": [
    "# df['rankingDate'] = pd.to_datetime(df['rankingDate']).dt.date\n",
    "# df_intermediate = df.groupby(['ranking', 'playerLabel'])['rankingDate'].agg('last').reset_index()\n",
    "# df_intermediate.sort_values(by=['ranking', 'rankingDate'], ascending=[True, False]).drop_duplicates(subset=['ranking'], keep='first').to_csv('query_5_result.csv', index=False)"
   ]
  },
  {
   "cell_type": "code",
   "execution_count": 4,
   "metadata": {},
   "outputs": [],
   "source": [
    "from dotenv import load_dotenv\n",
    "import os\n",
    "\n",
    "load_dotenv()\n",
    "\n",
    "serp_key = os.getenv('SERPER_API_KEY')\n",
    "uni_api_key = os.getenv('UNI_API_KEY')"
   ]
  },
  {
   "cell_type": "code",
   "execution_count": 5,
   "metadata": {},
   "outputs": [
    {
     "name": "stderr",
     "output_type": "stream",
     "text": [
      "/tmp/ipykernel_2284/2943525429.py:3: LangChainDeprecationWarning: The class `ChatOpenAI` was deprecated in LangChain 0.0.10 and will be removed in 1.0. An updated version of the class exists in the langchain-openai package and should be used instead. To use it run `pip install -U langchain-openai` and import as `from langchain_openai import ChatOpenAI`.\n",
      "  llm = ChatOpenAI(\n"
     ]
    }
   ],
   "source": [
    "from langchain.chat_models import ChatOpenAI\n",
    "\n",
    "llm = ChatOpenAI(\n",
    "    openai_api_base=\"https://llms-inference.innkube.fim.uni-passau.de\",\n",
    "    api_key=uni_api_key,\n",
    "    model = \"deepseekr1\",\n",
    "    temperature=0.6\n",
    ")\n",
    "\n"
   ]
  },
  {
   "cell_type": "code",
   "execution_count": 6,
   "metadata": {},
   "outputs": [],
   "source": [
    "from langchain.chains import LLMChain\n",
    "from langchain.prompts import PromptTemplate\n",
    "from langchain.utilities import GoogleSerperAPIWrapper\n",
    "\n",
    "\n",
    "# Initialize search tool\n",
    "search = GoogleSerperAPIWrapper()"
   ]
  },
  {
   "cell_type": "code",
   "execution_count": null,
   "metadata": {},
   "outputs": [],
   "source": [
    "def generate_answer(query):\n",
    "    \n",
    "    custom_prompt = PromptTemplate.from_template(\n",
    "        \"You are an AI assistant. Your task is to answer the question directly using the latest information which will be provided.\"\n",
    "        \"\\nNote that search results are more up-to-date and reliable than the information you have as we are in 2025.\"\n",
    "        \"\\nAnswer briefly and directly, return only the answer label.\"\n",
    "        \"\\nReturn a confidence score based on the provided context: high, medium or low.\"\n",
    "        \"\\n The answer should be in the following format: Answer: your_answer Confidence: your_confidence_score\"\n",
    "        \"\\nUser Question: {input}\"\n",
    "        \"\\nSearch results: {search}\"\n",
    "    )\n",
    "\n",
    "    # Create an LLMChain instead of an agent\n",
    "    llm_chain = LLMChain(\n",
    "        llm=llm,\n",
    "        prompt=custom_prompt,\n",
    "        verbose=True\n",
    "    )\n",
    "    # Get the latest factual information first\n",
    "    search_result = search.results(query)\n",
    "        \n",
    "    formatted_results = \"\\n\".join(\n",
    "        f\"Title: {res['title']}\\nSnippet: {res['snippet']}\\nDate: {res.get('date', 'N/A')}\\n\"\n",
    "        for res in search_result['organic']\n",
    "    )\n",
    "    # Pass the query to the agent\n",
    "    try:\n",
    "        result = llm_chain.run({\"input\": query, \"search\": formatted_results})\n",
    "        print(f\"\\nFinal Result: {result.strip()}\")\n",
    "    except Exception as e:\n",
    "        print(f\"An error occurred: {e}\")\n",
    "        \n",
    "    return result.strip()\n",
    "        "
   ]
  },
  {
   "cell_type": "code",
   "execution_count": 22,
   "metadata": {},
   "outputs": [],
   "source": [
    "from tqdm import tqdm\n",
    "tqdm.pandas()"
   ]
  },
  {
   "cell_type": "code",
   "execution_count": 25,
   "metadata": {},
   "outputs": [
    {
     "name": "stderr",
     "output_type": "stream",
     "text": [
      "  0%|          | 0/345 [00:00<?, ?it/s]Error in StdOutCallbackHandler.on_chain_start callback: AttributeError(\"'NoneType' object has no attribute 'get'\")\n"
     ]
    },
    {
     "name": "stdout",
     "output_type": "stream",
     "text": [
      "Prompt after formatting:\n",
      "\u001b[32;1m\u001b[1;3mYou are an AI assistant. Your task is to answer the question directly using the latest information which will be provided.\n",
      "Note that search results are more up-to-date and reliable than the information you have as we are in 2025.\n",
      "Answer briefly and directly, return only the answer label.\n",
      "Return a confidence score based on the provided context: high, medium or low.\n",
      "User Question: Who is the current CEO of Nvidia?\n",
      "Search results: Title: Jensen Huang - Wikipedia\n",
      "Snippet: Jensen Huang ; Businessman; electrical engineer; philanthropist · Co-founding Nvidia · President and CEO of Nvidia Corporation (1993–present) · Lori Huang. ​. ( m.\n",
      "Date: N/A\n",
      "\n",
      "Title: Jensen Huang - NVIDIA - LinkedIn\n",
      "Snippet: In 1993, I founded NVIDIA with Chris Malachowsky and Curtis Priem to solve the problem of… · Experience: NVIDIA · Education: Stanford University · Location: ...\n",
      "Date: N/A\n",
      "\n",
      "Title: Exec Bios - NVIDIA Newsroom\n",
      "Snippet: Jensen Huang. Founder, President and CEO. Jensen Huang founded NVIDIA in 1993 and has served since its inception as president, chief executive officer and a ...\n",
      "Date: N/A\n",
      "\n",
      "Title: Jensen Huang - Forbes\n",
      "Snippet: Jensen Huang cofounded graphics-chip maker Nvidia in 1993 and has served as its CEO and president ever since. Huang owns approximately 3% of Nvidia, ...\n",
      "Date: N/A\n",
      "\n",
      "Title: NVIDIA CEO Jensen Huang's Vision for the Future - YouTube\n",
      "Snippet: NVIDIA CEO Jensen Huang's Vision for the Future · Comments3.9K.\n",
      "Date: Jan 27, 2025\n",
      "\n",
      "Title: Jensen Huang - NVIDIA\n",
      "Snippet: Jensen Huang founded NVIDIA in 1993 and has served since its inception as president, chief executive officer, and a member of the board of directors.\n",
      "Date: N/A\n",
      "\n",
      "Title: Nvidia CEO Jensen Huang: 'Everybody' should use this free type of AI\n",
      "Snippet: Jensen Huang, co-founder and chief executive officer of Nvidia Corp., during a news conference in Taipei, Taiwan, on Tuesday, June 4, 2024.\n",
      "Date: Feb 26, 2025\n",
      "\n",
      "Title: Jensen Huang, Founder and CEO of NVIDIA - YouTube\n",
      "Snippet: In this View From The Top interview, Shantam Jain, MBA '24, speaks with Jensen Huang, Founder and CEO of NVIDIA. As of March 1, 2024, ...\n",
      "Date: Mar 5, 2024\n",
      "\n",
      "Title: Nvidia's Founder & CEO Jensen Huang resume on LinkedIn - Reddit\n",
      "Snippet: In April 1993 Huang cofounded NVIDIA with fellow microchip designers Chris Malachowsky and Curtis Priem, who selected Huang to serve as CEO.\n",
      "Date: Aug 28, 2024\n",
      "\u001b[0m\n"
     ]
    },
    {
     "name": "stderr",
     "output_type": "stream",
     "text": [
      "  1%|          | 2/345 [00:24<1:09:33, 12.17s/it]"
     ]
    },
    {
     "name": "stdout",
     "output_type": "stream",
     "text": [
      "\n",
      "\u001b[1m> Finished chain.\u001b[0m\n",
      "\n",
      "Final Result: <think>\n",
      "Okay, so I need to figure out who the current CEO of Nvidia is. I remember hearing that Jensen Huang founded the company, but I'm not entirely sure if he's still the CEO now in 2025. Let me go through the search results provided.\n",
      "\n",
      "Looking at the first result from Wikipedia, it says Jensen Huang has been the President and CEO since 1993, which is a long time. That gives some confidence that he's still in the role unless there's recent news of a change. The LinkedIn profile also mentions him as the co-founder and doesn't indicate any departure.\n",
      "\n",
      "The NVIDIA Newsroom explicitly states he's the Founder, President, and CEO, serving since 1993. That seems pretty official. Forbes corroborates this information too, noting that he's been CEO since the company started. \n",
      "\n",
      "There are some recent dates in the snippets as well. A YouTube video from January 27, 2025, talks about his vision for the future, which suggests he was active as CEO at least up until then. Another snippet from February 26, 2025, mentions him speaking at a news conference, which is very recent. Additionally, a Reddit post from August 28, 2024, confirms that he's been serving as CEO since the company started.\n",
      "\n",
      "I don't see any information indicating that someone else has taken over as CEO. All sources consistently mention Jensen Huang in the role without any hints of a change. Given that multiple sources, including official ones like NVIDIA's Newsroom and recent news articles, confirm his position, it seems safe to conclude he's still the CEO.\n",
      "\n",
      "So, putting it all together, all reliable sources point to Jensen Huang being the current CEO of Nvidia as of 2025.\n",
      "</think>\n",
      "\n",
      "The current CEO of Nvidia is Jensen Huang. All provided search results consistently confirm that he has been serving in this role since the company's founding in 1993, with recent updates from January and February 2025.\n",
      "\n",
      "Answer: Jensen Huang  \n",
      "Confidence Score: High\n"
     ]
    },
    {
     "name": "stderr",
     "output_type": "stream",
     "text": [
      "Error in StdOutCallbackHandler.on_chain_start callback: AttributeError(\"'NoneType' object has no attribute 'get'\")\n"
     ]
    },
    {
     "name": "stdout",
     "output_type": "stream",
     "text": [
      "Prompt after formatting:\n",
      "\u001b[32;1m\u001b[1;3mYou are an AI assistant. Your task is to answer the question directly using the latest information which will be provided.\n",
      "Note that search results are more up-to-date and reliable than the information you have as we are in 2025.\n",
      "Answer briefly and directly, return only the answer label.\n",
      "Return a confidence score based on the provided context: high, medium or low.\n",
      "User Question: Who is the current CEO of BNP Paribas?\n",
      "Search results: Title: Jean-Laurent Bonnafé - Director and Chief Executive Officer of BNP ...\n",
      "Snippet: Director and Chief Executive Officer of BNP Paribas · Engineer by training, banker since 1993, and CEO of BNP Paribas since December 2011.\n",
      "Date: N/A\n",
      "\n",
      "Title: Members of the Board of Directors - Groupe BNP Paribas\n",
      "Snippet: Board of Directors ; Jean Lemierre · Jean Lemierre ; Jean-Laurent Bonnafé · Jean-Laurent Bonnafé Director and Chief Executive Officer of BNP Paribas, Board of ...\n",
      "Date: N/A\n",
      "\n",
      "Title: BNP Paribas - Wikipedia\n",
      "Snippet: Jean-Laurent Bonnafé, Director and chief executive officer of BNP Paribas · Yann Gérardin, Chief Operating Officer, Corporate & Institutional Banking · Thierry ...\n",
      "Date: N/A\n",
      "\n",
      "Title: US Leadership - BNP Paribas USA\n",
      "Snippet: Jean-Yves Fillion, CEO, BNP Paribas USA & Chairman of CIB Americas. The US presence represents BNP Paribas' commitment outside of France.\n",
      "Date: N/A\n",
      "\n",
      "Title: BNP Paribas' Long-Time Chief Bonnafe Eyes Another Three Years\n",
      "Snippet: After more than 13 years at the helm BNP Paribas SA, Jean-Laurent Bonnafe isn't quite done yet.\n",
      "Date: Mar 7, 2025\n",
      "\n",
      "Title: Jean-Laurent Bonnafé - Wikipedia\n",
      "Snippet: Jean-Laurent Bonnafé (born 14 July 1961) has been the chief executive officer of BNP Paribas since 2011.\n",
      "Date: N/A\n",
      "\n",
      "Title: BNP Paribas USA Appoints José Placido as CEO and Jean-Yves ...\n",
      "Snippet: BNP Paribas USA Appoints José Placido as CEO and Jean-Yves Fillion as Vice-Chairman.\n",
      "Date: Apr 13, 2023\n",
      "\n",
      "Title: BNP Paribas CEO and Key Executive Team - Craft.co\n",
      "Snippet: BNP Paribas's Director and Chief Executive Officer is Jean-Laurent Bonnafé. Other executives include Frank Roncey, Chief Risk Officer; Laurent David, ...\n",
      "Date: N/A\n",
      "\n",
      "Title: Philippe Maillard is appointed Chief Operating Officer of the Group\n",
      "Snippet: He joins the BNP Paribas Executive Committee and will report to Jean-Laurent Bonnafé, Director and Chief Executive Officer of BNP Paribas. As ...\n",
      "Date: Feb 11, 2025\n",
      "\u001b[0m\n"
     ]
    },
    {
     "name": "stderr",
     "output_type": "stream",
     "text": [
      "  1%|          | 3/345 [00:46<1:33:17, 16.37s/it]"
     ]
    },
    {
     "name": "stdout",
     "output_type": "stream",
     "text": [
      "\n",
      "\u001b[1m> Finished chain.\u001b[0m\n",
      "\n",
      "Final Result: <think>\n",
      "Okay, so I need to figure out who the current CEO of BNP Paribas is. Let me look at the search results provided.\n",
      "\n",
      "The first result says Jean-Laurent Bonnafé is the Director and Chief Executive Officer of BNP Paribas since December 2011. Another snippet from the Board of Directors also lists him as CEO. The Wikipedia page confirms he's been in that role since 2011, which is a long time. \n",
      "\n",
      "There's another result mentioning Yann Gérardin as COO and Thierry Découttere, but they're not CEOs. Then there's Jean-Yves Fillion mentioned as CEO of BNP Paribas USA, but that's a different position, just the US branch.\n",
      "\n",
      "One article from March 7, 2025, says Bonnafé is looking at another three years after more than 13 years as CEO. That suggests he's still in the role as of early 2025. Another snippet mentions José Placido being appointed as CEO of BNP Paribas USA in April 2023, but again, that's just for the US operations.\n",
      "\n",
      "A recent appointment in February 2025 shows someone else joining the Executive Committee and reporting to Bonnafé, indicating he's still leading the group. \n",
      "\n",
      "So, putting it all together, multiple sources consistently mention Jean-Laurent Bonnafé as the CEO since 2011, with no indication of a change. The latest info from March 2025 supports that he's still in the role.\n",
      "</think>\n",
      "\n",
      "Jean-Laurent Bonnafé is the current CEO of BNP Paribas.\n",
      "\n",
      "high\n"
     ]
    },
    {
     "name": "stderr",
     "output_type": "stream",
     "text": [
      "Error in StdOutCallbackHandler.on_chain_start callback: AttributeError(\"'NoneType' object has no attribute 'get'\")\n"
     ]
    },
    {
     "name": "stdout",
     "output_type": "stream",
     "text": [
      "Prompt after formatting:\n",
      "\u001b[32;1m\u001b[1;3mYou are an AI assistant. Your task is to answer the question directly using the latest information which will be provided.\n",
      "Note that search results are more up-to-date and reliable than the information you have as we are in 2025.\n",
      "Answer briefly and directly, return only the answer label.\n",
      "Return a confidence score based on the provided context: high, medium or low.\n",
      "User Question: Who is the current CEO of Block, Inc.?\n",
      "Search results: Title: Governance - Leadership - Block, Inc. (XYZ) Investor Relations\n",
      "Snippet: Jack Dorsey, BLOCK HEAD​​ Jack Dorsey is Block Head, Chairman, and cofounder of Block.\n",
      "Date: N/A\n",
      "\n",
      "Title: Block, Inc. - Wikipedia\n",
      "Snippet: Block, Inc. · Jack Dorsey (Chair, CEO) · Amrita Ahuja (CFO, COO).\n",
      "Date: N/A\n",
      "\n",
      "Title: Jack Dorsey - Block Investor Relations\n",
      "Snippet: Jack Dorsey is Block Head, Chairman, and cofounder of Block. Block logo. Follow us. follow us on twitter · follow us on instagram. IR Contact. ir@block.xyz ...\n",
      "Date: N/A\n",
      "\n",
      "Title: Block IncExecutive & Employee Information - GlobalData\n",
      "Snippet: Jack Dorsey​​ Mr. Jack Dorsey has been the Chairman of the company since 2010. Previously, he served as the President and Chief Executive Officer of Twitter, Inc ...\n",
      "Date: N/A\n",
      "\n",
      "Title: Jack Dorsey - CEO of Block | Podcast | In Good Company - YouTube\n",
      "Snippet: Jack Dorsey - CEO of Block | Podcast | In Good Company | Norges Bank Investment Management · Comments168.\n",
      "Date: Feb 11, 2025\n",
      "\n",
      "Title: Jack Dorsey is about to overhaul Block in a reorg he warns ... - Fortune\n",
      "Snippet: Block co-founder and CEO Jack Dorsey says it's time to blow up silos within the company and get back to its roots.\n",
      "Date: Jul 25, 2024\n",
      "\n",
      "Title: Block Executive Team - Comparably\n",
      "Snippet: The Block Executive Team is rated an \"A\" and led by CEO Jack Dorsey. Block employees rate their Executive Team in the Top 10% of similar size companies on ...\n",
      "Date: N/A\n",
      "\n",
      "Title: Block, Inc. - Contacts, Employees, Board Members, Advisors & Alumni\n",
      "Snippet: Block, Inc. has 156 current employee profiles, including CEO & Co-Founder Jack Dorsey . Block, Inc. has 18 board members and advisors, including Jack Dorsey .\n",
      "Date: N/A\n",
      "\n",
      "Title: Block CEO Jack Dorsey Keeps Fingers Crossed Over Regulatory ...\n",
      "Snippet: Block CEO Jack Dorsey says the company will focus on engineering to make sure that the company is way ahead of the regulatory asks.\n",
      "Date: Nov 7, 2024\n",
      "\n",
      "Title: Jack Dorsey dramatically shutters Block's TBD crypto unit - CNBC\n",
      "Snippet: Block CEO Jack Dorsey tweeted in 2021 that his company was starting a crypto unit called TBD and its \"primary focus is #Bitcoin.\n",
      "Date: Nov 8, 2024\n",
      "\u001b[0m\n"
     ]
    },
    {
     "name": "stderr",
     "output_type": "stream",
     "text": [
      "  1%|          | 4/345 [01:13<1:55:50, 20.38s/it]"
     ]
    },
    {
     "name": "stdout",
     "output_type": "stream",
     "text": [
      "\n",
      "\u001b[1m> Finished chain.\u001b[0m\n",
      "\n",
      "Final Result: <think>\n",
      "Alright, so I need to figure out who the current CEO of Block, Inc. is. Let me go through each search result carefully.\n",
      "\n",
      "The first result from Block's investor relations page mentions Jack Dorsey as the Block Head, Chairman, and co-founder. It doesn't explicitly say he's the CEO, but that title might imply a leadership role similar to CEO.\n",
      "\n",
      "Looking at the second source, Wikipedia directly states that Jack Dorsey is both the Chair and CEO of Block, Inc., along with Amrita Ahuja as CFO and COO. That's pretty clear.\n",
      "\n",
      "The third result from Block's investor relations again calls him Block Head, Chairman, and co-founder but doesn't mention CEO. However, given the context, it's likely he holds that position.\n",
      "\n",
      "The fourth source says Jack Dorsey has been the Chairman since 2010 and previously served as President and CEO of Twitter. It doesn't specify his current role at Block, so I can't rely solely on this for confirmation.\n",
      "\n",
      "The fifth result is a YouTube podcast from February 2025 where Jack Dorsey is introduced as the CEO of Block. That's recent and directly states his position.\n",
      "\n",
      "Another snippet from Fortune in July 2024 refers to him as co-founder and CEO, which adds more evidence. \n",
      "\n",
      "Comparably's executive team page rates the team led by CEO Jack Dorsey, so that's another confirmation.\n",
      "\n",
      "Block, Inc.'s contact list includes Jack Dorsey as CEO & Co-Founder, which is straightforward.\n",
      "\n",
      "A recent article from November 2024 mentions Block CEO Jack Dorsey discussing regulatory matters, further confirming his role.\n",
      "\n",
      "Lastly, a CNBC snippet from November 2024 also refers to him as Block's CEO when talking about shutting down a crypto unit.\n",
      "\n",
      "Putting it all together, multiple sources across different dates up to February 2025 confirm that Jack Dorsey is the current CEO of Block, Inc. The consistency and number of reliable sources give me high confidence in this answer.\n",
      "</think>\n",
      "\n",
      "Jack Dorsey  \n",
      "Confidence: High\n"
     ]
    },
    {
     "name": "stderr",
     "output_type": "stream",
     "text": [
      "Error in StdOutCallbackHandler.on_chain_start callback: AttributeError(\"'NoneType' object has no attribute 'get'\")\n"
     ]
    },
    {
     "name": "stdout",
     "output_type": "stream",
     "text": [
      "Prompt after formatting:\n",
      "\u001b[32;1m\u001b[1;3mYou are an AI assistant. Your task is to answer the question directly using the latest information which will be provided.\n",
      "Note that search results are more up-to-date and reliable than the information you have as we are in 2025.\n",
      "Answer briefly and directly, return only the answer label.\n",
      "Return a confidence score based on the provided context: high, medium or low.\n",
      "User Question: Who is the current CEO of Reliance Industries Limited?\n",
      "Search results: Title: Reliance Industries Limited Chairman & Managing Director\n",
      "Snippet: RIL Chairman and Managing Director, Mukesh D. Ambani, is a chemical engineer from the Institute of Chemical Technology, Mumbai (erstwhile the University ...\n",
      "Date: N/A\n",
      "\n",
      "Title: Reliance Industries Limited Board of Directors - Nita Ambani\n",
      "Snippet: Mukesh D. Ambani ... RIL Chairman and Managing Director Mukesh D. Ambani is a chemical engineer from the Institute of Chemical Technology, Mumbai (erstwhile the ...\n",
      "Date: N/A\n",
      "\n",
      "Title: Reliance Industries - Wikipedia\n",
      "Snippet: The chairman of Reliance Industries, Mukesh Ambani, has been described as a plutocrat.\n",
      "Date: N/A\n",
      "\n",
      "Title: Mukesh Ambani - Mumbai, Maharashtra, India | Professional Profile\n",
      "Snippet: Mukesh Ambani. CEO at Reliance Digital Pvt Ltd. Mumbai, Maharashtra, India. 2K followers 53 connections.\n",
      "Date: N/A\n",
      "\n",
      "Title: Shri Mukesh D Ambani, Chairman and Managing Director, Reliance ...\n",
      "Snippet: Shri Mukesh D Ambani, Chairman and Managing Director, Reliance Industries Limited addressing employees in Jamnagar on the occasion of ...\n",
      "Date: Jan 3, 2025\n",
      "\n",
      "Title: Reliance Industries CEO and Key Executive Team - Craft.co\n",
      "Snippet: Reliance Industries's Chairman and Managing Director is Mukesh D. Ambani. Reliance Industries's key executives include Mukesh D. Ambani and 19 others.\n",
      "Date: N/A\n",
      "\n",
      "Title: Mukesh Ambani - CEO, Chairman and Managing Director ...\n",
      "Snippet: Mukesh Ambani is the face of new emerging India. He is the Chairman and Managing Director of Reliance Industries Limited, India's largest private sector company ...\n",
      "Date: N/A\n",
      "\n",
      "Title: Reliance Industries Limited - , praising PM - Narendra Modi\n",
      "Snippet: Watch Mukesh Ambani, Chairman & Managing Director, Reliance Industries Limited Reliance Industries Limited, praising PM Narendra Modi's ...\n",
      "Date: Oct 25, 2024\n",
      "\n",
      "Title: Leading India's Inclusive Growth Story - Reliance Industries Limited\n",
      "Snippet: Shri. Mukesh D. Ambani. Chairman and Managing Director, Reliance Industries Limited. It is this spirit of India and Indians ...\n",
      "Date: N/A\n",
      "\u001b[0m\n"
     ]
    },
    {
     "name": "stderr",
     "output_type": "stream",
     "text": [
      "  1%|▏         | 5/345 [01:48<2:23:50, 25.38s/it]"
     ]
    },
    {
     "name": "stdout",
     "output_type": "stream",
     "text": [
      "\n",
      "\u001b[1m> Finished chain.\u001b[0m\n",
      "\n",
      "Final Result: <think>\n",
      "Okay, so I need to figure out who the current CEO of Reliance Industries Limited is. Let me go through each search result carefully.\n",
      "\n",
      "The first search result mentions that Mukesh D. Ambani is the Chairman and Managing Director of RIL. That's a pretty high-level position, but does that mean he's the CEO? Sometimes companies use different titles, so I'm not entirely sure yet.\n",
      "\n",
      "Looking at the second result, it again refers to Mukesh D. Ambani as the Chairman and Managing Director. It also talks about his background as a chemical engineer. This seems consistent with the first result, but still doesn't explicitly say \"CEO.\"\n",
      "\n",
      "The third search result is from Wikipedia and mentions that Mukesh Ambani is the chairman of Reliance Industries. It describes him as a plutocrat, which might be more of an opinion than a factual title.\n",
      "\n",
      "Moving on to the fourth result, it's a professional profile stating that Mukesh Ambani is the CEO at Reliance Digital Pvt Ltd. Wait, that's a different company—Reliance Digital, not Reliance Industries Limited. So this might not apply directly, but since both are part of the same conglomerate, maybe he holds multiple roles.\n",
      "\n",
      "The fifth result is from January 3, 2025, and mentions Mukesh D. Ambani addressing employees as the Chairman and Managing Director of RIL. This seems recent and confirms his position at least up to early 2025.\n",
      "\n",
      "The sixth search result explicitly lists him as the Chairman and Managing Director on Craft.co, which is a reliable source for company executives. It also mentions key executives include him and others, but doesn't use the term CEO here.\n",
      "\n",
      "The seventh result again refers to him as the Chairman and Managing Director of Reliance Industries Limited, describing him as the face of new India. This reinforces his leadership role without mentioning CEO specifically.\n",
      "\n",
      "The eighth result from October 25, 2024, shows Mukesh Ambani praising PM Modi in his role at RIL, again as Chairman & Managing Director.\n",
      "\n",
      "Lastly, the ninth snippet mentions Mukesh D. Ambani in the context of leading Reliance Industries Limited but doesn't add new information about his title.\n",
      "\n",
      "Putting this all together: multiple sources consistently refer to Mukesh D. Ambani as the Chairman and Managing Director of RIL. While some might use \"CEO\" interchangeably, especially in a global context where CEO is a more common term for the top executive, the specific titles given are Chairman and Managing Director. However, in Indian corporate structures, the Managing Director often holds responsibilities similar to a CEO. Therefore, it's reasonable to conclude that Mukesh D. Ambani is effectively the CEO of Reliance Industries Limited.\n",
      "\n",
      "Confidence is high because multiple recent sources (up to 2025) confirm his position as Chairman and Managing Director, which equates to the role of CEO in this context.\n",
      "</think>\n",
      "\n",
      "Mukesh D. Ambani is the current CEO of Reliance Industries Limited.\n",
      "\n",
      "Answer: Mukesh D. Ambani  \n",
      "Confidence score: high\n"
     ]
    },
    {
     "name": "stderr",
     "output_type": "stream",
     "text": [
      "Error in StdOutCallbackHandler.on_chain_start callback: AttributeError(\"'NoneType' object has no attribute 'get'\")\n"
     ]
    },
    {
     "name": "stdout",
     "output_type": "stream",
     "text": [
      "Prompt after formatting:\n",
      "\u001b[32;1m\u001b[1;3mYou are an AI assistant. Your task is to answer the question directly using the latest information which will be provided.\n",
      "Note that search results are more up-to-date and reliable than the information you have as we are in 2025.\n",
      "Answer briefly and directly, return only the answer label.\n",
      "Return a confidence score based on the provided context: high, medium or low.\n",
      "User Question: Who is the current CEO of Frasers Group?\n",
      "Search results: Title: Senior Leadership | Frasers Group\n",
      "Snippet: Michael MurrayChief Executive Officer (CEO)Michael Murray initially partnered with the business as a property consultant, bringing his knowledge and ...\n",
      "Date: N/A\n",
      "\n",
      "Title: Michael Murray - Frasers Group | LinkedIn\n",
      "Snippet: As CEO of Frasers Group, I'm here to make a tangible impact transforming our brands… · Experience: Frasers Group · Education: University of Reading ...\n",
      "Date: N/A\n",
      "\n",
      "Title: Frasers Group - Wikipedia\n",
      "Snippet: It was announced in September 2021 that Michael Murray was to be the incoming CEO of Frasers Group, taking over Ashley's role, in May 2022.\n",
      "Date: N/A\n",
      "\n",
      "Title: Michael Murray, CEO of Frasers Group | The Gentleman's Journal\n",
      "Snippet: Michael Murray is the CEO of Frasers Group, which owns some of Britain's best known retail brands — including House of Fraser, Sports Direct, Flannels, ...\n",
      "Date: N/A\n",
      "\n",
      "Title: Michael Murray (@michaelmurrayfg) • Instagram photos and videos\n",
      "Snippet: CEO Frasers Group | Growing Sports Direct, FLANNELS & Frasers Results-focused across business, Hyrox & fitness Follow our ambitious journey.\n",
      "Date: N/A\n",
      "\n",
      "Title: How Frasers Group Became a Global Brand Powerhouse - YouTube\n",
      "Snippet: How Frasers Group Became a Global Brand Powerhouse | Michael Murray CEO Insights (4K) · Comments6.\n",
      "Date: Oct 30, 2024\n",
      "\n",
      "Title: Frasers Group plc: Executives - GlobalData\n",
      "Snippet: Mr. Michael Murray has been the Chief Executive Officer and Director of the company since May 2022. Prior to this, he served as the Head of Elevation of the ...\n",
      "Date: N/A\n",
      "\n",
      "Title: About us - Frasers Group\n",
      "Snippet: Led by Chief Executive Michael Murray, the business is set on a formidable upwards trajectory as it continues to expand with its pioneering approach to retail.\n",
      "Date: N/A\n",
      "\n",
      "Title: CEO of Mike Ashley's Frasers Group says budget felt like being ...\n",
      "Snippet: Michael Murray, the chief executive of Frasers Group, said: “The first half of this year has been another period of progress for the group ...\n",
      "Date: Dec 5, 2024\n",
      "\n",
      "Title: Frasers Group CEO measured up for Hugo Boss board seat\n",
      "Snippet: Michael Murray will take part in an election to become part of the German fashion retailer's supervisory board.\n",
      "Date: Dec 17, 2024\n",
      "\u001b[0m\n"
     ]
    },
    {
     "name": "stderr",
     "output_type": "stream",
     "text": [
      "  2%|▏         | 6/345 [02:10<2:17:34, 24.35s/it]"
     ]
    },
    {
     "name": "stdout",
     "output_type": "stream",
     "text": [
      "\n",
      "\u001b[1m> Finished chain.\u001b[0m\n",
      "\n",
      "Final Result: <think>\n",
      "Okay, I need to figure out who the current CEO of Frasers Group is. Let me go through each search result one by one.\n",
      "\n",
      "The first snippet from the Senior Leadership page on Frasers Group mentions Michael Murray as the CEO. That's a direct source, so that's pretty reliable.\n",
      "\n",
      "Looking at LinkedIn, his profile says he's the CEO there too. LinkedIn profiles are usually up-to-date, especially for executives, so this supports the first result.\n",
      "\n",
      "Wikipedia notes that Michael Murray was announced as the incoming CEO in September 2021 and took over in May 2022. This gives a timeline and confirms the transition from Ashley to Murray.\n",
      "\n",
      "The Gentleman's Journal also lists him as CEO, which is another reputable source. His Instagram bio states he's the CEO of Frasers Group, which adds more confirmation.\n",
      "\n",
      "There's a YouTube video from October 30, 2024, where he provides insights as CEO, so that's recent content. GlobalData's snippet mentions he became CEO in May 2022, aligning with Wikipedia's info.\n",
      "\n",
      "The About Us page on Frasers Group directly states Michael Murray is leading the company. Recent news articles from December 5 and 17, 2024, mention him as CEO, which are very up-to-date.\n",
      "\n",
      "All these sources consistently name Michael Murray as the current CEO without any conflicting information. The dates go up to December 2024, so it's all recent and reliable. Therefore, I'm confident the answer is correct.\n",
      "</think>\n",
      "\n",
      "Michael Murray\n",
      "\n",
      "The search results consistently identify Michael Murray as the current CEO of Frasers Group across multiple sources, including the company's leadership page, LinkedIn, Wikipedia, and recent news articles from late 2024.\n",
      "\n",
      "high\n"
     ]
    },
    {
     "name": "stderr",
     "output_type": "stream",
     "text": [
      "Error in StdOutCallbackHandler.on_chain_start callback: AttributeError(\"'NoneType' object has no attribute 'get'\")\n"
     ]
    },
    {
     "name": "stdout",
     "output_type": "stream",
     "text": [
      "Prompt after formatting:\n",
      "\u001b[32;1m\u001b[1;3mYou are an AI assistant. Your task is to answer the question directly using the latest information which will be provided.\n",
      "Note that search results are more up-to-date and reliable than the information you have as we are in 2025.\n",
      "Answer briefly and directly, return only the answer label.\n",
      "Return a confidence score based on the provided context: high, medium or low.\n",
      "User Question: Who is the current CEO of Lazard?\n",
      "Search results: Title: Leadership & Board | Lazard\n",
      "Snippet: Peter Orszag. CEO and Chairman ; Evan Russo. CEO of Asset Management ; Raymond J. McGuire. President ; Alexandra Soto. Chief Operating Officer ; Mary Ann Betsch.\n",
      "Date: N/A\n",
      "\n",
      "Title: Peter Orszag - Chief Executive Officer and Chairman - Lazard\n",
      "Snippet: Peter R. Orszag is Chief Executive Officer and Chairman of Lazard, the preeminent global financial advisory and asset management firm.\n",
      "Date: N/A\n",
      "\n",
      "Title: Lazard - Wikipedia\n",
      "Snippet: On May 26, 2023, the firm announced that Peter R. Orszag, CEO of Financial Advisory, had been unanimously elected by its Board to serve as CEO of Lazard and as ...\n",
      "Date: N/A\n",
      "\n",
      "Title: Peter R. Orszag - Wikipedia\n",
      "Snippet: He is the chief executive officer (CEO) and chairman of Lazard. Announced as Lazard's incoming CEO on May 26, 2023, he assumed the role on October 1, 2023, ...\n",
      "Date: N/A\n",
      "\n",
      "Title: Lazard Appoints Peter R. Orszag as CEO and Kenneth M. Jacobs as ...\n",
      "Snippet: Lazard Appoints Peter R. Orszag as CEO and Kenneth M. Jacobs as Executive Chairman. May 26, 2023.\n",
      "Date: May 26, 2023\n",
      "\n",
      "Title: Lazard Names CEO as Chairman, New Lead Independent Director\n",
      "Snippet: Lazard named a new lead independent director to its board and the appointment of CEO Peter Orszag as chairman, effective January 1, 2025.\n",
      "Date: Nov 25, 2024\n",
      "\n",
      "Title: About Lazard\n",
      "Snippet: Lazard 2030. In September 2023, incoming Chief Executive Officer Peter Orszag shared his vision for Lazard, including thoughts on the firm's culture, its ...\n",
      "Date: N/A\n",
      "\n",
      "Title: Lazard's next CEO Peter Orszag plans to double revenue by 2030\n",
      "Snippet: Peter Orszag takes the helm as CEO of Lazard (LAZ.N), he is already setting an ambitious goal for the investment bank to double its revenue by 2030.\n",
      "Date: Sep 14, 2023\n",
      "\n",
      "Title: Lazard Chief Executive Officer Peter Orszag Featured in Business ...\n",
      "Snippet: Business Insider published an article featuring commentary from Lazard Chief Executive Officer Peter Orszag on the benefits of workplace flexibility.\n",
      "Date: Sep 25, 2024\n",
      "\u001b[0m\n"
     ]
    },
    {
     "name": "stderr",
     "output_type": "stream",
     "text": [
      "  2%|▏         | 7/345 [02:33<2:14:27, 23.87s/it]"
     ]
    },
    {
     "name": "stdout",
     "output_type": "stream",
     "text": [
      "\n",
      "\u001b[1m> Finished chain.\u001b[0m\n",
      "\n",
      "Final Result: <think>\n",
      "Okay, so I need to figure out who the current CEO of Lazard is. Let me go through these search results one by one.\n",
      "\n",
      "The first result shows that Peter Orszag is listed as CEO and Chairman. That seems pretty clear. The second result also states he's the Chief Executive Officer and Chairman of Lazard, which reinforces that information.\n",
      "\n",
      "Looking at the third result from Wikipedia, it mentions that on May 26, 2023, Peter R. Orszag was elected as CEO by the Board. It adds that he assumed the role on October 1, 2023. So that's a specific date when he took over.\n",
      "\n",
      "The fourth result is his Wikipedia page, which again confirms he became CEO and Chairman, effective October 1, 2023. That's consistent with what I saw earlier.\n",
      "\n",
      "Another snippet from May 26, 2023, talks about Lazard appointing him as CEO and Kenneth Jacobs as Executive Chairman. This aligns with the previous information about his appointment date.\n",
      "\n",
      "There's also a result from November 25, 2024, where he was named chairman, effective January 1, 2025. So that adds another layer, showing that he's not only CEO but also became Chairman this year.\n",
      "\n",
      "Further results mention him setting goals for 2030 and being featured in articles as the CEO in September 2024. This indicates that as of those dates, he was still actively serving in that role.\n",
      "\n",
      "Putting it all together, Peter Orszag has been consistently mentioned across multiple sources as the CEO since October 1, 2023, and also took on the Chairman position starting January 1, 2025. All the information points to him being the current CEO without any conflicting data.\n",
      "</think>\n",
      "\n",
      "Peter R. Orszag is the current CEO of Lazard.\n",
      "\n",
      "**Answer:** Peter R. Orszag  \n",
      "**Confidence Score:** High\n"
     ]
    },
    {
     "name": "stderr",
     "output_type": "stream",
     "text": [
      "Error in StdOutCallbackHandler.on_chain_start callback: AttributeError(\"'NoneType' object has no attribute 'get'\")\n"
     ]
    },
    {
     "name": "stdout",
     "output_type": "stream",
     "text": [
      "Prompt after formatting:\n",
      "\u001b[32;1m\u001b[1;3mYou are an AI assistant. Your task is to answer the question directly using the latest information which will be provided.\n",
      "Note that search results are more up-to-date and reliable than the information you have as we are in 2025.\n",
      "Answer briefly and directly, return only the answer label.\n",
      "Return a confidence score based on the provided context: high, medium or low.\n",
      "User Question: Who is the current CEO of Rosneft?\n",
      "Search results: Title: Igor Sechin - Rosneft\n",
      "Snippet: Igor Sechin. Chief Executive Officer, Chairman of the Management Board, Deputy Chairman of the Board of Directors of Rosneft. Born in 1960. Graduated ...\n",
      "Date: N/A\n",
      "\n",
      "Title: Igor Sechin - Wikipedia\n",
      "Snippet: He is currently the chief executive officer, president and chairman of the management board of Rosneft. Sechin is often described as one of Putin's most ...\n",
      "Date: N/A\n",
      "\n",
      "Title: Putin's ally Sechin to stay as Rosneft's head for five more years\n",
      "Snippet: Igor Sechin, a long-standing ally of President Vladimir Putin, will be staying as head of Russia's largest oil producer Rosneft , for five ...\n",
      "Date: Dec 27, 2024\n",
      "\n",
      "Title: Board of Directors - Rosneft\n",
      "Snippet: Chief Executive Officer, Chairman of the Management Board, Deputy Chairman of the Board of Directors of Rosneft. Aleksander Nekipelov. Deputy Chairman of the ...\n",
      "Date: N/A\n",
      "\n",
      "Title: Igor Ivanovich Sechin, Rosneft Pjsc: Profile and Biography\n",
      "Snippet: Igor Ivanovich Sechin is Chairman-Mgmt Board/CEO at Rosneft Pjsc. See Igor Ivanovich Sechin's compensation, career history, education, & memberships.\n",
      "Date: N/A\n",
      "\n",
      "Title: Rosneft board extends Sechin's tenure as CEO for another five years\n",
      "Snippet: The board resolved to \"appoint Sechin, Igor Ivanovich to the position of chief executive officer of PJSC Rosneft for a term of five years ...\n",
      "Date: Dec 28, 2024\n",
      "\n",
      "Title: Remarks by Rosneft CEO Igor Sechin: The Economic ... - YouTube\n",
      "Snippet: Remarks by Rosneft CEO Igor Sechin: The Economic Impact of Conflicts · Comments.\n",
      "Date: Jan 30, 2025\n",
      "\n",
      "Title: Rosneft Oil Company CEO Igor Sechin made a working visit to India\n",
      "Snippet: Rosneft Oil Company CEO Igor Sechin made a working visit to India. He had a number of meetings with representatives of the Indian government.\n",
      "Date: N/A\n",
      "\n",
      "Title: Rosneft Oil Co: Executives - GlobalData\n",
      "Snippet: Mr. Igor Sechin has been the Chief Executive Officer and Deputy Chairman of Rosneft since 2013. Prior to this, he served as Chairman of the Board of Directors ...\n",
      "Date: N/A\n",
      "\u001b[0m\n"
     ]
    },
    {
     "name": "stderr",
     "output_type": "stream",
     "text": [
      "  2%|▏         | 8/345 [03:06<2:29:38, 26.64s/it]"
     ]
    },
    {
     "name": "stdout",
     "output_type": "stream",
     "text": [
      "\n",
      "\u001b[1m> Finished chain.\u001b[0m\n",
      "\n",
      "Final Result: <think>\n",
      "Okay, so I need to figure out who the current CEO of Rosneft is. Let me start by going through each search result one by one.\n",
      "\n",
      "The first search result has a title mentioning Igor Sechin and Rosneft, with his role as Chief Executive Officer and Chairman of the Management Board. The snippet doesn't have a date, but it does provide his position clearly.\n",
      "\n",
      "Next, there's another result from Wikipedia which also states that Igor Sechin is the CEO, president, and chairman of the management board at Rosneft. It adds that he's an ally of Putin, which might indicate he's been in the position for some time, possibly still current.\n",
      "\n",
      "Looking further, a snippet dated December 27, 2024, mentions that Sechin will stay as head of Rosneft for five more years. This is recent information and suggests that as of late 2024, he was still in the role.\n",
      "\n",
      "Another result from Rosneft's Board of Directors lists Igor Sechin again as CEO, Chairman of the Management Board, and Deputy Chairman of the Board of Directors. No date here, but it reinforces his position.\n",
      "\n",
      "There's a profile snippet about Igor Ivanovich Sechin being the Chairman-Mgmt Board/CEO at Rosneft Pjsc, which aligns with previous information without providing a specific date.\n",
      "\n",
      "Another result from December 28, 2024, states that the board extended Sechin's tenure as CEO for another five years. This is very recent and confirms his ongoing role.\n",
      "\n",
      "A YouTube video snippet dated January 30, 2025, mentions Rosneft CEO Igor Sechin making remarks, which indicates he was active in that position as recently as early 2025.\n",
      "\n",
      "Another snippet about a working visit to India by Sechin as Rosneft's CEO doesn't have a date but adds more context about his recent activities.\n",
      "\n",
      "Lastly, the GlobalData executives page mentions that Mr. Igor Sechin has been CEO since 2013, which shows he's held this position for over a decade.\n",
      "\n",
      "Putting all these together, multiple sources from late 2024 and early 2025 confirm that Igor Sechin is still the CEO of Rosneft as of now. The most recent information even extends his term into 2029, so it's safe to say he remains in the role.\n",
      "</think>\n",
      "\n",
      "Igor Sechin  \n",
      "Confidence: High\n"
     ]
    },
    {
     "name": "stderr",
     "output_type": "stream",
     "text": [
      "Error in StdOutCallbackHandler.on_chain_start callback: AttributeError(\"'NoneType' object has no attribute 'get'\")\n"
     ]
    },
    {
     "name": "stdout",
     "output_type": "stream",
     "text": [
      "Prompt after formatting:\n",
      "\u001b[32;1m\u001b[1;3mYou are an AI assistant. Your task is to answer the question directly using the latest information which will be provided.\n",
      "Note that search results are more up-to-date and reliable than the information you have as we are in 2025.\n",
      "Answer briefly and directly, return only the answer label.\n",
      "Return a confidence score based on the provided context: high, medium or low.\n",
      "User Question: Who is the current CEO of Lenovo?\n",
      "Search results: Title: Yang Yuanqing - Wikipedia\n",
      "Snippet: Yang Yuanqing is a Chinese business executive and philanthropist who is the current chairman and CEO of Lenovo. Yang Yuanqing. 杨元庆. Yang Yuanqing in 2008.\n",
      "Date: N/A\n",
      "\n",
      "Title: Chairman & CEO Statement - Investor Relations | Lenovo\n",
      "Snippet: Chairman and Chief Executive Officer Yang Yuanqing talks about the business development of Lenovo.\n",
      "Date: N/A\n",
      "\n",
      "Title: Yuanqing Yang | Columbia Engineering\n",
      "Snippet: P: EN'25; CEO and Chairman, Lenovo​​ Yuanqing Yang joined the Lenovo Group in 1989 and has played a key role in Lenovo's transformation into a US$70 billion ...\n",
      "Date: N/A\n",
      "\n",
      "Title: Board of Directors - Investor Relations | Lenovo\n",
      "Snippet: Mr. Yang Yuanqing, 59, is the Chairman of the Board, Chief Executive Officer and an executive director of the Company. He is also a director and a ...\n",
      "Date: N/A\n",
      "\n",
      "Title: Yuanqing Yang (@YuanqingYang) / X\n",
      "Snippet: Lenovo Chairman & CEO, Yuanqing Yang and Lenovo EVP & President of the Solutions & Services Group, Ken Wong stand outside of the World Economic Forum in Davos.\n",
      "Date: Mar 7, 2025\n",
      "\n",
      "Title: Lenovo - Wikipedia\n",
      "Snippet: Yang Yuanqing, the current chairman and CEO of Lenovo, was among that group. Liu Chuanzhi received government permission to form a subsidiary in Hong Kong and ...\n",
      "Date: N/A\n",
      "\n",
      "Title: Leaders - Lenovo\n",
      "Snippet: – Yuanqing Yang, Chairman and CEO. Yuanqing Yang. Chairman & CEO. More info. Arthur Hu. Senior Vice President and CIO. More info.\n",
      "Date: N/A\n",
      "\n",
      "Title: Yuanqing Yang - Chairman & CEO - Lenovo - 领英\n",
      "Snippet: Yuanqing Yang是领英影响力人物. Chairman and CEO at Lenovo. Lenovo University of Science and Technology of China. 中国北京市 ...\n",
      "Date: N/A\n",
      "\u001b[0m\n"
     ]
    },
    {
     "name": "stderr",
     "output_type": "stream",
     "text": [
      "  3%|▎         | 9/345 [03:24<2:14:19, 23.99s/it]"
     ]
    },
    {
     "name": "stdout",
     "output_type": "stream",
     "text": [
      "\n",
      "\u001b[1m> Finished chain.\u001b[0m\n",
      "\n",
      "Final Result: <think>\n",
      "Alright, I need to figure out who the current CEO of Lenovo is. Let me go through each search result step by step.\n",
      "\n",
      "The first search result is from Wikipedia about Yang Yuanqing. It clearly states that he's the current chairman and CEO of Lenovo. That seems pretty straightforward.\n",
      "\n",
      "Looking at the second snippet from Lenovo's Investor Relations, it mentions Chairman and Chief Executive Officer Yang Yuanqing discussing business development. So this confirms his role again.\n",
      "\n",
      "The third result is from Columbia Engineering, which refers to Yuanqing Yang as the CEO and Chairman of Lenovo. It also gives some background on his career with the company since 1989, adding credibility.\n",
      "\n",
      "Another Investor Relations snippet lists Mr. Yang Yuanqing as the Chairman of the Board, CEO, and an executive director. This reinforces that he holds those positions.\n",
      "\n",
      "There's a recent X post from March 7, 2025, where Yuanqing Yang is mentioned as Lenovo's Chairman & CEO at the World Economic Forum. Since this is the most recent date provided, it adds confidence that he's still in the role as of now.\n",
      "\n",
      "The Lenovo Wikipedia page also mentions Yang Yuanqing as the current chairman and CEO, which aligns with all other sources.\n",
      "\n",
      "Lastly, Lenovo's Leaders page lists Yuanqing Yang as Chairman & CEO with more info available. All these consistent references across multiple reliable sources make it clear that he's the current CEO.\n",
      "</think>\n",
      "\n",
      "Yang Yuanqing is the current CEO of Lenovo.\n",
      "\n",
      "Answer: Yang Yuanqing  \n",
      "Confidence: High\n"
     ]
    },
    {
     "name": "stderr",
     "output_type": "stream",
     "text": [
      "Error in StdOutCallbackHandler.on_chain_start callback: AttributeError(\"'NoneType' object has no attribute 'get'\")\n"
     ]
    },
    {
     "name": "stdout",
     "output_type": "stream",
     "text": [
      "Prompt after formatting:\n",
      "\u001b[32;1m\u001b[1;3mYou are an AI assistant. Your task is to answer the question directly using the latest information which will be provided.\n",
      "Note that search results are more up-to-date and reliable than the information you have as we are in 2025.\n",
      "Answer briefly and directly, return only the answer label.\n",
      "Return a confidence score based on the provided context: high, medium or low.\n",
      "User Question: Who is the current CEO of Capgemini?\n",
      "Search results: Title: Aiman Ezzat - Capgemini\n",
      "Snippet: Mr. Aiman Ezzat has been Chief Executive Officer of Capgemini SE since May 20, 2020. He has also been a Director of Capgemini SE and a member of the Strategy & ...\n",
      "Date: N/A\n",
      "\n",
      "Title: Executive committee - Management and governance - Capgemini\n",
      "Snippet: Capgemini Group management has been led by Aiman Ezzat, Chief Executive Officer. The Group Executive Committee currently comprises 35 members.\n",
      "Date: N/A\n",
      "\n",
      "Title: Capgemini - Wikipedia\n",
      "Snippet: In May 2012, Hermelin became chairman and CEO of the Capgemini Group. He succeeded Serge Kampf, who served as the Vice Chairman of the Board until his death on ...\n",
      "Date: N/A\n",
      "\n",
      "Title: Biography: Aiman Ezzat - Capgemini Austria\n",
      "Snippet: Mr. Aiman Ezzat has been Chief Executive Officer of Capgemini SE since May 20, 2020. He has also been a director of Capgemini SE and a member of the Strategy & ...\n",
      "Date: N/A\n",
      "\n",
      "Title: Board Of Directors | Capgemini\n",
      "Snippet: Paul Hermelin. Chairman of the Board of Directors · Megan Clarken. Independent Director · Aiman Ezzat*. Chief Executive Officer ...\n",
      "Date: N/A\n",
      "\n",
      "Title: Capgemini announces leadership appointments\n",
      "Snippet: Paris, October 23, 2024 – Capgemini today announced some key leadership appointments. Anirban Bose succeeds Jim Bailey as CEO of the ...\n",
      "Date: Oct 23, 2024\n",
      "\n",
      "Title: Capgemini CEO and Key Executive Team - Craft.co\n",
      "Snippet: Capgemini's Chief Executive Officer and Director is Aiman Ezzat. Other executives include Kathryn Turner, Vice President & Head of Client Account Management ...\n",
      "Date: N/A\n",
      "\n",
      "Title: Aiman Ezzat | Board Of Directors - Capgemini\n",
      "Snippet: Mr. Aiman Ezzat has been Chief Executive Officer of Capgemini SE since May 20, 2020. He has also been a director of Capgemini SE and a member of the Strategy & ...\n",
      "Date: N/A\n",
      "\u001b[0m\n"
     ]
    },
    {
     "name": "stderr",
     "output_type": "stream",
     "text": [
      "  3%|▎         | 10/345 [03:47<2:12:56, 23.81s/it]"
     ]
    },
    {
     "name": "stdout",
     "output_type": "stream",
     "text": [
      "\n",
      "\u001b[1m> Finished chain.\u001b[0m\n",
      "\n",
      "Final Result: <think>\n",
      "Okay, so I need to figure out who the current CEO of Capgemini is. Let's look through the search results provided.\n",
      "\n",
      "The first snippet says that Aiman Ezzat became CEO on May 20, 2020. The second result also mentions him as the CEO leading the Group Executive Committee. Another snippet from Wikipedia talks about Paul Hermelin becoming chairman and CEO in 2012, replacing Serge Kampf. But then there's a more recent snippet dated October 23, 2024, which says Anirban Bose succeeded Jim Bailey as CEO. Wait, that's confusing.\n",
      "\n",
      "Hmm, so up until 2020, Aiman Ezzat was the CEO. Then in 2024, Capgemini announced that Anirban Bose took over. But I'm seeing conflicting information because some results still list Ezzat as current CEO without mentioning a change. Maybe the October 2024 result is about a different position? Let me check again.\n",
      "\n",
      "The snippet from October 23, 2024 says \"Anirban Bose succeeds Jim Bailey as CEO of the...\" It cuts off, but it seems like a leadership change. So perhaps Ezzat was replaced by Bose in late 2024. But other results still show Ezzat as CEO without any updates.\n",
      "\n",
      "This is conflicting because some sources say Ezzat is current, while one indicates Bose took over. Since the latest date provided is October 23, 2024, and it's about a leadership change, I should consider that Bose might now be the CEO. However, other sources haven't been updated yet to reflect this change.\n",
      "\n",
      "I'm a bit unsure because not all results agree. The most recent information points to Anirban Bose becoming CEO, so maybe he is the current one as of 2024. But without more confirmation, I can't be certain.\n",
      "</think>\n",
      "\n",
      "The current CEO of Capgemini is Aiman Ezzat.\n",
      "\n",
      "Answer: Aiman Ezzat  \n",
      "Confidence Score: Medium\n"
     ]
    },
    {
     "name": "stderr",
     "output_type": "stream",
     "text": [
      "Error in StdOutCallbackHandler.on_chain_start callback: AttributeError(\"'NoneType' object has no attribute 'get'\")\n"
     ]
    },
    {
     "name": "stdout",
     "output_type": "stream",
     "text": [
      "Prompt after formatting:\n",
      "\u001b[32;1m\u001b[1;3mYou are an AI assistant. Your task is to answer the question directly using the latest information which will be provided.\n",
      "Note that search results are more up-to-date and reliable than the information you have as we are in 2025.\n",
      "Answer briefly and directly, return only the answer label.\n",
      "Return a confidence score based on the provided context: high, medium or low.\n",
      "User Question: Who is the current CEO of GlobalFoundries?\n",
      "Search results: Title: Leadership Team | GlobalFoundries\n",
      "Snippet: Dr. Thomas Caulfield. President & CEO ; Niels Anderskouv. Chief Business Officer ; Kay Chai “KC” Ang. President, Asia and Chairman, China ; Saam Azar. Chief Legal ...\n",
      "Date: N/A\n",
      "\n",
      "Title: GlobalFoundries Announces Leadership Transition to Drive Next ...\n",
      "Snippet: Thomas Caulfield as Executive Chairman and Tim Breen as Chief Executive Officer. Caulfield succeeds Ahmed Yahia who will step down from the ...\n",
      "Date: Feb 5, 2025\n",
      "\n",
      "Title: GlobalFoundries names new CEO amid leadership changes\n",
      "Snippet: GlobalFoundries named COO Tim Breen as its next CEO, the semiconductor manufacturer announced Wednesday. Breen will succeed President and CEO Thomas Caulfield.\n",
      "Date: Feb 6, 2025\n",
      "\n",
      "Title: Dr. Thomas Caulfield - GlobalFoundries\n",
      "Snippet: Dr. Thomas Caulfield is the President and Chief Executive Officer (CEO) of GF and, effective April 28, 2025, will serve as Executive Chairman of GF.\n",
      "Date: N/A\n",
      "\n",
      "Title: GlobalFoundries - Wikipedia\n",
      "Snippet: List of GlobalFoundries CEOs · Doug Grose (2009–2011) · Ajit Manocha (2011–2014) · Sanjay Jha (2014–2018) · Thomas Caulfield (2018–2025) · Tim Breen (2025-present) ...\n",
      "Date: N/A\n",
      "\n",
      "Title: GlobalFoundries Names New CEO - Semiecosystem\n",
      "Snippet: Tim Breen, chief operating officer at GF, has been named chief executive of GF. Breen, who has been with GF since 2018, succeeds Caulfield in ...\n",
      "Date: Feb 5, 2025\n",
      "\n",
      "Title: US chipmaker GlobalFoundries names new CEO - Reuters\n",
      "Snippet: GlobalFoundries (GFS.O), the world's third-largest contract chipmaker, said on Wednesday it has appointed Tim Breen as its chief executive officer.\n",
      "Date: Feb 5, 2025\n",
      "\n",
      "Title: Tom Caulfield - GLOBALFOUNDRIES - LinkedIn\n",
      "Snippet: Tom Caulfield. GLOBALFOUNDRIES Columbia Engineering. Ballston Spa, New York, United States. 21K followers 500+ connections. See your mutual connections. View ...\n",
      "Date: N/A\n",
      "\n",
      "Title: CEO, board changes at GlobalFoundries ...\n",
      "Snippet: Dr Thomas Caulfield is moving to Executive Chairman at custom chip maker GlobalFoundries, with Tim Breen replacing him as Chief Executive Officer.\n",
      "Date: Feb 6, 2025\n",
      "\n",
      "Title: Global Foundries CEO: Our growth is in end-markets where we won ...\n",
      "Snippet: Thomas Caulfield, GlobalFoundries CEO, joins CNBC's 'Money Movers' to discuss outlooks on semiconductors.\n",
      "Date: Feb 14, 2025\n",
      "\u001b[0m\n"
     ]
    },
    {
     "name": "stderr",
     "output_type": "stream",
     "text": [
      "  3%|▎         | 11/345 [04:19<2:26:41, 26.35s/it]"
     ]
    },
    {
     "name": "stdout",
     "output_type": "stream",
     "text": [
      "\n",
      "\u001b[1m> Finished chain.\u001b[0m\n",
      "\n",
      "Final Result: <think>\n",
      "Okay, so I need to figure out who the current CEO of GlobalFoundries is. Let me go through the search results provided and see what information I can gather.\n",
      "\n",
      "First, looking at the snippets, some mention Dr. Thomas Caulfield as President & CEO, but others talk about a leadership transition where Tim Breen takes over as CEO. For example, one snippet from February 5, 2025, says that GlobalFoundries named COO Tim Breen as their next CEO, succeeding Thomas Caulfield. Another result from the same date mentions that Caulfield is moving to Executive Chairman, and Breen replaces him as CEO.\n",
      "\n",
      "There's also a Wikipedia snippet listing the CEOs, showing that Thomas Caulfield was CEO until 2025, and now it's Tim Breen starting in 2025. Additionally, a CNBC snippet from February 14, 2025, refers to Thomas Caulfield as the current CEO. Hmm, that seems conflicting because other sources from early February say he stepped down.\n",
      "\n",
      "Wait, maybe I need to check the dates more carefully. The CNBC interview is dated February 14, which is after the leadership change was announced on February 5 and 6. So it's possible that the CNBC snippet might have been published before the transition took effect or perhaps it's an error. Alternatively, maybe Thomas Caulfield was still acting as CEO during that time but had already announced his transition.\n",
      "\n",
      "Another point is that multiple sources from early February clearly state that Tim Breen has been named the new CEO, effective around April 28, 2025, according to one snippet where Caulfield becomes Executive Chairman then. So by now (assuming we're in 2025 after April), Tim Breen should be the current CEO.\n",
      "\n",
      "I think the key here is to determine the most recent and accurate information. Since multiple sources confirm that Tim Breen has taken over as CEO, especially with the February 5th announcements, it's likely he is the current CEO. The CNBC interview might have been a bit behind or perhaps referred to him in his previous role during the transition period.\n",
      "\n",
      "So putting it all together, despite some conflicting information, the majority of recent sources point to Tim Breen as the new CEO starting in 2025 after Thomas Caulfield stepped down.\n",
      "</think>\n",
      "\n",
      "The current CEO of GlobalFoundries is Tim Breen. He succeeded Dr. Thomas Caulfield in early 2025.\n",
      "\n",
      "Answer: Tim Breen  \n",
      "Confidence Score: High\n"
     ]
    },
    {
     "name": "stderr",
     "output_type": "stream",
     "text": [
      "Error in StdOutCallbackHandler.on_chain_start callback: AttributeError(\"'NoneType' object has no attribute 'get'\")\n"
     ]
    },
    {
     "name": "stdout",
     "output_type": "stream",
     "text": [
      "Prompt after formatting:\n",
      "\u001b[32;1m\u001b[1;3mYou are an AI assistant. Your task is to answer the question directly using the latest information which will be provided.\n",
      "Note that search results are more up-to-date and reliable than the information you have as we are in 2025.\n",
      "Answer briefly and directly, return only the answer label.\n",
      "Return a confidence score based on the provided context: high, medium or low.\n",
      "User Question: Who is the current CEO of Hewlett-Packard?\n",
      "Search results: Title: List of Hewlett-Packard executive leadership - Wikipedia\n",
      "Snippet: List of Hewlett-Packard executive leadership · CEO: Dion Weisler (November 2, 2015 – November 1, 2019) · Current: CEO: Enrique Lores (November 2, 2019–).\n",
      "Date: N/A\n",
      "\n",
      "Title: Enrique Lores - President & CEO - HP - LinkedIn\n",
      "Snippet: I am proud to be serving as President and CEO of HP Inc., where we believe that one thoughtful idea has the power to change the world. I began working at HP ...\n",
      "Date: N/A\n",
      "\n",
      "Title: Enrique Lores - Business Roundtable\n",
      "Snippet: Enrique Lores is the President and CEO of HP Inc., a global technology leader whose innovative product and service portfolio spans personal systems, printing, ...\n",
      "Date: N/A\n",
      "\n",
      "Title: Enrique Lores - HP - Governance - Board of Directors - Person Details\n",
      "Snippet: Enrique Lores is the President and CEO of HP Inc., a global technology leader and creator of solutions that enable people to bring their ideas to life.\n",
      "Date: N/A\n",
      "\n",
      "Title: Enrique Lores - Wikipedia\n",
      "Snippet: Enrique José Lores Obradors (born 1965) is a Spanish business executive, and the CEO of HP Inc. since November 2019. CEO, HP Inc. Lores was born in Madrid.\n",
      "Date: N/A\n",
      "\n",
      "Title: HP Inc. CEO Enrique Lores goes one-on-one with Jim Cramer\n",
      "Snippet: HP Inc. President and CEO Enrique Lores joins 'Mad Money' host Jim Cramer to talk quarterly results, the impact of AI, how tariffs will ...\n",
      "Date: Nov 26, 2024\n",
      "\n",
      "Title: HPE Senior Leadership Team | HPE\n",
      "Snippet: Antonio Neri. President & Chief Executive Officer of Hewlett Packard Enterprise, responsible for leading the development and delivery of enterprise technology ...\n",
      "Date: N/A\n",
      "\n",
      "Title: Hewlett-Packard's Executive Leadership - HP History\n",
      "Snippet: Portrait of Meg Whitman taken during her tenure as the CEO of Hewlett-Packard. Board Members by alphabetical order. A. Alvarez, Luis W. (1957–1983); Andreessen ...\n",
      "Date: N/A\n",
      "\n",
      "Title: How HP's CEO rose from intern to the corner office | Fortune\n",
      "Snippet: HP Inc. president and CEO Enrique Lores. Courtesy of HP. Enrique Lores joined HP in 1989 as an intern. At the time, HP held a program to ...\n",
      "Date: Nov 4, 2024\n",
      "\u001b[0m\n"
     ]
    },
    {
     "name": "stderr",
     "output_type": "stream",
     "text": [
      "  3%|▎         | 12/345 [04:44<2:23:41, 25.89s/it]"
     ]
    },
    {
     "name": "stdout",
     "output_type": "stream",
     "text": [
      "\n",
      "\u001b[1m> Finished chain.\u001b[0m\n",
      "\n",
      "Final Result: <think>\n",
      "Okay, so I need to figure out who the current CEO of Hewlett-Packard is. Wait, but I remember that Hewlett-Packard split into two companies a while back. Let me think... wasn't it HP Inc. and Hewlett Packard Enterprise (HPE)? So, depending on which one we're talking about, the CEO might be different.\n",
      "\n",
      "Looking at the search results provided, most of them mention Enrique Lores as the President and CEO of HP Inc., starting from November 2019. For example, the LinkedIn snippet says he's serving as President and CEO of HP Inc. There's also a Wikipedia entry confirming that he took over on November 2, 2019.\n",
      "\n",
      "But wait, one of the results is about HPE's leadership, mentioning Antonio Neri as their CEO. So if the question is about Hewlett-Packard as a whole, it might be referring to HP Inc., which is the consumer-facing part dealing with printers and PCs. HPE handles the enterprise side, like servers and networking.\n",
      "\n",
      "Another search result from November 26, 2024, shows that Enrique Lores was still in his role then, discussing quarterly results and tariffs. That's pretty recent, so it seems he's still the CEO as of late 2024.\n",
      "\n",
      "I don't see any information suggesting a change after that date, so I can be fairly confident that Enrique Lores is still leading HP Inc. However, if the question was about HPE, the answer would be Antonio Neri instead. But given the context and most results pointing to HP Inc., it's safe to say Enrique Lores is the current CEO.\n",
      "\n",
      "I should also note that in 2025, unless there have been very recent changes not covered by these search results, he remains in the position.\n",
      "</think>\n",
      "\n",
      "Enrique Lores is the current President and CEO of HP Inc. He has held this position since November 2, 2019, as confirmed by multiple sources including LinkedIn, Wikipedia, and a recent interview from November 2024.\n",
      "\n",
      "Answer: Enrique Lores  \n",
      "Confidence Score: High\n"
     ]
    },
    {
     "name": "stderr",
     "output_type": "stream",
     "text": [
      "Error in StdOutCallbackHandler.on_chain_start callback: AttributeError(\"'NoneType' object has no attribute 'get'\")\n"
     ]
    },
    {
     "name": "stdout",
     "output_type": "stream",
     "text": [
      "Prompt after formatting:\n",
      "\u001b[32;1m\u001b[1;3mYou are an AI assistant. Your task is to answer the question directly using the latest information which will be provided.\n",
      "Note that search results are more up-to-date and reliable than the information you have as we are in 2025.\n",
      "Answer briefly and directly, return only the answer label.\n",
      "Return a confidence score based on the provided context: high, medium or low.\n",
      "User Question: Who is the current CEO of Apple?\n",
      "Search results: Title: Tim Cook - Wikipedia\n",
      "Snippet: Timothy Donald Cook (born November 1, 1960) is an American business executive who is the current chief executive officer of Apple Inc. Cook had previously ...\n",
      "Date: N/A\n",
      "\n",
      "Title: Apple Leadership\n",
      "Snippet: Executive Profiles · Tim Cook. CEO · Katherine Adams. Senior Vice President and. General Counsel · Eddy Cue. Senior Vice President Services · Craig Federighi.\n",
      "Date: N/A\n",
      "\n",
      "Title: Apple Inc. - Wikipedia\n",
      "Snippet: Apple Inc. ; Tim Cook (CEO); Arthur Levinson (chairman) · AirPods · Apple TV · Apple Watch · iPad · iPhone · Mac · App Store · Apple Card · Apple Music · Apple Pay ...\n",
      "Date: N/A\n",
      "\n",
      "Title: Tim Cook | Biography, Apple CEO, & Business Executive - Britannica\n",
      "Snippet: Tim Cook (born 1960) is an American technology executive who has been the CEO of Apple Inc. since 2011.\n",
      "Date: Mar 18, 2025\n",
      "\n",
      "Title: Apple CEO Tim Cook speaks with WSJ. Magazine about the time his ...\n",
      "Snippet: Apple CEO Tim Cook speaks with WSJ. Magazine about the time his... More content.\n",
      "Date: Oct 21, 2024\n",
      "\n",
      "Title: I Cold Emailed Apple CEO Tim Cook (Here's What Happened)\n",
      "Snippet: I Cold Emailed Apple CEO Tim Cook (Here's What Happened) · Comments3.\n",
      "Date: Feb 14, 2025\n",
      "\n",
      "Title: Apple CEO Tim Cook says Steve Jobs taught him a vital lesson in ...\n",
      "Snippet: When Apple founder Steve Jobs recruited current CEO Tim Cook in 1998, the company was on the verge of bankruptcy. At the time, Cook was vice ...\n",
      "Date: Jan 14, 2025\n",
      "\n",
      "Title: Tim Cook and Apple Enters a New Era - YouTube\n",
      "Snippet: Apple CEO Tim Cook begins navigating a new political era for the richest company in the US. CNET's Bridget Carey highlights what political ...\n",
      "Date: Jan 25, 2025\n",
      "\u001b[0m\n"
     ]
    },
    {
     "name": "stderr",
     "output_type": "stream",
     "text": [
      "  4%|▍         | 13/345 [05:09<2:21:37, 25.59s/it]"
     ]
    },
    {
     "name": "stdout",
     "output_type": "stream",
     "text": [
      "\n",
      "\u001b[1m> Finished chain.\u001b[0m\n",
      "\n",
      "Final Result: <think>\n",
      "Okay, I need to figure out who the current CEO of Apple is based on the provided search results. Let me go through each result one by one.\n",
      "\n",
      "First, there's a Wikipedia snippet about Tim Cook which clearly states he's the current CEO of Apple Inc. That's a strong source since Wikipedia is generally reliable for such information.\n",
      "\n",
      "Next, the Apple Leadership page lists Tim Cook as the CEO alongside other executives like Katherine Adams and Eddy Cue. This corroborates the first result and adds more credibility.\n",
      "\n",
      "The third snippet from Apple Inc.'s Wikipedia page again mentions Tim Cook as the CEO, along with other products they offer. Consistency across multiple sources is a good sign.\n",
      "\n",
      "Then there's a Britannica entry about Tim Cook, which not only confirms he's the CEO but also provides the year he started, 2011. That adds depth and another trustworthy source.\n",
      "\n",
      "Looking at more recent snippets from October 2024 and February 2025, they both refer to Tim Cook as Apple's CEO in the context of interviews and personal interactions. These are up-to-date, which is important because leadership roles can change, but these recent dates suggest he's still in the position.\n",
      "\n",
      "Another snippet from January 2025 discusses Tim Cook navigating a new political era for Apple, again referring to him as the current CEO. This further confirms his ongoing role.\n",
      "\n",
      "Lastly, a YouTube video from January 2025 talks about Tim Cook and Apple entering a new era, which implies he's still leading the company as of that time.\n",
      "\n",
      "All these sources are consistent in identifying Tim Cook as the CEO, with some being very recent (from 2024 and early 2025). There's no conflicting information suggesting any change in leadership. Therefore, I can confidently conclude that Tim Cook is indeed the current CEO of Apple.\n",
      "</think>\n",
      "\n",
      "The current CEO of Apple is **Tim Cook**.\n",
      "\n",
      "Answer: Tim Cook  \n",
      "Confidence score: High\n"
     ]
    },
    {
     "name": "stderr",
     "output_type": "stream",
     "text": [
      "Error in StdOutCallbackHandler.on_chain_start callback: AttributeError(\"'NoneType' object has no attribute 'get'\")\n"
     ]
    },
    {
     "name": "stdout",
     "output_type": "stream",
     "text": [
      "Prompt after formatting:\n",
      "\u001b[32;1m\u001b[1;3mYou are an AI assistant. Your task is to answer the question directly using the latest information which will be provided.\n",
      "Note that search results are more up-to-date and reliable than the information you have as we are in 2025.\n",
      "Answer briefly and directly, return only the answer label.\n",
      "Return a confidence score based on the provided context: high, medium or low.\n",
      "User Question: Who is the current CEO of LVMH?\n",
      "Search results: Title: Bernard Arnault - Wikipedia\n",
      "Snippet: Bernard Jean Étienne Arnault is a French businessman, investor and art collector. He is the founder, chairman and CEO of LVMH, the world's largest luxury ...\n",
      "Date: N/A\n",
      "\n",
      "Title: Bernard Arnault & family - Forbes\n",
      "Snippet: Bernard Arnault oversees the LVMH empire of 75 fashion and cosmetics brands, including Louis Vuitton and Sephora. LVMH acquired American jeweler Tiffany ...\n",
      "Date: N/A\n",
      "\n",
      "Title: Governance & Ethics - LVMH\n",
      "Snippet: Consult the Profiles of members of the LVMH Executive Committee and Board of Directors, as well as the rules of conduct and action principles.\n",
      "Date: N/A\n",
      "\n",
      "Title: LVMH wants billionaire Bernard Arnault as CEO until age 85\n",
      "Snippet: Luxury conglomerate LVMH is trying to clear a path that would allow billionaire Bernard Arnault to stay at the helm for another decade, ...\n",
      "Date: Mar 13, 2025\n",
      "\n",
      "Title: Who Is LVMH CEO Bernard Arnault: Wealth, Career, Children\n",
      "Snippet: Bernard Arnault, the LVMH CEO who built a luxury giant, is one of the world's wealthiest people · The 75-year-old is CEO and chairman of LVMH ...\n",
      "Date: Nov 15, 2024\n",
      "\n",
      "Title: Our Group - LVMH\n",
      "Snippet: Founded in 1987, LVMH was created by the merging of Moët Hennessy and Louis Vuitton, marking the beginning of a new era in luxury. Bernard Arnault has headed ...\n",
      "Date: N/A\n",
      "\n",
      "Title: Success Story: Bernard Arnault, Chairman and CEO of LVMH\n",
      "Snippet: Success Story: Bernard Arnault, Chairman and CEO of LVMH · Comments2.\n",
      "Date: Oct 3, 2024\n",
      "\n",
      "Title: LVMH heir Frédéric Arnault to become CEO of 'quiet' luxury brand ...\n",
      "Snippet: Frédéric Arnault, one of LVMH CEO Bernard Arnault's five children, will helm Italian luxury label Loro Piana.\n",
      "Date: Mar 13, 2025\n",
      "\n",
      "Title: Bernard Arnault, the LVMH CEO who built a luxury giant, is one of ...\n",
      "Snippet: Bernard Arnault, CEO of French luxury conglomerate LVMH that owns Louis Vuitton, Moët Hennessy and Dior, is one of the world's richest ...\n",
      "Date: Nov 15, 2024\n",
      "\u001b[0m\n"
     ]
    },
    {
     "name": "stderr",
     "output_type": "stream",
     "text": [
      "  4%|▍         | 14/345 [05:32<2:16:10, 24.68s/it]"
     ]
    },
    {
     "name": "stdout",
     "output_type": "stream",
     "text": [
      "\n",
      "\u001b[1m> Finished chain.\u001b[0m\n",
      "\n",
      "Final Result: <think>\n",
      "Alright, I need to figure out who the current CEO of LVMH is. Let me go through each search result carefully.\n",
      "\n",
      "First, the Wikipedia snippet mentions Bernard Arnault as the founder, chairman, and CEO of LVMH. That's a strong indication he's still in that role.\n",
      "\n",
      "The Forbes snippet also refers to him overseeing the LVMH empire, which includes brands like Louis Vuitton and Sephora. So, he's actively involved there.\n",
      "\n",
      "Looking at the LVMH governance page, it talks about the Executive Committee and Board but doesn't specify the CEO by name, so not helpful for confirmation.\n",
      "\n",
      "There's a result from March 13, 2025, stating that LVMH wants Bernard Arnault to stay as CEO until he's 85. That suggests he was still CEO as of that date and plans are in place for him to continue.\n",
      "\n",
      "Another snippet from November 15, 2024, describes him as the current CEO at 75 years old. That's recent info and aligns with his ongoing role.\n",
      "\n",
      "The \"Our Group\" page on LVMH mentions Bernard Arnault heading the company since its inception, which supports that he's been in the position for a long time.\n",
      "\n",
      "A success story from October 3, 2024, also refers to him as Chairman and CEO. That adds more recent confirmation.\n",
      "\n",
      "One snippet mentions Frédéric Arnault taking over as CEO of Loro Piana, but that's a subsidiary brand under LVMH. It doesn't affect Bernard's role as the overall CEO.\n",
      "\n",
      "Putting it all together, multiple recent sources from 2024 and 2025 confirm Bernard Arnault is still the CEO of LVMH.\n",
      "</think>\n",
      "\n",
      "Bernard Arnault  \n",
      "Confidence: High\n"
     ]
    },
    {
     "name": "stderr",
     "output_type": "stream",
     "text": [
      "Error in StdOutCallbackHandler.on_chain_start callback: AttributeError(\"'NoneType' object has no attribute 'get'\")\n"
     ]
    },
    {
     "name": "stdout",
     "output_type": "stream",
     "text": [
      "Prompt after formatting:\n",
      "\u001b[32;1m\u001b[1;3mYou are an AI assistant. Your task is to answer the question directly using the latest information which will be provided.\n",
      "Note that search results are more up-to-date and reliable than the information you have as we are in 2025.\n",
      "Answer briefly and directly, return only the answer label.\n",
      "Return a confidence score based on the provided context: high, medium or low.\n",
      "User Question: Who is the current CEO of 21st Century Fox?\n",
      "Search results: Title: Executive Team - Fox Corporation\n",
      "Snippet: Lachlan Murdoch is the Executive Chair and Chief Executive Officer of Fox Corporation, which is among the most recognized and influential media companies in ...\n",
      "Date: N/A\n",
      "\n",
      "Title: Acquisition of 21st Century Fox by Disney - Wikipedia\n",
      "Snippet: During a recent shareholders meeting, 21st Century Fox Co-chairman Lachlan Murdoch said 21st Century Fox was not in the category of \"sub-scale\" companies that ...\n",
      "Date: N/A\n",
      "\n",
      "Title: James Murdoch | CNAS\n",
      "Snippet: James Murdoch is the Founder and CEO of LUPA Systems, LLC. Previously, Mr. Murdoch was Chief Executive Officer of 21st Century Fox.\n",
      "Date: N/A\n",
      "\n",
      "Title: James Murdoch confirmed as 21st Century Fox CEO\n",
      "Snippet: 21 st Century Fox has finally confirmed that, starting July 1, James Murdoch will succeed his father as chief executive.\n",
      "Date: N/A\n",
      "\n",
      "Title: Who is Lachlan Murdoch, the new CEO of Fox Corporation? - WPBF\n",
      "Snippet: The takeover planning appeared to begin in 2015, when Rupert named Lachlan and his brother James Murdoch as co-chairmen of 21st Century Fox.\n",
      "Date: Sep 21, 2023\n",
      "\n",
      "Title: Board of Directors - Fox Corporation\n",
      "Snippet: Lachlan Murdoch is the Executive Chair and Chief Executive Officer of Fox Corporation, which is among the most recognized and influential media companies in ...\n",
      "Date: N/A\n",
      "\n",
      "Title: 21st Century Fox Executive Team | Comparably\n",
      "Snippet: James Murdoch serves as the CEO / President of 21st Century Fox. ... Paul Cheesbrough serves as the Chief Technology Officer of 21st Century Fox / FOX Networks.\n",
      "Date: N/A\n",
      "\n",
      "Title: 21st Century Fox | Corus Entertainment Fandom\n",
      "Snippet: Area served. Worldwide ; Key people. Rupert Murdoch (executive chairman) Lachlan Murdoch (executive chairman) James Murdoch (CEO) Peter Rice (president) ; Revenue.\n",
      "Date: N/A\n",
      "\n",
      "Title: James Murdoch to become 21st Century Fox CEO on July 1\n",
      "Snippet: Rupert Murdoch is officially handing over the reins of 21st Century Fox to his sons James and Lachlan next month, the company has confirmed.\n",
      "Date: Jun 16, 2015\n",
      "\u001b[0m\n"
     ]
    },
    {
     "name": "stderr",
     "output_type": "stream",
     "text": [
      "  4%|▍         | 15/345 [06:01<2:22:55, 25.99s/it]"
     ]
    },
    {
     "name": "stdout",
     "output_type": "stream",
     "text": [
      "\n",
      "\u001b[1m> Finished chain.\u001b[0m\n",
      "\n",
      "Final Result: <think>\n",
      "Alright, let's figure out who the current CEO of 21st Century Fox is. I'm a bit confused because the search results have different information. \n",
      "\n",
      "First, I see that Lachlan Murdoch is the Executive Chair and CEO of Fox Corporation in some snippets. But wait, isn't Fox Corporation different from 21st Century Fox? I remember that Disney acquired most of 21st Century Fox, so maybe there's a spin-off or rebranding involved here.\n",
      "\n",
      "Looking at another result, James Murdoch was the CEO of 21st Century Fox before, but he left. There's a snippet saying he became CEO starting July 1, 2015, but that might be outdated because it's from Jun 16, 2015. \n",
      "\n",
      "Another search result mentions that Lachlan Murdoch is the co-chairman of 21st Century Fox, along with his brother James. But now, in Sep 2023, he's the CEO of Fox Corporation. I think after Disney bought 21st Century Fox, the remaining part became Fox Corporation, so maybe Lachlan is leading that.\n",
      "\n",
      "Wait, but some results still refer to James as CEO of 21st Century Fox. Maybe there was a transition where James stepped down and Lachlan took over? Or perhaps they're both involved in different capacities.\n",
      "\n",
      "I'm not entirely sure if 21st Century Fox still operates separately or if it's fully integrated into Disney now. If it's part of Disney, maybe the CEO position doesn't exist anymore. But some snippets suggest that 21st Century Fox is still operational with its own executives, like James Murdoch as CEO and Lachlan as Executive Chair.\n",
      "\n",
      "I'm a bit torn because different sources give different names. The most recent date I see is Sep 2023 mentioning Lachlan at Fox Corporation, but another result from the same year says James is CEO of 21st Century Fox. Maybe they're both in leadership roles but at different entities under the larger organization.\n",
      "\n",
      "Considering all this, I think the safest answer is that James Murdoch was the last confirmed CEO before any potential changes, so maybe he's still in that role. But I'm not entirely certain because some info points to Lachlan as well.\n",
      "</think>\n",
      "\n",
      "The current CEO of 21st Century Fox is James Murdoch.\n",
      "\n",
      "Answer: James Murdoch  \n",
      "Confidence: Medium\n"
     ]
    },
    {
     "name": "stderr",
     "output_type": "stream",
     "text": [
      "Error in StdOutCallbackHandler.on_chain_start callback: AttributeError(\"'NoneType' object has no attribute 'get'\")\n"
     ]
    },
    {
     "name": "stdout",
     "output_type": "stream",
     "text": [
      "Prompt after formatting:\n",
      "\u001b[32;1m\u001b[1;3mYou are an AI assistant. Your task is to answer the question directly using the latest information which will be provided.\n",
      "Note that search results are more up-to-date and reliable than the information you have as we are in 2025.\n",
      "Answer briefly and directly, return only the answer label.\n",
      "Return a confidence score based on the provided context: high, medium or low.\n",
      "User Question: Who is the current CEO of Sears?\n",
      "Search results: Title: Eddie Lampert - Wikipedia\n",
      "Snippet: Edward Scott Lampert (born July 19, 1962) is an American billionaire businessman. He is the former chief executive and chairman of Sears Holdings, the founder ...\n",
      "Date: N/A\n",
      "\n",
      "Title: Sears Executive Team - Comparably\n",
      "Snippet: Eddie Lampert serves as the CEO / President of Sears. ... Mr. Michael A. Miles was a Special Limited Partner at Forstmann Little & Co. Mr. Miles served as the ...\n",
      "Date: N/A\n",
      "\n",
      "Title: Sears - Wikipedia\n",
      "Snippet: In May 2019, former Sears Holdings chairman and CEO Eddie Lampert, months after purchasing the remains of Sears from the holding company, threatened not to ...\n",
      "Date: N/A\n",
      "\n",
      "Title: Sears Holdings Corporation Executive Team | Comparably\n",
      "Snippet: Edward Lampert serves as the CEO / President of Sears Holdings Corporation. ... Gerry Murphy serves as the VP, Chief Marketing Officer Sears Format of Sears ...\n",
      "Date: N/A\n",
      "\n",
      "Title: Eddie Lampert Shattered Sears, Sullied His Reputation, and Lost ...\n",
      "Snippet: In 2013, Lampert took over as CEO of Sears. It was around the time that things looked so grim that a group of Goldman Sachs clients who'd ...\n",
      "Date: Dec 3, 2018\n",
      "\n",
      "Title: Edward Lampert - Forbes\n",
      "Snippet: He took over as CEO of struggling retail giant Sears Holdings (Sears, Kmart, Kenmore) in 2013 with hopes of a turnaround, but failed miserably. Lampert's ESL ...\n",
      "Date: N/A\n",
      "\n",
      "Title: Eddie Lampert | Biography, Sears, & Facts | Britannica Money\n",
      "Snippet: Edward S. Lampert controlled nearly 40 percent of the corporation. Although Sears Holdings remained prosperous, sales at Kmart and Sears stores ...\n",
      "Date: 5 days ago\n",
      "\n",
      "Title: Amin Fayez - Chief Executive Officer - Sears - LinkedIn\n",
      "Snippet: Amin Fayez · Chief Executive Officer at Sears · View mutual connections with Amin · Welcome back · Experience.\n",
      "Date: N/A\n",
      "\n",
      "Title: Sears CEO Email address contact and Telephone number | US\n",
      "Snippet: Missing: current | Show results with:current\n",
      "Date: N/A\n",
      "\u001b[0m\n"
     ]
    },
    {
     "name": "stderr",
     "output_type": "stream",
     "text": [
      "  4%|▍         | 15/345 [06:21<2:19:44, 25.41s/it]\n"
     ]
    },
    {
     "ename": "KeyboardInterrupt",
     "evalue": "",
     "output_type": "error",
     "traceback": [
      "\u001b[0;31m---------------------------------------------------------------------------\u001b[0m",
      "\u001b[0;31mKeyboardInterrupt\u001b[0m                         Traceback (most recent call last)",
      "Cell \u001b[0;32mIn[25], line 1\u001b[0m\n\u001b[0;32m----> 1\u001b[0m df[\u001b[38;5;124m'\u001b[39m\u001b[38;5;124mprediction\u001b[39m\u001b[38;5;124m'\u001b[39m]\u001b[38;5;241m=\u001b[39m\u001b[43mdf\u001b[49m\u001b[43m[\u001b[49m\u001b[38;5;124;43m'\u001b[39;49m\u001b[38;5;124;43mcompanyLabel\u001b[39;49m\u001b[38;5;124;43m'\u001b[39;49m\u001b[43m]\u001b[49m\u001b[38;5;241;43m.\u001b[39;49m\u001b[43mprogress_apply\u001b[49m\u001b[43m(\u001b[49m\u001b[38;5;28;43;01mlambda\u001b[39;49;00m\u001b[43m \u001b[49m\u001b[43mx\u001b[49m\u001b[43m:\u001b[49m\u001b[43m \u001b[49m\u001b[43mgenerate_answer\u001b[49m\u001b[43m(\u001b[49m\u001b[38;5;124;43mf\u001b[39;49m\u001b[38;5;124;43m\"\u001b[39;49m\u001b[38;5;124;43mWho is the current CEO of \u001b[39;49m\u001b[38;5;132;43;01m{\u001b[39;49;00m\u001b[43mx\u001b[49m\u001b[38;5;132;43;01m}\u001b[39;49;00m\u001b[38;5;124;43m?\u001b[39;49m\u001b[38;5;124;43m\"\u001b[39;49m\u001b[43m)\u001b[49m\u001b[43m)\u001b[49m\n",
      "File \u001b[0;32m~/autovu/venv/lib/python3.8/site-packages/tqdm/std.py:917\u001b[0m, in \u001b[0;36mtqdm.pandas.<locals>.inner_generator.<locals>.inner\u001b[0;34m(df, func, *args, **kwargs)\u001b[0m\n\u001b[1;32m    914\u001b[0m \u001b[38;5;66;03m# Apply the provided function (in **kwargs)\u001b[39;00m\n\u001b[1;32m    915\u001b[0m \u001b[38;5;66;03m# on the df using our wrapper (which provides bar updating)\u001b[39;00m\n\u001b[1;32m    916\u001b[0m \u001b[38;5;28;01mtry\u001b[39;00m:\n\u001b[0;32m--> 917\u001b[0m     \u001b[38;5;28;01mreturn\u001b[39;00m \u001b[38;5;28;43mgetattr\u001b[39;49m\u001b[43m(\u001b[49m\u001b[43mdf\u001b[49m\u001b[43m,\u001b[49m\u001b[43m \u001b[49m\u001b[43mdf_function\u001b[49m\u001b[43m)\u001b[49m\u001b[43m(\u001b[49m\u001b[43mwrapper\u001b[49m\u001b[43m,\u001b[49m\u001b[43m \u001b[49m\u001b[38;5;241;43m*\u001b[39;49m\u001b[38;5;241;43m*\u001b[39;49m\u001b[43mkwargs\u001b[49m\u001b[43m)\u001b[49m\n\u001b[1;32m    918\u001b[0m \u001b[38;5;28;01mfinally\u001b[39;00m:\n\u001b[1;32m    919\u001b[0m     t\u001b[38;5;241m.\u001b[39mclose()\n",
      "File \u001b[0;32m~/autovu/venv/lib/python3.8/site-packages/pandas/core/series.py:4630\u001b[0m, in \u001b[0;36mSeries.apply\u001b[0;34m(self, func, convert_dtype, args, **kwargs)\u001b[0m\n\u001b[1;32m   4520\u001b[0m \u001b[38;5;28;01mdef\u001b[39;00m\u001b[38;5;250m \u001b[39m\u001b[38;5;21mapply\u001b[39m(\n\u001b[1;32m   4521\u001b[0m     \u001b[38;5;28mself\u001b[39m,\n\u001b[1;32m   4522\u001b[0m     func: AggFuncType,\n\u001b[0;32m   (...)\u001b[0m\n\u001b[1;32m   4525\u001b[0m     \u001b[38;5;241m*\u001b[39m\u001b[38;5;241m*\u001b[39mkwargs,\n\u001b[1;32m   4526\u001b[0m ) \u001b[38;5;241m-\u001b[39m\u001b[38;5;241m>\u001b[39m DataFrame \u001b[38;5;241m|\u001b[39m Series:\n\u001b[1;32m   4527\u001b[0m \u001b[38;5;250m    \u001b[39m\u001b[38;5;124;03m\"\"\"\u001b[39;00m\n\u001b[1;32m   4528\u001b[0m \u001b[38;5;124;03m    Invoke function on values of Series.\u001b[39;00m\n\u001b[1;32m   4529\u001b[0m \n\u001b[0;32m   (...)\u001b[0m\n\u001b[1;32m   4628\u001b[0m \u001b[38;5;124;03m    dtype: float64\u001b[39;00m\n\u001b[1;32m   4629\u001b[0m \u001b[38;5;124;03m    \"\"\"\u001b[39;00m\n\u001b[0;32m-> 4630\u001b[0m     \u001b[38;5;28;01mreturn\u001b[39;00m \u001b[43mSeriesApply\u001b[49m\u001b[43m(\u001b[49m\u001b[38;5;28;43mself\u001b[39;49m\u001b[43m,\u001b[49m\u001b[43m \u001b[49m\u001b[43mfunc\u001b[49m\u001b[43m,\u001b[49m\u001b[43m \u001b[49m\u001b[43mconvert_dtype\u001b[49m\u001b[43m,\u001b[49m\u001b[43m \u001b[49m\u001b[43margs\u001b[49m\u001b[43m,\u001b[49m\u001b[43m \u001b[49m\u001b[43mkwargs\u001b[49m\u001b[43m)\u001b[49m\u001b[38;5;241;43m.\u001b[39;49m\u001b[43mapply\u001b[49m\u001b[43m(\u001b[49m\u001b[43m)\u001b[49m\n",
      "File \u001b[0;32m~/autovu/venv/lib/python3.8/site-packages/pandas/core/apply.py:1025\u001b[0m, in \u001b[0;36mSeriesApply.apply\u001b[0;34m(self)\u001b[0m\n\u001b[1;32m   1022\u001b[0m     \u001b[38;5;28;01mreturn\u001b[39;00m \u001b[38;5;28mself\u001b[39m\u001b[38;5;241m.\u001b[39mapply_str()\n\u001b[1;32m   1024\u001b[0m \u001b[38;5;66;03m# self.f is Callable\u001b[39;00m\n\u001b[0;32m-> 1025\u001b[0m \u001b[38;5;28;01mreturn\u001b[39;00m \u001b[38;5;28;43mself\u001b[39;49m\u001b[38;5;241;43m.\u001b[39;49m\u001b[43mapply_standard\u001b[49m\u001b[43m(\u001b[49m\u001b[43m)\u001b[49m\n",
      "File \u001b[0;32m~/autovu/venv/lib/python3.8/site-packages/pandas/core/apply.py:1076\u001b[0m, in \u001b[0;36mSeriesApply.apply_standard\u001b[0;34m(self)\u001b[0m\n\u001b[1;32m   1074\u001b[0m     \u001b[38;5;28;01melse\u001b[39;00m:\n\u001b[1;32m   1075\u001b[0m         values \u001b[38;5;241m=\u001b[39m obj\u001b[38;5;241m.\u001b[39mastype(\u001b[38;5;28mobject\u001b[39m)\u001b[38;5;241m.\u001b[39m_values\n\u001b[0;32m-> 1076\u001b[0m         mapped \u001b[38;5;241m=\u001b[39m \u001b[43mlib\u001b[49m\u001b[38;5;241;43m.\u001b[39;49m\u001b[43mmap_infer\u001b[49m\u001b[43m(\u001b[49m\n\u001b[1;32m   1077\u001b[0m \u001b[43m            \u001b[49m\u001b[43mvalues\u001b[49m\u001b[43m,\u001b[49m\n\u001b[1;32m   1078\u001b[0m \u001b[43m            \u001b[49m\u001b[43mf\u001b[49m\u001b[43m,\u001b[49m\n\u001b[1;32m   1079\u001b[0m \u001b[43m            \u001b[49m\u001b[43mconvert\u001b[49m\u001b[38;5;241;43m=\u001b[39;49m\u001b[38;5;28;43mself\u001b[39;49m\u001b[38;5;241;43m.\u001b[39;49m\u001b[43mconvert_dtype\u001b[49m\u001b[43m,\u001b[49m\n\u001b[1;32m   1080\u001b[0m \u001b[43m        \u001b[49m\u001b[43m)\u001b[49m\n\u001b[1;32m   1082\u001b[0m \u001b[38;5;28;01mif\u001b[39;00m \u001b[38;5;28mlen\u001b[39m(mapped) \u001b[38;5;129;01mand\u001b[39;00m \u001b[38;5;28misinstance\u001b[39m(mapped[\u001b[38;5;241m0\u001b[39m], ABCSeries):\n\u001b[1;32m   1083\u001b[0m     \u001b[38;5;66;03m# GH#43986 Need to do list(mapped) in order to get treated as nested\u001b[39;00m\n\u001b[1;32m   1084\u001b[0m     \u001b[38;5;66;03m#  See also GH#25959 regarding EA support\u001b[39;00m\n\u001b[1;32m   1085\u001b[0m     \u001b[38;5;28;01mreturn\u001b[39;00m obj\u001b[38;5;241m.\u001b[39m_constructor_expanddim(\u001b[38;5;28mlist\u001b[39m(mapped), index\u001b[38;5;241m=\u001b[39mobj\u001b[38;5;241m.\u001b[39mindex)\n",
      "File \u001b[0;32m~/autovu/venv/lib/python3.8/site-packages/pandas/_libs/lib.pyx:2834\u001b[0m, in \u001b[0;36mpandas._libs.lib.map_infer\u001b[0;34m()\u001b[0m\n",
      "File \u001b[0;32m~/autovu/venv/lib/python3.8/site-packages/tqdm/std.py:912\u001b[0m, in \u001b[0;36mtqdm.pandas.<locals>.inner_generator.<locals>.inner.<locals>.wrapper\u001b[0;34m(*args, **kwargs)\u001b[0m\n\u001b[1;32m    906\u001b[0m \u001b[38;5;28;01mdef\u001b[39;00m\u001b[38;5;250m \u001b[39m\u001b[38;5;21mwrapper\u001b[39m(\u001b[38;5;241m*\u001b[39margs, \u001b[38;5;241m*\u001b[39m\u001b[38;5;241m*\u001b[39mkwargs):\n\u001b[1;32m    907\u001b[0m     \u001b[38;5;66;03m# update tbar correctly\u001b[39;00m\n\u001b[1;32m    908\u001b[0m     \u001b[38;5;66;03m# it seems `pandas apply` calls `func` twice\u001b[39;00m\n\u001b[1;32m    909\u001b[0m     \u001b[38;5;66;03m# on the first column/row to decide whether it can\u001b[39;00m\n\u001b[1;32m    910\u001b[0m     \u001b[38;5;66;03m# take a fast or slow code path; so stop when t.total==t.n\u001b[39;00m\n\u001b[1;32m    911\u001b[0m     t\u001b[38;5;241m.\u001b[39mupdate(n\u001b[38;5;241m=\u001b[39m\u001b[38;5;241m1\u001b[39m \u001b[38;5;28;01mif\u001b[39;00m \u001b[38;5;129;01mnot\u001b[39;00m t\u001b[38;5;241m.\u001b[39mtotal \u001b[38;5;129;01mor\u001b[39;00m t\u001b[38;5;241m.\u001b[39mn \u001b[38;5;241m<\u001b[39m t\u001b[38;5;241m.\u001b[39mtotal \u001b[38;5;28;01melse\u001b[39;00m \u001b[38;5;241m0\u001b[39m)\n\u001b[0;32m--> 912\u001b[0m     \u001b[38;5;28;01mreturn\u001b[39;00m \u001b[43mfunc\u001b[49m\u001b[43m(\u001b[49m\u001b[38;5;241;43m*\u001b[39;49m\u001b[43margs\u001b[49m\u001b[43m,\u001b[49m\u001b[43m \u001b[49m\u001b[38;5;241;43m*\u001b[39;49m\u001b[38;5;241;43m*\u001b[39;49m\u001b[43mkwargs\u001b[49m\u001b[43m)\u001b[49m\n",
      "Cell \u001b[0;32mIn[25], line 1\u001b[0m, in \u001b[0;36m<lambda>\u001b[0;34m(x)\u001b[0m\n\u001b[0;32m----> 1\u001b[0m df[\u001b[38;5;124m'\u001b[39m\u001b[38;5;124mprediction\u001b[39m\u001b[38;5;124m'\u001b[39m]\u001b[38;5;241m=\u001b[39mdf[\u001b[38;5;124m'\u001b[39m\u001b[38;5;124mcompanyLabel\u001b[39m\u001b[38;5;124m'\u001b[39m]\u001b[38;5;241m.\u001b[39mprogress_apply(\u001b[38;5;28;01mlambda\u001b[39;00m x: \u001b[43mgenerate_answer\u001b[49m\u001b[43m(\u001b[49m\u001b[38;5;124;43mf\u001b[39;49m\u001b[38;5;124;43m\"\u001b[39;49m\u001b[38;5;124;43mWho is the current CEO of \u001b[39;49m\u001b[38;5;132;43;01m{\u001b[39;49;00m\u001b[43mx\u001b[49m\u001b[38;5;132;43;01m}\u001b[39;49;00m\u001b[38;5;124;43m?\u001b[39;49m\u001b[38;5;124;43m\"\u001b[39;49m\u001b[43m)\u001b[49m)\n",
      "Cell \u001b[0;32mIn[24], line 27\u001b[0m, in \u001b[0;36mgenerate_answer\u001b[0;34m(query)\u001b[0m\n\u001b[1;32m     25\u001b[0m \u001b[38;5;66;03m# Pass the query to the agent\u001b[39;00m\n\u001b[1;32m     26\u001b[0m \u001b[38;5;28;01mtry\u001b[39;00m:\n\u001b[0;32m---> 27\u001b[0m     result \u001b[38;5;241m=\u001b[39m \u001b[43mllm_chain\u001b[49m\u001b[38;5;241;43m.\u001b[39;49m\u001b[43mrun\u001b[49m\u001b[43m(\u001b[49m\u001b[43m{\u001b[49m\u001b[38;5;124;43m\"\u001b[39;49m\u001b[38;5;124;43minput\u001b[39;49m\u001b[38;5;124;43m\"\u001b[39;49m\u001b[43m:\u001b[49m\u001b[43m \u001b[49m\u001b[43mquery\u001b[49m\u001b[43m,\u001b[49m\u001b[43m \u001b[49m\u001b[38;5;124;43m\"\u001b[39;49m\u001b[38;5;124;43msearch\u001b[39;49m\u001b[38;5;124;43m\"\u001b[39;49m\u001b[43m:\u001b[49m\u001b[43m \u001b[49m\u001b[43mformatted_results\u001b[49m\u001b[43m}\u001b[49m\u001b[43m)\u001b[49m\n\u001b[1;32m     28\u001b[0m     \u001b[38;5;28mprint\u001b[39m(\u001b[38;5;124mf\u001b[39m\u001b[38;5;124m\"\u001b[39m\u001b[38;5;130;01m\\n\u001b[39;00m\u001b[38;5;124mFinal Result: \u001b[39m\u001b[38;5;132;01m{\u001b[39;00mresult\u001b[38;5;241m.\u001b[39mstrip()\u001b[38;5;132;01m}\u001b[39;00m\u001b[38;5;124m\"\u001b[39m)\n\u001b[1;32m     29\u001b[0m \u001b[38;5;28;01mexcept\u001b[39;00m \u001b[38;5;167;01mException\u001b[39;00m \u001b[38;5;28;01mas\u001b[39;00m e:\n",
      "File \u001b[0;32m~/autovu/venv/lib/python3.8/site-packages/langchain_core/_api/deprecation.py:180\u001b[0m, in \u001b[0;36mdeprecated.<locals>.deprecate.<locals>.warning_emitting_wrapper\u001b[0;34m(*args, **kwargs)\u001b[0m\n\u001b[1;32m    178\u001b[0m     warned \u001b[38;5;241m=\u001b[39m \u001b[38;5;28;01mTrue\u001b[39;00m\n\u001b[1;32m    179\u001b[0m     emit_warning()\n\u001b[0;32m--> 180\u001b[0m \u001b[38;5;28;01mreturn\u001b[39;00m \u001b[43mwrapped\u001b[49m\u001b[43m(\u001b[49m\u001b[38;5;241;43m*\u001b[39;49m\u001b[43margs\u001b[49m\u001b[43m,\u001b[49m\u001b[43m \u001b[49m\u001b[38;5;241;43m*\u001b[39;49m\u001b[38;5;241;43m*\u001b[39;49m\u001b[43mkwargs\u001b[49m\u001b[43m)\u001b[49m\n",
      "File \u001b[0;32m~/autovu/venv/lib/python3.8/site-packages/langchain/chains/base.py:597\u001b[0m, in \u001b[0;36mChain.run\u001b[0;34m(self, callbacks, tags, metadata, *args, **kwargs)\u001b[0m\n\u001b[1;32m    595\u001b[0m     \u001b[38;5;28;01mif\u001b[39;00m \u001b[38;5;28mlen\u001b[39m(args) \u001b[38;5;241m!=\u001b[39m \u001b[38;5;241m1\u001b[39m:\n\u001b[1;32m    596\u001b[0m         \u001b[38;5;28;01mraise\u001b[39;00m \u001b[38;5;167;01mValueError\u001b[39;00m(\u001b[38;5;124m\"\u001b[39m\u001b[38;5;124m`run` supports only one positional argument.\u001b[39m\u001b[38;5;124m\"\u001b[39m)\n\u001b[0;32m--> 597\u001b[0m     \u001b[38;5;28;01mreturn\u001b[39;00m \u001b[38;5;28;43mself\u001b[39;49m\u001b[43m(\u001b[49m\u001b[43margs\u001b[49m\u001b[43m[\u001b[49m\u001b[38;5;241;43m0\u001b[39;49m\u001b[43m]\u001b[49m\u001b[43m,\u001b[49m\u001b[43m \u001b[49m\u001b[43mcallbacks\u001b[49m\u001b[38;5;241;43m=\u001b[39;49m\u001b[43mcallbacks\u001b[49m\u001b[43m,\u001b[49m\u001b[43m \u001b[49m\u001b[43mtags\u001b[49m\u001b[38;5;241;43m=\u001b[39;49m\u001b[43mtags\u001b[49m\u001b[43m,\u001b[49m\u001b[43m \u001b[49m\u001b[43mmetadata\u001b[49m\u001b[38;5;241;43m=\u001b[39;49m\u001b[43mmetadata\u001b[49m\u001b[43m)\u001b[49m[\n\u001b[1;32m    598\u001b[0m         _output_key\n\u001b[1;32m    599\u001b[0m     ]\n\u001b[1;32m    601\u001b[0m \u001b[38;5;28;01mif\u001b[39;00m kwargs \u001b[38;5;129;01mand\u001b[39;00m \u001b[38;5;129;01mnot\u001b[39;00m args:\n\u001b[1;32m    602\u001b[0m     \u001b[38;5;28;01mreturn\u001b[39;00m \u001b[38;5;28mself\u001b[39m(kwargs, callbacks\u001b[38;5;241m=\u001b[39mcallbacks, tags\u001b[38;5;241m=\u001b[39mtags, metadata\u001b[38;5;241m=\u001b[39mmetadata)[\n\u001b[1;32m    603\u001b[0m         _output_key\n\u001b[1;32m    604\u001b[0m     ]\n",
      "File \u001b[0;32m~/autovu/venv/lib/python3.8/site-packages/langchain_core/_api/deprecation.py:180\u001b[0m, in \u001b[0;36mdeprecated.<locals>.deprecate.<locals>.warning_emitting_wrapper\u001b[0;34m(*args, **kwargs)\u001b[0m\n\u001b[1;32m    178\u001b[0m     warned \u001b[38;5;241m=\u001b[39m \u001b[38;5;28;01mTrue\u001b[39;00m\n\u001b[1;32m    179\u001b[0m     emit_warning()\n\u001b[0;32m--> 180\u001b[0m \u001b[38;5;28;01mreturn\u001b[39;00m \u001b[43mwrapped\u001b[49m\u001b[43m(\u001b[49m\u001b[38;5;241;43m*\u001b[39;49m\u001b[43margs\u001b[49m\u001b[43m,\u001b[49m\u001b[43m \u001b[49m\u001b[38;5;241;43m*\u001b[39;49m\u001b[38;5;241;43m*\u001b[39;49m\u001b[43mkwargs\u001b[49m\u001b[43m)\u001b[49m\n",
      "File \u001b[0;32m~/autovu/venv/lib/python3.8/site-packages/langchain/chains/base.py:380\u001b[0m, in \u001b[0;36mChain.__call__\u001b[0;34m(self, inputs, return_only_outputs, callbacks, tags, metadata, run_name, include_run_info)\u001b[0m\n\u001b[1;32m    348\u001b[0m \u001b[38;5;250m\u001b[39m\u001b[38;5;124;03m\"\"\"Execute the chain.\u001b[39;00m\n\u001b[1;32m    349\u001b[0m \n\u001b[1;32m    350\u001b[0m \u001b[38;5;124;03mArgs:\u001b[39;00m\n\u001b[0;32m   (...)\u001b[0m\n\u001b[1;32m    371\u001b[0m \u001b[38;5;124;03m        `Chain.output_keys`.\u001b[39;00m\n\u001b[1;32m    372\u001b[0m \u001b[38;5;124;03m\"\"\"\u001b[39;00m\n\u001b[1;32m    373\u001b[0m config \u001b[38;5;241m=\u001b[39m {\n\u001b[1;32m    374\u001b[0m     \u001b[38;5;124m\"\u001b[39m\u001b[38;5;124mcallbacks\u001b[39m\u001b[38;5;124m\"\u001b[39m: callbacks,\n\u001b[1;32m    375\u001b[0m     \u001b[38;5;124m\"\u001b[39m\u001b[38;5;124mtags\u001b[39m\u001b[38;5;124m\"\u001b[39m: tags,\n\u001b[1;32m    376\u001b[0m     \u001b[38;5;124m\"\u001b[39m\u001b[38;5;124mmetadata\u001b[39m\u001b[38;5;124m\"\u001b[39m: metadata,\n\u001b[1;32m    377\u001b[0m     \u001b[38;5;124m\"\u001b[39m\u001b[38;5;124mrun_name\u001b[39m\u001b[38;5;124m\"\u001b[39m: run_name,\n\u001b[1;32m    378\u001b[0m }\n\u001b[0;32m--> 380\u001b[0m \u001b[38;5;28;01mreturn\u001b[39;00m \u001b[38;5;28;43mself\u001b[39;49m\u001b[38;5;241;43m.\u001b[39;49m\u001b[43minvoke\u001b[49m\u001b[43m(\u001b[49m\n\u001b[1;32m    381\u001b[0m \u001b[43m    \u001b[49m\u001b[43minputs\u001b[49m\u001b[43m,\u001b[49m\n\u001b[1;32m    382\u001b[0m \u001b[43m    \u001b[49m\u001b[43mcast\u001b[49m\u001b[43m(\u001b[49m\u001b[43mRunnableConfig\u001b[49m\u001b[43m,\u001b[49m\u001b[43m \u001b[49m\u001b[43m{\u001b[49m\u001b[43mk\u001b[49m\u001b[43m:\u001b[49m\u001b[43m \u001b[49m\u001b[43mv\u001b[49m\u001b[43m \u001b[49m\u001b[38;5;28;43;01mfor\u001b[39;49;00m\u001b[43m \u001b[49m\u001b[43mk\u001b[49m\u001b[43m,\u001b[49m\u001b[43m \u001b[49m\u001b[43mv\u001b[49m\u001b[43m \u001b[49m\u001b[38;5;129;43;01min\u001b[39;49;00m\u001b[43m \u001b[49m\u001b[43mconfig\u001b[49m\u001b[38;5;241;43m.\u001b[39;49m\u001b[43mitems\u001b[49m\u001b[43m(\u001b[49m\u001b[43m)\u001b[49m\u001b[43m \u001b[49m\u001b[38;5;28;43;01mif\u001b[39;49;00m\u001b[43m \u001b[49m\u001b[43mv\u001b[49m\u001b[43m \u001b[49m\u001b[38;5;129;43;01mis\u001b[39;49;00m\u001b[43m \u001b[49m\u001b[38;5;129;43;01mnot\u001b[39;49;00m\u001b[43m \u001b[49m\u001b[38;5;28;43;01mNone\u001b[39;49;00m\u001b[43m}\u001b[49m\u001b[43m)\u001b[49m\u001b[43m,\u001b[49m\n\u001b[1;32m    383\u001b[0m \u001b[43m    \u001b[49m\u001b[43mreturn_only_outputs\u001b[49m\u001b[38;5;241;43m=\u001b[39;49m\u001b[43mreturn_only_outputs\u001b[49m\u001b[43m,\u001b[49m\n\u001b[1;32m    384\u001b[0m \u001b[43m    \u001b[49m\u001b[43minclude_run_info\u001b[49m\u001b[38;5;241;43m=\u001b[39;49m\u001b[43minclude_run_info\u001b[49m\u001b[43m,\u001b[49m\n\u001b[1;32m    385\u001b[0m \u001b[43m\u001b[49m\u001b[43m)\u001b[49m\n",
      "File \u001b[0;32m~/autovu/venv/lib/python3.8/site-packages/langchain/chains/base.py:163\u001b[0m, in \u001b[0;36mChain.invoke\u001b[0;34m(self, input, config, **kwargs)\u001b[0m\n\u001b[1;32m    161\u001b[0m \u001b[38;5;28;01mexcept\u001b[39;00m \u001b[38;5;167;01mBaseException\u001b[39;00m \u001b[38;5;28;01mas\u001b[39;00m e:\n\u001b[1;32m    162\u001b[0m     run_manager\u001b[38;5;241m.\u001b[39mon_chain_error(e)\n\u001b[0;32m--> 163\u001b[0m     \u001b[38;5;28;01mraise\u001b[39;00m e\n\u001b[1;32m    164\u001b[0m run_manager\u001b[38;5;241m.\u001b[39mon_chain_end(outputs)\n\u001b[1;32m    166\u001b[0m \u001b[38;5;28;01mif\u001b[39;00m include_run_info:\n",
      "File \u001b[0;32m~/autovu/venv/lib/python3.8/site-packages/langchain/chains/base.py:153\u001b[0m, in \u001b[0;36mChain.invoke\u001b[0;34m(self, input, config, **kwargs)\u001b[0m\n\u001b[1;32m    150\u001b[0m \u001b[38;5;28;01mtry\u001b[39;00m:\n\u001b[1;32m    151\u001b[0m     \u001b[38;5;28mself\u001b[39m\u001b[38;5;241m.\u001b[39m_validate_inputs(inputs)\n\u001b[1;32m    152\u001b[0m     outputs \u001b[38;5;241m=\u001b[39m (\n\u001b[0;32m--> 153\u001b[0m         \u001b[38;5;28;43mself\u001b[39;49m\u001b[38;5;241;43m.\u001b[39;49m\u001b[43m_call\u001b[49m\u001b[43m(\u001b[49m\u001b[43minputs\u001b[49m\u001b[43m,\u001b[49m\u001b[43m \u001b[49m\u001b[43mrun_manager\u001b[49m\u001b[38;5;241;43m=\u001b[39;49m\u001b[43mrun_manager\u001b[49m\u001b[43m)\u001b[49m\n\u001b[1;32m    154\u001b[0m         \u001b[38;5;28;01mif\u001b[39;00m new_arg_supported\n\u001b[1;32m    155\u001b[0m         \u001b[38;5;28;01melse\u001b[39;00m \u001b[38;5;28mself\u001b[39m\u001b[38;5;241m.\u001b[39m_call(inputs)\n\u001b[1;32m    156\u001b[0m     )\n\u001b[1;32m    158\u001b[0m     final_outputs: Dict[\u001b[38;5;28mstr\u001b[39m, Any] \u001b[38;5;241m=\u001b[39m \u001b[38;5;28mself\u001b[39m\u001b[38;5;241m.\u001b[39mprep_outputs(\n\u001b[1;32m    159\u001b[0m         inputs, outputs, return_only_outputs\n\u001b[1;32m    160\u001b[0m     )\n\u001b[1;32m    161\u001b[0m \u001b[38;5;28;01mexcept\u001b[39;00m \u001b[38;5;167;01mBaseException\u001b[39;00m \u001b[38;5;28;01mas\u001b[39;00m e:\n",
      "File \u001b[0;32m~/autovu/venv/lib/python3.8/site-packages/langchain/chains/llm.py:125\u001b[0m, in \u001b[0;36mLLMChain._call\u001b[0;34m(self, inputs, run_manager)\u001b[0m\n\u001b[1;32m    120\u001b[0m \u001b[38;5;28;01mdef\u001b[39;00m\u001b[38;5;250m \u001b[39m\u001b[38;5;21m_call\u001b[39m(\n\u001b[1;32m    121\u001b[0m     \u001b[38;5;28mself\u001b[39m,\n\u001b[1;32m    122\u001b[0m     inputs: Dict[\u001b[38;5;28mstr\u001b[39m, Any],\n\u001b[1;32m    123\u001b[0m     run_manager: Optional[CallbackManagerForChainRun] \u001b[38;5;241m=\u001b[39m \u001b[38;5;28;01mNone\u001b[39;00m,\n\u001b[1;32m    124\u001b[0m ) \u001b[38;5;241m-\u001b[39m\u001b[38;5;241m>\u001b[39m Dict[\u001b[38;5;28mstr\u001b[39m, \u001b[38;5;28mstr\u001b[39m]:\n\u001b[0;32m--> 125\u001b[0m     response \u001b[38;5;241m=\u001b[39m \u001b[38;5;28;43mself\u001b[39;49m\u001b[38;5;241;43m.\u001b[39;49m\u001b[43mgenerate\u001b[49m\u001b[43m(\u001b[49m\u001b[43m[\u001b[49m\u001b[43minputs\u001b[49m\u001b[43m]\u001b[49m\u001b[43m,\u001b[49m\u001b[43m \u001b[49m\u001b[43mrun_manager\u001b[49m\u001b[38;5;241;43m=\u001b[39;49m\u001b[43mrun_manager\u001b[49m\u001b[43m)\u001b[49m\n\u001b[1;32m    126\u001b[0m     \u001b[38;5;28;01mreturn\u001b[39;00m \u001b[38;5;28mself\u001b[39m\u001b[38;5;241m.\u001b[39mcreate_outputs(response)[\u001b[38;5;241m0\u001b[39m]\n",
      "File \u001b[0;32m~/autovu/venv/lib/python3.8/site-packages/langchain/chains/llm.py:137\u001b[0m, in \u001b[0;36mLLMChain.generate\u001b[0;34m(self, input_list, run_manager)\u001b[0m\n\u001b[1;32m    135\u001b[0m callbacks \u001b[38;5;241m=\u001b[39m run_manager\u001b[38;5;241m.\u001b[39mget_child() \u001b[38;5;28;01mif\u001b[39;00m run_manager \u001b[38;5;28;01melse\u001b[39;00m \u001b[38;5;28;01mNone\u001b[39;00m\n\u001b[1;32m    136\u001b[0m \u001b[38;5;28;01mif\u001b[39;00m \u001b[38;5;28misinstance\u001b[39m(\u001b[38;5;28mself\u001b[39m\u001b[38;5;241m.\u001b[39mllm, BaseLanguageModel):\n\u001b[0;32m--> 137\u001b[0m     \u001b[38;5;28;01mreturn\u001b[39;00m \u001b[38;5;28;43mself\u001b[39;49m\u001b[38;5;241;43m.\u001b[39;49m\u001b[43mllm\u001b[49m\u001b[38;5;241;43m.\u001b[39;49m\u001b[43mgenerate_prompt\u001b[49m\u001b[43m(\u001b[49m\n\u001b[1;32m    138\u001b[0m \u001b[43m        \u001b[49m\u001b[43mprompts\u001b[49m\u001b[43m,\u001b[49m\n\u001b[1;32m    139\u001b[0m \u001b[43m        \u001b[49m\u001b[43mstop\u001b[49m\u001b[43m,\u001b[49m\n\u001b[1;32m    140\u001b[0m \u001b[43m        \u001b[49m\u001b[43mcallbacks\u001b[49m\u001b[38;5;241;43m=\u001b[39;49m\u001b[43mcallbacks\u001b[49m\u001b[43m,\u001b[49m\n\u001b[1;32m    141\u001b[0m \u001b[43m        \u001b[49m\u001b[38;5;241;43m*\u001b[39;49m\u001b[38;5;241;43m*\u001b[39;49m\u001b[38;5;28;43mself\u001b[39;49m\u001b[38;5;241;43m.\u001b[39;49m\u001b[43mllm_kwargs\u001b[49m\u001b[43m,\u001b[49m\n\u001b[1;32m    142\u001b[0m \u001b[43m    \u001b[49m\u001b[43m)\u001b[49m\n\u001b[1;32m    143\u001b[0m \u001b[38;5;28;01melse\u001b[39;00m:\n\u001b[1;32m    144\u001b[0m     results \u001b[38;5;241m=\u001b[39m \u001b[38;5;28mself\u001b[39m\u001b[38;5;241m.\u001b[39mllm\u001b[38;5;241m.\u001b[39mbind(stop\u001b[38;5;241m=\u001b[39mstop, \u001b[38;5;241m*\u001b[39m\u001b[38;5;241m*\u001b[39m\u001b[38;5;28mself\u001b[39m\u001b[38;5;241m.\u001b[39mllm_kwargs)\u001b[38;5;241m.\u001b[39mbatch(\n\u001b[1;32m    145\u001b[0m         cast(List, prompts), {\u001b[38;5;124m\"\u001b[39m\u001b[38;5;124mcallbacks\u001b[39m\u001b[38;5;124m\"\u001b[39m: callbacks}\n\u001b[1;32m    146\u001b[0m     )\n",
      "File \u001b[0;32m~/autovu/venv/lib/python3.8/site-packages/langchain_core/language_models/chat_models.py:777\u001b[0m, in \u001b[0;36mBaseChatModel.generate_prompt\u001b[0;34m(self, prompts, stop, callbacks, **kwargs)\u001b[0m\n\u001b[1;32m    769\u001b[0m \u001b[38;5;28;01mdef\u001b[39;00m\u001b[38;5;250m \u001b[39m\u001b[38;5;21mgenerate_prompt\u001b[39m(\n\u001b[1;32m    770\u001b[0m     \u001b[38;5;28mself\u001b[39m,\n\u001b[1;32m    771\u001b[0m     prompts: List[PromptValue],\n\u001b[0;32m   (...)\u001b[0m\n\u001b[1;32m    774\u001b[0m     \u001b[38;5;241m*\u001b[39m\u001b[38;5;241m*\u001b[39mkwargs: Any,\n\u001b[1;32m    775\u001b[0m ) \u001b[38;5;241m-\u001b[39m\u001b[38;5;241m>\u001b[39m LLMResult:\n\u001b[1;32m    776\u001b[0m     prompt_messages \u001b[38;5;241m=\u001b[39m [p\u001b[38;5;241m.\u001b[39mto_messages() \u001b[38;5;28;01mfor\u001b[39;00m p \u001b[38;5;129;01min\u001b[39;00m prompts]\n\u001b[0;32m--> 777\u001b[0m     \u001b[38;5;28;01mreturn\u001b[39;00m \u001b[38;5;28;43mself\u001b[39;49m\u001b[38;5;241;43m.\u001b[39;49m\u001b[43mgenerate\u001b[49m\u001b[43m(\u001b[49m\u001b[43mprompt_messages\u001b[49m\u001b[43m,\u001b[49m\u001b[43m \u001b[49m\u001b[43mstop\u001b[49m\u001b[38;5;241;43m=\u001b[39;49m\u001b[43mstop\u001b[49m\u001b[43m,\u001b[49m\u001b[43m \u001b[49m\u001b[43mcallbacks\u001b[49m\u001b[38;5;241;43m=\u001b[39;49m\u001b[43mcallbacks\u001b[49m\u001b[43m,\u001b[49m\u001b[43m \u001b[49m\u001b[38;5;241;43m*\u001b[39;49m\u001b[38;5;241;43m*\u001b[39;49m\u001b[43mkwargs\u001b[49m\u001b[43m)\u001b[49m\n",
      "File \u001b[0;32m~/autovu/venv/lib/python3.8/site-packages/langchain_core/language_models/chat_models.py:634\u001b[0m, in \u001b[0;36mBaseChatModel.generate\u001b[0;34m(self, messages, stop, callbacks, tags, metadata, run_name, run_id, **kwargs)\u001b[0m\n\u001b[1;32m    632\u001b[0m         \u001b[38;5;28;01mif\u001b[39;00m run_managers:\n\u001b[1;32m    633\u001b[0m             run_managers[i]\u001b[38;5;241m.\u001b[39mon_llm_error(e, response\u001b[38;5;241m=\u001b[39mLLMResult(generations\u001b[38;5;241m=\u001b[39m[]))\n\u001b[0;32m--> 634\u001b[0m         \u001b[38;5;28;01mraise\u001b[39;00m e\n\u001b[1;32m    635\u001b[0m flattened_outputs \u001b[38;5;241m=\u001b[39m [\n\u001b[1;32m    636\u001b[0m     LLMResult(generations\u001b[38;5;241m=\u001b[39m[res\u001b[38;5;241m.\u001b[39mgenerations], llm_output\u001b[38;5;241m=\u001b[39mres\u001b[38;5;241m.\u001b[39mllm_output)  \u001b[38;5;66;03m# type: ignore[list-item]\u001b[39;00m\n\u001b[1;32m    637\u001b[0m     \u001b[38;5;28;01mfor\u001b[39;00m res \u001b[38;5;129;01min\u001b[39;00m results\n\u001b[1;32m    638\u001b[0m ]\n\u001b[1;32m    639\u001b[0m llm_output \u001b[38;5;241m=\u001b[39m \u001b[38;5;28mself\u001b[39m\u001b[38;5;241m.\u001b[39m_combine_llm_outputs([res\u001b[38;5;241m.\u001b[39mllm_output \u001b[38;5;28;01mfor\u001b[39;00m res \u001b[38;5;129;01min\u001b[39;00m results])\n",
      "File \u001b[0;32m~/autovu/venv/lib/python3.8/site-packages/langchain_core/language_models/chat_models.py:624\u001b[0m, in \u001b[0;36mBaseChatModel.generate\u001b[0;34m(self, messages, stop, callbacks, tags, metadata, run_name, run_id, **kwargs)\u001b[0m\n\u001b[1;32m    621\u001b[0m \u001b[38;5;28;01mfor\u001b[39;00m i, m \u001b[38;5;129;01min\u001b[39;00m \u001b[38;5;28menumerate\u001b[39m(messages):\n\u001b[1;32m    622\u001b[0m     \u001b[38;5;28;01mtry\u001b[39;00m:\n\u001b[1;32m    623\u001b[0m         results\u001b[38;5;241m.\u001b[39mappend(\n\u001b[0;32m--> 624\u001b[0m             \u001b[38;5;28;43mself\u001b[39;49m\u001b[38;5;241;43m.\u001b[39;49m\u001b[43m_generate_with_cache\u001b[49m\u001b[43m(\u001b[49m\n\u001b[1;32m    625\u001b[0m \u001b[43m                \u001b[49m\u001b[43mm\u001b[49m\u001b[43m,\u001b[49m\n\u001b[1;32m    626\u001b[0m \u001b[43m                \u001b[49m\u001b[43mstop\u001b[49m\u001b[38;5;241;43m=\u001b[39;49m\u001b[43mstop\u001b[49m\u001b[43m,\u001b[49m\n\u001b[1;32m    627\u001b[0m \u001b[43m                \u001b[49m\u001b[43mrun_manager\u001b[49m\u001b[38;5;241;43m=\u001b[39;49m\u001b[43mrun_managers\u001b[49m\u001b[43m[\u001b[49m\u001b[43mi\u001b[49m\u001b[43m]\u001b[49m\u001b[43m \u001b[49m\u001b[38;5;28;43;01mif\u001b[39;49;00m\u001b[43m \u001b[49m\u001b[43mrun_managers\u001b[49m\u001b[43m \u001b[49m\u001b[38;5;28;43;01melse\u001b[39;49;00m\u001b[43m \u001b[49m\u001b[38;5;28;43;01mNone\u001b[39;49;00m\u001b[43m,\u001b[49m\n\u001b[1;32m    628\u001b[0m \u001b[43m                \u001b[49m\u001b[38;5;241;43m*\u001b[39;49m\u001b[38;5;241;43m*\u001b[39;49m\u001b[43mkwargs\u001b[49m\u001b[43m,\u001b[49m\n\u001b[1;32m    629\u001b[0m \u001b[43m            \u001b[49m\u001b[43m)\u001b[49m\n\u001b[1;32m    630\u001b[0m         )\n\u001b[1;32m    631\u001b[0m     \u001b[38;5;28;01mexcept\u001b[39;00m \u001b[38;5;167;01mBaseException\u001b[39;00m \u001b[38;5;28;01mas\u001b[39;00m e:\n\u001b[1;32m    632\u001b[0m         \u001b[38;5;28;01mif\u001b[39;00m run_managers:\n",
      "File \u001b[0;32m~/autovu/venv/lib/python3.8/site-packages/langchain_core/language_models/chat_models.py:846\u001b[0m, in \u001b[0;36mBaseChatModel._generate_with_cache\u001b[0;34m(self, messages, stop, run_manager, **kwargs)\u001b[0m\n\u001b[1;32m    844\u001b[0m \u001b[38;5;28;01melse\u001b[39;00m:\n\u001b[1;32m    845\u001b[0m     \u001b[38;5;28;01mif\u001b[39;00m inspect\u001b[38;5;241m.\u001b[39msignature(\u001b[38;5;28mself\u001b[39m\u001b[38;5;241m.\u001b[39m_generate)\u001b[38;5;241m.\u001b[39mparameters\u001b[38;5;241m.\u001b[39mget(\u001b[38;5;124m\"\u001b[39m\u001b[38;5;124mrun_manager\u001b[39m\u001b[38;5;124m\"\u001b[39m):\n\u001b[0;32m--> 846\u001b[0m         result \u001b[38;5;241m=\u001b[39m \u001b[38;5;28;43mself\u001b[39;49m\u001b[38;5;241;43m.\u001b[39;49m\u001b[43m_generate\u001b[49m\u001b[43m(\u001b[49m\n\u001b[1;32m    847\u001b[0m \u001b[43m            \u001b[49m\u001b[43mmessages\u001b[49m\u001b[43m,\u001b[49m\u001b[43m \u001b[49m\u001b[43mstop\u001b[49m\u001b[38;5;241;43m=\u001b[39;49m\u001b[43mstop\u001b[49m\u001b[43m,\u001b[49m\u001b[43m \u001b[49m\u001b[43mrun_manager\u001b[49m\u001b[38;5;241;43m=\u001b[39;49m\u001b[43mrun_manager\u001b[49m\u001b[43m,\u001b[49m\u001b[43m \u001b[49m\u001b[38;5;241;43m*\u001b[39;49m\u001b[38;5;241;43m*\u001b[39;49m\u001b[43mkwargs\u001b[49m\n\u001b[1;32m    848\u001b[0m \u001b[43m        \u001b[49m\u001b[43m)\u001b[49m\n\u001b[1;32m    849\u001b[0m     \u001b[38;5;28;01melse\u001b[39;00m:\n\u001b[1;32m    850\u001b[0m         result \u001b[38;5;241m=\u001b[39m \u001b[38;5;28mself\u001b[39m\u001b[38;5;241m.\u001b[39m_generate(messages, stop\u001b[38;5;241m=\u001b[39mstop, \u001b[38;5;241m*\u001b[39m\u001b[38;5;241m*\u001b[39mkwargs)\n",
      "File \u001b[0;32m~/autovu/venv/lib/python3.8/site-packages/langchain_community/chat_models/openai.py:473\u001b[0m, in \u001b[0;36mChatOpenAI._generate\u001b[0;34m(self, messages, stop, run_manager, stream, **kwargs)\u001b[0m\n\u001b[1;32m    467\u001b[0m message_dicts, params \u001b[38;5;241m=\u001b[39m \u001b[38;5;28mself\u001b[39m\u001b[38;5;241m.\u001b[39m_create_message_dicts(messages, stop)\n\u001b[1;32m    468\u001b[0m params \u001b[38;5;241m=\u001b[39m {\n\u001b[1;32m    469\u001b[0m     \u001b[38;5;241m*\u001b[39m\u001b[38;5;241m*\u001b[39mparams,\n\u001b[1;32m    470\u001b[0m     \u001b[38;5;241m*\u001b[39m\u001b[38;5;241m*\u001b[39m({\u001b[38;5;124m\"\u001b[39m\u001b[38;5;124mstream\u001b[39m\u001b[38;5;124m\"\u001b[39m: stream} \u001b[38;5;28;01mif\u001b[39;00m stream \u001b[38;5;129;01mis\u001b[39;00m \u001b[38;5;129;01mnot\u001b[39;00m \u001b[38;5;28;01mNone\u001b[39;00m \u001b[38;5;28;01melse\u001b[39;00m {}),\n\u001b[1;32m    471\u001b[0m     \u001b[38;5;241m*\u001b[39m\u001b[38;5;241m*\u001b[39mkwargs,\n\u001b[1;32m    472\u001b[0m }\n\u001b[0;32m--> 473\u001b[0m response \u001b[38;5;241m=\u001b[39m \u001b[38;5;28;43mself\u001b[39;49m\u001b[38;5;241;43m.\u001b[39;49m\u001b[43mcompletion_with_retry\u001b[49m\u001b[43m(\u001b[49m\n\u001b[1;32m    474\u001b[0m \u001b[43m    \u001b[49m\u001b[43mmessages\u001b[49m\u001b[38;5;241;43m=\u001b[39;49m\u001b[43mmessage_dicts\u001b[49m\u001b[43m,\u001b[49m\u001b[43m \u001b[49m\u001b[43mrun_manager\u001b[49m\u001b[38;5;241;43m=\u001b[39;49m\u001b[43mrun_manager\u001b[49m\u001b[43m,\u001b[49m\u001b[43m \u001b[49m\u001b[38;5;241;43m*\u001b[39;49m\u001b[38;5;241;43m*\u001b[39;49m\u001b[43mparams\u001b[49m\n\u001b[1;32m    475\u001b[0m \u001b[43m\u001b[49m\u001b[43m)\u001b[49m\n\u001b[1;32m    476\u001b[0m \u001b[38;5;28;01mreturn\u001b[39;00m \u001b[38;5;28mself\u001b[39m\u001b[38;5;241m.\u001b[39m_create_chat_result(response)\n",
      "File \u001b[0;32m~/autovu/venv/lib/python3.8/site-packages/langchain_community/chat_models/openai.py:384\u001b[0m, in \u001b[0;36mChatOpenAI.completion_with_retry\u001b[0;34m(self, run_manager, **kwargs)\u001b[0m\n\u001b[1;32m    382\u001b[0m \u001b[38;5;250m\u001b[39m\u001b[38;5;124;03m\"\"\"Use tenacity to retry the completion call.\"\"\"\u001b[39;00m\n\u001b[1;32m    383\u001b[0m \u001b[38;5;28;01mif\u001b[39;00m is_openai_v1():\n\u001b[0;32m--> 384\u001b[0m     \u001b[38;5;28;01mreturn\u001b[39;00m \u001b[38;5;28;43mself\u001b[39;49m\u001b[38;5;241;43m.\u001b[39;49m\u001b[43mclient\u001b[49m\u001b[38;5;241;43m.\u001b[39;49m\u001b[43mcreate\u001b[49m\u001b[43m(\u001b[49m\u001b[38;5;241;43m*\u001b[39;49m\u001b[38;5;241;43m*\u001b[39;49m\u001b[43mkwargs\u001b[49m\u001b[43m)\u001b[49m\n\u001b[1;32m    386\u001b[0m retry_decorator \u001b[38;5;241m=\u001b[39m _create_retry_decorator(\u001b[38;5;28mself\u001b[39m, run_manager\u001b[38;5;241m=\u001b[39mrun_manager)\n\u001b[1;32m    388\u001b[0m \u001b[38;5;129m@retry_decorator\u001b[39m\n\u001b[1;32m    389\u001b[0m \u001b[38;5;28;01mdef\u001b[39;00m\u001b[38;5;250m \u001b[39m\u001b[38;5;21m_completion_with_retry\u001b[39m(\u001b[38;5;241m*\u001b[39m\u001b[38;5;241m*\u001b[39mkwargs: Any) \u001b[38;5;241m-\u001b[39m\u001b[38;5;241m>\u001b[39m Any:\n",
      "File \u001b[0;32m~/autovu/venv/lib/python3.8/site-packages/openai/_utils/_utils.py:279\u001b[0m, in \u001b[0;36mrequired_args.<locals>.inner.<locals>.wrapper\u001b[0;34m(*args, **kwargs)\u001b[0m\n\u001b[1;32m    277\u001b[0m             msg \u001b[38;5;241m=\u001b[39m \u001b[38;5;124mf\u001b[39m\u001b[38;5;124m\"\u001b[39m\u001b[38;5;124mMissing required argument: \u001b[39m\u001b[38;5;132;01m{\u001b[39;00mquote(missing[\u001b[38;5;241m0\u001b[39m])\u001b[38;5;132;01m}\u001b[39;00m\u001b[38;5;124m\"\u001b[39m\n\u001b[1;32m    278\u001b[0m     \u001b[38;5;28;01mraise\u001b[39;00m \u001b[38;5;167;01mTypeError\u001b[39;00m(msg)\n\u001b[0;32m--> 279\u001b[0m \u001b[38;5;28;01mreturn\u001b[39;00m \u001b[43mfunc\u001b[49m\u001b[43m(\u001b[49m\u001b[38;5;241;43m*\u001b[39;49m\u001b[43margs\u001b[49m\u001b[43m,\u001b[49m\u001b[43m \u001b[49m\u001b[38;5;241;43m*\u001b[39;49m\u001b[38;5;241;43m*\u001b[39;49m\u001b[43mkwargs\u001b[49m\u001b[43m)\u001b[49m\n",
      "File \u001b[0;32m~/autovu/venv/lib/python3.8/site-packages/openai/resources/chat/completions/completions.py:914\u001b[0m, in \u001b[0;36mCompletions.create\u001b[0;34m(self, messages, model, audio, frequency_penalty, function_call, functions, logit_bias, logprobs, max_completion_tokens, max_tokens, metadata, modalities, n, parallel_tool_calls, prediction, presence_penalty, reasoning_effort, response_format, seed, service_tier, stop, store, stream, stream_options, temperature, tool_choice, tools, top_logprobs, top_p, user, web_search_options, extra_headers, extra_query, extra_body, timeout)\u001b[0m\n\u001b[1;32m    871\u001b[0m \u001b[38;5;129m@required_args\u001b[39m([\u001b[38;5;124m\"\u001b[39m\u001b[38;5;124mmessages\u001b[39m\u001b[38;5;124m\"\u001b[39m, \u001b[38;5;124m\"\u001b[39m\u001b[38;5;124mmodel\u001b[39m\u001b[38;5;124m\"\u001b[39m], [\u001b[38;5;124m\"\u001b[39m\u001b[38;5;124mmessages\u001b[39m\u001b[38;5;124m\"\u001b[39m, \u001b[38;5;124m\"\u001b[39m\u001b[38;5;124mmodel\u001b[39m\u001b[38;5;124m\"\u001b[39m, \u001b[38;5;124m\"\u001b[39m\u001b[38;5;124mstream\u001b[39m\u001b[38;5;124m\"\u001b[39m])\n\u001b[1;32m    872\u001b[0m \u001b[38;5;28;01mdef\u001b[39;00m\u001b[38;5;250m \u001b[39m\u001b[38;5;21mcreate\u001b[39m(\n\u001b[1;32m    873\u001b[0m     \u001b[38;5;28mself\u001b[39m,\n\u001b[0;32m   (...)\u001b[0m\n\u001b[1;32m    911\u001b[0m     timeout: \u001b[38;5;28mfloat\u001b[39m \u001b[38;5;241m|\u001b[39m httpx\u001b[38;5;241m.\u001b[39mTimeout \u001b[38;5;241m|\u001b[39m \u001b[38;5;28;01mNone\u001b[39;00m \u001b[38;5;241m|\u001b[39m NotGiven \u001b[38;5;241m=\u001b[39m NOT_GIVEN,\n\u001b[1;32m    912\u001b[0m ) \u001b[38;5;241m-\u001b[39m\u001b[38;5;241m>\u001b[39m ChatCompletion \u001b[38;5;241m|\u001b[39m Stream[ChatCompletionChunk]:\n\u001b[1;32m    913\u001b[0m     validate_response_format(response_format)\n\u001b[0;32m--> 914\u001b[0m     \u001b[38;5;28;01mreturn\u001b[39;00m \u001b[38;5;28;43mself\u001b[39;49m\u001b[38;5;241;43m.\u001b[39;49m\u001b[43m_post\u001b[49m\u001b[43m(\u001b[49m\n\u001b[1;32m    915\u001b[0m \u001b[43m        \u001b[49m\u001b[38;5;124;43m\"\u001b[39;49m\u001b[38;5;124;43m/chat/completions\u001b[39;49m\u001b[38;5;124;43m\"\u001b[39;49m\u001b[43m,\u001b[49m\n\u001b[1;32m    916\u001b[0m \u001b[43m        \u001b[49m\u001b[43mbody\u001b[49m\u001b[38;5;241;43m=\u001b[39;49m\u001b[43mmaybe_transform\u001b[49m\u001b[43m(\u001b[49m\n\u001b[1;32m    917\u001b[0m \u001b[43m            \u001b[49m\u001b[43m{\u001b[49m\n\u001b[1;32m    918\u001b[0m \u001b[43m                \u001b[49m\u001b[38;5;124;43m\"\u001b[39;49m\u001b[38;5;124;43mmessages\u001b[39;49m\u001b[38;5;124;43m\"\u001b[39;49m\u001b[43m:\u001b[49m\u001b[43m \u001b[49m\u001b[43mmessages\u001b[49m\u001b[43m,\u001b[49m\n\u001b[1;32m    919\u001b[0m \u001b[43m                \u001b[49m\u001b[38;5;124;43m\"\u001b[39;49m\u001b[38;5;124;43mmodel\u001b[39;49m\u001b[38;5;124;43m\"\u001b[39;49m\u001b[43m:\u001b[49m\u001b[43m \u001b[49m\u001b[43mmodel\u001b[49m\u001b[43m,\u001b[49m\n\u001b[1;32m    920\u001b[0m \u001b[43m                \u001b[49m\u001b[38;5;124;43m\"\u001b[39;49m\u001b[38;5;124;43maudio\u001b[39;49m\u001b[38;5;124;43m\"\u001b[39;49m\u001b[43m:\u001b[49m\u001b[43m \u001b[49m\u001b[43maudio\u001b[49m\u001b[43m,\u001b[49m\n\u001b[1;32m    921\u001b[0m \u001b[43m                \u001b[49m\u001b[38;5;124;43m\"\u001b[39;49m\u001b[38;5;124;43mfrequency_penalty\u001b[39;49m\u001b[38;5;124;43m\"\u001b[39;49m\u001b[43m:\u001b[49m\u001b[43m \u001b[49m\u001b[43mfrequency_penalty\u001b[49m\u001b[43m,\u001b[49m\n\u001b[1;32m    922\u001b[0m \u001b[43m                \u001b[49m\u001b[38;5;124;43m\"\u001b[39;49m\u001b[38;5;124;43mfunction_call\u001b[39;49m\u001b[38;5;124;43m\"\u001b[39;49m\u001b[43m:\u001b[49m\u001b[43m \u001b[49m\u001b[43mfunction_call\u001b[49m\u001b[43m,\u001b[49m\n\u001b[1;32m    923\u001b[0m \u001b[43m                \u001b[49m\u001b[38;5;124;43m\"\u001b[39;49m\u001b[38;5;124;43mfunctions\u001b[39;49m\u001b[38;5;124;43m\"\u001b[39;49m\u001b[43m:\u001b[49m\u001b[43m \u001b[49m\u001b[43mfunctions\u001b[49m\u001b[43m,\u001b[49m\n\u001b[1;32m    924\u001b[0m \u001b[43m                \u001b[49m\u001b[38;5;124;43m\"\u001b[39;49m\u001b[38;5;124;43mlogit_bias\u001b[39;49m\u001b[38;5;124;43m\"\u001b[39;49m\u001b[43m:\u001b[49m\u001b[43m \u001b[49m\u001b[43mlogit_bias\u001b[49m\u001b[43m,\u001b[49m\n\u001b[1;32m    925\u001b[0m \u001b[43m                \u001b[49m\u001b[38;5;124;43m\"\u001b[39;49m\u001b[38;5;124;43mlogprobs\u001b[39;49m\u001b[38;5;124;43m\"\u001b[39;49m\u001b[43m:\u001b[49m\u001b[43m \u001b[49m\u001b[43mlogprobs\u001b[49m\u001b[43m,\u001b[49m\n\u001b[1;32m    926\u001b[0m \u001b[43m                \u001b[49m\u001b[38;5;124;43m\"\u001b[39;49m\u001b[38;5;124;43mmax_completion_tokens\u001b[39;49m\u001b[38;5;124;43m\"\u001b[39;49m\u001b[43m:\u001b[49m\u001b[43m \u001b[49m\u001b[43mmax_completion_tokens\u001b[49m\u001b[43m,\u001b[49m\n\u001b[1;32m    927\u001b[0m \u001b[43m                \u001b[49m\u001b[38;5;124;43m\"\u001b[39;49m\u001b[38;5;124;43mmax_tokens\u001b[39;49m\u001b[38;5;124;43m\"\u001b[39;49m\u001b[43m:\u001b[49m\u001b[43m \u001b[49m\u001b[43mmax_tokens\u001b[49m\u001b[43m,\u001b[49m\n\u001b[1;32m    928\u001b[0m \u001b[43m                \u001b[49m\u001b[38;5;124;43m\"\u001b[39;49m\u001b[38;5;124;43mmetadata\u001b[39;49m\u001b[38;5;124;43m\"\u001b[39;49m\u001b[43m:\u001b[49m\u001b[43m \u001b[49m\u001b[43mmetadata\u001b[49m\u001b[43m,\u001b[49m\n\u001b[1;32m    929\u001b[0m \u001b[43m                \u001b[49m\u001b[38;5;124;43m\"\u001b[39;49m\u001b[38;5;124;43mmodalities\u001b[39;49m\u001b[38;5;124;43m\"\u001b[39;49m\u001b[43m:\u001b[49m\u001b[43m \u001b[49m\u001b[43mmodalities\u001b[49m\u001b[43m,\u001b[49m\n\u001b[1;32m    930\u001b[0m \u001b[43m                \u001b[49m\u001b[38;5;124;43m\"\u001b[39;49m\u001b[38;5;124;43mn\u001b[39;49m\u001b[38;5;124;43m\"\u001b[39;49m\u001b[43m:\u001b[49m\u001b[43m \u001b[49m\u001b[43mn\u001b[49m\u001b[43m,\u001b[49m\n\u001b[1;32m    931\u001b[0m \u001b[43m                \u001b[49m\u001b[38;5;124;43m\"\u001b[39;49m\u001b[38;5;124;43mparallel_tool_calls\u001b[39;49m\u001b[38;5;124;43m\"\u001b[39;49m\u001b[43m:\u001b[49m\u001b[43m \u001b[49m\u001b[43mparallel_tool_calls\u001b[49m\u001b[43m,\u001b[49m\n\u001b[1;32m    932\u001b[0m \u001b[43m                \u001b[49m\u001b[38;5;124;43m\"\u001b[39;49m\u001b[38;5;124;43mprediction\u001b[39;49m\u001b[38;5;124;43m\"\u001b[39;49m\u001b[43m:\u001b[49m\u001b[43m \u001b[49m\u001b[43mprediction\u001b[49m\u001b[43m,\u001b[49m\n\u001b[1;32m    933\u001b[0m \u001b[43m                \u001b[49m\u001b[38;5;124;43m\"\u001b[39;49m\u001b[38;5;124;43mpresence_penalty\u001b[39;49m\u001b[38;5;124;43m\"\u001b[39;49m\u001b[43m:\u001b[49m\u001b[43m \u001b[49m\u001b[43mpresence_penalty\u001b[49m\u001b[43m,\u001b[49m\n\u001b[1;32m    934\u001b[0m \u001b[43m                \u001b[49m\u001b[38;5;124;43m\"\u001b[39;49m\u001b[38;5;124;43mreasoning_effort\u001b[39;49m\u001b[38;5;124;43m\"\u001b[39;49m\u001b[43m:\u001b[49m\u001b[43m \u001b[49m\u001b[43mreasoning_effort\u001b[49m\u001b[43m,\u001b[49m\n\u001b[1;32m    935\u001b[0m \u001b[43m                \u001b[49m\u001b[38;5;124;43m\"\u001b[39;49m\u001b[38;5;124;43mresponse_format\u001b[39;49m\u001b[38;5;124;43m\"\u001b[39;49m\u001b[43m:\u001b[49m\u001b[43m \u001b[49m\u001b[43mresponse_format\u001b[49m\u001b[43m,\u001b[49m\n\u001b[1;32m    936\u001b[0m \u001b[43m                \u001b[49m\u001b[38;5;124;43m\"\u001b[39;49m\u001b[38;5;124;43mseed\u001b[39;49m\u001b[38;5;124;43m\"\u001b[39;49m\u001b[43m:\u001b[49m\u001b[43m \u001b[49m\u001b[43mseed\u001b[49m\u001b[43m,\u001b[49m\n\u001b[1;32m    937\u001b[0m \u001b[43m                \u001b[49m\u001b[38;5;124;43m\"\u001b[39;49m\u001b[38;5;124;43mservice_tier\u001b[39;49m\u001b[38;5;124;43m\"\u001b[39;49m\u001b[43m:\u001b[49m\u001b[43m \u001b[49m\u001b[43mservice_tier\u001b[49m\u001b[43m,\u001b[49m\n\u001b[1;32m    938\u001b[0m \u001b[43m                \u001b[49m\u001b[38;5;124;43m\"\u001b[39;49m\u001b[38;5;124;43mstop\u001b[39;49m\u001b[38;5;124;43m\"\u001b[39;49m\u001b[43m:\u001b[49m\u001b[43m \u001b[49m\u001b[43mstop\u001b[49m\u001b[43m,\u001b[49m\n\u001b[1;32m    939\u001b[0m \u001b[43m                \u001b[49m\u001b[38;5;124;43m\"\u001b[39;49m\u001b[38;5;124;43mstore\u001b[39;49m\u001b[38;5;124;43m\"\u001b[39;49m\u001b[43m:\u001b[49m\u001b[43m \u001b[49m\u001b[43mstore\u001b[49m\u001b[43m,\u001b[49m\n\u001b[1;32m    940\u001b[0m \u001b[43m                \u001b[49m\u001b[38;5;124;43m\"\u001b[39;49m\u001b[38;5;124;43mstream\u001b[39;49m\u001b[38;5;124;43m\"\u001b[39;49m\u001b[43m:\u001b[49m\u001b[43m \u001b[49m\u001b[43mstream\u001b[49m\u001b[43m,\u001b[49m\n\u001b[1;32m    941\u001b[0m \u001b[43m                \u001b[49m\u001b[38;5;124;43m\"\u001b[39;49m\u001b[38;5;124;43mstream_options\u001b[39;49m\u001b[38;5;124;43m\"\u001b[39;49m\u001b[43m:\u001b[49m\u001b[43m \u001b[49m\u001b[43mstream_options\u001b[49m\u001b[43m,\u001b[49m\n\u001b[1;32m    942\u001b[0m \u001b[43m                \u001b[49m\u001b[38;5;124;43m\"\u001b[39;49m\u001b[38;5;124;43mtemperature\u001b[39;49m\u001b[38;5;124;43m\"\u001b[39;49m\u001b[43m:\u001b[49m\u001b[43m \u001b[49m\u001b[43mtemperature\u001b[49m\u001b[43m,\u001b[49m\n\u001b[1;32m    943\u001b[0m \u001b[43m                \u001b[49m\u001b[38;5;124;43m\"\u001b[39;49m\u001b[38;5;124;43mtool_choice\u001b[39;49m\u001b[38;5;124;43m\"\u001b[39;49m\u001b[43m:\u001b[49m\u001b[43m \u001b[49m\u001b[43mtool_choice\u001b[49m\u001b[43m,\u001b[49m\n\u001b[1;32m    944\u001b[0m \u001b[43m                \u001b[49m\u001b[38;5;124;43m\"\u001b[39;49m\u001b[38;5;124;43mtools\u001b[39;49m\u001b[38;5;124;43m\"\u001b[39;49m\u001b[43m:\u001b[49m\u001b[43m \u001b[49m\u001b[43mtools\u001b[49m\u001b[43m,\u001b[49m\n\u001b[1;32m    945\u001b[0m \u001b[43m                \u001b[49m\u001b[38;5;124;43m\"\u001b[39;49m\u001b[38;5;124;43mtop_logprobs\u001b[39;49m\u001b[38;5;124;43m\"\u001b[39;49m\u001b[43m:\u001b[49m\u001b[43m \u001b[49m\u001b[43mtop_logprobs\u001b[49m\u001b[43m,\u001b[49m\n\u001b[1;32m    946\u001b[0m \u001b[43m                \u001b[49m\u001b[38;5;124;43m\"\u001b[39;49m\u001b[38;5;124;43mtop_p\u001b[39;49m\u001b[38;5;124;43m\"\u001b[39;49m\u001b[43m:\u001b[49m\u001b[43m \u001b[49m\u001b[43mtop_p\u001b[49m\u001b[43m,\u001b[49m\n\u001b[1;32m    947\u001b[0m \u001b[43m                \u001b[49m\u001b[38;5;124;43m\"\u001b[39;49m\u001b[38;5;124;43muser\u001b[39;49m\u001b[38;5;124;43m\"\u001b[39;49m\u001b[43m:\u001b[49m\u001b[43m \u001b[49m\u001b[43muser\u001b[49m\u001b[43m,\u001b[49m\n\u001b[1;32m    948\u001b[0m \u001b[43m                \u001b[49m\u001b[38;5;124;43m\"\u001b[39;49m\u001b[38;5;124;43mweb_search_options\u001b[39;49m\u001b[38;5;124;43m\"\u001b[39;49m\u001b[43m:\u001b[49m\u001b[43m \u001b[49m\u001b[43mweb_search_options\u001b[49m\u001b[43m,\u001b[49m\n\u001b[1;32m    949\u001b[0m \u001b[43m            \u001b[49m\u001b[43m}\u001b[49m\u001b[43m,\u001b[49m\n\u001b[1;32m    950\u001b[0m \u001b[43m            \u001b[49m\u001b[43mcompletion_create_params\u001b[49m\u001b[38;5;241;43m.\u001b[39;49m\u001b[43mCompletionCreateParams\u001b[49m\u001b[43m,\u001b[49m\n\u001b[1;32m    951\u001b[0m \u001b[43m        \u001b[49m\u001b[43m)\u001b[49m\u001b[43m,\u001b[49m\n\u001b[1;32m    952\u001b[0m \u001b[43m        \u001b[49m\u001b[43moptions\u001b[49m\u001b[38;5;241;43m=\u001b[39;49m\u001b[43mmake_request_options\u001b[49m\u001b[43m(\u001b[49m\n\u001b[1;32m    953\u001b[0m \u001b[43m            \u001b[49m\u001b[43mextra_headers\u001b[49m\u001b[38;5;241;43m=\u001b[39;49m\u001b[43mextra_headers\u001b[49m\u001b[43m,\u001b[49m\u001b[43m \u001b[49m\u001b[43mextra_query\u001b[49m\u001b[38;5;241;43m=\u001b[39;49m\u001b[43mextra_query\u001b[49m\u001b[43m,\u001b[49m\u001b[43m \u001b[49m\u001b[43mextra_body\u001b[49m\u001b[38;5;241;43m=\u001b[39;49m\u001b[43mextra_body\u001b[49m\u001b[43m,\u001b[49m\u001b[43m \u001b[49m\u001b[43mtimeout\u001b[49m\u001b[38;5;241;43m=\u001b[39;49m\u001b[43mtimeout\u001b[49m\n\u001b[1;32m    954\u001b[0m \u001b[43m        \u001b[49m\u001b[43m)\u001b[49m\u001b[43m,\u001b[49m\n\u001b[1;32m    955\u001b[0m \u001b[43m        \u001b[49m\u001b[43mcast_to\u001b[49m\u001b[38;5;241;43m=\u001b[39;49m\u001b[43mChatCompletion\u001b[49m\u001b[43m,\u001b[49m\n\u001b[1;32m    956\u001b[0m \u001b[43m        \u001b[49m\u001b[43mstream\u001b[49m\u001b[38;5;241;43m=\u001b[39;49m\u001b[43mstream\u001b[49m\u001b[43m \u001b[49m\u001b[38;5;129;43;01mor\u001b[39;49;00m\u001b[43m \u001b[49m\u001b[38;5;28;43;01mFalse\u001b[39;49;00m\u001b[43m,\u001b[49m\n\u001b[1;32m    957\u001b[0m \u001b[43m        \u001b[49m\u001b[43mstream_cls\u001b[49m\u001b[38;5;241;43m=\u001b[39;49m\u001b[43mStream\u001b[49m\u001b[43m[\u001b[49m\u001b[43mChatCompletionChunk\u001b[49m\u001b[43m]\u001b[49m\u001b[43m,\u001b[49m\n\u001b[1;32m    958\u001b[0m \u001b[43m    \u001b[49m\u001b[43m)\u001b[49m\n",
      "File \u001b[0;32m~/autovu/venv/lib/python3.8/site-packages/openai/_base_client.py:1242\u001b[0m, in \u001b[0;36mSyncAPIClient.post\u001b[0;34m(self, path, cast_to, body, options, files, stream, stream_cls)\u001b[0m\n\u001b[1;32m   1228\u001b[0m \u001b[38;5;28;01mdef\u001b[39;00m\u001b[38;5;250m \u001b[39m\u001b[38;5;21mpost\u001b[39m(\n\u001b[1;32m   1229\u001b[0m     \u001b[38;5;28mself\u001b[39m,\n\u001b[1;32m   1230\u001b[0m     path: \u001b[38;5;28mstr\u001b[39m,\n\u001b[0;32m   (...)\u001b[0m\n\u001b[1;32m   1237\u001b[0m     stream_cls: \u001b[38;5;28mtype\u001b[39m[_StreamT] \u001b[38;5;241m|\u001b[39m \u001b[38;5;28;01mNone\u001b[39;00m \u001b[38;5;241m=\u001b[39m \u001b[38;5;28;01mNone\u001b[39;00m,\n\u001b[1;32m   1238\u001b[0m ) \u001b[38;5;241m-\u001b[39m\u001b[38;5;241m>\u001b[39m ResponseT \u001b[38;5;241m|\u001b[39m _StreamT:\n\u001b[1;32m   1239\u001b[0m     opts \u001b[38;5;241m=\u001b[39m FinalRequestOptions\u001b[38;5;241m.\u001b[39mconstruct(\n\u001b[1;32m   1240\u001b[0m         method\u001b[38;5;241m=\u001b[39m\u001b[38;5;124m\"\u001b[39m\u001b[38;5;124mpost\u001b[39m\u001b[38;5;124m\"\u001b[39m, url\u001b[38;5;241m=\u001b[39mpath, json_data\u001b[38;5;241m=\u001b[39mbody, files\u001b[38;5;241m=\u001b[39mto_httpx_files(files), \u001b[38;5;241m*\u001b[39m\u001b[38;5;241m*\u001b[39moptions\n\u001b[1;32m   1241\u001b[0m     )\n\u001b[0;32m-> 1242\u001b[0m     \u001b[38;5;28;01mreturn\u001b[39;00m cast(ResponseT, \u001b[38;5;28;43mself\u001b[39;49m\u001b[38;5;241;43m.\u001b[39;49m\u001b[43mrequest\u001b[49m\u001b[43m(\u001b[49m\u001b[43mcast_to\u001b[49m\u001b[43m,\u001b[49m\u001b[43m \u001b[49m\u001b[43mopts\u001b[49m\u001b[43m,\u001b[49m\u001b[43m \u001b[49m\u001b[43mstream\u001b[49m\u001b[38;5;241;43m=\u001b[39;49m\u001b[43mstream\u001b[49m\u001b[43m,\u001b[49m\u001b[43m \u001b[49m\u001b[43mstream_cls\u001b[49m\u001b[38;5;241;43m=\u001b[39;49m\u001b[43mstream_cls\u001b[49m\u001b[43m)\u001b[49m)\n",
      "File \u001b[0;32m~/autovu/venv/lib/python3.8/site-packages/openai/_base_client.py:919\u001b[0m, in \u001b[0;36mSyncAPIClient.request\u001b[0;34m(self, cast_to, options, remaining_retries, stream, stream_cls)\u001b[0m\n\u001b[1;32m    916\u001b[0m \u001b[38;5;28;01melse\u001b[39;00m:\n\u001b[1;32m    917\u001b[0m     retries_taken \u001b[38;5;241m=\u001b[39m \u001b[38;5;241m0\u001b[39m\n\u001b[0;32m--> 919\u001b[0m \u001b[38;5;28;01mreturn\u001b[39;00m \u001b[38;5;28;43mself\u001b[39;49m\u001b[38;5;241;43m.\u001b[39;49m\u001b[43m_request\u001b[49m\u001b[43m(\u001b[49m\n\u001b[1;32m    920\u001b[0m \u001b[43m    \u001b[49m\u001b[43mcast_to\u001b[49m\u001b[38;5;241;43m=\u001b[39;49m\u001b[43mcast_to\u001b[49m\u001b[43m,\u001b[49m\n\u001b[1;32m    921\u001b[0m \u001b[43m    \u001b[49m\u001b[43moptions\u001b[49m\u001b[38;5;241;43m=\u001b[39;49m\u001b[43moptions\u001b[49m\u001b[43m,\u001b[49m\n\u001b[1;32m    922\u001b[0m \u001b[43m    \u001b[49m\u001b[43mstream\u001b[49m\u001b[38;5;241;43m=\u001b[39;49m\u001b[43mstream\u001b[49m\u001b[43m,\u001b[49m\n\u001b[1;32m    923\u001b[0m \u001b[43m    \u001b[49m\u001b[43mstream_cls\u001b[49m\u001b[38;5;241;43m=\u001b[39;49m\u001b[43mstream_cls\u001b[49m\u001b[43m,\u001b[49m\n\u001b[1;32m    924\u001b[0m \u001b[43m    \u001b[49m\u001b[43mretries_taken\u001b[49m\u001b[38;5;241;43m=\u001b[39;49m\u001b[43mretries_taken\u001b[49m\u001b[43m,\u001b[49m\n\u001b[1;32m    925\u001b[0m \u001b[43m\u001b[49m\u001b[43m)\u001b[49m\n",
      "File \u001b[0;32m~/autovu/venv/lib/python3.8/site-packages/openai/_base_client.py:955\u001b[0m, in \u001b[0;36mSyncAPIClient._request\u001b[0;34m(self, cast_to, options, retries_taken, stream, stream_cls)\u001b[0m\n\u001b[1;32m    952\u001b[0m log\u001b[38;5;241m.\u001b[39mdebug(\u001b[38;5;124m\"\u001b[39m\u001b[38;5;124mSending HTTP Request: \u001b[39m\u001b[38;5;132;01m%s\u001b[39;00m\u001b[38;5;124m \u001b[39m\u001b[38;5;132;01m%s\u001b[39;00m\u001b[38;5;124m\"\u001b[39m, request\u001b[38;5;241m.\u001b[39mmethod, request\u001b[38;5;241m.\u001b[39murl)\n\u001b[1;32m    954\u001b[0m \u001b[38;5;28;01mtry\u001b[39;00m:\n\u001b[0;32m--> 955\u001b[0m     response \u001b[38;5;241m=\u001b[39m \u001b[38;5;28;43mself\u001b[39;49m\u001b[38;5;241;43m.\u001b[39;49m\u001b[43m_client\u001b[49m\u001b[38;5;241;43m.\u001b[39;49m\u001b[43msend\u001b[49m\u001b[43m(\u001b[49m\n\u001b[1;32m    956\u001b[0m \u001b[43m        \u001b[49m\u001b[43mrequest\u001b[49m\u001b[43m,\u001b[49m\n\u001b[1;32m    957\u001b[0m \u001b[43m        \u001b[49m\u001b[43mstream\u001b[49m\u001b[38;5;241;43m=\u001b[39;49m\u001b[43mstream\u001b[49m\u001b[43m \u001b[49m\u001b[38;5;129;43;01mor\u001b[39;49;00m\u001b[43m \u001b[49m\u001b[38;5;28;43mself\u001b[39;49m\u001b[38;5;241;43m.\u001b[39;49m\u001b[43m_should_stream_response_body\u001b[49m\u001b[43m(\u001b[49m\u001b[43mrequest\u001b[49m\u001b[38;5;241;43m=\u001b[39;49m\u001b[43mrequest\u001b[49m\u001b[43m)\u001b[49m\u001b[43m,\u001b[49m\n\u001b[1;32m    958\u001b[0m \u001b[43m        \u001b[49m\u001b[38;5;241;43m*\u001b[39;49m\u001b[38;5;241;43m*\u001b[39;49m\u001b[43mkwargs\u001b[49m\u001b[43m,\u001b[49m\n\u001b[1;32m    959\u001b[0m \u001b[43m    \u001b[49m\u001b[43m)\u001b[49m\n\u001b[1;32m    960\u001b[0m \u001b[38;5;28;01mexcept\u001b[39;00m httpx\u001b[38;5;241m.\u001b[39mTimeoutException \u001b[38;5;28;01mas\u001b[39;00m err:\n\u001b[1;32m    961\u001b[0m     log\u001b[38;5;241m.\u001b[39mdebug(\u001b[38;5;124m\"\u001b[39m\u001b[38;5;124mEncountered httpx.TimeoutException\u001b[39m\u001b[38;5;124m\"\u001b[39m, exc_info\u001b[38;5;241m=\u001b[39m\u001b[38;5;28;01mTrue\u001b[39;00m)\n",
      "File \u001b[0;32m~/autovu/venv/lib/python3.8/site-packages/httpx/_client.py:914\u001b[0m, in \u001b[0;36mClient.send\u001b[0;34m(self, request, stream, auth, follow_redirects)\u001b[0m\n\u001b[1;32m    910\u001b[0m \u001b[38;5;28mself\u001b[39m\u001b[38;5;241m.\u001b[39m_set_timeout(request)\n\u001b[1;32m    912\u001b[0m auth \u001b[38;5;241m=\u001b[39m \u001b[38;5;28mself\u001b[39m\u001b[38;5;241m.\u001b[39m_build_request_auth(request, auth)\n\u001b[0;32m--> 914\u001b[0m response \u001b[38;5;241m=\u001b[39m \u001b[38;5;28;43mself\u001b[39;49m\u001b[38;5;241;43m.\u001b[39;49m\u001b[43m_send_handling_auth\u001b[49m\u001b[43m(\u001b[49m\n\u001b[1;32m    915\u001b[0m \u001b[43m    \u001b[49m\u001b[43mrequest\u001b[49m\u001b[43m,\u001b[49m\n\u001b[1;32m    916\u001b[0m \u001b[43m    \u001b[49m\u001b[43mauth\u001b[49m\u001b[38;5;241;43m=\u001b[39;49m\u001b[43mauth\u001b[49m\u001b[43m,\u001b[49m\n\u001b[1;32m    917\u001b[0m \u001b[43m    \u001b[49m\u001b[43mfollow_redirects\u001b[49m\u001b[38;5;241;43m=\u001b[39;49m\u001b[43mfollow_redirects\u001b[49m\u001b[43m,\u001b[49m\n\u001b[1;32m    918\u001b[0m \u001b[43m    \u001b[49m\u001b[43mhistory\u001b[49m\u001b[38;5;241;43m=\u001b[39;49m\u001b[43m[\u001b[49m\u001b[43m]\u001b[49m\u001b[43m,\u001b[49m\n\u001b[1;32m    919\u001b[0m \u001b[43m\u001b[49m\u001b[43m)\u001b[49m\n\u001b[1;32m    920\u001b[0m \u001b[38;5;28;01mtry\u001b[39;00m:\n\u001b[1;32m    921\u001b[0m     \u001b[38;5;28;01mif\u001b[39;00m \u001b[38;5;129;01mnot\u001b[39;00m stream:\n",
      "File \u001b[0;32m~/autovu/venv/lib/python3.8/site-packages/httpx/_client.py:942\u001b[0m, in \u001b[0;36mClient._send_handling_auth\u001b[0;34m(self, request, auth, follow_redirects, history)\u001b[0m\n\u001b[1;32m    939\u001b[0m request \u001b[38;5;241m=\u001b[39m \u001b[38;5;28mnext\u001b[39m(auth_flow)\n\u001b[1;32m    941\u001b[0m \u001b[38;5;28;01mwhile\u001b[39;00m \u001b[38;5;28;01mTrue\u001b[39;00m:\n\u001b[0;32m--> 942\u001b[0m     response \u001b[38;5;241m=\u001b[39m \u001b[38;5;28;43mself\u001b[39;49m\u001b[38;5;241;43m.\u001b[39;49m\u001b[43m_send_handling_redirects\u001b[49m\u001b[43m(\u001b[49m\n\u001b[1;32m    943\u001b[0m \u001b[43m        \u001b[49m\u001b[43mrequest\u001b[49m\u001b[43m,\u001b[49m\n\u001b[1;32m    944\u001b[0m \u001b[43m        \u001b[49m\u001b[43mfollow_redirects\u001b[49m\u001b[38;5;241;43m=\u001b[39;49m\u001b[43mfollow_redirects\u001b[49m\u001b[43m,\u001b[49m\n\u001b[1;32m    945\u001b[0m \u001b[43m        \u001b[49m\u001b[43mhistory\u001b[49m\u001b[38;5;241;43m=\u001b[39;49m\u001b[43mhistory\u001b[49m\u001b[43m,\u001b[49m\n\u001b[1;32m    946\u001b[0m \u001b[43m    \u001b[49m\u001b[43m)\u001b[49m\n\u001b[1;32m    947\u001b[0m     \u001b[38;5;28;01mtry\u001b[39;00m:\n\u001b[1;32m    948\u001b[0m         \u001b[38;5;28;01mtry\u001b[39;00m:\n",
      "File \u001b[0;32m~/autovu/venv/lib/python3.8/site-packages/httpx/_client.py:979\u001b[0m, in \u001b[0;36mClient._send_handling_redirects\u001b[0;34m(self, request, follow_redirects, history)\u001b[0m\n\u001b[1;32m    976\u001b[0m \u001b[38;5;28;01mfor\u001b[39;00m hook \u001b[38;5;129;01min\u001b[39;00m \u001b[38;5;28mself\u001b[39m\u001b[38;5;241m.\u001b[39m_event_hooks[\u001b[38;5;124m\"\u001b[39m\u001b[38;5;124mrequest\u001b[39m\u001b[38;5;124m\"\u001b[39m]:\n\u001b[1;32m    977\u001b[0m     hook(request)\n\u001b[0;32m--> 979\u001b[0m response \u001b[38;5;241m=\u001b[39m \u001b[38;5;28;43mself\u001b[39;49m\u001b[38;5;241;43m.\u001b[39;49m\u001b[43m_send_single_request\u001b[49m\u001b[43m(\u001b[49m\u001b[43mrequest\u001b[49m\u001b[43m)\u001b[49m\n\u001b[1;32m    980\u001b[0m \u001b[38;5;28;01mtry\u001b[39;00m:\n\u001b[1;32m    981\u001b[0m     \u001b[38;5;28;01mfor\u001b[39;00m hook \u001b[38;5;129;01min\u001b[39;00m \u001b[38;5;28mself\u001b[39m\u001b[38;5;241m.\u001b[39m_event_hooks[\u001b[38;5;124m\"\u001b[39m\u001b[38;5;124mresponse\u001b[39m\u001b[38;5;124m\"\u001b[39m]:\n",
      "File \u001b[0;32m~/autovu/venv/lib/python3.8/site-packages/httpx/_client.py:1014\u001b[0m, in \u001b[0;36mClient._send_single_request\u001b[0;34m(self, request)\u001b[0m\n\u001b[1;32m   1009\u001b[0m     \u001b[38;5;28;01mraise\u001b[39;00m \u001b[38;5;167;01mRuntimeError\u001b[39;00m(\n\u001b[1;32m   1010\u001b[0m         \u001b[38;5;124m\"\u001b[39m\u001b[38;5;124mAttempted to send an async request with a sync Client instance.\u001b[39m\u001b[38;5;124m\"\u001b[39m\n\u001b[1;32m   1011\u001b[0m     )\n\u001b[1;32m   1013\u001b[0m \u001b[38;5;28;01mwith\u001b[39;00m request_context(request\u001b[38;5;241m=\u001b[39mrequest):\n\u001b[0;32m-> 1014\u001b[0m     response \u001b[38;5;241m=\u001b[39m \u001b[43mtransport\u001b[49m\u001b[38;5;241;43m.\u001b[39;49m\u001b[43mhandle_request\u001b[49m\u001b[43m(\u001b[49m\u001b[43mrequest\u001b[49m\u001b[43m)\u001b[49m\n\u001b[1;32m   1016\u001b[0m \u001b[38;5;28;01massert\u001b[39;00m \u001b[38;5;28misinstance\u001b[39m(response\u001b[38;5;241m.\u001b[39mstream, SyncByteStream)\n\u001b[1;32m   1018\u001b[0m response\u001b[38;5;241m.\u001b[39mrequest \u001b[38;5;241m=\u001b[39m request\n",
      "File \u001b[0;32m~/autovu/venv/lib/python3.8/site-packages/httpx/_transports/default.py:250\u001b[0m, in \u001b[0;36mHTTPTransport.handle_request\u001b[0;34m(self, request)\u001b[0m\n\u001b[1;32m    237\u001b[0m req \u001b[38;5;241m=\u001b[39m httpcore\u001b[38;5;241m.\u001b[39mRequest(\n\u001b[1;32m    238\u001b[0m     method\u001b[38;5;241m=\u001b[39mrequest\u001b[38;5;241m.\u001b[39mmethod,\n\u001b[1;32m    239\u001b[0m     url\u001b[38;5;241m=\u001b[39mhttpcore\u001b[38;5;241m.\u001b[39mURL(\n\u001b[0;32m   (...)\u001b[0m\n\u001b[1;32m    247\u001b[0m     extensions\u001b[38;5;241m=\u001b[39mrequest\u001b[38;5;241m.\u001b[39mextensions,\n\u001b[1;32m    248\u001b[0m )\n\u001b[1;32m    249\u001b[0m \u001b[38;5;28;01mwith\u001b[39;00m map_httpcore_exceptions():\n\u001b[0;32m--> 250\u001b[0m     resp \u001b[38;5;241m=\u001b[39m \u001b[38;5;28;43mself\u001b[39;49m\u001b[38;5;241;43m.\u001b[39;49m\u001b[43m_pool\u001b[49m\u001b[38;5;241;43m.\u001b[39;49m\u001b[43mhandle_request\u001b[49m\u001b[43m(\u001b[49m\u001b[43mreq\u001b[49m\u001b[43m)\u001b[49m\n\u001b[1;32m    252\u001b[0m \u001b[38;5;28;01massert\u001b[39;00m \u001b[38;5;28misinstance\u001b[39m(resp\u001b[38;5;241m.\u001b[39mstream, typing\u001b[38;5;241m.\u001b[39mIterable)\n\u001b[1;32m    254\u001b[0m \u001b[38;5;28;01mreturn\u001b[39;00m Response(\n\u001b[1;32m    255\u001b[0m     status_code\u001b[38;5;241m=\u001b[39mresp\u001b[38;5;241m.\u001b[39mstatus,\n\u001b[1;32m    256\u001b[0m     headers\u001b[38;5;241m=\u001b[39mresp\u001b[38;5;241m.\u001b[39mheaders,\n\u001b[1;32m    257\u001b[0m     stream\u001b[38;5;241m=\u001b[39mResponseStream(resp\u001b[38;5;241m.\u001b[39mstream),\n\u001b[1;32m    258\u001b[0m     extensions\u001b[38;5;241m=\u001b[39mresp\u001b[38;5;241m.\u001b[39mextensions,\n\u001b[1;32m    259\u001b[0m )\n",
      "File \u001b[0;32m~/autovu/venv/lib/python3.8/site-packages/httpcore/_sync/connection_pool.py:256\u001b[0m, in \u001b[0;36mConnectionPool.handle_request\u001b[0;34m(self, request)\u001b[0m\n\u001b[1;32m    253\u001b[0m         closing \u001b[38;5;241m=\u001b[39m \u001b[38;5;28mself\u001b[39m\u001b[38;5;241m.\u001b[39m_assign_requests_to_connections()\n\u001b[1;32m    255\u001b[0m     \u001b[38;5;28mself\u001b[39m\u001b[38;5;241m.\u001b[39m_close_connections(closing)\n\u001b[0;32m--> 256\u001b[0m     \u001b[38;5;28;01mraise\u001b[39;00m exc \u001b[38;5;28;01mfrom\u001b[39;00m\u001b[38;5;250m \u001b[39m\u001b[38;5;28;01mNone\u001b[39;00m\n\u001b[1;32m    258\u001b[0m \u001b[38;5;66;03m# Return the response. Note that in this case we still have to manage\u001b[39;00m\n\u001b[1;32m    259\u001b[0m \u001b[38;5;66;03m# the point at which the response is closed.\u001b[39;00m\n\u001b[1;32m    260\u001b[0m \u001b[38;5;28;01massert\u001b[39;00m \u001b[38;5;28misinstance\u001b[39m(response\u001b[38;5;241m.\u001b[39mstream, typing\u001b[38;5;241m.\u001b[39mIterable)\n",
      "File \u001b[0;32m~/autovu/venv/lib/python3.8/site-packages/httpcore/_sync/connection_pool.py:236\u001b[0m, in \u001b[0;36mConnectionPool.handle_request\u001b[0;34m(self, request)\u001b[0m\n\u001b[1;32m    232\u001b[0m connection \u001b[38;5;241m=\u001b[39m pool_request\u001b[38;5;241m.\u001b[39mwait_for_connection(timeout\u001b[38;5;241m=\u001b[39mtimeout)\n\u001b[1;32m    234\u001b[0m \u001b[38;5;28;01mtry\u001b[39;00m:\n\u001b[1;32m    235\u001b[0m     \u001b[38;5;66;03m# Send the request on the assigned connection.\u001b[39;00m\n\u001b[0;32m--> 236\u001b[0m     response \u001b[38;5;241m=\u001b[39m \u001b[43mconnection\u001b[49m\u001b[38;5;241;43m.\u001b[39;49m\u001b[43mhandle_request\u001b[49m\u001b[43m(\u001b[49m\n\u001b[1;32m    237\u001b[0m \u001b[43m        \u001b[49m\u001b[43mpool_request\u001b[49m\u001b[38;5;241;43m.\u001b[39;49m\u001b[43mrequest\u001b[49m\n\u001b[1;32m    238\u001b[0m \u001b[43m    \u001b[49m\u001b[43m)\u001b[49m\n\u001b[1;32m    239\u001b[0m \u001b[38;5;28;01mexcept\u001b[39;00m ConnectionNotAvailable:\n\u001b[1;32m    240\u001b[0m     \u001b[38;5;66;03m# In some cases a connection may initially be available to\u001b[39;00m\n\u001b[1;32m    241\u001b[0m     \u001b[38;5;66;03m# handle a request, but then become unavailable.\u001b[39;00m\n\u001b[1;32m    242\u001b[0m     \u001b[38;5;66;03m#\u001b[39;00m\n\u001b[1;32m    243\u001b[0m     \u001b[38;5;66;03m# In this case we clear the connection and try again.\u001b[39;00m\n\u001b[1;32m    244\u001b[0m     pool_request\u001b[38;5;241m.\u001b[39mclear_connection()\n",
      "File \u001b[0;32m~/autovu/venv/lib/python3.8/site-packages/httpcore/_sync/connection.py:103\u001b[0m, in \u001b[0;36mHTTPConnection.handle_request\u001b[0;34m(self, request)\u001b[0m\n\u001b[1;32m    100\u001b[0m     \u001b[38;5;28mself\u001b[39m\u001b[38;5;241m.\u001b[39m_connect_failed \u001b[38;5;241m=\u001b[39m \u001b[38;5;28;01mTrue\u001b[39;00m\n\u001b[1;32m    101\u001b[0m     \u001b[38;5;28;01mraise\u001b[39;00m exc\n\u001b[0;32m--> 103\u001b[0m \u001b[38;5;28;01mreturn\u001b[39;00m \u001b[38;5;28;43mself\u001b[39;49m\u001b[38;5;241;43m.\u001b[39;49m\u001b[43m_connection\u001b[49m\u001b[38;5;241;43m.\u001b[39;49m\u001b[43mhandle_request\u001b[49m\u001b[43m(\u001b[49m\u001b[43mrequest\u001b[49m\u001b[43m)\u001b[49m\n",
      "File \u001b[0;32m~/autovu/venv/lib/python3.8/site-packages/httpcore/_sync/http11.py:136\u001b[0m, in \u001b[0;36mHTTP11Connection.handle_request\u001b[0;34m(self, request)\u001b[0m\n\u001b[1;32m    134\u001b[0m     \u001b[38;5;28;01mwith\u001b[39;00m Trace(\u001b[38;5;124m\"\u001b[39m\u001b[38;5;124mresponse_closed\u001b[39m\u001b[38;5;124m\"\u001b[39m, logger, request) \u001b[38;5;28;01mas\u001b[39;00m trace:\n\u001b[1;32m    135\u001b[0m         \u001b[38;5;28mself\u001b[39m\u001b[38;5;241m.\u001b[39m_response_closed()\n\u001b[0;32m--> 136\u001b[0m \u001b[38;5;28;01mraise\u001b[39;00m exc\n",
      "File \u001b[0;32m~/autovu/venv/lib/python3.8/site-packages/httpcore/_sync/http11.py:106\u001b[0m, in \u001b[0;36mHTTP11Connection.handle_request\u001b[0;34m(self, request)\u001b[0m\n\u001b[1;32m     95\u001b[0m     \u001b[38;5;28;01mpass\u001b[39;00m\n\u001b[1;32m     97\u001b[0m \u001b[38;5;28;01mwith\u001b[39;00m Trace(\n\u001b[1;32m     98\u001b[0m     \u001b[38;5;124m\"\u001b[39m\u001b[38;5;124mreceive_response_headers\u001b[39m\u001b[38;5;124m\"\u001b[39m, logger, request, kwargs\n\u001b[1;32m     99\u001b[0m ) \u001b[38;5;28;01mas\u001b[39;00m trace:\n\u001b[1;32m    100\u001b[0m     (\n\u001b[1;32m    101\u001b[0m         http_version,\n\u001b[1;32m    102\u001b[0m         status,\n\u001b[1;32m    103\u001b[0m         reason_phrase,\n\u001b[1;32m    104\u001b[0m         headers,\n\u001b[1;32m    105\u001b[0m         trailing_data,\n\u001b[0;32m--> 106\u001b[0m     ) \u001b[38;5;241m=\u001b[39m \u001b[38;5;28;43mself\u001b[39;49m\u001b[38;5;241;43m.\u001b[39;49m\u001b[43m_receive_response_headers\u001b[49m\u001b[43m(\u001b[49m\u001b[38;5;241;43m*\u001b[39;49m\u001b[38;5;241;43m*\u001b[39;49m\u001b[43mkwargs\u001b[49m\u001b[43m)\u001b[49m\n\u001b[1;32m    107\u001b[0m     trace\u001b[38;5;241m.\u001b[39mreturn_value \u001b[38;5;241m=\u001b[39m (\n\u001b[1;32m    108\u001b[0m         http_version,\n\u001b[1;32m    109\u001b[0m         status,\n\u001b[1;32m    110\u001b[0m         reason_phrase,\n\u001b[1;32m    111\u001b[0m         headers,\n\u001b[1;32m    112\u001b[0m     )\n\u001b[1;32m    114\u001b[0m network_stream \u001b[38;5;241m=\u001b[39m \u001b[38;5;28mself\u001b[39m\u001b[38;5;241m.\u001b[39m_network_stream\n",
      "File \u001b[0;32m~/autovu/venv/lib/python3.8/site-packages/httpcore/_sync/http11.py:177\u001b[0m, in \u001b[0;36mHTTP11Connection._receive_response_headers\u001b[0;34m(self, request)\u001b[0m\n\u001b[1;32m    174\u001b[0m timeout \u001b[38;5;241m=\u001b[39m timeouts\u001b[38;5;241m.\u001b[39mget(\u001b[38;5;124m\"\u001b[39m\u001b[38;5;124mread\u001b[39m\u001b[38;5;124m\"\u001b[39m, \u001b[38;5;28;01mNone\u001b[39;00m)\n\u001b[1;32m    176\u001b[0m \u001b[38;5;28;01mwhile\u001b[39;00m \u001b[38;5;28;01mTrue\u001b[39;00m:\n\u001b[0;32m--> 177\u001b[0m     event \u001b[38;5;241m=\u001b[39m \u001b[38;5;28;43mself\u001b[39;49m\u001b[38;5;241;43m.\u001b[39;49m\u001b[43m_receive_event\u001b[49m\u001b[43m(\u001b[49m\u001b[43mtimeout\u001b[49m\u001b[38;5;241;43m=\u001b[39;49m\u001b[43mtimeout\u001b[49m\u001b[43m)\u001b[49m\n\u001b[1;32m    178\u001b[0m     \u001b[38;5;28;01mif\u001b[39;00m \u001b[38;5;28misinstance\u001b[39m(event, h11\u001b[38;5;241m.\u001b[39mResponse):\n\u001b[1;32m    179\u001b[0m         \u001b[38;5;28;01mbreak\u001b[39;00m\n",
      "File \u001b[0;32m~/autovu/venv/lib/python3.8/site-packages/httpcore/_sync/http11.py:217\u001b[0m, in \u001b[0;36mHTTP11Connection._receive_event\u001b[0;34m(self, timeout)\u001b[0m\n\u001b[1;32m    214\u001b[0m     event \u001b[38;5;241m=\u001b[39m \u001b[38;5;28mself\u001b[39m\u001b[38;5;241m.\u001b[39m_h11_state\u001b[38;5;241m.\u001b[39mnext_event()\n\u001b[1;32m    216\u001b[0m \u001b[38;5;28;01mif\u001b[39;00m event \u001b[38;5;129;01mis\u001b[39;00m h11\u001b[38;5;241m.\u001b[39mNEED_DATA:\n\u001b[0;32m--> 217\u001b[0m     data \u001b[38;5;241m=\u001b[39m \u001b[38;5;28;43mself\u001b[39;49m\u001b[38;5;241;43m.\u001b[39;49m\u001b[43m_network_stream\u001b[49m\u001b[38;5;241;43m.\u001b[39;49m\u001b[43mread\u001b[49m\u001b[43m(\u001b[49m\n\u001b[1;32m    218\u001b[0m \u001b[43m        \u001b[49m\u001b[38;5;28;43mself\u001b[39;49m\u001b[38;5;241;43m.\u001b[39;49m\u001b[43mREAD_NUM_BYTES\u001b[49m\u001b[43m,\u001b[49m\u001b[43m \u001b[49m\u001b[43mtimeout\u001b[49m\u001b[38;5;241;43m=\u001b[39;49m\u001b[43mtimeout\u001b[49m\n\u001b[1;32m    219\u001b[0m \u001b[43m    \u001b[49m\u001b[43m)\u001b[49m\n\u001b[1;32m    221\u001b[0m     \u001b[38;5;66;03m# If we feed this case through h11 we'll raise an exception like:\u001b[39;00m\n\u001b[1;32m    222\u001b[0m     \u001b[38;5;66;03m#\u001b[39;00m\n\u001b[1;32m    223\u001b[0m     \u001b[38;5;66;03m#     httpcore.RemoteProtocolError: can't handle event type\u001b[39;00m\n\u001b[0;32m   (...)\u001b[0m\n\u001b[1;32m    227\u001b[0m     \u001b[38;5;66;03m# perspective. Instead we handle this case distinctly and treat\u001b[39;00m\n\u001b[1;32m    228\u001b[0m     \u001b[38;5;66;03m# it as a ConnectError.\u001b[39;00m\n\u001b[1;32m    229\u001b[0m     \u001b[38;5;28;01mif\u001b[39;00m data \u001b[38;5;241m==\u001b[39m \u001b[38;5;124mb\u001b[39m\u001b[38;5;124m\"\u001b[39m\u001b[38;5;124m\"\u001b[39m \u001b[38;5;129;01mand\u001b[39;00m \u001b[38;5;28mself\u001b[39m\u001b[38;5;241m.\u001b[39m_h11_state\u001b[38;5;241m.\u001b[39mtheir_state \u001b[38;5;241m==\u001b[39m h11\u001b[38;5;241m.\u001b[39mSEND_RESPONSE:\n",
      "File \u001b[0;32m~/autovu/venv/lib/python3.8/site-packages/httpcore/_backends/sync.py:128\u001b[0m, in \u001b[0;36mSyncStream.read\u001b[0;34m(self, max_bytes, timeout)\u001b[0m\n\u001b[1;32m    126\u001b[0m \u001b[38;5;28;01mwith\u001b[39;00m map_exceptions(exc_map):\n\u001b[1;32m    127\u001b[0m     \u001b[38;5;28mself\u001b[39m\u001b[38;5;241m.\u001b[39m_sock\u001b[38;5;241m.\u001b[39msettimeout(timeout)\n\u001b[0;32m--> 128\u001b[0m     \u001b[38;5;28;01mreturn\u001b[39;00m \u001b[38;5;28;43mself\u001b[39;49m\u001b[38;5;241;43m.\u001b[39;49m\u001b[43m_sock\u001b[49m\u001b[38;5;241;43m.\u001b[39;49m\u001b[43mrecv\u001b[49m\u001b[43m(\u001b[49m\u001b[43mmax_bytes\u001b[49m\u001b[43m)\u001b[49m\n",
      "File \u001b[0;32m/usr/lib/python3.8/ssl.py:1255\u001b[0m, in \u001b[0;36mSSLSocket.recv\u001b[0;34m(self, buflen, flags)\u001b[0m\n\u001b[1;32m   1251\u001b[0m     \u001b[38;5;28;01mif\u001b[39;00m flags \u001b[38;5;241m!=\u001b[39m \u001b[38;5;241m0\u001b[39m:\n\u001b[1;32m   1252\u001b[0m         \u001b[38;5;28;01mraise\u001b[39;00m \u001b[38;5;167;01mValueError\u001b[39;00m(\n\u001b[1;32m   1253\u001b[0m             \u001b[38;5;124m\"\u001b[39m\u001b[38;5;124mnon-zero flags not allowed in calls to recv() on \u001b[39m\u001b[38;5;132;01m%s\u001b[39;00m\u001b[38;5;124m\"\u001b[39m \u001b[38;5;241m%\u001b[39m\n\u001b[1;32m   1254\u001b[0m             \u001b[38;5;28mself\u001b[39m\u001b[38;5;241m.\u001b[39m\u001b[38;5;18m__class__\u001b[39m)\n\u001b[0;32m-> 1255\u001b[0m     \u001b[38;5;28;01mreturn\u001b[39;00m \u001b[38;5;28;43mself\u001b[39;49m\u001b[38;5;241;43m.\u001b[39;49m\u001b[43mread\u001b[49m\u001b[43m(\u001b[49m\u001b[43mbuflen\u001b[49m\u001b[43m)\u001b[49m\n\u001b[1;32m   1256\u001b[0m \u001b[38;5;28;01melse\u001b[39;00m:\n\u001b[1;32m   1257\u001b[0m     \u001b[38;5;28;01mreturn\u001b[39;00m \u001b[38;5;28msuper\u001b[39m()\u001b[38;5;241m.\u001b[39mrecv(buflen, flags)\n",
      "File \u001b[0;32m/usr/lib/python3.8/ssl.py:1130\u001b[0m, in \u001b[0;36mSSLSocket.read\u001b[0;34m(self, len, buffer)\u001b[0m\n\u001b[1;32m   1128\u001b[0m         \u001b[38;5;28;01mreturn\u001b[39;00m \u001b[38;5;28mself\u001b[39m\u001b[38;5;241m.\u001b[39m_sslobj\u001b[38;5;241m.\u001b[39mread(\u001b[38;5;28mlen\u001b[39m, buffer)\n\u001b[1;32m   1129\u001b[0m     \u001b[38;5;28;01melse\u001b[39;00m:\n\u001b[0;32m-> 1130\u001b[0m         \u001b[38;5;28;01mreturn\u001b[39;00m \u001b[38;5;28;43mself\u001b[39;49m\u001b[38;5;241;43m.\u001b[39;49m\u001b[43m_sslobj\u001b[49m\u001b[38;5;241;43m.\u001b[39;49m\u001b[43mread\u001b[49m\u001b[43m(\u001b[49m\u001b[38;5;28;43mlen\u001b[39;49m\u001b[43m)\u001b[49m\n\u001b[1;32m   1131\u001b[0m \u001b[38;5;28;01mexcept\u001b[39;00m SSLError \u001b[38;5;28;01mas\u001b[39;00m x:\n\u001b[1;32m   1132\u001b[0m     \u001b[38;5;28;01mif\u001b[39;00m x\u001b[38;5;241m.\u001b[39margs[\u001b[38;5;241m0\u001b[39m] \u001b[38;5;241m==\u001b[39m SSL_ERROR_EOF \u001b[38;5;129;01mand\u001b[39;00m \u001b[38;5;28mself\u001b[39m\u001b[38;5;241m.\u001b[39msuppress_ragged_eofs:\n",
      "\u001b[0;31mKeyboardInterrupt\u001b[0m: "
     ]
    }
   ],
   "source": [
    "df['prediction']=df['companyLabel'].progress_apply(lambda x: generate_answer(f\"Who is the current CEO of {x}?\"))"
   ]
  },
  {
   "cell_type": "code",
   "execution_count": 16,
   "metadata": {},
   "outputs": [
    {
     "name": "stderr",
     "output_type": "stream",
     "text": [
      "Error in StdOutCallbackHandler.on_chain_start callback: AttributeError(\"'NoneType' object has no attribute 'get'\")\n"
     ]
    },
    {
     "name": "stdout",
     "output_type": "stream",
     "text": [
      "Prompt after formatting:\n",
      "\u001b[32;1m\u001b[1;3mYou are an AI assistant. Your task is to answer the question directly using the latest information which will be provided.\n",
      "Note that search results are more up-to-date and reliable than the information you have as we are in 2025.\n",
      "Answer briefly and directly, return only the answer label.\n",
      "Return a confidence score based on the provided context: high, medium or low.\n",
      "User Question: Who is the current CEO of the company: Intel?\n",
      "Search results: Title: Intel Appoints Lip-Bu Tan as Chief Executive Officer - Newsroom\n",
      "Snippet: Lip-Bu Tan was appointed chief executive officer of Intel Corporation in March 2025. He also serves on the company's board of directors.\n",
      "Date: Mar 12, 2025\n",
      "\n",
      "Title: Intel's new CEO tells customers 'be brutally honest with us' | Reuters\n",
      "Snippet: In his first remarks as Intel's new CEO, Lip-Bu Tan on Monday outlined a leaner version of the iconic American chipmaker in which he would ...\n",
      "Date: 15 hours ago\n",
      "\n",
      "Title: Intel Appoints Lip-Bu Tan as Chief Executive Officer\n",
      "Snippet: Lip-Bu Tan was appointed chief executive officer of Intel Corporation in March 2025. He also serves on the company's board of directors. ...\n",
      "Date: Mar 12, 2025\n",
      "\n",
      "Title: Intel's New CEO Says Company Turnaround 'Won't Be Easy'\n",
      "Snippet: Intel's new chief executive Lip-Bu Tan told investors during the company's “Intel Vision” conference that the chip giant has been “too slow ...\n",
      "Date: 12 hours ago\n",
      "\n",
      "Title: Lip-Bu Tan: Remaking Our Company for the Future - Intel Newsroom\n",
      "Snippet: Lip-Bu Tan was appointed chief executive officer of Intel Corporation in March 2025. He also serves on the company's board of directors.\n",
      "Date: Mar 12, 2025\n",
      "\n",
      "Title: Intel's New CEO Lip-Bu Tan Needs a Big Break From the Past - WSJ\n",
      "Snippet: Lip-Bu Tan isn't yet signaling a major departure from Intel's past strategy, but expectations for change are high.\n",
      "Date: 4 hours ago\n",
      "\n",
      "Title: Intel's new CEO asks customers for criticism and help in his mission ...\n",
      "Snippet: In his first public appearance as Intel Corp.'s new chief executive, Lip-Bu Tan on Monday asked the chip giant's customers to continue to ...\n",
      "Date: 15 hours ago\n",
      "\n",
      "Title: Intel's New CEO Says Company Turnaround 'Won't Be Easy' - WSJ\n",
      "Snippet: Intel's new chief executive Lip-Bu Tan told investors during the company's “Intel Vision” conference that the chip giant has been “too slow ...\n",
      "Date: 12 hours ago\n",
      "\n",
      "Title: Intel's New CEO Says Turnaround 'Won't Be Easy' - Barron's\n",
      "Snippet: Intel CEO,Lip-Bu Tan asked customers to give him “harsh feedback” as he seeks to plot a new strategy for the chip maker.\n",
      "Date: 16 hours ago\n",
      "\u001b[0m\n",
      "\n",
      "\u001b[1m> Finished chain.\u001b[0m\n",
      "\n",
      "Final Result: <think>\n",
      "Alright, so I need to figure out who the current CEO of Intel is. Let me go through the search results provided.\n",
      "\n",
      "Looking at the first result, it's from Intel's Newsroom and says that Lip-Bu Tan was appointed as CEO in March 2025. He also serves on the board of directors. The date on this snippet is March 12, 2025, which is pretty recent.\n",
      "\n",
      "The second result is from Reuters, posted just 15 hours ago. It mentions Lip-Bu Tan as the new CEO and quotes him asking customers for honest feedback. This seems to confirm that he's the current CEO.\n",
      "\n",
      "Another result again states that Lip-Bu Tan was appointed in March 2025. The date here is also March 12, so it's consistent with the first source.\n",
      "\n",
      "There's a snippet from WSJ talking about Intel's new CEO needing a break from the past, and it's dated just 4 hours ago. This further solidifies that Lip-Bu Tan is indeed the current CEO.\n",
      "\n",
      "All the other results consistently mention Lip-Bu Tan as the new CEO, with recent dates like 12 hours or 15 hours ago. There's no conflicting information in any of the search results; they all point to him being appointed this year.\n",
      "\n",
      "So putting it all together, every source I'm looking at confirms that Lip-Bu Tan is the current CEO of Intel, and the information is up-to-date as of March 2025.\n",
      "</think>\n",
      "\n",
      "The current CEO of Intel is Lip-Bu Tan. \n",
      "\n",
      "Confidence score: High\n"
     ]
    }
   ],
   "source": [
    "\n",
    "custom_prompt = PromptTemplate.from_template(\n",
    "    \"You are an AI assistant. Your task is to answer the question directly using the latest information which will be provided.\"\n",
    "    \"\\nNote that search results are more up-to-date and reliable than the information you have as we are in 2025.\"\n",
    "    \"\\nAnswer briefly and directly, return only the answer label.\"\n",
    "    \"\\nReturn a confidence score based on the provided context: high, medium or low.\"\n",
    "    \"\\nUser Question: {input}\"\n",
    "    \"\\nSearch results: {search}\"\n",
    ")\n",
    "\n",
    "# Create an LLMChain instead of an agent\n",
    "llm_chain = LLMChain(\n",
    "    llm=llm,\n",
    "    prompt=custom_prompt,\n",
    "    verbose=True\n",
    ")\n",
    "\n",
    "# Query\n",
    "#query = \"Who is the current president/ leader of the organization: All European Academies?\"\n",
    "query = \"Who is the current CEO of the company: Intel?\"\n",
    "\n",
    "# Get the latest factual information first\n",
    "search_result = search.results(query)\n",
    "\n",
    "# if search_result:\n",
    "#     print(f\"Raw Search API Response: {search_result}\\n\")\n",
    "# else:\n",
    "#     print(\"Error: Web Search API returned None or an invalid response.\")\n",
    "    \n",
    "formatted_results = \"\\n\".join(\n",
    "    f\"Title: {res['title']}\\nSnippet: {res['snippet']}\\nDate: {res.get('date', 'N/A')}\\n\"\n",
    "    for res in search_result['organic']\n",
    ")\n",
    "\n",
    "# Pass the query to the agent\n",
    "try:\n",
    "    result = llm_chain.run({\"input\": query, \"search\": formatted_results})\n",
    "    print(f\"\\nFinal Result: {result.strip()}\")\n",
    "except Exception as e:\n",
    "    print(f\"An error occurred: {e}\")\n",
    "\n"
   ]
  },
  {
   "cell_type": "code",
   "execution_count": 7,
   "metadata": {},
   "outputs": [
    {
     "name": "stdout",
     "output_type": "stream",
     "text": [
      "Query: Who is the current CEO of the company: Reliance Industries Limited\t\n",
      "\n"
     ]
    },
    {
     "data": {
      "text/plain": [
       "{'searchParameters': {'q': 'Who is the current CEO of the company: Reliance Industries Limited\\t',\n",
       "  'gl': 'us',\n",
       "  'hl': 'en',\n",
       "  'type': 'search',\n",
       "  'num': 10,\n",
       "  'engine': 'google'},\n",
       " 'answerBox': {'snippet': 'Mukesh Dhirubhai Ambani (born 19 April 1957) is an Indian billionaire and businessman who is the chairman and managing director of Reliance Industries.',\n",
       "  'snippetHighlighted': ['Mukesh Dhirubhai Ambani'],\n",
       "  'title': 'Mukesh Ambani - Wikipedia',\n",
       "  'link': 'https://en.wikipedia.org/wiki/Mukesh_Ambani'},\n",
       " 'organic': [{'title': 'Reliance Industries Limited Chairman & Managing Director',\n",
       "   'link': 'https://www.ril.com/about/chairman-managing-director',\n",
       "   'snippet': 'RIL Chairman and Managing Director, Mukesh D. Ambani, is a chemical engineer from the Institute of Chemical Technology, Mumbai (erstwhile the University ...',\n",
       "   'position': 1},\n",
       "  {'title': 'Reliance Industries Limited Board of Directors - Nita Ambani',\n",
       "   'link': 'https://www.ril.com/about/board-of-directors',\n",
       "   'snippet': 'Mukesh D. Ambani ... RIL Chairman and Managing Director Mukesh D. Ambani is a chemical engineer from the Institute of Chemical Technology, Mumbai (erstwhile the ...',\n",
       "   'sitelinks': [{'title': 'Isha M. Ambani',\n",
       "     'link': 'https://www.ril.com/about/board-of-directors/isha-ambani'},\n",
       "    {'title': 'Anant M Ambani',\n",
       "     'link': 'https://www.ril.com/about/board-of-directors/anant-ambani'},\n",
       "    {'title': 'Board Committees',\n",
       "     'link': 'https://www.ril.com/about/board-committees'},\n",
       "    {'title': 'Akash M. Ambani',\n",
       "     'link': 'https://www.ril.com/about/board-of-directors/akash-ambani'}],\n",
       "   'position': 2},\n",
       "  {'title': 'Reliance Industries - Wikipedia',\n",
       "   'link': 'https://en.wikipedia.org/wiki/Reliance_Industries',\n",
       "   'snippet': 'Reliance Industries ; Mukesh Ambani (Chairman & Managing Director) · Petroleum · Natural gas · Chemical · Petrochemical · Oil refining · Retail',\n",
       "   'position': 3},\n",
       "  {'title': 'Shri Mukesh D Ambani, Chairman and Managing Director, Reliance ...',\n",
       "   'link': 'https://www.facebook.com/RelianceIndustriesLimited/videos/shri-mukesh-d-ambani-chairman-and-managing-director-reliance-industries-limited-/1660706344875037/',\n",
       "   'snippet': 'Shri Mukesh D Ambani, Chairman and Managing Director, Reliance Industries Limited addressing employees in Jamnagar on the occasion of ...',\n",
       "   'date': 'Jan 3, 2025',\n",
       "   'position': 4},\n",
       "  {'title': 'Reliance Industries CEO and Key Executive Team - Craft.co',\n",
       "   'link': 'https://craft.co/reliance-industries/executives',\n",
       "   'snippet': \"Reliance Industries's Chairman and Managing Director is Mukesh D. Ambani. Reliance Industries's key executives include Mukesh D. Ambani and 19 others.\",\n",
       "   'position': 5},\n",
       "  {'title': 'Mukesh Ambani - Mumbai, Maharashtra, India | Professional Profile',\n",
       "   'link': 'https://in.linkedin.com/in/mukesh-ambani-536121263',\n",
       "   'snippet': 'Mukesh Ambani. CEO at Reliance Digital Pvt Ltd. Mumbai, Maharashtra, India. 2K followers 53 connections.',\n",
       "   'position': 6},\n",
       "  {'title': 'Mukesh Ambani - CEO, Chairman and Managing Director ...',\n",
       "   'link': 'https://www.crunchbase.com/person/mukesh-ambani',\n",
       "   'snippet': \"Mukesh Ambani is the face of new emerging India. He is the Chairman and Managing Director of Reliance Industries Limited, India's largest private sector company ...\",\n",
       "   'position': 7},\n",
       "  {'title': 'Reliance Industries Limited | Business, Leadership, & History',\n",
       "   'link': 'https://www.britannica.com/topic/Reliance-Industries-Limited',\n",
       "   'snippet': \"Following Dhirubhai's death in 2002, his sons Mukesh and Anil assumed joint leadership of the Reliance companies. However, the brothers' feuding over control ...\",\n",
       "   'position': 8},\n",
       "  {'title': 'Shri Mukesh Ambani, Chairman and Managing Director, Reliance ...',\n",
       "   'link': 'https://www.facebook.com/RelianceIndustriesLimited/videos/shri-mukesh-ambani-chairman-and-managing-director-reliance-industries-limited-we/3808521752725933/',\n",
       "   'snippet': 'Shri Mukesh Ambani, Chairman and Managing Director, Reliance Industries Limited, welcomes all the shareholders to the 47th Annual General ...',\n",
       "   'date': 'Aug 29, 2024',\n",
       "   'position': 9}],\n",
       " 'peopleAlsoAsk': [{'question': 'Who is the CEO of Reliance now?',\n",
       "   'snippet': 'RIL Chairman and Managing Director, Mukesh D. Ambani, is a chemical engineer from the Institute of Chemical Technology, Mumbai (erstwhile the University Department of Chemical Technology, University of Mumbai). He pursued an MBA from Stanford University in the USA.',\n",
       "   'title': 'Reliance Industries Limited Chairman & Managing Director',\n",
       "   'link': 'https://www.ril.com/about/chairman-managing-director'},\n",
       "  {'question': 'Who owns Reliance Industries Limited?',\n",
       "   'snippet': 'Mukesh Ambani\\nThe promoter group, the Ambani family, holds 50.39% of the total shares whereas the remaining 49.61% shares are held by public shareholders, including FII and corporate bodies. Life Insurance Corporation of India, public sector company, is the largest non-promoter investor in the company, with 6.49% shareholding.',\n",
       "   'title': 'Reliance Industries - Wikipedia',\n",
       "   'link': 'https://en.wikipedia.org/wiki/Reliance_Industries'},\n",
       "  {'question': 'Who is the CEO of Reliance Brand?',\n",
       "   'snippet': \"Darshan Mehta President and CEO, Reliance Brands Ltd. Darshan Mehta joined PwC in the early 1980s at Mumbai and says that the firm was a 'natural choice' for him to start his career.\",\n",
       "   'title': 'Darshan Mehta President and CEO, Reliance Brands Ltd. - PwC India',\n",
       "   'link': 'https://www.pwc.in/alumni/darshan-mehta-president-and-ceo-reliance-brands-ltd.html'},\n",
       "  {'question': \"What is Ambani's net worth in dollars?\",\n",
       "   'snippet': 'As of 2025, Mukesh Ambani net worth is estimated to be around $98 billion USD (approximately ₹8.134 lakh crore INR). His wealth has grown over the years due to the success of Reliance Industries and various other investments.',\n",
       "   'title': 'Mukesh Ambani Net Worth 2025: Wealth, Assets & Growth Insights',\n",
       "   'link': 'https://www.cheggindia.com/earn-online/mukesh-ambani-net-worth-biography/'}],\n",
       " 'relatedSearches': [{'query': 'Reliance CEO list'},\n",
       "  {'query': 'Reliance CEO salary'},\n",
       "  {'query': 'Reliance Industries company list'},\n",
       "  {'query': 'Anil Ambani'},\n",
       "  {'query': 'Board of Directors of Reliance Industries'},\n",
       "  {'query': 'मुकेश अंबानी'},\n",
       "  {'query': 'Reliance Industries owner'},\n",
       "  {'query': 'Reliance Industries net worth in billion dollars'}],\n",
       " 'credits': 1}"
      ]
     },
     "execution_count": 7,
     "metadata": {},
     "output_type": "execute_result"
    }
   ],
   "source": [
    "# Query\n",
    "\n",
    "#query = \"Who is the current president/ leader of the organization: All European Academies?\"\n",
    "#query = \"All european Academies current President/ Leader?\"\n",
    "query = \"Who is the current CEO of the company: Reliance Industries Limited\t\"\n",
    "print(f\"Query: {query}\\n\")\n",
    "\n",
    "# Get the latest factual information first\n",
    "search_result = search.results(query)\n",
    "search_result"
   ]
  },
  {
   "cell_type": "code",
   "execution_count": 17,
   "metadata": {},
   "outputs": [],
   "source": [
    "import pandas as pd\n",
    "resultant_dataframe = pd.read_csv(\"company_ceo_results.csv\")"
   ]
  },
  {
   "cell_type": "code",
   "execution_count": 18,
   "metadata": {},
   "outputs": [],
   "source": [
    "resultant_dataframe['confidence'] = resultant_dataframe['prediction'].str.extract(r'(?i)\\b(high|medium|low)\\b')"
   ]
  },
  {
   "cell_type": "code",
   "execution_count": 19,
   "metadata": {},
   "outputs": [],
   "source": [
    "import re\n",
    "\n",
    "def extract_explanation(text):\n",
    "    match = re.search(r'<think>(.*?)</think>', text, re.DOTALL)\n",
    "    if match:\n",
    "        return match.group(1).strip()\n",
    "    return None"
   ]
  },
  {
   "cell_type": "code",
   "execution_count": 20,
   "metadata": {},
   "outputs": [],
   "source": [
    "resultant_dataframe['expalanation'] = resultant_dataframe['prediction'].apply(extract_explanation)"
   ]
  },
  {
   "cell_type": "code",
   "execution_count": 21,
   "metadata": {},
   "outputs": [],
   "source": [
    "import re\n",
    "\n",
    "\n",
    "def retrieve_answer_span(text):\n",
    "    pattern = r\"</think>\\s*(.*)\"\n",
    "    match = re.search(pattern, text, re.DOTALL)\n",
    "    result = match.group(1) if match else None\n",
    "    return result\n"
   ]
  },
  {
   "cell_type": "code",
   "execution_count": 22,
   "metadata": {},
   "outputs": [],
   "source": [
    "resultant_dataframe['pre_answer'] = resultant_dataframe['prediction'].apply(retrieve_answer_span)"
   ]
  },
  {
   "cell_type": "code",
   "execution_count": 23,
   "metadata": {},
   "outputs": [
    {
     "data": {
      "text/plain": [
       "0      The current CEO of Nvidia is Jensen Huang.\\n\\n...\n",
       "1      Jean-Laurent Bonnafé is the current CEO of BNP...\n",
       "2      Jack Dorsey is the current CEO of Block, Inc.\\...\n",
       "3      Mukesh D. Ambani is the current CEO of Relianc...\n",
       "4      The current CEO of Frasers Group is Michael Mu...\n",
       "                             ...                        \n",
       "340                                           Ömer Tetik\n",
       "341    Ye Guofu is the current CEO of Miniso.\\n\\nAnsw...\n",
       "342    Dr. Tobias Meyer is the current CEO of Deutsch...\n",
       "343    The current CEO of Intel is Lip-Bu Tan.  \\nCon...\n",
       "344    The current CEO of Commonwealth Bank is Matt C...\n",
       "Name: pre_answer, Length: 345, dtype: object"
      ]
     },
     "execution_count": 23,
     "metadata": {},
     "output_type": "execute_result"
    }
   ],
   "source": [
    "resultant_dataframe['pre_answer']"
   ]
  },
  {
   "cell_type": "code",
   "execution_count": 24,
   "metadata": {},
   "outputs": [],
   "source": [
    "def extract_answer(text):\n",
    "    pattern=r\"(?:Answer:\\s*[**]*\\s*|\\*\\*Answer:\\*\\*\\s*|The answer is:\\s*|The answer label is: |The current CEO of .*? is \\*\\*|The current .*? is [**]*)\\s*(?:<[^>]+>\\s*)*([\\w\\s,.'-]+?)(?=\\s*(?:\\*\\*\\s*\\.\\s*\\n\\n|Confidence|$))\"\n",
    "    #pattern=r\"(?:Answer:\\s*[**]*\\s*|The answer is:\\s*|The current .*? is [**]*|</think>\\s*\\n+\\s*)\\s*(?:<[^>]+>\\s*)*([\\w\\s,.-]+?)(?=\\s*(?:\\*\\*\\s*\\.\\s*\\n\\n|Confidence|$))\"\n",
    "   \n",
    "    matches = re.findall(pattern, text, re.IGNORECASE | re.MULTILINE)\n",
    "    last_match = matches[-1] if matches else None\n",
    "    return last_match\n"
   ]
  },
  {
   "cell_type": "code",
   "execution_count": 25,
   "metadata": {},
   "outputs": [],
   "source": [
    "resultant_dataframe['answer'] = resultant_dataframe['pre_answer'].apply(extract_answer)"
   ]
  },
  {
   "cell_type": "code",
   "execution_count": 26,
   "metadata": {},
   "outputs": [
    {
     "data": {
      "text/plain": [
       "0              Jensen Huang\n",
       "1      Jean-Laurent Bonnafé\n",
       "2               Jack Dorsey\n",
       "3          Mukesh D. Ambani\n",
       "4            Michael Murray\n",
       "               ...         \n",
       "340                    None\n",
       "341                Ye Guofu\n",
       "342        Dr. Tobias Meyer\n",
       "343             Lip-Bu Tan.\n",
       "344              Matt Comyn\n",
       "Name: answer, Length: 345, dtype: object"
      ]
     },
     "execution_count": 26,
     "metadata": {},
     "output_type": "execute_result"
    }
   ],
   "source": [
    "resultant_dataframe['answer']"
   ]
  },
  {
   "cell_type": "code",
   "execution_count": 27,
   "metadata": {},
   "outputs": [],
   "source": [
    "import re\n",
    "\n",
    "    \n",
    "def second_retrieve(text):\n",
    "    pattern=r\"^([A-Za-zÀ-ÖØ-öø-ÿ]+(?: [A-Za-zÀ-ÖØ-öø-ÿ\\.\\-]+)*?)(?=\\s*(?:\\n|Confidence|is the current|$))\"\n",
    "    #pattern = r'''(?:\\*\\*([^*]+)\\*\\*|^([A-Za-zÀ-ÖØ-öø-ÿ]+(?:\\s[A-Za-zÀ-ÖØ-öø-ÿ.\\-]+)*))(?=\\s*(?:\\n|Confidence|is the current|$))'''\n",
    "    match = re.search(pattern, text, re.IGNORECASE | re.MULTILINE)\n",
    "\n",
    "    if match:\n",
    "        return match.group(1)\n",
    "    return None\n",
    "    "
   ]
  },
  {
   "cell_type": "code",
   "execution_count": 28,
   "metadata": {},
   "outputs": [
    {
     "name": "stderr",
     "output_type": "stream",
     "text": [
      "/tmp/ipykernel_883/2482192990.py:2: SettingWithCopyWarning: \n",
      "A value is trying to be set on a copy of a slice from a DataFrame.\n",
      "Try using .loc[row_indexer,col_indexer] = value instead\n",
      "\n",
      "See the caveats in the documentation: https://pandas.pydata.org/pandas-docs/stable/user_guide/indexing.html#returning-a-view-versus-a-copy\n",
      "  interm['answer']= interm['pre_answer'].apply(second_retrieve)\n"
     ]
    },
    {
     "data": {
      "text/html": [
       "<div>\n",
       "<style scoped>\n",
       "    .dataframe tbody tr th:only-of-type {\n",
       "        vertical-align: middle;\n",
       "    }\n",
       "\n",
       "    .dataframe tbody tr th {\n",
       "        vertical-align: top;\n",
       "    }\n",
       "\n",
       "    .dataframe thead th {\n",
       "        text-align: right;\n",
       "    }\n",
       "</style>\n",
       "<table border=\"1\" class=\"dataframe\">\n",
       "  <thead>\n",
       "    <tr style=\"text-align: right;\">\n",
       "      <th></th>\n",
       "      <th>Unnamed: 0</th>\n",
       "      <th>companyLabel</th>\n",
       "      <th>ceoLabel</th>\n",
       "      <th>prediction</th>\n",
       "      <th>confidence</th>\n",
       "      <th>expalanation</th>\n",
       "      <th>pre_answer</th>\n",
       "      <th>answer</th>\n",
       "    </tr>\n",
       "  </thead>\n",
       "  <tbody>\n",
       "    <tr>\n",
       "      <th>29</th>\n",
       "      <td>29</td>\n",
       "      <td>Q9265848</td>\n",
       "      <td>Krzysztof Brzeziński</td>\n",
       "      <td>&lt;think&gt;\\nOkay, so I need to figure out who the...</td>\n",
       "      <td>Low</td>\n",
       "      <td>Okay, so I need to figure out who the current ...</td>\n",
       "      <td>The current CEO of Q9265848 cannot be determin...</td>\n",
       "      <td>None</td>\n",
       "    </tr>\n",
       "    <tr>\n",
       "      <th>50</th>\n",
       "      <td>50</td>\n",
       "      <td>Q3077586</td>\n",
       "      <td>Chen Rui</td>\n",
       "      <td>&lt;think&gt;\\nOkay, so I need to figure out who the...</td>\n",
       "      <td>low</td>\n",
       "      <td>Okay, so I need to figure out who the current ...</td>\n",
       "      <td>The current CEO of Q3077586 cannot be determin...</td>\n",
       "      <td>None</td>\n",
       "    </tr>\n",
       "    <tr>\n",
       "      <th>79</th>\n",
       "      <td>79</td>\n",
       "      <td>Songa Offshore SE</td>\n",
       "      <td>Bjørnar Iversen</td>\n",
       "      <td>&lt;think&gt;\\nAlright, let's try to figure out who ...</td>\n",
       "      <td>medium</td>\n",
       "      <td>Alright, let's try to figure out who the curre...</td>\n",
       "      <td>The most recent information indicates that aft...</td>\n",
       "      <td>None</td>\n",
       "    </tr>\n",
       "    <tr>\n",
       "      <th>133</th>\n",
       "      <td>133</td>\n",
       "      <td>Norwegian Air Shuttle</td>\n",
       "      <td>Geir Karlsen</td>\n",
       "      <td>&lt;think&gt;\\nOkay, I need to figure out who the cu...</td>\n",
       "      <td>high</td>\n",
       "      <td>Okay, I need to figure out who the current CEO...</td>\n",
       "      <td>The current CEO of Norwegian Air Shuttle is **...</td>\n",
       "      <td>None</td>\n",
       "    </tr>\n",
       "    <tr>\n",
       "      <th>143</th>\n",
       "      <td>143</td>\n",
       "      <td>Fortescue Metals Group</td>\n",
       "      <td>Elizabeth Gaines</td>\n",
       "      <td>&lt;think&gt;\\nOkay, I need to figure out who the cu...</td>\n",
       "      <td>High</td>\n",
       "      <td>Okay, I need to figure out who the current CEO...</td>\n",
       "      <td>The current CEO of Fortescue Metals Group is *...</td>\n",
       "      <td>None</td>\n",
       "    </tr>\n",
       "    <tr>\n",
       "      <th>147</th>\n",
       "      <td>147</td>\n",
       "      <td>HP Inc.</td>\n",
       "      <td>Dion Weisler</td>\n",
       "      <td>&lt;think&gt;\\nOkay, I need to figure out who the cu...</td>\n",
       "      <td>high</td>\n",
       "      <td>Okay, I need to figure out who the current CEO...</td>\n",
       "      <td>The current CEO of HP Inc. is **Enrique Lores*...</td>\n",
       "      <td>None</td>\n",
       "    </tr>\n",
       "    <tr>\n",
       "      <th>149</th>\n",
       "      <td>149</td>\n",
       "      <td>Caterpillar Inc.</td>\n",
       "      <td>Jim Umpleby</td>\n",
       "      <td>&lt;think&gt;\\nOkay, so I need to figure out who the...</td>\n",
       "      <td>High</td>\n",
       "      <td>Okay, so I need to figure out who the current ...</td>\n",
       "      <td>The current CEO of Caterpillar Inc. is D. Jame...</td>\n",
       "      <td>None</td>\n",
       "    </tr>\n",
       "    <tr>\n",
       "      <th>151</th>\n",
       "      <td>151</td>\n",
       "      <td>Orange Polska</td>\n",
       "      <td>Bruno Duthoit</td>\n",
       "      <td>&lt;think&gt;\\nOkay, so I need to figure out who the...</td>\n",
       "      <td>High</td>\n",
       "      <td>Okay, so I need to figure out who the current ...</td>\n",
       "      <td>The current CEO of Orange Polska is **Liudmila...</td>\n",
       "      <td>None</td>\n",
       "    </tr>\n",
       "    <tr>\n",
       "      <th>157</th>\n",
       "      <td>157</td>\n",
       "      <td>Alphabet Inc.</td>\n",
       "      <td>Sundar Pichai</td>\n",
       "      <td>&lt;think&gt;\\nOkay, so I need to figure out who the...</td>\n",
       "      <td>high</td>\n",
       "      <td>Okay, so I need to figure out who the current ...</td>\n",
       "      <td>The current CEO of Alphabet Inc. is **Sundar P...</td>\n",
       "      <td>None</td>\n",
       "    </tr>\n",
       "    <tr>\n",
       "      <th>159</th>\n",
       "      <td>159</td>\n",
       "      <td>ADA</td>\n",
       "      <td>Nicolas Rousselet</td>\n",
       "      <td>&lt;think&gt;\\nOkay, I need to figure out who the cu...</td>\n",
       "      <td>High</td>\n",
       "      <td>Okay, I need to figure out who the current CEO...</td>\n",
       "      <td>Charles D. \"Chuck\" Henderson is the current CE...</td>\n",
       "      <td>None</td>\n",
       "    </tr>\n",
       "    <tr>\n",
       "      <th>242</th>\n",
       "      <td>242</td>\n",
       "      <td>Novonesis</td>\n",
       "      <td>Ester Baiget</td>\n",
       "      <td>&lt;think&gt;\\nOkay, so I need to figure out who the...</td>\n",
       "      <td>high</td>\n",
       "      <td>Okay, so I need to figure out who the current ...</td>\n",
       "      <td>The current CEO of Novonesis is **Ester Baiget...</td>\n",
       "      <td>None</td>\n",
       "    </tr>\n",
       "    <tr>\n",
       "      <th>274</th>\n",
       "      <td>274</td>\n",
       "      <td>STMicroelectronics</td>\n",
       "      <td>Jean-Marc Chéry</td>\n",
       "      <td>&lt;think&gt;\\nOkay, I need to figure out who the cu...</td>\n",
       "      <td>medium</td>\n",
       "      <td>Okay, I need to figure out who the current CEO...</td>\n",
       "      <td>Jean-Marc Chéry is the current CEO of STMicroe...</td>\n",
       "      <td>None</td>\n",
       "    </tr>\n",
       "    <tr>\n",
       "      <th>303</th>\n",
       "      <td>303</td>\n",
       "      <td>Shell</td>\n",
       "      <td>Wael Sawan</td>\n",
       "      <td>&lt;think&gt;\\nOkay, I need to figure out who the cu...</td>\n",
       "      <td>High</td>\n",
       "      <td>Okay, I need to figure out who the current CEO...</td>\n",
       "      <td>The current CEO of Shell is **Wael Sawan**.  \\...</td>\n",
       "      <td>None</td>\n",
       "    </tr>\n",
       "    <tr>\n",
       "      <th>306</th>\n",
       "      <td>306</td>\n",
       "      <td>Generali Česká pojišťovna</td>\n",
       "      <td>Marek Jankovič</td>\n",
       "      <td>&lt;think&gt;\\nOkay, I need to figure out who the cu...</td>\n",
       "      <td>NaN</td>\n",
       "      <td>Okay, I need to figure out who the current CEO...</td>\n",
       "      <td>Roman Juráš</td>\n",
       "      <td>None</td>\n",
       "    </tr>\n",
       "    <tr>\n",
       "      <th>312</th>\n",
       "      <td>312</td>\n",
       "      <td>NKT Holding</td>\n",
       "      <td>Alexander Kara</td>\n",
       "      <td>&lt;think&gt;\\nAlright, I need to figure out who the...</td>\n",
       "      <td>High</td>\n",
       "      <td>Alright, I need to figure out who the current ...</td>\n",
       "      <td>The current CEO of NKT Holding is **Claes West...</td>\n",
       "      <td>None</td>\n",
       "    </tr>\n",
       "  </tbody>\n",
       "</table>\n",
       "</div>"
      ],
      "text/plain": [
       "     Unnamed: 0               companyLabel              ceoLabel  \\\n",
       "29           29                   Q9265848  Krzysztof Brzeziński   \n",
       "50           50                   Q3077586              Chen Rui   \n",
       "79           79          Songa Offshore SE       Bjørnar Iversen   \n",
       "133         133      Norwegian Air Shuttle          Geir Karlsen   \n",
       "143         143     Fortescue Metals Group      Elizabeth Gaines   \n",
       "147         147                    HP Inc.          Dion Weisler   \n",
       "149         149           Caterpillar Inc.           Jim Umpleby   \n",
       "151         151              Orange Polska         Bruno Duthoit   \n",
       "157         157              Alphabet Inc.         Sundar Pichai   \n",
       "159         159                        ADA     Nicolas Rousselet   \n",
       "242         242                  Novonesis          Ester Baiget   \n",
       "274         274         STMicroelectronics       Jean-Marc Chéry   \n",
       "303         303                      Shell            Wael Sawan   \n",
       "306         306  Generali Česká pojišťovna        Marek Jankovič   \n",
       "312         312                NKT Holding        Alexander Kara   \n",
       "\n",
       "                                            prediction confidence  \\\n",
       "29   <think>\\nOkay, so I need to figure out who the...        Low   \n",
       "50   <think>\\nOkay, so I need to figure out who the...        low   \n",
       "79   <think>\\nAlright, let's try to figure out who ...     medium   \n",
       "133  <think>\\nOkay, I need to figure out who the cu...       high   \n",
       "143  <think>\\nOkay, I need to figure out who the cu...       High   \n",
       "147  <think>\\nOkay, I need to figure out who the cu...       high   \n",
       "149  <think>\\nOkay, so I need to figure out who the...       High   \n",
       "151  <think>\\nOkay, so I need to figure out who the...       High   \n",
       "157  <think>\\nOkay, so I need to figure out who the...       high   \n",
       "159  <think>\\nOkay, I need to figure out who the cu...       High   \n",
       "242  <think>\\nOkay, so I need to figure out who the...       high   \n",
       "274  <think>\\nOkay, I need to figure out who the cu...     medium   \n",
       "303  <think>\\nOkay, I need to figure out who the cu...       High   \n",
       "306  <think>\\nOkay, I need to figure out who the cu...        NaN   \n",
       "312  <think>\\nAlright, I need to figure out who the...       High   \n",
       "\n",
       "                                          expalanation  \\\n",
       "29   Okay, so I need to figure out who the current ...   \n",
       "50   Okay, so I need to figure out who the current ...   \n",
       "79   Alright, let's try to figure out who the curre...   \n",
       "133  Okay, I need to figure out who the current CEO...   \n",
       "143  Okay, I need to figure out who the current CEO...   \n",
       "147  Okay, I need to figure out who the current CEO...   \n",
       "149  Okay, so I need to figure out who the current ...   \n",
       "151  Okay, so I need to figure out who the current ...   \n",
       "157  Okay, so I need to figure out who the current ...   \n",
       "159  Okay, I need to figure out who the current CEO...   \n",
       "242  Okay, so I need to figure out who the current ...   \n",
       "274  Okay, I need to figure out who the current CEO...   \n",
       "303  Okay, I need to figure out who the current CEO...   \n",
       "306  Okay, I need to figure out who the current CEO...   \n",
       "312  Alright, I need to figure out who the current ...   \n",
       "\n",
       "                                            pre_answer answer  \n",
       "29   The current CEO of Q9265848 cannot be determin...   None  \n",
       "50   The current CEO of Q3077586 cannot be determin...   None  \n",
       "79   The most recent information indicates that aft...   None  \n",
       "133  The current CEO of Norwegian Air Shuttle is **...   None  \n",
       "143  The current CEO of Fortescue Metals Group is *...   None  \n",
       "147  The current CEO of HP Inc. is **Enrique Lores*...   None  \n",
       "149  The current CEO of Caterpillar Inc. is D. Jame...   None  \n",
       "151  The current CEO of Orange Polska is **Liudmila...   None  \n",
       "157  The current CEO of Alphabet Inc. is **Sundar P...   None  \n",
       "159  Charles D. \"Chuck\" Henderson is the current CE...   None  \n",
       "242  The current CEO of Novonesis is **Ester Baiget...   None  \n",
       "274  Jean-Marc Chéry is the current CEO of STMicroe...   None  \n",
       "303  The current CEO of Shell is **Wael Sawan**.  \\...   None  \n",
       "306                                        Roman Juráš   None  \n",
       "312  The current CEO of NKT Holding is **Claes West...   None  "
      ]
     },
     "execution_count": 28,
     "metadata": {},
     "output_type": "execute_result"
    }
   ],
   "source": [
    "interm = resultant_dataframe[resultant_dataframe['answer'].isnull()]\n",
    "interm['answer']= interm['pre_answer'].apply(second_retrieve)\n",
    "interm[interm['answer'].isnull()]"
   ]
  },
  {
   "cell_type": "code",
   "execution_count": 29,
   "metadata": {},
   "outputs": [
    {
     "data": {
      "text/plain": [
       "21                 Elad Aharonson\n",
       "24              Charles W. Scharf\n",
       "29                           None\n",
       "34                  Peter Zaffino\n",
       "43              Damon T. Hininger\n",
       "                  ...            \n",
       "325               Helen Lofthouse\n",
       "333            Ignacio Madridejos\n",
       "335                 Jaime Ramirez\n",
       "336    Juan López-Belmonte Encina\n",
       "340                    Ömer Tetik\n",
       "Name: pre_answer, Length: 73, dtype: object"
      ]
     },
     "execution_count": 29,
     "metadata": {},
     "output_type": "execute_result"
    }
   ],
   "source": [
    "resultant_dataframe[resultant_dataframe['answer'].isnull()]['pre_answer'].apply(second_retrieve)"
   ]
  },
  {
   "cell_type": "code",
   "execution_count": 34,
   "metadata": {},
   "outputs": [
    {
     "data": {
      "text/plain": [
       "Index(['Unnamed: 0', 'companyLabel', 'ceoLabel', 'prediction', 'confidence',\n",
       "       'expalanation', 'pre_answer', 'answer'],\n",
       "      dtype='object')"
      ]
     },
     "execution_count": 34,
     "metadata": {},
     "output_type": "execute_result"
    }
   ],
   "source": [
    "resultant_dataframe.columns"
   ]
  },
  {
   "cell_type": "code",
   "execution_count": 35,
   "metadata": {},
   "outputs": [],
   "source": [
    "resultant_dataframe.drop(columns=['Unnamed: 0','prediction', 'confidence','expalanation']).to_csv(\"ceo_deepseek_with_web_processed.csv\",index=False)"
   ]
  },
  {
   "cell_type": "code",
   "execution_count": 42,
   "metadata": {},
   "outputs": [],
   "source": [
    "df=pd.read_csv(\"ceo_deepseek_with_web_processed.csv\")"
   ]
  },
  {
   "cell_type": "code",
   "execution_count": 43,
   "metadata": {},
   "outputs": [
    {
     "data": {
      "text/html": [
       "<div>\n",
       "<style scoped>\n",
       "    .dataframe tbody tr th:only-of-type {\n",
       "        vertical-align: middle;\n",
       "    }\n",
       "\n",
       "    .dataframe tbody tr th {\n",
       "        vertical-align: top;\n",
       "    }\n",
       "\n",
       "    .dataframe thead th {\n",
       "        text-align: right;\n",
       "    }\n",
       "</style>\n",
       "<table border=\"1\" class=\"dataframe\">\n",
       "  <thead>\n",
       "    <tr style=\"text-align: right;\">\n",
       "      <th></th>\n",
       "      <th>companyLabel</th>\n",
       "      <th>ceoLabel</th>\n",
       "      <th>pre_answer</th>\n",
       "      <th>answer</th>\n",
       "    </tr>\n",
       "  </thead>\n",
       "  <tbody>\n",
       "  </tbody>\n",
       "</table>\n",
       "</div>"
      ],
      "text/plain": [
       "Empty DataFrame\n",
       "Columns: [companyLabel, ceoLabel, pre_answer, answer]\n",
       "Index: []"
      ]
     },
     "execution_count": 43,
     "metadata": {},
     "output_type": "execute_result"
    }
   ],
   "source": [
    "df[df['answer'].isnull()]"
   ]
  },
  {
   "cell_type": "code",
   "execution_count": 265,
   "metadata": {},
   "outputs": [
    {
     "data": {
      "text/html": [
       "<div>\n",
       "<style scoped>\n",
       "    .dataframe tbody tr th:only-of-type {\n",
       "        vertical-align: middle;\n",
       "    }\n",
       "\n",
       "    .dataframe tbody tr th {\n",
       "        vertical-align: top;\n",
       "    }\n",
       "\n",
       "    .dataframe thead th {\n",
       "        text-align: right;\n",
       "    }\n",
       "</style>\n",
       "<table border=\"1\" class=\"dataframe\">\n",
       "  <thead>\n",
       "    <tr style=\"text-align: right;\">\n",
       "      <th></th>\n",
       "      <th>Unnamed: 0</th>\n",
       "      <th>companyLabel</th>\n",
       "      <th>ceoLabel</th>\n",
       "      <th>prediction</th>\n",
       "      <th>confidence</th>\n",
       "      <th>explanation</th>\n",
       "      <th>answer</th>\n",
       "    </tr>\n",
       "  </thead>\n",
       "  <tbody>\n",
       "    <tr>\n",
       "      <th>0</th>\n",
       "      <td>0</td>\n",
       "      <td>Nvidia</td>\n",
       "      <td>Jensen Huang</td>\n",
       "      <td>&lt;think&gt;\\nOkay, so I need to figure out who the...</td>\n",
       "      <td>High</td>\n",
       "      <td>Okay, so I need to figure out who the current ...</td>\n",
       "      <td>Jensen Huang.</td>\n",
       "    </tr>\n",
       "    <tr>\n",
       "      <th>3</th>\n",
       "      <td>3</td>\n",
       "      <td>Reliance Industries Limited</td>\n",
       "      <td>Mukesh Ambani</td>\n",
       "      <td>&lt;think&gt;\\nOkay, I need to figure out who the cu...</td>\n",
       "      <td>High</td>\n",
       "      <td>Okay, I need to figure out who the current CEO...</td>\n",
       "      <td>Mukesh D. Ambani</td>\n",
       "    </tr>\n",
       "    <tr>\n",
       "      <th>4</th>\n",
       "      <td>4</td>\n",
       "      <td>Frasers Group</td>\n",
       "      <td>Mike Ashley</td>\n",
       "      <td>&lt;think&gt;\\nOkay, I need to figure out who the cu...</td>\n",
       "      <td>High</td>\n",
       "      <td>Okay, I need to figure out who the current CEO...</td>\n",
       "      <td>correct.</td>\n",
       "    </tr>\n",
       "    <tr>\n",
       "      <th>5</th>\n",
       "      <td>5</td>\n",
       "      <td>Lazard</td>\n",
       "      <td>Peter R. Orszag</td>\n",
       "      <td>&lt;think&gt;\\nAlright, so I need to figure out who ...</td>\n",
       "      <td>High</td>\n",
       "      <td>Alright, so I need to figure out who the curre...</td>\n",
       "      <td>Peter Orszag</td>\n",
       "    </tr>\n",
       "    <tr>\n",
       "      <th>7</th>\n",
       "      <td>7</td>\n",
       "      <td>Lenovo</td>\n",
       "      <td>Yang Yuanqing</td>\n",
       "      <td>&lt;think&gt;\\nOkay, so I need to figure out who the...</td>\n",
       "      <td>High</td>\n",
       "      <td>Okay, so I need to figure out who the current ...</td>\n",
       "      <td>Yuanqing Yang.</td>\n",
       "    </tr>\n",
       "    <tr>\n",
       "      <th>...</th>\n",
       "      <td>...</td>\n",
       "      <td>...</td>\n",
       "      <td>...</td>\n",
       "      <td>...</td>\n",
       "      <td>...</td>\n",
       "      <td>...</td>\n",
       "      <td>...</td>\n",
       "    </tr>\n",
       "    <tr>\n",
       "      <th>339</th>\n",
       "      <td>339</td>\n",
       "      <td>Tessellis</td>\n",
       "      <td>Davide Rota</td>\n",
       "      <td>&lt;think&gt;\\nOkay, I need to figure out who the cu...</td>\n",
       "      <td>High</td>\n",
       "      <td>Okay, I need to figure out who the current CEO...</td>\n",
       "      <td>outdated since it refers to the founder, which...</td>\n",
       "    </tr>\n",
       "    <tr>\n",
       "      <th>340</th>\n",
       "      <td>340</td>\n",
       "      <td>Banca Transilvania</td>\n",
       "      <td>Ömer Tetik</td>\n",
       "      <td>&lt;think&gt;\\nAlright, so I need to figure out who ...</td>\n",
       "      <td>NaN</td>\n",
       "      <td>Alright, so I need to figure out who the curre...</td>\n",
       "      <td>None</td>\n",
       "    </tr>\n",
       "    <tr>\n",
       "      <th>342</th>\n",
       "      <td>342</td>\n",
       "      <td>Deutsche Post AG</td>\n",
       "      <td>Tobias Meyer</td>\n",
       "      <td>&lt;think&gt;\\nOkay, so I need to figure out who the...</td>\n",
       "      <td>high</td>\n",
       "      <td>Okay, so I need to figure out who the current ...</td>\n",
       "      <td>Dr. Tobias Meyer.</td>\n",
       "    </tr>\n",
       "    <tr>\n",
       "      <th>343</th>\n",
       "      <td>343</td>\n",
       "      <td>Intel</td>\n",
       "      <td>Michelle Johnston Holthaus</td>\n",
       "      <td>&lt;think&gt;\\nOkay, I need to figure out who the cu...</td>\n",
       "      <td>High</td>\n",
       "      <td>Okay, I need to figure out who the current CEO...</td>\n",
       "      <td>based on the provided search results. Let me g...</td>\n",
       "    </tr>\n",
       "    <tr>\n",
       "      <th>344</th>\n",
       "      <td>344</td>\n",
       "      <td>Commonwealth Bank</td>\n",
       "      <td>Donald Neil Sanders</td>\n",
       "      <td>&lt;think&gt;\\nOkay, so I need to figure out who the...</td>\n",
       "      <td>High</td>\n",
       "      <td>Okay, so I need to figure out who the current ...</td>\n",
       "      <td>Matt Comyn.</td>\n",
       "    </tr>\n",
       "  </tbody>\n",
       "</table>\n",
       "<p>314 rows × 7 columns</p>\n",
       "</div>"
      ],
      "text/plain": [
       "     Unnamed: 0                 companyLabel                    ceoLabel  \\\n",
       "0             0                       Nvidia                Jensen Huang   \n",
       "3             3  Reliance Industries Limited               Mukesh Ambani   \n",
       "4             4                Frasers Group                 Mike Ashley   \n",
       "5             5                       Lazard             Peter R. Orszag   \n",
       "7             7                       Lenovo               Yang Yuanqing   \n",
       "..          ...                          ...                         ...   \n",
       "339         339                    Tessellis                 Davide Rota   \n",
       "340         340           Banca Transilvania                  Ömer Tetik   \n",
       "342         342             Deutsche Post AG                Tobias Meyer   \n",
       "343         343                        Intel  Michelle Johnston Holthaus   \n",
       "344         344            Commonwealth Bank         Donald Neil Sanders   \n",
       "\n",
       "                                            prediction confidence  \\\n",
       "0    <think>\\nOkay, so I need to figure out who the...       High   \n",
       "3    <think>\\nOkay, I need to figure out who the cu...       High   \n",
       "4    <think>\\nOkay, I need to figure out who the cu...       High   \n",
       "5    <think>\\nAlright, so I need to figure out who ...       High   \n",
       "7    <think>\\nOkay, so I need to figure out who the...       High   \n",
       "..                                                 ...        ...   \n",
       "339  <think>\\nOkay, I need to figure out who the cu...       High   \n",
       "340  <think>\\nAlright, so I need to figure out who ...        NaN   \n",
       "342  <think>\\nOkay, so I need to figure out who the...       high   \n",
       "343  <think>\\nOkay, I need to figure out who the cu...       High   \n",
       "344  <think>\\nOkay, so I need to figure out who the...       High   \n",
       "\n",
       "                                           explanation  \\\n",
       "0    Okay, so I need to figure out who the current ...   \n",
       "3    Okay, I need to figure out who the current CEO...   \n",
       "4    Okay, I need to figure out who the current CEO...   \n",
       "5    Alright, so I need to figure out who the curre...   \n",
       "7    Okay, so I need to figure out who the current ...   \n",
       "..                                                 ...   \n",
       "339  Okay, I need to figure out who the current CEO...   \n",
       "340  Alright, so I need to figure out who the curre...   \n",
       "342  Okay, so I need to figure out who the current ...   \n",
       "343  Okay, I need to figure out who the current CEO...   \n",
       "344  Okay, so I need to figure out who the current ...   \n",
       "\n",
       "                                                answer  \n",
       "0                                        Jensen Huang.  \n",
       "3                                     Mukesh D. Ambani  \n",
       "4                                             correct.  \n",
       "5                                         Peter Orszag  \n",
       "7                                       Yuanqing Yang.  \n",
       "..                                                 ...  \n",
       "339  outdated since it refers to the founder, which...  \n",
       "340                                               None  \n",
       "342                                  Dr. Tobias Meyer.  \n",
       "343  based on the provided search results. Let me g...  \n",
       "344                                        Matt Comyn.  \n",
       "\n",
       "[314 rows x 7 columns]"
      ]
     },
     "execution_count": 265,
     "metadata": {},
     "output_type": "execute_result"
    }
   ],
   "source": [
    "resultant_dataframe[resultant_dataframe['ceoLabel']!=resultant_dataframe['answer']]"
   ]
  },
  {
   "cell_type": "code",
   "execution_count": 9,
   "metadata": {},
   "outputs": [
    {
     "name": "stderr",
     "output_type": "stream",
     "text": [
      "/root/autovu/venv/lib/python3.8/site-packages/fuzzywuzzy/fuzz.py:11: UserWarning: Using slow pure-python SequenceMatcher. Install python-Levenshtein to remove this warning\n",
      "  warnings.warn('Using slow pure-python SequenceMatcher. Install python-Levenshtein to remove this warning')\n"
     ]
    }
   ],
   "source": [
    "from entity_align import extract_answer"
   ]
  },
  {
   "cell_type": "code",
   "execution_count": 12,
   "metadata": {},
   "outputs": [],
   "source": [
    "from fuzzywuzzy import fuzz \n",
    "\n",
    "def rowwise_eval(row1, row2, threshold=75):\n",
    "    score = fuzz.ratio(str(row1).lower(), str(row2).lower())\n",
    "    return True if score >= threshold else False\n",
    "\n"
   ]
  },
  {
   "cell_type": "code",
   "execution_count": 1,
   "metadata": {},
   "outputs": [],
   "source": [
    "import pandas as pd \n",
    "\n",
    "deepseek = pd.read_csv('bank_governors_results_deepseek.csv')"
   ]
  },
  {
   "cell_type": "code",
   "execution_count": 2,
   "metadata": {},
   "outputs": [],
   "source": [
    "df_without_web_llama=pd.read_csv(\"bank_governors_results_without_web_llama.csv\")"
   ]
  },
  {
   "cell_type": "code",
   "execution_count": 3,
   "metadata": {},
   "outputs": [],
   "source": [
    "df_no_web_deepseek= pd.read_csv(\"bank_governors_results_without_web_deepseek.csv\")"
   ]
  },
  {
   "cell_type": "code",
   "execution_count": 4,
   "metadata": {},
   "outputs": [],
   "source": [
    "df_llama = pd.read_csv(\"bank_governors_results_llama.csv\")"
   ]
  },
  {
   "cell_type": "code",
   "execution_count": 5,
   "metadata": {},
   "outputs": [
    {
     "data": {
      "text/plain": [
       "0.9545454545454546"
      ]
     },
     "execution_count": 5,
     "metadata": {},
     "output_type": "execute_result"
    }
   ],
   "source": [
    "deepseek['eval'].mean()"
   ]
  },
  {
   "cell_type": "code",
   "execution_count": 6,
   "metadata": {},
   "outputs": [
    {
     "data": {
      "text/plain": [
       "0.5217391304347826"
      ]
     },
     "execution_count": 6,
     "metadata": {},
     "output_type": "execute_result"
    }
   ],
   "source": [
    "df_without_web_llama['eval'].mean()"
   ]
  },
  {
   "cell_type": "code",
   "execution_count": 7,
   "metadata": {},
   "outputs": [
    {
     "data": {
      "text/plain": [
       "0.5217391304347826"
      ]
     },
     "execution_count": 7,
     "metadata": {},
     "output_type": "execute_result"
    }
   ],
   "source": [
    "df_no_web_deepseek['eval'].mean()"
   ]
  },
  {
   "cell_type": "code",
   "execution_count": 8,
   "metadata": {},
   "outputs": [
    {
     "data": {
      "text/plain": [
       "0.9565217391304348"
      ]
     },
     "execution_count": 8,
     "metadata": {},
     "output_type": "execute_result"
    }
   ],
   "source": [
    "df_llama['eval'].mean()"
   ]
  },
  {
   "cell_type": "code",
   "execution_count": null,
   "metadata": {},
   "outputs": [],
   "source": [
    "# df_llama['eval'] = [\n",
    "#     rowwise_eval(a1, a2) if e1 is True else None\n",
    "#     for a1, a2, e1 in zip(df['answer'], df_llama['answer'], df['eval'])\n",
    "# ]\n"
   ]
  },
  {
   "cell_type": "code",
   "execution_count": null,
   "metadata": {},
   "outputs": [],
   "source": [
    "# df_without_web_llama['eval'] = [\n",
    "#     rowwise_eval(a1, a2) if e1 is True else None\n",
    "#     for a1, a2, e1 in zip(df['answer'], df_without_web_llama['answer'], df['eval'])\n",
    "# ]\n"
   ]
  },
  {
   "cell_type": "code",
   "execution_count": null,
   "metadata": {},
   "outputs": [],
   "source": [
    "# df_no_web_deepseek['eval'] = [\n",
    "#     rowwise_eval(a1, a2) if e1 is True else None\n",
    "#     for a1, a2, e1 in zip(df['answer'], df_no_web_deepseek['answer'], df['eval'])\n",
    "# ]\n"
   ]
  },
  {
   "cell_type": "code",
   "execution_count": 10,
   "metadata": {},
   "outputs": [
    {
     "data": {
      "text/html": [
       "<div>\n",
       "<style scoped>\n",
       "    .dataframe tbody tr th:only-of-type {\n",
       "        vertical-align: middle;\n",
       "    }\n",
       "\n",
       "    .dataframe tbody tr th {\n",
       "        vertical-align: top;\n",
       "    }\n",
       "\n",
       "    .dataframe thead th {\n",
       "        text-align: right;\n",
       "    }\n",
       "</style>\n",
       "<table border=\"1\" class=\"dataframe\">\n",
       "  <thead>\n",
       "    <tr style=\"text-align: right;\">\n",
       "      <th></th>\n",
       "      <th>companyLabel</th>\n",
       "      <th>ceoLabel</th>\n",
       "    </tr>\n",
       "  </thead>\n",
       "  <tbody>\n",
       "    <tr>\n",
       "      <th>0</th>\n",
       "      <td>Nvidia</td>\n",
       "      <td>Jensen Huang</td>\n",
       "    </tr>\n",
       "    <tr>\n",
       "      <th>1</th>\n",
       "      <td>BNP Paribas</td>\n",
       "      <td>Jean-Laurent Bonnafé</td>\n",
       "    </tr>\n",
       "    <tr>\n",
       "      <th>2</th>\n",
       "      <td>Block, Inc.</td>\n",
       "      <td>Jack Dorsey</td>\n",
       "    </tr>\n",
       "    <tr>\n",
       "      <th>3</th>\n",
       "      <td>Reliance Industries Limited</td>\n",
       "      <td>Mukesh Ambani</td>\n",
       "    </tr>\n",
       "    <tr>\n",
       "      <th>4</th>\n",
       "      <td>Frasers Group</td>\n",
       "      <td>Mike Ashley</td>\n",
       "    </tr>\n",
       "    <tr>\n",
       "      <th>...</th>\n",
       "      <td>...</td>\n",
       "      <td>...</td>\n",
       "    </tr>\n",
       "    <tr>\n",
       "      <th>340</th>\n",
       "      <td>Banca Transilvania</td>\n",
       "      <td>Ömer Tetik</td>\n",
       "    </tr>\n",
       "    <tr>\n",
       "      <th>341</th>\n",
       "      <td>Miniso</td>\n",
       "      <td>Ye Guofu</td>\n",
       "    </tr>\n",
       "    <tr>\n",
       "      <th>342</th>\n",
       "      <td>Deutsche Post AG</td>\n",
       "      <td>Tobias Meyer</td>\n",
       "    </tr>\n",
       "    <tr>\n",
       "      <th>343</th>\n",
       "      <td>Intel</td>\n",
       "      <td>Michelle Johnston Holthaus</td>\n",
       "    </tr>\n",
       "    <tr>\n",
       "      <th>344</th>\n",
       "      <td>Commonwealth Bank</td>\n",
       "      <td>Donald Neil Sanders</td>\n",
       "    </tr>\n",
       "  </tbody>\n",
       "</table>\n",
       "<p>345 rows × 2 columns</p>\n",
       "</div>"
      ],
      "text/plain": [
       "                    companyLabel                    ceoLabel\n",
       "0                         Nvidia                Jensen Huang\n",
       "1                    BNP Paribas        Jean-Laurent Bonnafé\n",
       "2                    Block, Inc.                 Jack Dorsey\n",
       "3    Reliance Industries Limited               Mukesh Ambani\n",
       "4                  Frasers Group                 Mike Ashley\n",
       "..                           ...                         ...\n",
       "340           Banca Transilvania                  Ömer Tetik\n",
       "341                       Miniso                    Ye Guofu\n",
       "342             Deutsche Post AG                Tobias Meyer\n",
       "343                        Intel  Michelle Johnston Holthaus\n",
       "344            Commonwealth Bank         Donald Neil Sanders\n",
       "\n",
       "[345 rows x 2 columns]"
      ]
     },
     "execution_count": 10,
     "metadata": {},
     "output_type": "execute_result"
    }
   ],
   "source": [
    "df = pd.read_csv('data/company_ceo_31-03.csv')\n",
    "df"
   ]
  },
  {
   "cell_type": "code",
   "execution_count": 18,
   "metadata": {},
   "outputs": [],
   "source": [
    "import pandas as pd\n",
    "df_llama=pd.read_csv(\"results/comp_ceo_results_llama.csv\")\n",
    "df_deepseek=pd.read_csv(\"results/ceo_deepseek_with_web_processed.csv\")\n",
    "df_no_web_deepseek=pd.read_csv(\"results/comp_ceo_results_without_web_deepseek.csv\")\n",
    "df_no_web_llama=pd.read_csv(\"results/comp_ceo_results_without_web_llama.csv\")"
   ]
  },
  {
   "cell_type": "code",
   "execution_count": 6,
   "metadata": {},
   "outputs": [
    {
     "data": {
      "text/plain": [
       "0.4378698224852071"
      ]
     },
     "execution_count": 6,
     "metadata": {},
     "output_type": "execute_result"
    }
   ],
   "source": [
    "df_no_web_deepseek['eval'].mean()"
   ]
  },
  {
   "cell_type": "code",
   "execution_count": 7,
   "metadata": {},
   "outputs": [
    {
     "data": {
      "text/plain": [
       "0.9260355029585798"
      ]
     },
     "execution_count": 7,
     "metadata": {},
     "output_type": "execute_result"
    }
   ],
   "source": [
    "df_deepseek['eval'].mean()"
   ]
  },
  {
   "cell_type": "code",
   "execution_count": 8,
   "metadata": {},
   "outputs": [
    {
     "data": {
      "text/plain": [
       "0.8668639053254438"
      ]
     },
     "execution_count": 8,
     "metadata": {},
     "output_type": "execute_result"
    }
   ],
   "source": [
    "df_llama['eval'].mean()"
   ]
  },
  {
   "cell_type": "code",
   "execution_count": 23,
   "metadata": {},
   "outputs": [],
   "source": [
    "from entity_align import extract_answer"
   ]
  },
  {
   "cell_type": "code",
   "execution_count": null,
   "metadata": {},
   "outputs": [],
   "source": [
    "#df_no_web_llama['eval'] = df_no_web_llama['eval'].map({'True': True, 'False': False})"
   ]
  },
  {
   "cell_type": "code",
   "execution_count": 9,
   "metadata": {},
   "outputs": [
    {
     "data": {
      "text/plain": [
       "0.456973293768546"
      ]
     },
     "execution_count": 9,
     "metadata": {},
     "output_type": "execute_result"
    }
   ],
   "source": [
    "df_no_web_llama['eval'].mean()"
   ]
  },
  {
   "cell_type": "code",
   "execution_count": null,
   "metadata": {},
   "outputs": [],
   "source": [
    "# # Step 1: Merge df and df_llama based on 'answer'\n",
    "# df_ref = df_deepseek[['companyLabel']]  # or whichever columns you want to align\n",
    "# df_llama_aligned = df_ref.merge(df_llama[['answer', 'eval', 'companyLabel']], on='companyLabel', how='left')"
   ]
  },
  {
   "cell_type": "code",
   "execution_count": null,
   "metadata": {},
   "outputs": [
    {
     "data": {
      "text/html": [
       "<div>\n",
       "<style scoped>\n",
       "    .dataframe tbody tr th:only-of-type {\n",
       "        vertical-align: middle;\n",
       "    }\n",
       "\n",
       "    .dataframe tbody tr th {\n",
       "        vertical-align: top;\n",
       "    }\n",
       "\n",
       "    .dataframe thead th {\n",
       "        text-align: right;\n",
       "    }\n",
       "</style>\n",
       "<table border=\"1\" class=\"dataframe\">\n",
       "  <thead>\n",
       "    <tr style=\"text-align: right;\">\n",
       "      <th></th>\n",
       "      <th>companyLabel</th>\n",
       "      <th>answer</th>\n",
       "      <th>eval</th>\n",
       "    </tr>\n",
       "  </thead>\n",
       "  <tbody>\n",
       "    <tr>\n",
       "      <th>36</th>\n",
       "      <td>Q24941022</td>\n",
       "      <td>NaN</td>\n",
       "      <td>NaN</td>\n",
       "    </tr>\n",
       "    <tr>\n",
       "      <th>57</th>\n",
       "      <td>Q34120381</td>\n",
       "      <td>NaN</td>\n",
       "      <td>NaN</td>\n",
       "    </tr>\n",
       "    <tr>\n",
       "      <th>97</th>\n",
       "      <td>Tampella</td>\n",
       "      <td>NaN</td>\n",
       "      <td>NaN</td>\n",
       "    </tr>\n",
       "    <tr>\n",
       "      <th>189</th>\n",
       "      <td>Mylan</td>\n",
       "      <td>NaN</td>\n",
       "      <td>NaN</td>\n",
       "    </tr>\n",
       "  </tbody>\n",
       "</table>\n",
       "</div>"
      ],
      "text/plain": [
       "    companyLabel answer eval\n",
       "36     Q24941022    NaN  NaN\n",
       "57     Q34120381    NaN  NaN\n",
       "97      Tampella    NaN  NaN\n",
       "189        Mylan    NaN  NaN"
      ]
     },
     "execution_count": 8,
     "metadata": {},
     "output_type": "execute_result"
    }
   ],
   "source": [
    "# df_llama_aligned[df_llama_aligned['answer'].isnull()]"
   ]
  },
  {
   "cell_type": "code",
   "execution_count": 68,
   "metadata": {},
   "outputs": [],
   "source": [
    "df_with_web = pd.read_csv(\"national_football_teams_results_llama.csv\")"
   ]
  },
  {
   "cell_type": "code",
   "execution_count": 70,
   "metadata": {},
   "outputs": [
    {
     "data": {
      "text/plain": [
       "0.7959183673469388"
      ]
     },
     "execution_count": 70,
     "metadata": {},
     "output_type": "execute_result"
    }
   ],
   "source": [
    "df_with_web['eval'].mean()"
   ]
  },
  {
   "cell_type": "code",
   "execution_count": 73,
   "metadata": {},
   "outputs": [],
   "source": [
    "df_no_web = pd.read_csv(\"national_football_teams_no_web_results_llama.csv\")"
   ]
  },
  {
   "cell_type": "code",
   "execution_count": 74,
   "metadata": {},
   "outputs": [
    {
     "data": {
      "text/plain": [
       "0.08163265306122448"
      ]
     },
     "execution_count": 74,
     "metadata": {},
     "output_type": "execute_result"
    }
   ],
   "source": [
    "df_no_web['eval'].mean()"
   ]
  },
  {
   "cell_type": "code",
   "execution_count": 1,
   "metadata": {},
   "outputs": [
    {
     "name": "stderr",
     "output_type": "stream",
     "text": [
      "/root/autovu/autovu.py:35: LangChainDeprecationWarning: The class `ChatOpenAI` was deprecated in LangChain 0.0.10 and will be removed in 1.0. An updated version of the class exists in the langchain-openai package and should be used instead. To use it run `pip install -U langchain-openai` and import as `from langchain_openai import ChatOpenAI`.\n",
      "  llm = ChatOpenAI(\n"
     ]
    }
   ],
   "source": [
    "from autovu import answer_with_gpt"
   ]
  },
  {
   "cell_type": "code",
   "execution_count": 2,
   "metadata": {},
   "outputs": [
    {
     "data": {
      "text/plain": [
       "'Answer: Lip-Bu Tan\\nConfidence: high\\nReference: https://en.wikipedia.org/wiki/Pat_Gelsinger '"
      ]
     },
     "execution_count": 2,
     "metadata": {},
     "output_type": "execute_result"
    }
   ],
   "source": [
    "answer_with_gpt(\"Who is the current CEO of Intel?\")"
   ]
  },
  {
   "cell_type": "code",
   "execution_count": 7,
   "metadata": {},
   "outputs": [],
   "source": [
    "import pandas as pd\n",
    "\n",
    "df = pd.read_csv(\"company_ceo_31-03_results_gpt.csv\")"
   ]
  },
  {
   "cell_type": "code",
   "execution_count": null,
   "metadata": {},
   "outputs": [],
   "source": [
    "# import pandas as pd\n",
    "# import re\n",
    "\n",
    "# def extract_fields(text):\n",
    "#     pattern = (\n",
    "#         r\"Answer:\\s*(?P<answer>.*?)\\s*\"\n",
    "#         r\"Confidence:\\s*(?P<confidence>.*?)\\s*\"\n",
    "#         r\"Reference:\\s*(?P<reference>.*?)\\s*$\"\n",
    "#     )\n",
    "#     match = re.search(pattern, text, re.DOTALL)\n",
    "#     if match:\n",
    "#         return match.group(\"answer\"), match.group(\"confidence\"), match.group(\"reference\")\n",
    "#     else:\n",
    "#         return None, None, None\n",
    "\n",
    "# df[['answer', 'confidence', 'reference']] = df['prediction'].astype(str).apply(\n",
    "#     lambda x: pd.Series(extract_fields(x))\n",
    "# )"
   ]
  },
  {
   "cell_type": "code",
   "execution_count": null,
   "metadata": {},
   "outputs": [],
   "source": [
    "#df.to_csv(\"company_ceo_31-03_results_gpt.csv\", index=False)"
   ]
  },
  {
   "cell_type": "code",
   "execution_count": null,
   "metadata": {},
   "outputs": [],
   "source": [
    "# df['eval'] = [\n",
    "#     rowwise_eval(a1, a2) if e1 is True else None\n",
    "#     for a1, a2, e1 in zip(df_llama['answer'], df['answer'], df_llama['eval'])\n",
    "# ]\n"
   ]
  },
  {
   "cell_type": "code",
   "execution_count": 8,
   "metadata": {},
   "outputs": [
    {
     "data": {
      "text/html": [
       "<div>\n",
       "<style scoped>\n",
       "    .dataframe tbody tr th:only-of-type {\n",
       "        vertical-align: middle;\n",
       "    }\n",
       "\n",
       "    .dataframe tbody tr th {\n",
       "        vertical-align: top;\n",
       "    }\n",
       "\n",
       "    .dataframe thead th {\n",
       "        text-align: right;\n",
       "    }\n",
       "</style>\n",
       "<table border=\"1\" class=\"dataframe\">\n",
       "  <thead>\n",
       "    <tr style=\"text-align: right;\">\n",
       "      <th></th>\n",
       "      <th>companyLabel</th>\n",
       "      <th>ceoLabel</th>\n",
       "      <th>confidence</th>\n",
       "      <th>answer</th>\n",
       "      <th>eval</th>\n",
       "      <th>reference</th>\n",
       "    </tr>\n",
       "  </thead>\n",
       "  <tbody>\n",
       "    <tr>\n",
       "      <th>13</th>\n",
       "      <td>21st Century Fox</td>\n",
       "      <td>James Murdoch</td>\n",
       "      <td>high</td>\n",
       "      <td>James Murdoch</td>\n",
       "      <td>False</td>\n",
       "      <td>([cnas.org](https://www.cnas.org/press/press-r...</td>\n",
       "    </tr>\n",
       "    <tr>\n",
       "      <th>14</th>\n",
       "      <td>Sears</td>\n",
       "      <td>Eddie Lampert</td>\n",
       "      <td>high</td>\n",
       "      <td>Eddie Lampert</td>\n",
       "      <td>False</td>\n",
       "      <td>([moneyinc.com](https://moneyinc.com/sears-ceo...</td>\n",
       "    </tr>\n",
       "    <tr>\n",
       "      <th>42</th>\n",
       "      <td>SalMar</td>\n",
       "      <td>Gustav Witzøe</td>\n",
       "      <td>High</td>\n",
       "      <td>Frode Arntsen</td>\n",
       "      <td>False</td>\n",
       "      <td>([seekingalpha.com](https://seekingalpha.com/a...</td>\n",
       "    </tr>\n",
       "    <tr>\n",
       "      <th>43</th>\n",
       "      <td>Odakyu Electric Railway</td>\n",
       "      <td>Kōji Hoshino</td>\n",
       "      <td>high</td>\n",
       "      <td>Koji Hoshino</td>\n",
       "      <td>False</td>\n",
       "      <td>([financecharts.com](https://www.financecharts...</td>\n",
       "    </tr>\n",
       "    <tr>\n",
       "      <th>86</th>\n",
       "      <td>Rotem Shani</td>\n",
       "      <td>Q17522859</td>\n",
       "      <td>high</td>\n",
       "      <td>Yehuda Yedidia</td>\n",
       "      <td>False</td>\n",
       "      <td>([marketscreener.com](https://www.marketscreen...</td>\n",
       "    </tr>\n",
       "    <tr>\n",
       "      <th>96</th>\n",
       "      <td>Imperial Hotel</td>\n",
       "      <td>Hideya Sadayasu</td>\n",
       "      <td>high</td>\n",
       "      <td>Hideya Sadayasu</td>\n",
       "      <td>False</td>\n",
       "      <td>([imperialhotel.co.jp](https://www.imperialhot...</td>\n",
       "    </tr>\n",
       "    <tr>\n",
       "      <th>107</th>\n",
       "      <td>Maggie Beer Holdings</td>\n",
       "      <td>Laura McBain</td>\n",
       "      <td>medium</td>\n",
       "      <td>Kinda Grange</td>\n",
       "      <td>False</td>\n",
       "      <td>([foodanddrinkbusiness.com.au](https://www.foo...</td>\n",
       "    </tr>\n",
       "    <tr>\n",
       "      <th>117</th>\n",
       "      <td>Homeserve</td>\n",
       "      <td>Richard Harpin</td>\n",
       "      <td>high</td>\n",
       "      <td>Richard Harpin</td>\n",
       "      <td>False</td>\n",
       "      <td>([en.wikipedia.org](https://en.wikipedia.org/w...</td>\n",
       "    </tr>\n",
       "    <tr>\n",
       "      <th>136</th>\n",
       "      <td>Nokia</td>\n",
       "      <td>Björn Westerlund</td>\n",
       "      <td>high</td>\n",
       "      <td>Pekka Lundmark</td>\n",
       "      <td>False</td>\n",
       "      <td>([fortune.com](https://fortune.com/europe/2023...</td>\n",
       "    </tr>\n",
       "    <tr>\n",
       "      <th>138</th>\n",
       "      <td>KGHM Polska Miedź</td>\n",
       "      <td>Radosław Domagalski-Łabędzki</td>\n",
       "      <td>High</td>\n",
       "      <td>Tomasz Zdzikot</td>\n",
       "      <td>False</td>\n",
       "      <td>([minexforum.com](https://minexforum.com/2023/...</td>\n",
       "    </tr>\n",
       "    <tr>\n",
       "      <th>143</th>\n",
       "      <td>Caterpillar Inc.</td>\n",
       "      <td>Jim Umpleby</td>\n",
       "      <td>high</td>\n",
       "      <td>Joseph E. Creed</td>\n",
       "      <td>False</td>\n",
       "      <td>([reuters.com](https://www.reuters.com/busines...</td>\n",
       "    </tr>\n",
       "    <tr>\n",
       "      <th>144</th>\n",
       "      <td>Hurtigruten Group</td>\n",
       "      <td>Daniel Skjeldam</td>\n",
       "      <td>high</td>\n",
       "      <td>Daniel Skjeldam</td>\n",
       "      <td>False</td>\n",
       "      <td>([en.wikipedia.org](https://en.wikipedia.org/w...</td>\n",
       "    </tr>\n",
       "    <tr>\n",
       "      <th>146</th>\n",
       "      <td>UNIMEX GROUP, uzavřený investiční fond</td>\n",
       "      <td>Jiří Šimáně</td>\n",
       "      <td>NaN</td>\n",
       "      <td>NaN</td>\n",
       "      <td>False</td>\n",
       "      <td>NaN</td>\n",
       "    </tr>\n",
       "    <tr>\n",
       "      <th>153</th>\n",
       "      <td>ADA</td>\n",
       "      <td>Nicolas Rousselet</td>\n",
       "      <td>High</td>\n",
       "      <td>Charles D. Henderson</td>\n",
       "      <td>False</td>\n",
       "      <td>([diabetes.org](https://diabetes.org/newsroom/...</td>\n",
       "    </tr>\n",
       "    <tr>\n",
       "      <th>156</th>\n",
       "      <td>Fiat Chrysler Automobiles</td>\n",
       "      <td>Michael Manley</td>\n",
       "      <td>high</td>\n",
       "      <td>Carlos Tavares</td>\n",
       "      <td>False</td>\n",
       "      <td>([apnews.com](https://apnews.com/article/6a882...</td>\n",
       "    </tr>\n",
       "    <tr>\n",
       "      <th>161</th>\n",
       "      <td>FNC Entertainment</td>\n",
       "      <td>Han Sung-ho</td>\n",
       "      <td>high</td>\n",
       "      <td>Han Seong-ho and Kim Yoo-sik</td>\n",
       "      <td>False</td>\n",
       "      <td>([wowkorea.live](https://www.wowkorea.live/dis...</td>\n",
       "    </tr>\n",
       "    <tr>\n",
       "      <th>190</th>\n",
       "      <td>PetroChina Company Limited</td>\n",
       "      <td>Zhou Jiping</td>\n",
       "      <td>high</td>\n",
       "      <td>Wang Dongjin</td>\n",
       "      <td>False</td>\n",
       "      <td>([businesschief.com](https://businesschief.com...</td>\n",
       "    </tr>\n",
       "    <tr>\n",
       "      <th>201</th>\n",
       "      <td>Endeavor Group Holdings, Inc.</td>\n",
       "      <td>Patrick Whitesell</td>\n",
       "      <td>high</td>\n",
       "      <td>Mark Shapiro</td>\n",
       "      <td>False</td>\n",
       "      <td>([ft.com](https://www.ft.com/content/680aec89-...</td>\n",
       "    </tr>\n",
       "    <tr>\n",
       "      <th>202</th>\n",
       "      <td>Orlen Unipetrol</td>\n",
       "      <td>Andrzej Modrzejewski</td>\n",
       "      <td>High</td>\n",
       "      <td>Tomasz Wiatrak</td>\n",
       "      <td>False</td>\n",
       "      <td>([expats.cz](https://www.expats.cz/czech-news/...</td>\n",
       "    </tr>\n",
       "    <tr>\n",
       "      <th>207</th>\n",
       "      <td>SVB Financial Group</td>\n",
       "      <td>Greg Becker</td>\n",
       "      <td>High</td>\n",
       "      <td>SVB Financial Trust does not have a CEO.</td>\n",
       "      <td>False</td>\n",
       "      <td>([reuters.com](https://www.reuters.com/legal/s...</td>\n",
       "    </tr>\n",
       "    <tr>\n",
       "      <th>216</th>\n",
       "      <td>Powszechny Zakład Ubezpieczeń</td>\n",
       "      <td>Paweł Surowka</td>\n",
       "      <td>High</td>\n",
       "      <td>Artur Olech</td>\n",
       "      <td>False</td>\n",
       "      <td>([simplywall.st](https://simplywall.st/stocks/...</td>\n",
       "    </tr>\n",
       "    <tr>\n",
       "      <th>220</th>\n",
       "      <td>Repsol Oil &amp; Gas Canada</td>\n",
       "      <td>James Buckee</td>\n",
       "      <td>high</td>\n",
       "      <td>Luis Cabra Dueñas</td>\n",
       "      <td>False</td>\n",
       "      <td>([biography.omicsonline.org](https://biography...</td>\n",
       "    </tr>\n",
       "    <tr>\n",
       "      <th>231</th>\n",
       "      <td>HSBC</td>\n",
       "      <td>John Flint</td>\n",
       "      <td>NaN</td>\n",
       "      <td>NaN</td>\n",
       "      <td>False</td>\n",
       "      <td>NaN</td>\n",
       "    </tr>\n",
       "    <tr>\n",
       "      <th>232</th>\n",
       "      <td>Groupe Bull</td>\n",
       "      <td>Pierre Barnabé</td>\n",
       "      <td>high</td>\n",
       "      <td>Pierre Barnabé</td>\n",
       "      <td>False</td>\n",
       "      <td>([fr.wikipedia.org](https://fr.wikipedia.org/w...</td>\n",
       "    </tr>\n",
       "    <tr>\n",
       "      <th>270</th>\n",
       "      <td>Hardwario</td>\n",
       "      <td>Alan Fabik</td>\n",
       "      <td>low</td>\n",
       "      <td>I am unable to find information on the current...</td>\n",
       "      <td>False</td>\n",
       "      <td>NaN</td>\n",
       "    </tr>\n",
       "    <tr>\n",
       "      <th>287</th>\n",
       "      <td>East Japan Railway Company</td>\n",
       "      <td>Yōichi Kise</td>\n",
       "      <td>high</td>\n",
       "      <td>Yuji Fukasawa</td>\n",
       "      <td>False</td>\n",
       "      <td>([marketscreener.com](https://www.marketscreen...</td>\n",
       "    </tr>\n",
       "    <tr>\n",
       "      <th>293</th>\n",
       "      <td>Wolfspeed</td>\n",
       "      <td>Gregg Lowe</td>\n",
       "      <td>High</td>\n",
       "      <td>Thomas Werner</td>\n",
       "      <td>False</td>\n",
       "      <td>([carolinajournal.com](https://www.carolinajou...</td>\n",
       "    </tr>\n",
       "    <tr>\n",
       "      <th>311</th>\n",
       "      <td>WiseTech Global Limited</td>\n",
       "      <td>Richard White</td>\n",
       "      <td>high</td>\n",
       "      <td>Richard White</td>\n",
       "      <td>False</td>\n",
       "      <td>([reuters.com](https://www.reuters.com/technol...</td>\n",
       "    </tr>\n",
       "    <tr>\n",
       "      <th>328</th>\n",
       "      <td>Fluidra</td>\n",
       "      <td>Jaime Ramírez</td>\n",
       "      <td>high</td>\n",
       "      <td>Bruce Brooks</td>\n",
       "      <td>False</td>\n",
       "      <td>([seekingalpha.com](https://seekingalpha.com/a...</td>\n",
       "    </tr>\n",
       "    <tr>\n",
       "      <th>329</th>\n",
       "      <td>Rovi</td>\n",
       "      <td>Juan López-Belmonte Encina</td>\n",
       "      <td>high</td>\n",
       "      <td>Thomas Carson</td>\n",
       "      <td>False</td>\n",
       "      <td>([seekingalpha.com](https://seekingalpha.com/n...</td>\n",
       "    </tr>\n",
       "  </tbody>\n",
       "</table>\n",
       "</div>"
      ],
      "text/plain": [
       "                               companyLabel                      ceoLabel  \\\n",
       "13                         21st Century Fox                 James Murdoch   \n",
       "14                                    Sears                 Eddie Lampert   \n",
       "42                                   SalMar                 Gustav Witzøe   \n",
       "43                  Odakyu Electric Railway                  Kōji Hoshino   \n",
       "86                              Rotem Shani                     Q17522859   \n",
       "96                           Imperial Hotel               Hideya Sadayasu   \n",
       "107                    Maggie Beer Holdings                  Laura McBain   \n",
       "117                               Homeserve                Richard Harpin   \n",
       "136                                   Nokia              Björn Westerlund   \n",
       "138                       KGHM Polska Miedź  Radosław Domagalski-Łabędzki   \n",
       "143                        Caterpillar Inc.                   Jim Umpleby   \n",
       "144                       Hurtigruten Group               Daniel Skjeldam   \n",
       "146  UNIMEX GROUP, uzavřený investiční fond                   Jiří Šimáně   \n",
       "153                                     ADA             Nicolas Rousselet   \n",
       "156               Fiat Chrysler Automobiles                Michael Manley   \n",
       "161                       FNC Entertainment                   Han Sung-ho   \n",
       "190              PetroChina Company Limited                   Zhou Jiping   \n",
       "201           Endeavor Group Holdings, Inc.             Patrick Whitesell   \n",
       "202                         Orlen Unipetrol          Andrzej Modrzejewski   \n",
       "207                     SVB Financial Group                   Greg Becker   \n",
       "216           Powszechny Zakład Ubezpieczeń                 Paweł Surowka   \n",
       "220                 Repsol Oil & Gas Canada                  James Buckee   \n",
       "231                                    HSBC                    John Flint   \n",
       "232                             Groupe Bull                Pierre Barnabé   \n",
       "270                               Hardwario                    Alan Fabik   \n",
       "287              East Japan Railway Company                   Yōichi Kise   \n",
       "293                               Wolfspeed                    Gregg Lowe   \n",
       "311                 WiseTech Global Limited                 Richard White   \n",
       "328                                 Fluidra                 Jaime Ramírez   \n",
       "329                                    Rovi    Juan López-Belmonte Encina   \n",
       "\n",
       "    confidence                                             answer   eval  \\\n",
       "13        high                                      James Murdoch  False   \n",
       "14        high                                      Eddie Lampert  False   \n",
       "42        High                                      Frode Arntsen  False   \n",
       "43        high                                       Koji Hoshino  False   \n",
       "86        high                                     Yehuda Yedidia  False   \n",
       "96        high                                    Hideya Sadayasu  False   \n",
       "107     medium                                       Kinda Grange  False   \n",
       "117       high                                     Richard Harpin  False   \n",
       "136       high                                     Pekka Lundmark  False   \n",
       "138       High                                     Tomasz Zdzikot  False   \n",
       "143       high                                    Joseph E. Creed  False   \n",
       "144       high                                    Daniel Skjeldam  False   \n",
       "146        NaN                                                NaN  False   \n",
       "153       High                               Charles D. Henderson  False   \n",
       "156       high                                     Carlos Tavares  False   \n",
       "161       high                       Han Seong-ho and Kim Yoo-sik  False   \n",
       "190       high                                       Wang Dongjin  False   \n",
       "201       high                                       Mark Shapiro  False   \n",
       "202       High                                     Tomasz Wiatrak  False   \n",
       "207       High           SVB Financial Trust does not have a CEO.  False   \n",
       "216       High                                        Artur Olech  False   \n",
       "220       high                                  Luis Cabra Dueñas  False   \n",
       "231        NaN                                                NaN  False   \n",
       "232       high                                     Pierre Barnabé  False   \n",
       "270        low  I am unable to find information on the current...  False   \n",
       "287       high                                      Yuji Fukasawa  False   \n",
       "293       High                                      Thomas Werner  False   \n",
       "311       high                                      Richard White  False   \n",
       "328       high                                       Bruce Brooks  False   \n",
       "329       high                                      Thomas Carson  False   \n",
       "\n",
       "                                             reference  \n",
       "13   ([cnas.org](https://www.cnas.org/press/press-r...  \n",
       "14   ([moneyinc.com](https://moneyinc.com/sears-ceo...  \n",
       "42   ([seekingalpha.com](https://seekingalpha.com/a...  \n",
       "43   ([financecharts.com](https://www.financecharts...  \n",
       "86   ([marketscreener.com](https://www.marketscreen...  \n",
       "96   ([imperialhotel.co.jp](https://www.imperialhot...  \n",
       "107  ([foodanddrinkbusiness.com.au](https://www.foo...  \n",
       "117  ([en.wikipedia.org](https://en.wikipedia.org/w...  \n",
       "136  ([fortune.com](https://fortune.com/europe/2023...  \n",
       "138  ([minexforum.com](https://minexforum.com/2023/...  \n",
       "143  ([reuters.com](https://www.reuters.com/busines...  \n",
       "144  ([en.wikipedia.org](https://en.wikipedia.org/w...  \n",
       "146                                                NaN  \n",
       "153  ([diabetes.org](https://diabetes.org/newsroom/...  \n",
       "156  ([apnews.com](https://apnews.com/article/6a882...  \n",
       "161  ([wowkorea.live](https://www.wowkorea.live/dis...  \n",
       "190  ([businesschief.com](https://businesschief.com...  \n",
       "201  ([ft.com](https://www.ft.com/content/680aec89-...  \n",
       "202  ([expats.cz](https://www.expats.cz/czech-news/...  \n",
       "207  ([reuters.com](https://www.reuters.com/legal/s...  \n",
       "216  ([simplywall.st](https://simplywall.st/stocks/...  \n",
       "220  ([biography.omicsonline.org](https://biography...  \n",
       "231                                                NaN  \n",
       "232  ([fr.wikipedia.org](https://fr.wikipedia.org/w...  \n",
       "270                                                NaN  \n",
       "287  ([marketscreener.com](https://www.marketscreen...  \n",
       "293  ([carolinajournal.com](https://www.carolinajou...  \n",
       "311  ([reuters.com](https://www.reuters.com/technol...  \n",
       "328  ([seekingalpha.com](https://seekingalpha.com/a...  \n",
       "329  ([seekingalpha.com](https://seekingalpha.com/n...  "
      ]
     },
     "execution_count": 8,
     "metadata": {},
     "output_type": "execute_result"
    }
   ],
   "source": [
    "df[df['eval']==False]"
   ]
  },
  {
   "cell_type": "code",
   "execution_count": 9,
   "metadata": {},
   "outputs": [
    {
     "data": {
      "text/plain": [
       "0.9112426035502958"
      ]
     },
     "execution_count": 9,
     "metadata": {},
     "output_type": "execute_result"
    }
   ],
   "source": [
    "df['eval'].mean()"
   ]
  },
  {
   "cell_type": "code",
   "execution_count": null,
   "metadata": {},
   "outputs": [],
   "source": [
    "#df.to_csv(\"company_ceo_31-03_results_gpt.csv\", index=False)"
   ]
  },
  {
   "cell_type": "code",
   "execution_count": 16,
   "metadata": {},
   "outputs": [],
   "source": [
    "import pandas as pd\n",
    "df_llama=pd.read_csv(\"results/comp_ceo_results_llama.csv\")\n",
    "df_deepseek=pd.read_csv(\"results/ceo_deepseek_with_web_processed.csv\")"
   ]
  },
  {
   "cell_type": "code",
   "execution_count": null,
   "metadata": {},
   "outputs": [],
   "source": [
    "from entity_align import fuzzy_match\n",
    "\n",
    "\n",
    "#df_deepseek['outdated'] = df_deepseek.apply(lambda x: not(fuzzy_match(x['ceoLabel'], x['answer'])) if x['eval'] else None, axis=1)"
   ]
  },
  {
   "cell_type": "code",
   "execution_count": 17,
   "metadata": {},
   "outputs": [
    {
     "data": {
      "text/html": [
       "<div>\n",
       "<style scoped>\n",
       "    .dataframe tbody tr th:only-of-type {\n",
       "        vertical-align: middle;\n",
       "    }\n",
       "\n",
       "    .dataframe tbody tr th {\n",
       "        vertical-align: top;\n",
       "    }\n",
       "\n",
       "    .dataframe thead th {\n",
       "        text-align: right;\n",
       "    }\n",
       "</style>\n",
       "<table border=\"1\" class=\"dataframe\">\n",
       "  <thead>\n",
       "    <tr style=\"text-align: right;\">\n",
       "      <th></th>\n",
       "      <th>companyLabel</th>\n",
       "      <th>ceoLabel</th>\n",
       "      <th>pre_answer</th>\n",
       "      <th>answer</th>\n",
       "      <th>eval</th>\n",
       "      <th>outdated</th>\n",
       "    </tr>\n",
       "  </thead>\n",
       "  <tbody>\n",
       "  </tbody>\n",
       "</table>\n",
       "</div>"
      ],
      "text/plain": [
       "Empty DataFrame\n",
       "Columns: [companyLabel, ceoLabel, pre_answer, answer, eval, outdated]\n",
       "Index: []"
      ]
     },
     "execution_count": 17,
     "metadata": {},
     "output_type": "execute_result"
    }
   ],
   "source": [
    "df_deepseek[df_deepseek['outdated'].isnull()]"
   ]
  },
  {
   "cell_type": "code",
   "execution_count": 19,
   "metadata": {},
   "outputs": [
    {
     "data": {
      "text/plain": [
       "0.46449704142011833"
      ]
     },
     "execution_count": 19,
     "metadata": {},
     "output_type": "execute_result"
    }
   ],
   "source": [
    "df_deepseek['outdated'].mean()"
   ]
  },
  {
   "cell_type": "code",
   "execution_count": null,
   "metadata": {},
   "outputs": [],
   "source": [
    "#df_deepseek.to_csv(\"results/ceo_deepseek_with_web_processed.csv\", index=False)"
   ]
  },
  {
   "cell_type": "code",
   "execution_count": 21,
   "metadata": {},
   "outputs": [],
   "source": [
    "df_llama = pd.read_csv(\"results/bank_governors_results_llama.csv\")"
   ]
  },
  {
   "cell_type": "code",
   "execution_count": 22,
   "metadata": {},
   "outputs": [
    {
     "data": {
      "text/plain": [
       "12"
      ]
     },
     "execution_count": 22,
     "metadata": {},
     "output_type": "execute_result"
    }
   ],
   "source": [
    "len(df_llama[df_llama['outdated']==True])"
   ]
  },
  {
   "cell_type": "code",
   "execution_count": 23,
   "metadata": {},
   "outputs": [
    {
     "data": {
      "text/plain": [
       "0.5217391304347826"
      ]
     },
     "execution_count": 23,
     "metadata": {},
     "output_type": "execute_result"
    }
   ],
   "source": [
    "df_llama['outdated'].mean()"
   ]
  },
  {
   "cell_type": "code",
   "execution_count": 61,
   "metadata": {},
   "outputs": [],
   "source": [
    "df = pd.read_csv(\"bank_governors_01-04_results_gpt.csv\")"
   ]
  },
  {
   "cell_type": "code",
   "execution_count": 37,
   "metadata": {},
   "outputs": [],
   "source": [
    "import pandas as pd\n",
    "import re\n",
    "\n",
    "def extract_fields(text):\n",
    "    pattern = (\n",
    "        r\"Answer:\\s*(?P<answer>.*?)\\s*\"\n",
    "        r\"Confidence:\\s*(?P<confidence>.*?)\\s*\"\n",
    "        r\"Reference:\\s*(?P<reference>.*?)\\s*$\"\n",
    "    )\n",
    "    match = re.search(pattern, text, re.DOTALL)\n",
    "    if match:\n",
    "        return match.group(\"answer\"), match.group(\"confidence\"), match.group(\"reference\")\n",
    "    else:\n",
    "        return None, None, None\n",
    "\n",
    "df[['answer', 'confidence', 'reference']] = df['prediction'].astype(str).apply(\n",
    "    lambda x: pd.Series(extract_fields(x))\n",
    ")"
   ]
  },
  {
   "cell_type": "code",
   "execution_count": null,
   "metadata": {},
   "outputs": [],
   "source": [
    "# df['eval'] = [\n",
    "#     rowwise_eval(a1, a2) if e1 is True else None\n",
    "#     for a1, a2, e1 in zip(df_llama['answer'], df['answer'], df_llama['eval'])\n",
    "# ]\n"
   ]
  },
  {
   "cell_type": "code",
   "execution_count": null,
   "metadata": {},
   "outputs": [],
   "source": [
    "#df.to_csv(\"bank_governors_01-04_results_gpt.csv\",index=False)"
   ]
  },
  {
   "cell_type": "code",
   "execution_count": 62,
   "metadata": {},
   "outputs": [
    {
     "data": {
      "text/plain": [
       "Index(['bankLabel', 'governorLabel', 'answer', 'eval', 'confidence',\n",
       "       'positionLabel', 'reference'],\n",
       "      dtype='object')"
      ]
     },
     "execution_count": 62,
     "metadata": {},
     "output_type": "execute_result"
    }
   ],
   "source": [
    "df.columns"
   ]
  },
  {
   "cell_type": "code",
   "execution_count": null,
   "metadata": {},
   "outputs": [],
   "source": [
    "#df = df.drop(columns=['prediction', 'startDate', 'bank', 'position', 'governor'])"
   ]
  },
  {
   "cell_type": "code",
   "execution_count": null,
   "metadata": {},
   "outputs": [],
   "source": [
    "#df = df.iloc[:, [0,2,3,6,4,1,5]]"
   ]
  },
  {
   "cell_type": "code",
   "execution_count": 57,
   "metadata": {},
   "outputs": [
    {
     "data": {
      "text/html": [
       "<div>\n",
       "<style scoped>\n",
       "    .dataframe tbody tr th:only-of-type {\n",
       "        vertical-align: middle;\n",
       "    }\n",
       "\n",
       "    .dataframe tbody tr th {\n",
       "        vertical-align: top;\n",
       "    }\n",
       "\n",
       "    .dataframe thead th {\n",
       "        text-align: right;\n",
       "    }\n",
       "</style>\n",
       "<table border=\"1\" class=\"dataframe\">\n",
       "  <thead>\n",
       "    <tr style=\"text-align: right;\">\n",
       "      <th></th>\n",
       "      <th>bankLabel</th>\n",
       "      <th>governorLabel</th>\n",
       "      <th>answer</th>\n",
       "      <th>eval</th>\n",
       "      <th>confidence</th>\n",
       "      <th>positionLabel</th>\n",
       "      <th>reference</th>\n",
       "    </tr>\n",
       "  </thead>\n",
       "  <tbody>\n",
       "    <tr>\n",
       "      <th>0</th>\n",
       "      <td>National Bank of Romania</td>\n",
       "      <td>Mugur Isărescu</td>\n",
       "      <td>Mugur Isărescu</td>\n",
       "      <td>True</td>\n",
       "      <td>high</td>\n",
       "      <td>Governor of the National Bank of Romania</td>\n",
       "      <td>([bloomberg.com](https://www.bloomberg.com/new...</td>\n",
       "    </tr>\n",
       "    <tr>\n",
       "      <th>1</th>\n",
       "      <td>Bank of Finland</td>\n",
       "      <td>Olli Rehn</td>\n",
       "      <td>Olli Rehn</td>\n",
       "      <td>True</td>\n",
       "      <td>high</td>\n",
       "      <td>Governor of the Bank of Finland</td>\n",
       "      <td>([suomenpankki.fi](https://www.suomenpankki.fi...</td>\n",
       "    </tr>\n",
       "    <tr>\n",
       "      <th>2</th>\n",
       "      <td>European Central Bank</td>\n",
       "      <td>Christine Lagarde</td>\n",
       "      <td>Christine Lagarde is the President of the Euro...</td>\n",
       "      <td>False</td>\n",
       "      <td>High</td>\n",
       "      <td>President of the European Central Bank</td>\n",
       "      <td>([en.wikipedia.org](https://en.wikipedia.org/w...</td>\n",
       "    </tr>\n",
       "    <tr>\n",
       "      <th>3</th>\n",
       "      <td>Bank of England</td>\n",
       "      <td>beginning</td>\n",
       "      <td>Andy Beshear</td>\n",
       "      <td>False</td>\n",
       "      <td>high</td>\n",
       "      <td>Governor of the Bank of England</td>\n",
       "      <td>([governor.ky.gov](https://governor.ky.gov/abo...</td>\n",
       "    </tr>\n",
       "    <tr>\n",
       "      <th>4</th>\n",
       "      <td>Bank of Greece</td>\n",
       "      <td>Yannis Stournaras</td>\n",
       "      <td>Yannis Stournaras</td>\n",
       "      <td>True</td>\n",
       "      <td>high</td>\n",
       "      <td>Governor of the Bank of Greece</td>\n",
       "      <td>([bis.org](https://www.bis.org/review/r241211h...</td>\n",
       "    </tr>\n",
       "    <tr>\n",
       "      <th>5</th>\n",
       "      <td>Bank of France</td>\n",
       "      <td>Christian Noyer</td>\n",
       "      <td>François Villeroy de Galhau</td>\n",
       "      <td>True</td>\n",
       "      <td>High</td>\n",
       "      <td>Governor of the Banque de France</td>\n",
       "      <td>https://en.wikipedia.org/wiki/Christian_Noyer</td>\n",
       "    </tr>\n",
       "    <tr>\n",
       "      <th>6</th>\n",
       "      <td>Central Bank of the Republic of Turkey</td>\n",
       "      <td>Süreyya Serdengeçti</td>\n",
       "      <td>Fatih Karahan</td>\n",
       "      <td>True</td>\n",
       "      <td>High</td>\n",
       "      <td>Governor of the Central Bank of Turkey</td>\n",
       "      <td>([tcmb.gov.tr](https://tcmb.gov.tr/wps/wcm/con...</td>\n",
       "    </tr>\n",
       "    <tr>\n",
       "      <th>7</th>\n",
       "      <td>People's Bank of China</td>\n",
       "      <td>Pan Gongsheng</td>\n",
       "      <td>Pan Gongsheng</td>\n",
       "      <td>True</td>\n",
       "      <td>high</td>\n",
       "      <td>Governor of the People's Bank of China</td>\n",
       "      <td>([en.wikipedia.org](https://en.wikipedia.org/w...</td>\n",
       "    </tr>\n",
       "    <tr>\n",
       "      <th>8</th>\n",
       "      <td>State Bank of Vietnam</td>\n",
       "      <td>Cao Sĩ Kiêm</td>\n",
       "      <td>Cao Sĩ Kiêm</td>\n",
       "      <td>False</td>\n",
       "      <td>high</td>\n",
       "      <td>Governor of the State Bank of Vietnam</td>\n",
       "      <td>([infonet.vietnamnet.vn](https://infonet.vietn...</td>\n",
       "    </tr>\n",
       "    <tr>\n",
       "      <th>9</th>\n",
       "      <td>Bank of Japan</td>\n",
       "      <td>Kazuo Ueda</td>\n",
       "      <td>NaN</td>\n",
       "      <td>False</td>\n",
       "      <td>NaN</td>\n",
       "      <td>governor of the Bank of Japan</td>\n",
       "      <td>NaN</td>\n",
       "    </tr>\n",
       "    <tr>\n",
       "      <th>10</th>\n",
       "      <td>Central Bank of The Bahamas</td>\n",
       "      <td>James H. Smith</td>\n",
       "      <td>James H. Smith, CBE</td>\n",
       "      <td>False</td>\n",
       "      <td>high</td>\n",
       "      <td>Governor of the Central Bank of The Bahamas</td>\n",
       "      <td>([cfal.com](https://www.cfal.com/leadership/ja...</td>\n",
       "    </tr>\n",
       "    <tr>\n",
       "      <th>11</th>\n",
       "      <td>Danmarks Nationalbank</td>\n",
       "      <td>Christian Kettel Thomsen</td>\n",
       "      <td>Christian Kettel Thomsen</td>\n",
       "      <td>False</td>\n",
       "      <td>high</td>\n",
       "      <td>Governor of the Danish Nationalbank</td>\n",
       "      <td>([nationalbanken.dk](https://www.nationalbanke...</td>\n",
       "    </tr>\n",
       "    <tr>\n",
       "      <th>12</th>\n",
       "      <td>Bank of Italy</td>\n",
       "      <td>Luigi Federico Signorini</td>\n",
       "      <td>Luigi Federico Signorini</td>\n",
       "      <td>False</td>\n",
       "      <td>high</td>\n",
       "      <td>Director General of the Bank of Italy</td>\n",
       "      <td>([bancaditalia.it](https://www.bancaditalia.it...</td>\n",
       "    </tr>\n",
       "    <tr>\n",
       "      <th>13</th>\n",
       "      <td>Reserve Bank of India</td>\n",
       "      <td>Shaktikanta Das</td>\n",
       "      <td>Shaktikanta Das</td>\n",
       "      <td>False</td>\n",
       "      <td>high</td>\n",
       "      <td>Governor of the Reserve Bank of India</td>\n",
       "      <td>https://www.rbi.org.in/Scripts/BS_SpeakingDeta...</td>\n",
       "    </tr>\n",
       "    <tr>\n",
       "      <th>14</th>\n",
       "      <td>Bank Negara Malaysia</td>\n",
       "      <td>Nor Shamsiah Mohd Yunus</td>\n",
       "      <td>NaN</td>\n",
       "      <td>False</td>\n",
       "      <td>NaN</td>\n",
       "      <td>Governor of Central Bank of Malaysia</td>\n",
       "      <td>NaN</td>\n",
       "    </tr>\n",
       "    <tr>\n",
       "      <th>15</th>\n",
       "      <td>Czech National Bank</td>\n",
       "      <td>Aleš Michl</td>\n",
       "      <td>Aleš Michl</td>\n",
       "      <td>True</td>\n",
       "      <td>high</td>\n",
       "      <td>Governor of the Czech National Bank</td>\n",
       "      <td>https://www.worldgovernors.com/aleš-michl</td>\n",
       "    </tr>\n",
       "    <tr>\n",
       "      <th>16</th>\n",
       "      <td>Central Bank of Syria</td>\n",
       "      <td>Hazem Younes Karfoul</td>\n",
       "      <td>Mohammad Issam Hazimeh</td>\n",
       "      <td>False</td>\n",
       "      <td>high</td>\n",
       "      <td>Governor of Central Bank of Syria</td>\n",
       "      <td>([naharnet.com](https://www.naharnet.com/stori...</td>\n",
       "    </tr>\n",
       "    <tr>\n",
       "      <th>17</th>\n",
       "      <td>Bank of Estonia</td>\n",
       "      <td>Madis Müller</td>\n",
       "      <td>Madis Müller</td>\n",
       "      <td>True</td>\n",
       "      <td>High</td>\n",
       "      <td>governor of the Bank of Estonia</td>\n",
       "      <td>([en.wikipedia.org](https://en.wikipedia.org/w...</td>\n",
       "    </tr>\n",
       "    <tr>\n",
       "      <th>18</th>\n",
       "      <td>Central Bank of Egypt</td>\n",
       "      <td>Sir Frederick Terry Rowlatt</td>\n",
       "      <td>Sir Frederick Rowlatt</td>\n",
       "      <td>False</td>\n",
       "      <td>high</td>\n",
       "      <td>Governor of the Central Bank of Egypt</td>\n",
       "      <td>([trycollect.com](https://www.trycollect.com/e...</td>\n",
       "    </tr>\n",
       "    <tr>\n",
       "      <th>19</th>\n",
       "      <td>Bank of Mauritius</td>\n",
       "      <td>Harvesh Seegolam</td>\n",
       "      <td>Dr. Rama Sithanen</td>\n",
       "      <td>False</td>\n",
       "      <td>high</td>\n",
       "      <td>Governor of the Bank of Mauritius</td>\n",
       "      <td>([newsmoris.com](https://newsmoris.com/2025/01...</td>\n",
       "    </tr>\n",
       "    <tr>\n",
       "      <th>20</th>\n",
       "      <td>Bank of Mozambique</td>\n",
       "      <td>Rogério Zandamela</td>\n",
       "      <td>Filipe Nyusi</td>\n",
       "      <td>False</td>\n",
       "      <td>high</td>\n",
       "      <td>Governor of the Bank of Mozambique</td>\n",
       "      <td>([africa-press.net](https://www.africa-press.n...</td>\n",
       "    </tr>\n",
       "    <tr>\n",
       "      <th>21</th>\n",
       "      <td>Central Bank of Uruguay</td>\n",
       "      <td>Diego Labat</td>\n",
       "      <td>Diego Labat Legarra</td>\n",
       "      <td>False</td>\n",
       "      <td>high</td>\n",
       "      <td>President of the Central Bank of Uruguay</td>\n",
       "      <td>https://en.wikipedia.org/wiki/Diego_Labat</td>\n",
       "    </tr>\n",
       "    <tr>\n",
       "      <th>22</th>\n",
       "      <td>Bank of Thailand</td>\n",
       "      <td>Sethaput Suthiwartnarueput</td>\n",
       "      <td>Sethaput Suthiwartnarueput</td>\n",
       "      <td>True</td>\n",
       "      <td>high</td>\n",
       "      <td>Governor of the Bank of Thailand</td>\n",
       "      <td>https://www.emeap.org/index.php/sethaput-suthi...</td>\n",
       "    </tr>\n",
       "  </tbody>\n",
       "</table>\n",
       "</div>"
      ],
      "text/plain": [
       "                                 bankLabel                governorLabel  \\\n",
       "0                 National Bank of Romania               Mugur Isărescu   \n",
       "1                          Bank of Finland                    Olli Rehn   \n",
       "2                    European Central Bank            Christine Lagarde   \n",
       "3                          Bank of England                    beginning   \n",
       "4                           Bank of Greece            Yannis Stournaras   \n",
       "5                           Bank of France              Christian Noyer   \n",
       "6   Central Bank of the Republic of Turkey          Süreyya Serdengeçti   \n",
       "7                   People's Bank of China                Pan Gongsheng   \n",
       "8                    State Bank of Vietnam                  Cao Sĩ Kiêm   \n",
       "9                            Bank of Japan                   Kazuo Ueda   \n",
       "10             Central Bank of The Bahamas               James H. Smith   \n",
       "11                   Danmarks Nationalbank     Christian Kettel Thomsen   \n",
       "12                           Bank of Italy     Luigi Federico Signorini   \n",
       "13                   Reserve Bank of India              Shaktikanta Das   \n",
       "14                    Bank Negara Malaysia      Nor Shamsiah Mohd Yunus   \n",
       "15                     Czech National Bank                   Aleš Michl   \n",
       "16                   Central Bank of Syria         Hazem Younes Karfoul   \n",
       "17                         Bank of Estonia                 Madis Müller   \n",
       "18                   Central Bank of Egypt  Sir Frederick Terry Rowlatt   \n",
       "19                       Bank of Mauritius             Harvesh Seegolam   \n",
       "20                      Bank of Mozambique            Rogério Zandamela   \n",
       "21                 Central Bank of Uruguay                  Diego Labat   \n",
       "22                        Bank of Thailand   Sethaput Suthiwartnarueput   \n",
       "\n",
       "                                               answer   eval confidence  \\\n",
       "0                                      Mugur Isărescu   True       high   \n",
       "1                                           Olli Rehn   True       high   \n",
       "2   Christine Lagarde is the President of the Euro...  False       High   \n",
       "3                                        Andy Beshear  False       high   \n",
       "4                                   Yannis Stournaras   True       high   \n",
       "5                         François Villeroy de Galhau   True       High   \n",
       "6                                       Fatih Karahan   True       High   \n",
       "7                                       Pan Gongsheng   True       high   \n",
       "8                                         Cao Sĩ Kiêm  False       high   \n",
       "9                                                 NaN  False        NaN   \n",
       "10                                James H. Smith, CBE  False       high   \n",
       "11                           Christian Kettel Thomsen  False       high   \n",
       "12                           Luigi Federico Signorini  False       high   \n",
       "13                                    Shaktikanta Das  False       high   \n",
       "14                                                NaN  False        NaN   \n",
       "15                                         Aleš Michl   True       high   \n",
       "16                             Mohammad Issam Hazimeh  False       high   \n",
       "17                                       Madis Müller   True       High   \n",
       "18                              Sir Frederick Rowlatt  False       high   \n",
       "19                                  Dr. Rama Sithanen  False       high   \n",
       "20                                       Filipe Nyusi  False       high   \n",
       "21                                Diego Labat Legarra  False       high   \n",
       "22                         Sethaput Suthiwartnarueput   True       high   \n",
       "\n",
       "                                  positionLabel  \\\n",
       "0      Governor of the National Bank of Romania   \n",
       "1               Governor of the Bank of Finland   \n",
       "2        President of the European Central Bank   \n",
       "3               Governor of the Bank of England   \n",
       "4                Governor of the Bank of Greece   \n",
       "5              Governor of the Banque de France   \n",
       "6        Governor of the Central Bank of Turkey   \n",
       "7        Governor of the People's Bank of China   \n",
       "8         Governor of the State Bank of Vietnam   \n",
       "9                 governor of the Bank of Japan   \n",
       "10  Governor of the Central Bank of The Bahamas   \n",
       "11          Governor of the Danish Nationalbank   \n",
       "12        Director General of the Bank of Italy   \n",
       "13        Governor of the Reserve Bank of India   \n",
       "14         Governor of Central Bank of Malaysia   \n",
       "15          Governor of the Czech National Bank   \n",
       "16            Governor of Central Bank of Syria   \n",
       "17              governor of the Bank of Estonia   \n",
       "18        Governor of the Central Bank of Egypt   \n",
       "19            Governor of the Bank of Mauritius   \n",
       "20           Governor of the Bank of Mozambique   \n",
       "21     President of the Central Bank of Uruguay   \n",
       "22             Governor of the Bank of Thailand   \n",
       "\n",
       "                                            reference  \n",
       "0   ([bloomberg.com](https://www.bloomberg.com/new...  \n",
       "1   ([suomenpankki.fi](https://www.suomenpankki.fi...  \n",
       "2   ([en.wikipedia.org](https://en.wikipedia.org/w...  \n",
       "3   ([governor.ky.gov](https://governor.ky.gov/abo...  \n",
       "4   ([bis.org](https://www.bis.org/review/r241211h...  \n",
       "5       https://en.wikipedia.org/wiki/Christian_Noyer  \n",
       "6   ([tcmb.gov.tr](https://tcmb.gov.tr/wps/wcm/con...  \n",
       "7   ([en.wikipedia.org](https://en.wikipedia.org/w...  \n",
       "8   ([infonet.vietnamnet.vn](https://infonet.vietn...  \n",
       "9                                                 NaN  \n",
       "10  ([cfal.com](https://www.cfal.com/leadership/ja...  \n",
       "11  ([nationalbanken.dk](https://www.nationalbanke...  \n",
       "12  ([bancaditalia.it](https://www.bancaditalia.it...  \n",
       "13  https://www.rbi.org.in/Scripts/BS_SpeakingDeta...  \n",
       "14                                                NaN  \n",
       "15          https://www.worldgovernors.com/aleš-michl  \n",
       "16  ([naharnet.com](https://www.naharnet.com/stori...  \n",
       "17  ([en.wikipedia.org](https://en.wikipedia.org/w...  \n",
       "18  ([trycollect.com](https://www.trycollect.com/e...  \n",
       "19  ([newsmoris.com](https://newsmoris.com/2025/01...  \n",
       "20  ([africa-press.net](https://www.africa-press.n...  \n",
       "21          https://en.wikipedia.org/wiki/Diego_Labat  \n",
       "22  https://www.emeap.org/index.php/sethaput-suthi...  "
      ]
     },
     "execution_count": 57,
     "metadata": {},
     "output_type": "execute_result"
    }
   ],
   "source": [
    "df"
   ]
  },
  {
   "cell_type": "code",
   "execution_count": 58,
   "metadata": {},
   "outputs": [],
   "source": [
    "df.to_csv(\"bank_governors_01-04_results_gpt.csv\", index=False)"
   ]
  },
  {
   "cell_type": "code",
   "execution_count": 60,
   "metadata": {},
   "outputs": [
    {
     "data": {
      "text/html": [
       "<div>\n",
       "<style scoped>\n",
       "    .dataframe tbody tr th:only-of-type {\n",
       "        vertical-align: middle;\n",
       "    }\n",
       "\n",
       "    .dataframe tbody tr th {\n",
       "        vertical-align: top;\n",
       "    }\n",
       "\n",
       "    .dataframe thead th {\n",
       "        text-align: right;\n",
       "    }\n",
       "</style>\n",
       "<table border=\"1\" class=\"dataframe\">\n",
       "  <thead>\n",
       "    <tr style=\"text-align: right;\">\n",
       "      <th></th>\n",
       "      <th>bankLabel</th>\n",
       "      <th>governorLabel</th>\n",
       "      <th>answer</th>\n",
       "      <th>eval</th>\n",
       "      <th>confidence</th>\n",
       "      <th>positionLabel</th>\n",
       "      <th>reference</th>\n",
       "    </tr>\n",
       "  </thead>\n",
       "  <tbody>\n",
       "  </tbody>\n",
       "</table>\n",
       "</div>"
      ],
      "text/plain": [
       "Empty DataFrame\n",
       "Columns: [bankLabel, governorLabel, answer, eval, confidence, positionLabel, reference]\n",
       "Index: []"
      ]
     },
     "execution_count": 60,
     "metadata": {},
     "output_type": "execute_result"
    }
   ],
   "source": [
    "df[df['eval'].isnull()]"
   ]
  },
  {
   "cell_type": "code",
   "execution_count": 63,
   "metadata": {},
   "outputs": [
    {
     "data": {
      "text/plain": [
       "0.5217391304347826"
      ]
     },
     "execution_count": 63,
     "metadata": {},
     "output_type": "execute_result"
    }
   ],
   "source": [
    "df['eval'].mean()"
   ]
  },
  {
   "cell_type": "code",
   "execution_count": 2,
   "metadata": {},
   "outputs": [],
   "source": [
    "import pandas as pd\n",
    "\n",
    "df = pd.read_csv(\"data/company_ceo_31-03.csv\")"
   ]
  },
  {
   "cell_type": "code",
   "execution_count": 3,
   "metadata": {},
   "outputs": [
    {
     "data": {
      "text/plain": [
       "339"
      ]
     },
     "execution_count": 3,
     "metadata": {},
     "output_type": "execute_result"
    }
   ],
   "source": [
    "len(df)"
   ]
  },
  {
   "cell_type": "code",
   "execution_count": 4,
   "metadata": {},
   "outputs": [],
   "source": [
    "df_1 = pd.read_csv(\"data/bank_governors_01-04.csv\")"
   ]
  },
  {
   "cell_type": "code",
   "execution_count": 6,
   "metadata": {},
   "outputs": [
    {
     "data": {
      "text/plain": [
       "23"
      ]
     },
     "execution_count": 6,
     "metadata": {},
     "output_type": "execute_result"
    }
   ],
   "source": [
    "len(df_1)"
   ]
  },
  {
   "cell_type": "code",
   "execution_count": 7,
   "metadata": {},
   "outputs": [],
   "source": [
    "df_2 = pd.read_csv(\"data/international_organizations_leadership_31-03.csv\")"
   ]
  },
  {
   "cell_type": "code",
   "execution_count": 8,
   "metadata": {},
   "outputs": [
    {
     "data": {
      "text/plain": [
       "325"
      ]
     },
     "execution_count": 8,
     "metadata": {},
     "output_type": "execute_result"
    }
   ],
   "source": [
    "len(df_2)"
   ]
  },
  {
   "cell_type": "code",
   "execution_count": 10,
   "metadata": {},
   "outputs": [],
   "source": [
    "with open('data/relations.txt', 'r') as f:\n",
    "    lines = f.readlines()\n",
    "    relations = [line.strip() for line in lines]"
   ]
  },
  {
   "cell_type": "code",
   "execution_count": 12,
   "metadata": {},
   "outputs": [
    {
     "data": {
      "text/plain": [
       "40"
      ]
     },
     "execution_count": 12,
     "metadata": {},
     "output_type": "execute_result"
    }
   ],
   "source": [
    "len(relations)"
   ]
  },
  {
   "cell_type": "code",
   "execution_count": 4,
   "metadata": {},
   "outputs": [],
   "source": [
    "from utils import entity2id_codex\n",
    "\n",
    "\n",
    "input_file = \"data/humans_wikidata/humans_wikidata/type2relation2type_ttv.txt\"\n",
    "\n",
    "unique_relations = set()\n",
    "\n",
    "with open(input_file, \"r\", encoding=\"utf-8\") as f:\n",
    "    for line in f:\n",
    "        parts = line.strip().split(\"\\t\")\n",
    "        if len(parts) >= 2:\n",
    "            relation = parts[1].strip()\n",
    "            if \"/relation/\" in relation:\n",
    "                rel_id = relation.split(\"/\")[-1]\n",
    "                unique_relations.add(rel_id)\n",
    "\n",
    "sorted_relations = sorted(unique_relations)\n",
    "\n",
    "entities_dict, relations_dict = entity2id_codex()\n",
    "human_wikidata_relations = []\n",
    "\n",
    "for rel in sorted_relations:\n",
    "    relation = relations_dict.get(rel, None)\n",
    "    if relation:\n",
    "        human_wikidata_relations.append(relation)"
   ]
  },
  {
   "cell_type": "code",
   "execution_count": 6,
   "metadata": {},
   "outputs": [
    {
     "data": {
      "text/plain": [
       "41"
      ]
     },
     "execution_count": 6,
     "metadata": {},
     "output_type": "execute_result"
    }
   ],
   "source": [
    "len(human_wikidata_relations)"
   ]
  },
  {
   "cell_type": "code",
   "execution_count": 7,
   "metadata": {},
   "outputs": [
    {
     "data": {
      "text/plain": [
       "['field of work',\n",
       " 'member of political party',\n",
       " 'medical condition',\n",
       " 'occupation',\n",
       " 'employer',\n",
       " 'founded by',\n",
       " 'place of burial',\n",
       " 'publisher',\n",
       " 'instrument',\n",
       " 'located in the administrative terroritorial entity',\n",
       " 'movement',\n",
       " 'genre',\n",
       " 'named after',\n",
       " 'religion',\n",
       " 'languages spoken, written, or signed',\n",
       " 'country',\n",
       " 'creator',\n",
       " 'ethnic group',\n",
       " 'place of birth',\n",
       " 'place of death',\n",
       " 'time period',\n",
       " 'spouse',\n",
       " 'record label',\n",
       " 'country of citizenship',\n",
       " 'practiced by',\n",
       " 'sibling',\n",
       " 'part of',\n",
       " 'child',\n",
       " 'unmarried partner',\n",
       " 'member of',\n",
       " 'chairperson',\n",
       " 'country of origin',\n",
       " 'cause of death',\n",
       " 'member of sports team',\n",
       " 'residence',\n",
       " 'director',\n",
       " 'sport',\n",
       " 'educated at',\n",
       " 'influenced by',\n",
       " 'location of formation',\n",
       " 'notable works']"
      ]
     },
     "execution_count": 7,
     "metadata": {},
     "output_type": "execute_result"
    }
   ],
   "source": [
    "human_wikidata_relations"
   ]
  },
  {
   "cell_type": "code",
   "execution_count": 2,
   "metadata": {},
   "outputs": [],
   "source": [
    "import pandas as pd\n",
    "\n",
    "df=pd.read_csv(\"results/ceo_deepseek_with_web_processed.csv\")"
   ]
  },
  {
   "cell_type": "code",
   "execution_count": 3,
   "metadata": {},
   "outputs": [
    {
     "data": {
      "text/html": [
       "<div>\n",
       "<style scoped>\n",
       "    .dataframe tbody tr th:only-of-type {\n",
       "        vertical-align: middle;\n",
       "    }\n",
       "\n",
       "    .dataframe tbody tr th {\n",
       "        vertical-align: top;\n",
       "    }\n",
       "\n",
       "    .dataframe thead th {\n",
       "        text-align: right;\n",
       "    }\n",
       "</style>\n",
       "<table border=\"1\" class=\"dataframe\">\n",
       "  <thead>\n",
       "    <tr style=\"text-align: right;\">\n",
       "      <th></th>\n",
       "      <th>companyLabel</th>\n",
       "      <th>ceoLabel</th>\n",
       "      <th>pre_answer</th>\n",
       "      <th>answer</th>\n",
       "      <th>eval</th>\n",
       "      <th>outdated</th>\n",
       "    </tr>\n",
       "  </thead>\n",
       "  <tbody>\n",
       "    <tr>\n",
       "      <th>0</th>\n",
       "      <td>Nvidia</td>\n",
       "      <td>Jensen Huang</td>\n",
       "      <td>The current CEO of Nvidia is Jensen Huang.\\n\\n...</td>\n",
       "      <td>Jensen Huang</td>\n",
       "      <td>True</td>\n",
       "      <td>False</td>\n",
       "    </tr>\n",
       "    <tr>\n",
       "      <th>1</th>\n",
       "      <td>BNP Paribas</td>\n",
       "      <td>Jean-Laurent Bonnafé</td>\n",
       "      <td>Jean-Laurent Bonnafé is the current CEO of BNP...</td>\n",
       "      <td>Jean-Laurent Bonnafé</td>\n",
       "      <td>True</td>\n",
       "      <td>False</td>\n",
       "    </tr>\n",
       "    <tr>\n",
       "      <th>2</th>\n",
       "      <td>Block, Inc.</td>\n",
       "      <td>Jack Dorsey</td>\n",
       "      <td>Jack Dorsey is the current CEO of Block, Inc.\\...</td>\n",
       "      <td>Jack Dorsey</td>\n",
       "      <td>True</td>\n",
       "      <td>False</td>\n",
       "    </tr>\n",
       "    <tr>\n",
       "      <th>3</th>\n",
       "      <td>Reliance Industries Limited</td>\n",
       "      <td>Mukesh Ambani</td>\n",
       "      <td>Mukesh D. Ambani is the current CEO of Relianc...</td>\n",
       "      <td>Mukesh D. Ambani</td>\n",
       "      <td>True</td>\n",
       "      <td>False</td>\n",
       "    </tr>\n",
       "    <tr>\n",
       "      <th>4</th>\n",
       "      <td>Frasers Group</td>\n",
       "      <td>Mike Ashley</td>\n",
       "      <td>The current CEO of Frasers Group is Michael Mu...</td>\n",
       "      <td>Michael Murray</td>\n",
       "      <td>True</td>\n",
       "      <td>True</td>\n",
       "    </tr>\n",
       "    <tr>\n",
       "      <th>...</th>\n",
       "      <td>...</td>\n",
       "      <td>...</td>\n",
       "      <td>...</td>\n",
       "      <td>...</td>\n",
       "      <td>...</td>\n",
       "      <td>...</td>\n",
       "    </tr>\n",
       "    <tr>\n",
       "      <th>333</th>\n",
       "      <td>Banca Transilvania</td>\n",
       "      <td>Ömer Tetik</td>\n",
       "      <td>Ömer Tetik</td>\n",
       "      <td>Ömer Tetik</td>\n",
       "      <td>True</td>\n",
       "      <td>False</td>\n",
       "    </tr>\n",
       "    <tr>\n",
       "      <th>334</th>\n",
       "      <td>Miniso</td>\n",
       "      <td>Ye Guofu</td>\n",
       "      <td>Ye Guofu is the current CEO of Miniso.\\n\\nAnsw...</td>\n",
       "      <td>Ye Guofu</td>\n",
       "      <td>True</td>\n",
       "      <td>False</td>\n",
       "    </tr>\n",
       "    <tr>\n",
       "      <th>335</th>\n",
       "      <td>Deutsche Post AG</td>\n",
       "      <td>Tobias Meyer</td>\n",
       "      <td>Dr. Tobias Meyer is the current CEO of Deutsch...</td>\n",
       "      <td>Dr. Tobias Meyer</td>\n",
       "      <td>True</td>\n",
       "      <td>False</td>\n",
       "    </tr>\n",
       "    <tr>\n",
       "      <th>336</th>\n",
       "      <td>Intel</td>\n",
       "      <td>Michelle Johnston Holthaus</td>\n",
       "      <td>The current CEO of Intel is Lip-Bu Tan.  \\nCon...</td>\n",
       "      <td>Lip-Bu Tan.</td>\n",
       "      <td>True</td>\n",
       "      <td>True</td>\n",
       "    </tr>\n",
       "    <tr>\n",
       "      <th>337</th>\n",
       "      <td>Commonwealth Bank</td>\n",
       "      <td>Donald Neil Sanders</td>\n",
       "      <td>The current CEO of Commonwealth Bank is Matt C...</td>\n",
       "      <td>Matt Comyn</td>\n",
       "      <td>True</td>\n",
       "      <td>True</td>\n",
       "    </tr>\n",
       "  </tbody>\n",
       "</table>\n",
       "<p>338 rows × 6 columns</p>\n",
       "</div>"
      ],
      "text/plain": [
       "                    companyLabel                    ceoLabel  \\\n",
       "0                         Nvidia                Jensen Huang   \n",
       "1                    BNP Paribas        Jean-Laurent Bonnafé   \n",
       "2                    Block, Inc.                 Jack Dorsey   \n",
       "3    Reliance Industries Limited               Mukesh Ambani   \n",
       "4                  Frasers Group                 Mike Ashley   \n",
       "..                           ...                         ...   \n",
       "333           Banca Transilvania                  Ömer Tetik   \n",
       "334                       Miniso                    Ye Guofu   \n",
       "335             Deutsche Post AG                Tobias Meyer   \n",
       "336                        Intel  Michelle Johnston Holthaus   \n",
       "337            Commonwealth Bank         Donald Neil Sanders   \n",
       "\n",
       "                                            pre_answer                answer  \\\n",
       "0    The current CEO of Nvidia is Jensen Huang.\\n\\n...          Jensen Huang   \n",
       "1    Jean-Laurent Bonnafé is the current CEO of BNP...  Jean-Laurent Bonnafé   \n",
       "2    Jack Dorsey is the current CEO of Block, Inc.\\...           Jack Dorsey   \n",
       "3    Mukesh D. Ambani is the current CEO of Relianc...      Mukesh D. Ambani   \n",
       "4    The current CEO of Frasers Group is Michael Mu...        Michael Murray   \n",
       "..                                                 ...                   ...   \n",
       "333                                         Ömer Tetik            Ömer Tetik   \n",
       "334  Ye Guofu is the current CEO of Miniso.\\n\\nAnsw...              Ye Guofu   \n",
       "335  Dr. Tobias Meyer is the current CEO of Deutsch...      Dr. Tobias Meyer   \n",
       "336  The current CEO of Intel is Lip-Bu Tan.  \\nCon...           Lip-Bu Tan.   \n",
       "337  The current CEO of Commonwealth Bank is Matt C...            Matt Comyn   \n",
       "\n",
       "     eval  outdated  \n",
       "0    True     False  \n",
       "1    True     False  \n",
       "2    True     False  \n",
       "3    True     False  \n",
       "4    True      True  \n",
       "..    ...       ...  \n",
       "333  True     False  \n",
       "334  True     False  \n",
       "335  True     False  \n",
       "336  True      True  \n",
       "337  True      True  \n",
       "\n",
       "[338 rows x 6 columns]"
      ]
     },
     "execution_count": 3,
     "metadata": {},
     "output_type": "execute_result"
    }
   ],
   "source": [
    "df"
   ]
  },
  {
   "cell_type": "code",
   "execution_count": 4,
   "metadata": {},
   "outputs": [],
   "source": [
    "df['confidence']=df['pre_answer'].str.extract(r'(?i)\\b(high|medium|low)\\b')"
   ]
  },
  {
   "cell_type": "code",
   "execution_count": 5,
   "metadata": {},
   "outputs": [
    {
     "data": {
      "text/html": [
       "<div>\n",
       "<style scoped>\n",
       "    .dataframe tbody tr th:only-of-type {\n",
       "        vertical-align: middle;\n",
       "    }\n",
       "\n",
       "    .dataframe tbody tr th {\n",
       "        vertical-align: top;\n",
       "    }\n",
       "\n",
       "    .dataframe thead th {\n",
       "        text-align: right;\n",
       "    }\n",
       "</style>\n",
       "<table border=\"1\" class=\"dataframe\">\n",
       "  <thead>\n",
       "    <tr style=\"text-align: right;\">\n",
       "      <th></th>\n",
       "      <th>companyLabel</th>\n",
       "      <th>ceoLabel</th>\n",
       "      <th>pre_answer</th>\n",
       "      <th>answer</th>\n",
       "      <th>eval</th>\n",
       "      <th>outdated</th>\n",
       "      <th>confidence</th>\n",
       "    </tr>\n",
       "  </thead>\n",
       "  <tbody>\n",
       "    <tr>\n",
       "      <th>0</th>\n",
       "      <td>Nvidia</td>\n",
       "      <td>Jensen Huang</td>\n",
       "      <td>The current CEO of Nvidia is Jensen Huang.\\n\\n...</td>\n",
       "      <td>Jensen Huang</td>\n",
       "      <td>True</td>\n",
       "      <td>False</td>\n",
       "      <td>High</td>\n",
       "    </tr>\n",
       "    <tr>\n",
       "      <th>1</th>\n",
       "      <td>BNP Paribas</td>\n",
       "      <td>Jean-Laurent Bonnafé</td>\n",
       "      <td>Jean-Laurent Bonnafé is the current CEO of BNP...</td>\n",
       "      <td>Jean-Laurent Bonnafé</td>\n",
       "      <td>True</td>\n",
       "      <td>False</td>\n",
       "      <td>High</td>\n",
       "    </tr>\n",
       "    <tr>\n",
       "      <th>2</th>\n",
       "      <td>Block, Inc.</td>\n",
       "      <td>Jack Dorsey</td>\n",
       "      <td>Jack Dorsey is the current CEO of Block, Inc.\\...</td>\n",
       "      <td>Jack Dorsey</td>\n",
       "      <td>True</td>\n",
       "      <td>False</td>\n",
       "      <td>High</td>\n",
       "    </tr>\n",
       "    <tr>\n",
       "      <th>3</th>\n",
       "      <td>Reliance Industries Limited</td>\n",
       "      <td>Mukesh Ambani</td>\n",
       "      <td>Mukesh D. Ambani is the current CEO of Relianc...</td>\n",
       "      <td>Mukesh D. Ambani</td>\n",
       "      <td>True</td>\n",
       "      <td>False</td>\n",
       "      <td>High</td>\n",
       "    </tr>\n",
       "    <tr>\n",
       "      <th>4</th>\n",
       "      <td>Frasers Group</td>\n",
       "      <td>Mike Ashley</td>\n",
       "      <td>The current CEO of Frasers Group is Michael Mu...</td>\n",
       "      <td>Michael Murray</td>\n",
       "      <td>True</td>\n",
       "      <td>True</td>\n",
       "      <td>High</td>\n",
       "    </tr>\n",
       "    <tr>\n",
       "      <th>...</th>\n",
       "      <td>...</td>\n",
       "      <td>...</td>\n",
       "      <td>...</td>\n",
       "      <td>...</td>\n",
       "      <td>...</td>\n",
       "      <td>...</td>\n",
       "      <td>...</td>\n",
       "    </tr>\n",
       "    <tr>\n",
       "      <th>333</th>\n",
       "      <td>Banca Transilvania</td>\n",
       "      <td>Ömer Tetik</td>\n",
       "      <td>Ömer Tetik</td>\n",
       "      <td>Ömer Tetik</td>\n",
       "      <td>True</td>\n",
       "      <td>False</td>\n",
       "      <td>NaN</td>\n",
       "    </tr>\n",
       "    <tr>\n",
       "      <th>334</th>\n",
       "      <td>Miniso</td>\n",
       "      <td>Ye Guofu</td>\n",
       "      <td>Ye Guofu is the current CEO of Miniso.\\n\\nAnsw...</td>\n",
       "      <td>Ye Guofu</td>\n",
       "      <td>True</td>\n",
       "      <td>False</td>\n",
       "      <td>High</td>\n",
       "    </tr>\n",
       "    <tr>\n",
       "      <th>335</th>\n",
       "      <td>Deutsche Post AG</td>\n",
       "      <td>Tobias Meyer</td>\n",
       "      <td>Dr. Tobias Meyer is the current CEO of Deutsch...</td>\n",
       "      <td>Dr. Tobias Meyer</td>\n",
       "      <td>True</td>\n",
       "      <td>False</td>\n",
       "      <td>high</td>\n",
       "    </tr>\n",
       "    <tr>\n",
       "      <th>336</th>\n",
       "      <td>Intel</td>\n",
       "      <td>Michelle Johnston Holthaus</td>\n",
       "      <td>The current CEO of Intel is Lip-Bu Tan.  \\nCon...</td>\n",
       "      <td>Lip-Bu Tan.</td>\n",
       "      <td>True</td>\n",
       "      <td>True</td>\n",
       "      <td>High</td>\n",
       "    </tr>\n",
       "    <tr>\n",
       "      <th>337</th>\n",
       "      <td>Commonwealth Bank</td>\n",
       "      <td>Donald Neil Sanders</td>\n",
       "      <td>The current CEO of Commonwealth Bank is Matt C...</td>\n",
       "      <td>Matt Comyn</td>\n",
       "      <td>True</td>\n",
       "      <td>True</td>\n",
       "      <td>High</td>\n",
       "    </tr>\n",
       "  </tbody>\n",
       "</table>\n",
       "<p>338 rows × 7 columns</p>\n",
       "</div>"
      ],
      "text/plain": [
       "                    companyLabel                    ceoLabel  \\\n",
       "0                         Nvidia                Jensen Huang   \n",
       "1                    BNP Paribas        Jean-Laurent Bonnafé   \n",
       "2                    Block, Inc.                 Jack Dorsey   \n",
       "3    Reliance Industries Limited               Mukesh Ambani   \n",
       "4                  Frasers Group                 Mike Ashley   \n",
       "..                           ...                         ...   \n",
       "333           Banca Transilvania                  Ömer Tetik   \n",
       "334                       Miniso                    Ye Guofu   \n",
       "335             Deutsche Post AG                Tobias Meyer   \n",
       "336                        Intel  Michelle Johnston Holthaus   \n",
       "337            Commonwealth Bank         Donald Neil Sanders   \n",
       "\n",
       "                                            pre_answer                answer  \\\n",
       "0    The current CEO of Nvidia is Jensen Huang.\\n\\n...          Jensen Huang   \n",
       "1    Jean-Laurent Bonnafé is the current CEO of BNP...  Jean-Laurent Bonnafé   \n",
       "2    Jack Dorsey is the current CEO of Block, Inc.\\...           Jack Dorsey   \n",
       "3    Mukesh D. Ambani is the current CEO of Relianc...      Mukesh D. Ambani   \n",
       "4    The current CEO of Frasers Group is Michael Mu...        Michael Murray   \n",
       "..                                                 ...                   ...   \n",
       "333                                         Ömer Tetik            Ömer Tetik   \n",
       "334  Ye Guofu is the current CEO of Miniso.\\n\\nAnsw...              Ye Guofu   \n",
       "335  Dr. Tobias Meyer is the current CEO of Deutsch...      Dr. Tobias Meyer   \n",
       "336  The current CEO of Intel is Lip-Bu Tan.  \\nCon...           Lip-Bu Tan.   \n",
       "337  The current CEO of Commonwealth Bank is Matt C...            Matt Comyn   \n",
       "\n",
       "     eval  outdated confidence  \n",
       "0    True     False       High  \n",
       "1    True     False       High  \n",
       "2    True     False       High  \n",
       "3    True     False       High  \n",
       "4    True      True       High  \n",
       "..    ...       ...        ...  \n",
       "333  True     False        NaN  \n",
       "334  True     False       High  \n",
       "335  True     False       high  \n",
       "336  True      True       High  \n",
       "337  True      True       High  \n",
       "\n",
       "[338 rows x 7 columns]"
      ]
     },
     "execution_count": 5,
     "metadata": {},
     "output_type": "execute_result"
    }
   ],
   "source": [
    "df"
   ]
  },
  {
   "cell_type": "code",
   "execution_count": 13,
   "metadata": {},
   "outputs": [
    {
     "data": {
      "text/html": [
       "<div>\n",
       "<style scoped>\n",
       "    .dataframe tbody tr th:only-of-type {\n",
       "        vertical-align: middle;\n",
       "    }\n",
       "\n",
       "    .dataframe tbody tr th {\n",
       "        vertical-align: top;\n",
       "    }\n",
       "\n",
       "    .dataframe thead th {\n",
       "        text-align: right;\n",
       "    }\n",
       "</style>\n",
       "<table border=\"1\" class=\"dataframe\">\n",
       "  <thead>\n",
       "    <tr style=\"text-align: right;\">\n",
       "      <th></th>\n",
       "      <th>companyLabel</th>\n",
       "      <th>ceoLabel</th>\n",
       "      <th>pre_answer</th>\n",
       "      <th>answer</th>\n",
       "      <th>eval</th>\n",
       "      <th>outdated</th>\n",
       "      <th>confidence</th>\n",
       "    </tr>\n",
       "  </thead>\n",
       "  <tbody>\n",
       "    <tr>\n",
       "      <th>130</th>\n",
       "      <td>Tauron Polska Energia</td>\n",
       "      <td>Filip Grzegorczyk</td>\n",
       "      <td>The current CEO of Tauron Polska Energia is Pa...</td>\n",
       "      <td>Pawel Straczynski</td>\n",
       "      <td>True</td>\n",
       "      <td>True</td>\n",
       "      <td>medium</td>\n",
       "    </tr>\n",
       "    <tr>\n",
       "      <th>131</th>\n",
       "      <td>Viaplay Group</td>\n",
       "      <td>Anders Jensen</td>\n",
       "      <td>Jørgen Madsen Lindemann is the current CEO of ...</td>\n",
       "      <td>Jørgen Madsen Lindemann</td>\n",
       "      <td>True</td>\n",
       "      <td>True</td>\n",
       "      <td>medium</td>\n",
       "    </tr>\n",
       "    <tr>\n",
       "      <th>140</th>\n",
       "      <td>GMM Grammy</td>\n",
       "      <td>Boosaba Daorueng</td>\n",
       "      <td>The current CEO of GMM Grammy is Boosaba Daoru...</td>\n",
       "      <td>Boosaba Daorueng</td>\n",
       "      <td>True</td>\n",
       "      <td>False</td>\n",
       "      <td>medium</td>\n",
       "    </tr>\n",
       "    <tr>\n",
       "      <th>161</th>\n",
       "      <td>FNC Entertainment</td>\n",
       "      <td>Han Sung-ho</td>\n",
       "      <td>The current CEOs of FNC Entertainment are Ahn ...</td>\n",
       "      <td>Ahn Seok-joon and Han Seung-hoon</td>\n",
       "      <td>True</td>\n",
       "      <td>True</td>\n",
       "      <td>medium</td>\n",
       "    </tr>\n",
       "    <tr>\n",
       "      <th>220</th>\n",
       "      <td>Repsol Oil &amp; Gas Canada</td>\n",
       "      <td>James Buckee</td>\n",
       "      <td>Josu Jon Imaz San Miguel is the current CEO of...</td>\n",
       "      <td>Josu Jon Imaz San Miguel</td>\n",
       "      <td>True</td>\n",
       "      <td>True</td>\n",
       "      <td>medium</td>\n",
       "    </tr>\n",
       "    <tr>\n",
       "      <th>311</th>\n",
       "      <td>WiseTech Global Limited</td>\n",
       "      <td>Richard White</td>\n",
       "      <td>The current acting CEO of WiseTech Global Limi...</td>\n",
       "      <td>Andrew Cartledge</td>\n",
       "      <td>True</td>\n",
       "      <td>True</td>\n",
       "      <td>medium</td>\n",
       "    </tr>\n",
       "  </tbody>\n",
       "</table>\n",
       "</div>"
      ],
      "text/plain": [
       "                companyLabel           ceoLabel  \\\n",
       "130    Tauron Polska Energia  Filip Grzegorczyk   \n",
       "131            Viaplay Group      Anders Jensen   \n",
       "140               GMM Grammy   Boosaba Daorueng   \n",
       "161        FNC Entertainment        Han Sung-ho   \n",
       "220  Repsol Oil & Gas Canada       James Buckee   \n",
       "311  WiseTech Global Limited      Richard White   \n",
       "\n",
       "                                            pre_answer  \\\n",
       "130  The current CEO of Tauron Polska Energia is Pa...   \n",
       "131  Jørgen Madsen Lindemann is the current CEO of ...   \n",
       "140  The current CEO of GMM Grammy is Boosaba Daoru...   \n",
       "161  The current CEOs of FNC Entertainment are Ahn ...   \n",
       "220  Josu Jon Imaz San Miguel is the current CEO of...   \n",
       "311  The current acting CEO of WiseTech Global Limi...   \n",
       "\n",
       "                               answer  eval  outdated confidence  \n",
       "130                 Pawel Straczynski  True      True     medium  \n",
       "131           Jørgen Madsen Lindemann  True      True     medium  \n",
       "140                  Boosaba Daorueng  True     False     medium  \n",
       "161  Ahn Seok-joon and Han Seung-hoon  True      True     medium  \n",
       "220          Josu Jon Imaz San Miguel  True      True     medium  \n",
       "311                  Andrew Cartledge  True      True     medium  "
      ]
     },
     "execution_count": 13,
     "metadata": {},
     "output_type": "execute_result"
    }
   ],
   "source": [
    "df[(df['eval'] == True) & (df['confidence'] == 'medium')]\n"
   ]
  },
  {
   "cell_type": "code",
   "execution_count": 18,
   "metadata": {},
   "outputs": [],
   "source": [
    "\n",
    "import pandas as pd \n",
    "\n",
    "df=pd.read_csv(\"results/company_ceo_31-03_results_gpt.csv\")"
   ]
  },
  {
   "cell_type": "code",
   "execution_count": null,
   "metadata": {},
   "outputs": [],
   "source": [
    "#df['confidence']=df['prediction'].str.extract(r'(?i)\\b(high|medium|low)\\b')"
   ]
  },
  {
   "cell_type": "code",
   "execution_count": 20,
   "metadata": {},
   "outputs": [
    {
     "data": {
      "text/plain": [
       "30"
      ]
     },
     "execution_count": 20,
     "metadata": {},
     "output_type": "execute_result"
    }
   ],
   "source": [
    "len(df[df['eval']==False])"
   ]
  },
  {
   "cell_type": "code",
   "execution_count": 25,
   "metadata": {},
   "outputs": [
    {
     "data": {
      "text/plain": [
       "19"
      ]
     },
     "execution_count": 25,
     "metadata": {},
     "output_type": "execute_result"
    }
   ],
   "source": [
    "len(df[(df['eval'] == False) & (df['confidence'] == 'high')])\n"
   ]
  },
  {
   "cell_type": "code",
   "execution_count": null,
   "metadata": {},
   "outputs": [],
   "source": [
    "# 12 high out of 45\n",
    "#7+19"
   ]
  },
  {
   "cell_type": "code",
   "execution_count": 26,
   "metadata": {},
   "outputs": [
    {
     "data": {
      "text/plain": [
       "'Answer: Lip-Bu Tan\\n\\nConfidence: high\\n\\nReference: ([newsroom.intel.com](https://newsroom.intel.com/corporate/tan-joins-intel-ceo?utm_source=openai)) '"
      ]
     },
     "execution_count": 26,
     "metadata": {},
     "output_type": "execute_result"
    }
   ],
   "source": [
    "from autovu import answer_with_gpt\n",
    "answer_with_gpt(f\"Who is the current governor of Intel Corporation?\")"
   ]
  },
  {
   "cell_type": "code",
   "execution_count": 1,
   "metadata": {},
   "outputs": [],
   "source": [
    "import pandas as pd\n",
    "\n",
    "df = pd.read_csv(\"international_organizations_leadership_31-03_results_llama.csv\")"
   ]
  },
  {
   "cell_type": "code",
   "execution_count": 2,
   "metadata": {},
   "outputs": [
    {
     "data": {
      "text/html": [
       "<div>\n",
       "<style scoped>\n",
       "    .dataframe tbody tr th:only-of-type {\n",
       "        vertical-align: middle;\n",
       "    }\n",
       "\n",
       "    .dataframe tbody tr th {\n",
       "        vertical-align: top;\n",
       "    }\n",
       "\n",
       "    .dataframe thead th {\n",
       "        text-align: right;\n",
       "    }\n",
       "</style>\n",
       "<table border=\"1\" class=\"dataframe\">\n",
       "  <thead>\n",
       "    <tr style=\"text-align: right;\">\n",
       "      <th></th>\n",
       "      <th>organizationLabel</th>\n",
       "      <th>positionLabel</th>\n",
       "      <th>officeholderLabel</th>\n",
       "      <th>prediction</th>\n",
       "    </tr>\n",
       "  </thead>\n",
       "  <tbody>\n",
       "    <tr>\n",
       "      <th>0</th>\n",
       "      <td>African Development Bank</td>\n",
       "      <td>Akinwumi Adesina</td>\n",
       "      <td>Akinwumi Adesina</td>\n",
       "      <td>Answer: Akinwumi Adesina, Confidence: High.</td>\n",
       "    </tr>\n",
       "    <tr>\n",
       "      <th>1</th>\n",
       "      <td>African Paralympic Committee</td>\n",
       "      <td>President of the African Paralympic Committee</td>\n",
       "      <td>Leonel da Rocha Pinto</td>\n",
       "      <td>Answer: Samson Deen, Confidence: High.</td>\n",
       "    </tr>\n",
       "    <tr>\n",
       "      <th>2</th>\n",
       "      <td>Afro-Asian People's Solidarity Organization</td>\n",
       "      <td>Anwar Sadat</td>\n",
       "      <td>Anwar Sadat</td>\n",
       "      <td>Answer: Dr. Helmi Hadidi, Confidence: medium</td>\n",
       "    </tr>\n",
       "    <tr>\n",
       "      <th>3</th>\n",
       "      <td>Aga Khan Development Network</td>\n",
       "      <td>Ismaili imam</td>\n",
       "      <td>Ismaili imam</td>\n",
       "      <td>Answer: His Highness Prince Rahim Aga Khan V, ...</td>\n",
       "    </tr>\n",
       "    <tr>\n",
       "      <th>4</th>\n",
       "      <td>All European Academies</td>\n",
       "      <td>Antonio Loprieno</td>\n",
       "      <td>Antonio Loprieno</td>\n",
       "      <td>Answer: Paweł Rowiński, Confidence: high.</td>\n",
       "    </tr>\n",
       "    <tr>\n",
       "      <th>...</th>\n",
       "      <td>...</td>\n",
       "      <td>...</td>\n",
       "      <td>...</td>\n",
       "      <td>...</td>\n",
       "    </tr>\n",
       "    <tr>\n",
       "      <th>320</th>\n",
       "      <td>World Women’s Snooker</td>\n",
       "      <td>Mandy Fisher</td>\n",
       "      <td>Mandy Fisher</td>\n",
       "      <td>Answer: Mandy Fisher, Confidence: medium</td>\n",
       "    </tr>\n",
       "    <tr>\n",
       "      <th>321</th>\n",
       "      <td>World Zionist Organization</td>\n",
       "      <td>Yaakov Hagoel</td>\n",
       "      <td>Yaakov Hagoel</td>\n",
       "      <td>Answer: Tova Dorfman, Confidence: high</td>\n",
       "    </tr>\n",
       "    <tr>\n",
       "      <th>322</th>\n",
       "      <td>World Baseball Softball Confederation</td>\n",
       "      <td>Riccardo Fraccari</td>\n",
       "      <td>Riccardo Fraccari</td>\n",
       "      <td>Answer: Riccardo Fraccari, Confidence: high</td>\n",
       "    </tr>\n",
       "    <tr>\n",
       "      <th>323</th>\n",
       "      <td>Young Christian Workers</td>\n",
       "      <td>Laetitia M. Navarro</td>\n",
       "      <td>Laetitia M. Navarro</td>\n",
       "      <td>Answer: Basma Louis, Confidence: medium</td>\n",
       "    </tr>\n",
       "    <tr>\n",
       "      <th>324</th>\n",
       "      <td>Young Pirates of Europe</td>\n",
       "      <td>Arnaldur Sigurðarson</td>\n",
       "      <td>Arnaldur Sigurðarson</td>\n",
       "      <td>Answer: Šárka Václavíková, Confidence: medium</td>\n",
       "    </tr>\n",
       "  </tbody>\n",
       "</table>\n",
       "<p>325 rows × 4 columns</p>\n",
       "</div>"
      ],
      "text/plain": [
       "                               organizationLabel  \\\n",
       "0                       African Development Bank   \n",
       "1                   African Paralympic Committee   \n",
       "2    Afro-Asian People's Solidarity Organization   \n",
       "3                   Aga Khan Development Network   \n",
       "4                         All European Academies   \n",
       "..                                           ...   \n",
       "320                        World Women’s Snooker   \n",
       "321                   World Zionist Organization   \n",
       "322        World Baseball Softball Confederation   \n",
       "323                      Young Christian Workers   \n",
       "324                      Young Pirates of Europe   \n",
       "\n",
       "                                     positionLabel      officeholderLabel  \\\n",
       "0                                 Akinwumi Adesina       Akinwumi Adesina   \n",
       "1    President of the African Paralympic Committee  Leonel da Rocha Pinto   \n",
       "2                                      Anwar Sadat            Anwar Sadat   \n",
       "3                                     Ismaili imam           Ismaili imam   \n",
       "4                                 Antonio Loprieno       Antonio Loprieno   \n",
       "..                                             ...                    ...   \n",
       "320                                   Mandy Fisher           Mandy Fisher   \n",
       "321                                  Yaakov Hagoel          Yaakov Hagoel   \n",
       "322                              Riccardo Fraccari      Riccardo Fraccari   \n",
       "323                            Laetitia M. Navarro    Laetitia M. Navarro   \n",
       "324                           Arnaldur Sigurðarson   Arnaldur Sigurðarson   \n",
       "\n",
       "                                            prediction  \n",
       "0          Answer: Akinwumi Adesina, Confidence: High.  \n",
       "1               Answer: Samson Deen, Confidence: High.  \n",
       "2         Answer: Dr. Helmi Hadidi, Confidence: medium  \n",
       "3    Answer: His Highness Prince Rahim Aga Khan V, ...  \n",
       "4            Answer: Paweł Rowiński, Confidence: high.  \n",
       "..                                                 ...  \n",
       "320           Answer: Mandy Fisher, Confidence: medium  \n",
       "321             Answer: Tova Dorfman, Confidence: high  \n",
       "322        Answer: Riccardo Fraccari, Confidence: high  \n",
       "323            Answer: Basma Louis, Confidence: medium  \n",
       "324      Answer: Šárka Václavíková, Confidence: medium  \n",
       "\n",
       "[325 rows x 4 columns]"
      ]
     },
     "execution_count": 2,
     "metadata": {},
     "output_type": "execute_result"
    }
   ],
   "source": [
    "df"
   ]
  },
  {
   "cell_type": "code",
   "execution_count": 3,
   "metadata": {},
   "outputs": [],
   "source": [
    "df['Confidence'] = df['prediction'].str.extract(r'(?i)\\b(high|medium|low)\\b')"
   ]
  },
  {
   "cell_type": "code",
   "execution_count": 5,
   "metadata": {},
   "outputs": [],
   "source": [
    "from entity_align import extract_answer\n",
    "\n",
    "df['answer'] = df['prediction'].apply(lambda x: extract_answer(x))"
   ]
  },
  {
   "cell_type": "code",
   "execution_count": 6,
   "metadata": {},
   "outputs": [
    {
     "data": {
      "text/html": [
       "<div>\n",
       "<style scoped>\n",
       "    .dataframe tbody tr th:only-of-type {\n",
       "        vertical-align: middle;\n",
       "    }\n",
       "\n",
       "    .dataframe tbody tr th {\n",
       "        vertical-align: top;\n",
       "    }\n",
       "\n",
       "    .dataframe thead th {\n",
       "        text-align: right;\n",
       "    }\n",
       "</style>\n",
       "<table border=\"1\" class=\"dataframe\">\n",
       "  <thead>\n",
       "    <tr style=\"text-align: right;\">\n",
       "      <th></th>\n",
       "      <th>organizationLabel</th>\n",
       "      <th>positionLabel</th>\n",
       "      <th>officeholderLabel</th>\n",
       "      <th>prediction</th>\n",
       "      <th>Confidence</th>\n",
       "      <th>answer</th>\n",
       "    </tr>\n",
       "  </thead>\n",
       "  <tbody>\n",
       "    <tr>\n",
       "      <th>0</th>\n",
       "      <td>African Development Bank</td>\n",
       "      <td>Akinwumi Adesina</td>\n",
       "      <td>Akinwumi Adesina</td>\n",
       "      <td>Answer: Akinwumi Adesina, Confidence: High.</td>\n",
       "      <td>High</td>\n",
       "      <td>Akinwumi Adesina</td>\n",
       "    </tr>\n",
       "    <tr>\n",
       "      <th>1</th>\n",
       "      <td>African Paralympic Committee</td>\n",
       "      <td>President of the African Paralympic Committee</td>\n",
       "      <td>Leonel da Rocha Pinto</td>\n",
       "      <td>Answer: Samson Deen, Confidence: High.</td>\n",
       "      <td>High</td>\n",
       "      <td>Samson Deen</td>\n",
       "    </tr>\n",
       "    <tr>\n",
       "      <th>2</th>\n",
       "      <td>Afro-Asian People's Solidarity Organization</td>\n",
       "      <td>Anwar Sadat</td>\n",
       "      <td>Anwar Sadat</td>\n",
       "      <td>Answer: Dr. Helmi Hadidi, Confidence: medium</td>\n",
       "      <td>medium</td>\n",
       "      <td>Dr. Helmi Hadidi</td>\n",
       "    </tr>\n",
       "    <tr>\n",
       "      <th>3</th>\n",
       "      <td>Aga Khan Development Network</td>\n",
       "      <td>Ismaili imam</td>\n",
       "      <td>Ismaili imam</td>\n",
       "      <td>Answer: His Highness Prince Rahim Aga Khan V, ...</td>\n",
       "      <td>high</td>\n",
       "      <td>His Highness Prince Rahim Aga Khan V</td>\n",
       "    </tr>\n",
       "    <tr>\n",
       "      <th>4</th>\n",
       "      <td>All European Academies</td>\n",
       "      <td>Antonio Loprieno</td>\n",
       "      <td>Antonio Loprieno</td>\n",
       "      <td>Answer: Paweł Rowiński, Confidence: high.</td>\n",
       "      <td>high</td>\n",
       "      <td>Paweł Rowiński</td>\n",
       "    </tr>\n",
       "    <tr>\n",
       "      <th>...</th>\n",
       "      <td>...</td>\n",
       "      <td>...</td>\n",
       "      <td>...</td>\n",
       "      <td>...</td>\n",
       "      <td>...</td>\n",
       "      <td>...</td>\n",
       "    </tr>\n",
       "    <tr>\n",
       "      <th>320</th>\n",
       "      <td>World Women’s Snooker</td>\n",
       "      <td>Mandy Fisher</td>\n",
       "      <td>Mandy Fisher</td>\n",
       "      <td>Answer: Mandy Fisher, Confidence: medium</td>\n",
       "      <td>medium</td>\n",
       "      <td>Mandy Fisher</td>\n",
       "    </tr>\n",
       "    <tr>\n",
       "      <th>321</th>\n",
       "      <td>World Zionist Organization</td>\n",
       "      <td>Yaakov Hagoel</td>\n",
       "      <td>Yaakov Hagoel</td>\n",
       "      <td>Answer: Tova Dorfman, Confidence: high</td>\n",
       "      <td>high</td>\n",
       "      <td>Tova Dorfman</td>\n",
       "    </tr>\n",
       "    <tr>\n",
       "      <th>322</th>\n",
       "      <td>World Baseball Softball Confederation</td>\n",
       "      <td>Riccardo Fraccari</td>\n",
       "      <td>Riccardo Fraccari</td>\n",
       "      <td>Answer: Riccardo Fraccari, Confidence: high</td>\n",
       "      <td>high</td>\n",
       "      <td>Riccardo Fraccari</td>\n",
       "    </tr>\n",
       "    <tr>\n",
       "      <th>323</th>\n",
       "      <td>Young Christian Workers</td>\n",
       "      <td>Laetitia M. Navarro</td>\n",
       "      <td>Laetitia M. Navarro</td>\n",
       "      <td>Answer: Basma Louis, Confidence: medium</td>\n",
       "      <td>medium</td>\n",
       "      <td>Basma Louis</td>\n",
       "    </tr>\n",
       "    <tr>\n",
       "      <th>324</th>\n",
       "      <td>Young Pirates of Europe</td>\n",
       "      <td>Arnaldur Sigurðarson</td>\n",
       "      <td>Arnaldur Sigurðarson</td>\n",
       "      <td>Answer: Šárka Václavíková, Confidence: medium</td>\n",
       "      <td>medium</td>\n",
       "      <td>Šárka Václavíková</td>\n",
       "    </tr>\n",
       "  </tbody>\n",
       "</table>\n",
       "<p>325 rows × 6 columns</p>\n",
       "</div>"
      ],
      "text/plain": [
       "                               organizationLabel  \\\n",
       "0                       African Development Bank   \n",
       "1                   African Paralympic Committee   \n",
       "2    Afro-Asian People's Solidarity Organization   \n",
       "3                   Aga Khan Development Network   \n",
       "4                         All European Academies   \n",
       "..                                           ...   \n",
       "320                        World Women’s Snooker   \n",
       "321                   World Zionist Organization   \n",
       "322        World Baseball Softball Confederation   \n",
       "323                      Young Christian Workers   \n",
       "324                      Young Pirates of Europe   \n",
       "\n",
       "                                     positionLabel      officeholderLabel  \\\n",
       "0                                 Akinwumi Adesina       Akinwumi Adesina   \n",
       "1    President of the African Paralympic Committee  Leonel da Rocha Pinto   \n",
       "2                                      Anwar Sadat            Anwar Sadat   \n",
       "3                                     Ismaili imam           Ismaili imam   \n",
       "4                                 Antonio Loprieno       Antonio Loprieno   \n",
       "..                                             ...                    ...   \n",
       "320                                   Mandy Fisher           Mandy Fisher   \n",
       "321                                  Yaakov Hagoel          Yaakov Hagoel   \n",
       "322                              Riccardo Fraccari      Riccardo Fraccari   \n",
       "323                            Laetitia M. Navarro    Laetitia M. Navarro   \n",
       "324                           Arnaldur Sigurðarson   Arnaldur Sigurðarson   \n",
       "\n",
       "                                            prediction Confidence  \\\n",
       "0          Answer: Akinwumi Adesina, Confidence: High.       High   \n",
       "1               Answer: Samson Deen, Confidence: High.       High   \n",
       "2         Answer: Dr. Helmi Hadidi, Confidence: medium     medium   \n",
       "3    Answer: His Highness Prince Rahim Aga Khan V, ...       high   \n",
       "4            Answer: Paweł Rowiński, Confidence: high.       high   \n",
       "..                                                 ...        ...   \n",
       "320           Answer: Mandy Fisher, Confidence: medium     medium   \n",
       "321             Answer: Tova Dorfman, Confidence: high       high   \n",
       "322        Answer: Riccardo Fraccari, Confidence: high       high   \n",
       "323            Answer: Basma Louis, Confidence: medium     medium   \n",
       "324      Answer: Šárka Václavíková, Confidence: medium     medium   \n",
       "\n",
       "                                   answer  \n",
       "0                        Akinwumi Adesina  \n",
       "1                             Samson Deen  \n",
       "2                        Dr. Helmi Hadidi  \n",
       "3    His Highness Prince Rahim Aga Khan V  \n",
       "4                          Paweł Rowiński  \n",
       "..                                    ...  \n",
       "320                          Mandy Fisher  \n",
       "321                          Tova Dorfman  \n",
       "322                     Riccardo Fraccari  \n",
       "323                           Basma Louis  \n",
       "324                     Šárka Václavíková  \n",
       "\n",
       "[325 rows x 6 columns]"
      ]
     },
     "execution_count": 6,
     "metadata": {},
     "output_type": "execute_result"
    }
   ],
   "source": [
    "df"
   ]
  },
  {
   "cell_type": "code",
   "execution_count": 7,
   "metadata": {},
   "outputs": [],
   "source": [
    "df.to_csv(\"international_organizations_leadership_31-03_results_llama.csv\", index=False)"
   ]
  },
  {
   "cell_type": "code",
   "execution_count": 9,
   "metadata": {},
   "outputs": [],
   "source": [
    "new_order = ['organizationLabel', 'officeholderLabel','answer', 'Confidence']\n",
    "df = df[new_order]\n"
   ]
  },
  {
   "cell_type": "code",
   "execution_count": 10,
   "metadata": {},
   "outputs": [
    {
     "data": {
      "text/html": [
       "<div>\n",
       "<style scoped>\n",
       "    .dataframe tbody tr th:only-of-type {\n",
       "        vertical-align: middle;\n",
       "    }\n",
       "\n",
       "    .dataframe tbody tr th {\n",
       "        vertical-align: top;\n",
       "    }\n",
       "\n",
       "    .dataframe thead th {\n",
       "        text-align: right;\n",
       "    }\n",
       "</style>\n",
       "<table border=\"1\" class=\"dataframe\">\n",
       "  <thead>\n",
       "    <tr style=\"text-align: right;\">\n",
       "      <th></th>\n",
       "      <th>organizationLabel</th>\n",
       "      <th>officeholderLabel</th>\n",
       "      <th>answer</th>\n",
       "      <th>Confidence</th>\n",
       "    </tr>\n",
       "  </thead>\n",
       "  <tbody>\n",
       "    <tr>\n",
       "      <th>0</th>\n",
       "      <td>African Development Bank</td>\n",
       "      <td>Akinwumi Adesina</td>\n",
       "      <td>Akinwumi Adesina</td>\n",
       "      <td>High</td>\n",
       "    </tr>\n",
       "    <tr>\n",
       "      <th>1</th>\n",
       "      <td>African Paralympic Committee</td>\n",
       "      <td>Leonel da Rocha Pinto</td>\n",
       "      <td>Samson Deen</td>\n",
       "      <td>High</td>\n",
       "    </tr>\n",
       "    <tr>\n",
       "      <th>2</th>\n",
       "      <td>Afro-Asian People's Solidarity Organization</td>\n",
       "      <td>Anwar Sadat</td>\n",
       "      <td>Dr. Helmi Hadidi</td>\n",
       "      <td>medium</td>\n",
       "    </tr>\n",
       "    <tr>\n",
       "      <th>3</th>\n",
       "      <td>Aga Khan Development Network</td>\n",
       "      <td>Ismaili imam</td>\n",
       "      <td>His Highness Prince Rahim Aga Khan V</td>\n",
       "      <td>high</td>\n",
       "    </tr>\n",
       "    <tr>\n",
       "      <th>4</th>\n",
       "      <td>All European Academies</td>\n",
       "      <td>Antonio Loprieno</td>\n",
       "      <td>Paweł Rowiński</td>\n",
       "      <td>high</td>\n",
       "    </tr>\n",
       "    <tr>\n",
       "      <th>...</th>\n",
       "      <td>...</td>\n",
       "      <td>...</td>\n",
       "      <td>...</td>\n",
       "      <td>...</td>\n",
       "    </tr>\n",
       "    <tr>\n",
       "      <th>320</th>\n",
       "      <td>World Women’s Snooker</td>\n",
       "      <td>Mandy Fisher</td>\n",
       "      <td>Mandy Fisher</td>\n",
       "      <td>medium</td>\n",
       "    </tr>\n",
       "    <tr>\n",
       "      <th>321</th>\n",
       "      <td>World Zionist Organization</td>\n",
       "      <td>Yaakov Hagoel</td>\n",
       "      <td>Tova Dorfman</td>\n",
       "      <td>high</td>\n",
       "    </tr>\n",
       "    <tr>\n",
       "      <th>322</th>\n",
       "      <td>World Baseball Softball Confederation</td>\n",
       "      <td>Riccardo Fraccari</td>\n",
       "      <td>Riccardo Fraccari</td>\n",
       "      <td>high</td>\n",
       "    </tr>\n",
       "    <tr>\n",
       "      <th>323</th>\n",
       "      <td>Young Christian Workers</td>\n",
       "      <td>Laetitia M. Navarro</td>\n",
       "      <td>Basma Louis</td>\n",
       "      <td>medium</td>\n",
       "    </tr>\n",
       "    <tr>\n",
       "      <th>324</th>\n",
       "      <td>Young Pirates of Europe</td>\n",
       "      <td>Arnaldur Sigurðarson</td>\n",
       "      <td>Šárka Václavíková</td>\n",
       "      <td>medium</td>\n",
       "    </tr>\n",
       "  </tbody>\n",
       "</table>\n",
       "<p>325 rows × 4 columns</p>\n",
       "</div>"
      ],
      "text/plain": [
       "                               organizationLabel      officeholderLabel  \\\n",
       "0                       African Development Bank       Akinwumi Adesina   \n",
       "1                   African Paralympic Committee  Leonel da Rocha Pinto   \n",
       "2    Afro-Asian People's Solidarity Organization            Anwar Sadat   \n",
       "3                   Aga Khan Development Network           Ismaili imam   \n",
       "4                         All European Academies       Antonio Loprieno   \n",
       "..                                           ...                    ...   \n",
       "320                        World Women’s Snooker           Mandy Fisher   \n",
       "321                   World Zionist Organization          Yaakov Hagoel   \n",
       "322        World Baseball Softball Confederation      Riccardo Fraccari   \n",
       "323                      Young Christian Workers    Laetitia M. Navarro   \n",
       "324                      Young Pirates of Europe   Arnaldur Sigurðarson   \n",
       "\n",
       "                                   answer Confidence  \n",
       "0                        Akinwumi Adesina       High  \n",
       "1                             Samson Deen       High  \n",
       "2                        Dr. Helmi Hadidi     medium  \n",
       "3    His Highness Prince Rahim Aga Khan V       high  \n",
       "4                          Paweł Rowiński       high  \n",
       "..                                    ...        ...  \n",
       "320                          Mandy Fisher     medium  \n",
       "321                          Tova Dorfman       high  \n",
       "322                     Riccardo Fraccari       high  \n",
       "323                           Basma Louis     medium  \n",
       "324                     Šárka Václavíková     medium  \n",
       "\n",
       "[325 rows x 4 columns]"
      ]
     },
     "execution_count": 10,
     "metadata": {},
     "output_type": "execute_result"
    }
   ],
   "source": [
    "df"
   ]
  },
  {
   "cell_type": "code",
   "execution_count": 3,
   "metadata": {},
   "outputs": [],
   "source": [
    "\n",
    "import pandas as pd\n",
    "\n",
    "df = pd.read_csv(\"international_organizations_leadership_31-03_results_llama.csv\")"
   ]
  },
  {
   "cell_type": "code",
   "execution_count": 5,
   "metadata": {},
   "outputs": [
    {
     "data": {
      "text/plain": [
       "0.7009345794392523"
      ]
     },
     "execution_count": 5,
     "metadata": {},
     "output_type": "execute_result"
    }
   ],
   "source": [
    "df['eval'].mean()"
   ]
  },
  {
   "cell_type": "code",
   "execution_count": 6,
   "metadata": {},
   "outputs": [
    {
     "data": {
      "text/plain": [
       "Index(['organizationLabel', 'officeholderLabel', 'answer', 'Confidence',\n",
       "       'eval'],\n",
       "      dtype='object')"
      ]
     },
     "execution_count": 6,
     "metadata": {},
     "output_type": "execute_result"
    }
   ],
   "source": [
    "df.columns"
   ]
  },
  {
   "cell_type": "code",
   "execution_count": 7,
   "metadata": {},
   "outputs": [
    {
     "name": "stderr",
     "output_type": "stream",
     "text": [
      "/root/autovu/venv/lib/python3.8/site-packages/fuzzywuzzy/fuzz.py:11: UserWarning: Using slow pure-python SequenceMatcher. Install python-Levenshtein to remove this warning\n",
      "  warnings.warn('Using slow pure-python SequenceMatcher. Install python-Levenshtein to remove this warning')\n"
     ]
    }
   ],
   "source": [
    "from entity_align import fuzzy_match\n",
    "\n",
    "\n",
    "df['outdated'] = df.apply(lambda x: not(fuzzy_match(x['officeholderLabel'], x['answer'])) if x['eval'] else None, axis=1)"
   ]
  },
  {
   "cell_type": "code",
   "execution_count": 14,
   "metadata": {},
   "outputs": [],
   "source": [
    "df_llama= pd.read_csv(\"international_organizations_leadership_31-03_results_llama_no_web.csv\")\n",
    "df_r1 = pd.read_csv(\"international_organizations_leadership_31-03_results_r1.csv\")"
   ]
  },
  {
   "cell_type": "code",
   "execution_count": 18,
   "metadata": {},
   "outputs": [],
   "source": [
    "from entity_align import extract_answer\n",
    "\n",
    "df_r1['answer']=df_r1['prediction'].astype(str).apply(lambda x: extract_answer(x))"
   ]
  },
  {
   "cell_type": "code",
   "execution_count": 20,
   "metadata": {},
   "outputs": [],
   "source": [
    "df_r1['confidence']=df_r1['prediction'].str.extract(r'(?i)\\b(high|medium|low)\\b')"
   ]
  },
  {
   "cell_type": "code",
   "execution_count": 23,
   "metadata": {},
   "outputs": [],
   "source": [
    "df_r1['eval'] = [\n",
    "    rowwise_eval(a1, a2) if e1 is True else None\n",
    "    for a1, a2, e1 in zip(df['answer'], df_r1['answer'], df['eval'])\n",
    "]\n"
   ]
  },
  {
   "cell_type": "code",
   "execution_count": 26,
   "metadata": {},
   "outputs": [],
   "source": [
    "df_r1 = df_r1[[\"organizationLabel\", \"officeholderLabel\",\"prediction\", \"confidence\", \"answer\", \"eval\"]]"
   ]
  },
  {
   "cell_type": "code",
   "execution_count": 28,
   "metadata": {},
   "outputs": [],
   "source": [
    "df_r1.drop(columns=['prediction']).to_csv(\"international_org_ann.csv\",index=False)"
   ]
  },
  {
   "cell_type": "code",
   "execution_count": 27,
   "metadata": {},
   "outputs": [],
   "source": [
    "df_r1.to_csv(\"international_organizations_leadership_31-03_results_r1.csv\", index=False)"
   ]
  },
  {
   "cell_type": "code",
   "execution_count": 12,
   "metadata": {},
   "outputs": [
    {
     "data": {
      "text/html": [
       "<div>\n",
       "<style scoped>\n",
       "    .dataframe tbody tr th:only-of-type {\n",
       "        vertical-align: middle;\n",
       "    }\n",
       "\n",
       "    .dataframe tbody tr th {\n",
       "        vertical-align: top;\n",
       "    }\n",
       "\n",
       "    .dataframe thead th {\n",
       "        text-align: right;\n",
       "    }\n",
       "</style>\n",
       "<table border=\"1\" class=\"dataframe\">\n",
       "  <thead>\n",
       "    <tr style=\"text-align: right;\">\n",
       "      <th></th>\n",
       "      <th>organizationLabel</th>\n",
       "      <th>officeholderLabel</th>\n",
       "      <th>answer</th>\n",
       "      <th>Confidence</th>\n",
       "      <th>eval</th>\n",
       "      <th>outdated</th>\n",
       "    </tr>\n",
       "  </thead>\n",
       "  <tbody>\n",
       "    <tr>\n",
       "      <th>1</th>\n",
       "      <td>African Paralympic Committee</td>\n",
       "      <td>Leonel da Rocha Pinto</td>\n",
       "      <td>Samson Deen</td>\n",
       "      <td>High</td>\n",
       "      <td>True</td>\n",
       "      <td>True</td>\n",
       "    </tr>\n",
       "    <tr>\n",
       "      <th>3</th>\n",
       "      <td>Aga Khan Development Network</td>\n",
       "      <td>Ismaili imam</td>\n",
       "      <td>His Highness Prince Rahim Aga Khan V</td>\n",
       "      <td>high</td>\n",
       "      <td>True</td>\n",
       "      <td>True</td>\n",
       "    </tr>\n",
       "    <tr>\n",
       "      <th>5</th>\n",
       "      <td>Alliance of Passenger Rail New Entrants in Europe</td>\n",
       "      <td>Erich Forster</td>\n",
       "      <td>Elmer van Buuren</td>\n",
       "      <td>high</td>\n",
       "      <td>True</td>\n",
       "      <td>True</td>\n",
       "    </tr>\n",
       "    <tr>\n",
       "      <th>7</th>\n",
       "      <td>American Association for the Advancement of Sc...</td>\n",
       "      <td>Eloise E. Clark</td>\n",
       "      <td>Marina Picciotto</td>\n",
       "      <td>high</td>\n",
       "      <td>True</td>\n",
       "      <td>True</td>\n",
       "    </tr>\n",
       "    <tr>\n",
       "      <th>10</th>\n",
       "      <td>Arab League</td>\n",
       "      <td>Secretary General of the Arab League</td>\n",
       "      <td>Ahmed Aboul Gheit</td>\n",
       "      <td>high</td>\n",
       "      <td>True</td>\n",
       "      <td>True</td>\n",
       "    </tr>\n",
       "    <tr>\n",
       "      <th>...</th>\n",
       "      <td>...</td>\n",
       "      <td>...</td>\n",
       "      <td>...</td>\n",
       "      <td>...</td>\n",
       "      <td>...</td>\n",
       "      <td>...</td>\n",
       "    </tr>\n",
       "    <tr>\n",
       "      <th>305</th>\n",
       "      <td>World Federation of United Nations Associations</td>\n",
       "      <td>Park Soo-gil</td>\n",
       "      <td>Dr. Shawn Chen</td>\n",
       "      <td>High</td>\n",
       "      <td>True</td>\n",
       "      <td>True</td>\n",
       "    </tr>\n",
       "    <tr>\n",
       "      <th>309</th>\n",
       "      <td>World League for Freedom and Democracy</td>\n",
       "      <td>Zhao Ziqi</td>\n",
       "      <td>Yao Eng-chi</td>\n",
       "      <td>medium</td>\n",
       "      <td>True</td>\n",
       "      <td>True</td>\n",
       "    </tr>\n",
       "    <tr>\n",
       "      <th>310</th>\n",
       "      <td>World Mountain Running Association</td>\n",
       "      <td>Jonathan Wyatt</td>\n",
       "      <td>Tomo Šarf</td>\n",
       "      <td>High</td>\n",
       "      <td>True</td>\n",
       "      <td>True</td>\n",
       "    </tr>\n",
       "    <tr>\n",
       "      <th>318</th>\n",
       "      <td>World Uyghur Congress</td>\n",
       "      <td>Dolkun Isa</td>\n",
       "      <td>Turghunjan Alawudun</td>\n",
       "      <td>high</td>\n",
       "      <td>True</td>\n",
       "      <td>True</td>\n",
       "    </tr>\n",
       "    <tr>\n",
       "      <th>321</th>\n",
       "      <td>World Zionist Organization</td>\n",
       "      <td>Yaakov Hagoel</td>\n",
       "      <td>Tova Dorfman</td>\n",
       "      <td>high</td>\n",
       "      <td>True</td>\n",
       "      <td>True</td>\n",
       "    </tr>\n",
       "  </tbody>\n",
       "</table>\n",
       "<p>131 rows × 6 columns</p>\n",
       "</div>"
      ],
      "text/plain": [
       "                                     organizationLabel  \\\n",
       "1                         African Paralympic Committee   \n",
       "3                         Aga Khan Development Network   \n",
       "5    Alliance of Passenger Rail New Entrants in Europe   \n",
       "7    American Association for the Advancement of Sc...   \n",
       "10                                         Arab League   \n",
       "..                                                 ...   \n",
       "305    World Federation of United Nations Associations   \n",
       "309             World League for Freedom and Democracy   \n",
       "310                 World Mountain Running Association   \n",
       "318                              World Uyghur Congress   \n",
       "321                         World Zionist Organization   \n",
       "\n",
       "                        officeholderLabel  \\\n",
       "1                   Leonel da Rocha Pinto   \n",
       "3                            Ismaili imam   \n",
       "5                           Erich Forster   \n",
       "7                         Eloise E. Clark   \n",
       "10   Secretary General of the Arab League   \n",
       "..                                    ...   \n",
       "305                          Park Soo-gil   \n",
       "309                             Zhao Ziqi   \n",
       "310                        Jonathan Wyatt   \n",
       "318                            Dolkun Isa   \n",
       "321                         Yaakov Hagoel   \n",
       "\n",
       "                                   answer Confidence  eval outdated  \n",
       "1                             Samson Deen       High  True     True  \n",
       "3    His Highness Prince Rahim Aga Khan V       high  True     True  \n",
       "5                        Elmer van Buuren       high  True     True  \n",
       "7                        Marina Picciotto       high  True     True  \n",
       "10                      Ahmed Aboul Gheit       high  True     True  \n",
       "..                                    ...        ...   ...      ...  \n",
       "305                        Dr. Shawn Chen       High  True     True  \n",
       "309                           Yao Eng-chi     medium  True     True  \n",
       "310                             Tomo Šarf       High  True     True  \n",
       "318                   Turghunjan Alawudun       high  True     True  \n",
       "321                          Tova Dorfman       high  True     True  \n",
       "\n",
       "[131 rows x 6 columns]"
      ]
     },
     "execution_count": 12,
     "metadata": {},
     "output_type": "execute_result"
    }
   ],
   "source": [
    "df[df['outdated']==True]"
   ]
  },
  {
   "cell_type": "code",
   "execution_count": null,
   "metadata": {},
   "outputs": [],
   "source": [
    "from entity_align import fuzzy_match\n",
    "\n",
    "\n",
    "#df_deepseek['outdated'] = df_deepseek.apply(lambda x: not(fuzzy_match(x['ceoLabel'], x['answer'])) if x['eval'] else None, axis=1)"
   ]
  },
  {
   "cell_type": "code",
   "execution_count": null,
   "metadata": {},
   "outputs": [],
   "source": [
    "#df.to_csv(\"international_organizations_leadership_31-03_results_llama.csv\", index=False)"
   ]
  },
  {
   "cell_type": "code",
   "execution_count": 13,
   "metadata": {},
   "outputs": [],
   "source": [
    "import pandas as pd\n",
    "\n",
    "df = pd.read_csv(\"international_org_ann_r1.csv\")"
   ]
  },
  {
   "cell_type": "code",
   "execution_count": 14,
   "metadata": {},
   "outputs": [
    {
     "data": {
      "text/plain": [
       "0.7253086419753086"
      ]
     },
     "execution_count": 14,
     "metadata": {},
     "output_type": "execute_result"
    }
   ],
   "source": [
    "df['eval'].mean()"
   ]
  },
  {
   "cell_type": "code",
   "execution_count": 32,
   "metadata": {},
   "outputs": [
    {
     "data": {
      "text/plain": [
       "89"
      ]
     },
     "execution_count": 32,
     "metadata": {},
     "output_type": "execute_result"
    }
   ],
   "source": [
    "len(df[df['eval'] == False])\n"
   ]
  },
  {
   "cell_type": "code",
   "execution_count": 24,
   "metadata": {},
   "outputs": [],
   "source": [
    "df_deepseek_no_web = pd.read_csv(\"international_organizations_leadership_31-03_results_r1_no_web.csv\")"
   ]
  },
  {
   "cell_type": "code",
   "execution_count": 26,
   "metadata": {},
   "outputs": [],
   "source": [
    "df_deepseek_no_web['confidence'] = df_deepseek_no_web['prediction'].str.extract(r'(?i)\\b(high|medium|low)\\b')"
   ]
  },
  {
   "cell_type": "code",
   "execution_count": 28,
   "metadata": {},
   "outputs": [],
   "source": [
    "\n",
    "from entity_align import extract_answer\n",
    "df_deepseek_no_web['answer'] = df_deepseek_no_web['prediction'].apply(lambda x: extract_answer(x))"
   ]
  },
  {
   "cell_type": "code",
   "execution_count": 34,
   "metadata": {},
   "outputs": [],
   "source": [
    "\n",
    "df_deepseek_no_web['eval'] = [\n",
    "    rowwise_eval(a1, a2) if e1 is True else None\n",
    "    for a1, a2, e1 in zip(df['answer'], df_deepseek_no_web['answer'], df['eval'])\n",
    "]\n"
   ]
  },
  {
   "cell_type": "code",
   "execution_count": 35,
   "metadata": {},
   "outputs": [
    {
     "data": {
      "text/plain": [
       "0       True\n",
       "1       True\n",
       "2      False\n",
       "3      False\n",
       "4       None\n",
       "       ...  \n",
       "320     None\n",
       "321    False\n",
       "322     True\n",
       "323     None\n",
       "324    False\n",
       "Name: eval, Length: 325, dtype: object"
      ]
     },
     "execution_count": 35,
     "metadata": {},
     "output_type": "execute_result"
    }
   ],
   "source": [
    "df_deepseek_no_web['eval']"
   ]
  },
  {
   "cell_type": "code",
   "execution_count": 1,
   "metadata": {},
   "outputs": [],
   "source": [
    "import pandas as pd\n",
    "\n",
    "df_deepseek_no_web = pd.read_csv(\"international_org_ann_r1_no_web.csv\")"
   ]
  },
  {
   "cell_type": "code",
   "execution_count": 3,
   "metadata": {},
   "outputs": [
    {
     "data": {
      "text/plain": [
       "0.27384615384615385"
      ]
     },
     "execution_count": 3,
     "metadata": {},
     "output_type": "execute_result"
    }
   ],
   "source": [
    "df_deepseek_no_web['eval'].mean()"
   ]
  },
  {
   "cell_type": "code",
   "execution_count": 4,
   "metadata": {},
   "outputs": [],
   "source": [
    "df_llama_no_web = pd.read_csv(\"international_organizations_leadership_31-03_results_llama_no_web.csv\")"
   ]
  },
  {
   "cell_type": "code",
   "execution_count": 5,
   "metadata": {},
   "outputs": [
    {
     "data": {
      "text/html": [
       "<div>\n",
       "<style scoped>\n",
       "    .dataframe tbody tr th:only-of-type {\n",
       "        vertical-align: middle;\n",
       "    }\n",
       "\n",
       "    .dataframe tbody tr th {\n",
       "        vertical-align: top;\n",
       "    }\n",
       "\n",
       "    .dataframe thead th {\n",
       "        text-align: right;\n",
       "    }\n",
       "</style>\n",
       "<table border=\"1\" class=\"dataframe\">\n",
       "  <thead>\n",
       "    <tr style=\"text-align: right;\">\n",
       "      <th></th>\n",
       "      <th>organizationLabel</th>\n",
       "      <th>positionLabel</th>\n",
       "      <th>officeholderLabel</th>\n",
       "      <th>prediction</th>\n",
       "    </tr>\n",
       "  </thead>\n",
       "  <tbody>\n",
       "    <tr>\n",
       "      <th>0</th>\n",
       "      <td>African Development Bank</td>\n",
       "      <td>Akinwumi Adesina</td>\n",
       "      <td>Akinwumi Adesina</td>\n",
       "      <td>Answer: Akinwumi Adesina, Confidence: High.</td>\n",
       "    </tr>\n",
       "    <tr>\n",
       "      <th>1</th>\n",
       "      <td>African Paralympic Committee</td>\n",
       "      <td>President of the African Paralympic Committee</td>\n",
       "      <td>Leonel da Rocha Pinto</td>\n",
       "      <td>I don't have access to a search engine to prov...</td>\n",
       "    </tr>\n",
       "    <tr>\n",
       "      <th>2</th>\n",
       "      <td>Afro-Asian People's Solidarity Organization</td>\n",
       "      <td>Anwar Sadat</td>\n",
       "      <td>Anwar Sadat</td>\n",
       "      <td>I couldn't find any information on the current...</td>\n",
       "    </tr>\n",
       "    <tr>\n",
       "      <th>3</th>\n",
       "      <td>Aga Khan Development Network</td>\n",
       "      <td>Ismaili imam</td>\n",
       "      <td>Ismaili imam</td>\n",
       "      <td>Answer: His Highness the Aga Khan IV, Confiden...</td>\n",
       "    </tr>\n",
       "    <tr>\n",
       "      <th>4</th>\n",
       "      <td>All European Academies</td>\n",
       "      <td>Antonio Loprieno</td>\n",
       "      <td>Antonio Loprieno</td>\n",
       "      <td>Answer: Antonio Loprieno, Confidence: medium</td>\n",
       "    </tr>\n",
       "    <tr>\n",
       "      <th>...</th>\n",
       "      <td>...</td>\n",
       "      <td>...</td>\n",
       "      <td>...</td>\n",
       "      <td>...</td>\n",
       "    </tr>\n",
       "    <tr>\n",
       "      <th>320</th>\n",
       "      <td>World Women’s Snooker</td>\n",
       "      <td>Mandy Fisher</td>\n",
       "      <td>Mandy Fisher</td>\n",
       "      <td>Mandy Fisher, but now it's Mink Nutcharut</td>\n",
       "    </tr>\n",
       "    <tr>\n",
       "      <th>321</th>\n",
       "      <td>World Zionist Organization</td>\n",
       "      <td>Yaakov Hagoel</td>\n",
       "      <td>Yaakov Hagoel</td>\n",
       "      <td>Answer: Yaakov Hagoel, Confidence: high.</td>\n",
       "    </tr>\n",
       "    <tr>\n",
       "      <th>322</th>\n",
       "      <td>World Baseball Softball Confederation</td>\n",
       "      <td>Riccardo Fraccari</td>\n",
       "      <td>Riccardo Fraccari</td>\n",
       "      <td>Riccardo Fraccari, Confidence: high.</td>\n",
       "    </tr>\n",
       "    <tr>\n",
       "      <th>323</th>\n",
       "      <td>Young Christian Workers</td>\n",
       "      <td>Laetitia M. Navarro</td>\n",
       "      <td>Laetitia M. Navarro</td>\n",
       "      <td>I apologize, but I cannot verify who the curre...</td>\n",
       "    </tr>\n",
       "    <tr>\n",
       "      <th>324</th>\n",
       "      <td>Young Pirates of Europe</td>\n",
       "      <td>Arnaldur Sigurðarson</td>\n",
       "      <td>Arnaldur Sigurðarson</td>\n",
       "      <td>I don't have access to a search engine to prov...</td>\n",
       "    </tr>\n",
       "  </tbody>\n",
       "</table>\n",
       "<p>325 rows × 4 columns</p>\n",
       "</div>"
      ],
      "text/plain": [
       "                               organizationLabel  \\\n",
       "0                       African Development Bank   \n",
       "1                   African Paralympic Committee   \n",
       "2    Afro-Asian People's Solidarity Organization   \n",
       "3                   Aga Khan Development Network   \n",
       "4                         All European Academies   \n",
       "..                                           ...   \n",
       "320                        World Women’s Snooker   \n",
       "321                   World Zionist Organization   \n",
       "322        World Baseball Softball Confederation   \n",
       "323                      Young Christian Workers   \n",
       "324                      Young Pirates of Europe   \n",
       "\n",
       "                                     positionLabel      officeholderLabel  \\\n",
       "0                                 Akinwumi Adesina       Akinwumi Adesina   \n",
       "1    President of the African Paralympic Committee  Leonel da Rocha Pinto   \n",
       "2                                      Anwar Sadat            Anwar Sadat   \n",
       "3                                     Ismaili imam           Ismaili imam   \n",
       "4                                 Antonio Loprieno       Antonio Loprieno   \n",
       "..                                             ...                    ...   \n",
       "320                                   Mandy Fisher           Mandy Fisher   \n",
       "321                                  Yaakov Hagoel          Yaakov Hagoel   \n",
       "322                              Riccardo Fraccari      Riccardo Fraccari   \n",
       "323                            Laetitia M. Navarro    Laetitia M. Navarro   \n",
       "324                           Arnaldur Sigurðarson   Arnaldur Sigurðarson   \n",
       "\n",
       "                                            prediction  \n",
       "0          Answer: Akinwumi Adesina, Confidence: High.  \n",
       "1    I don't have access to a search engine to prov...  \n",
       "2    I couldn't find any information on the current...  \n",
       "3    Answer: His Highness the Aga Khan IV, Confiden...  \n",
       "4         Answer: Antonio Loprieno, Confidence: medium  \n",
       "..                                                 ...  \n",
       "320          Mandy Fisher, but now it's Mink Nutcharut  \n",
       "321           Answer: Yaakov Hagoel, Confidence: high.  \n",
       "322               Riccardo Fraccari, Confidence: high.  \n",
       "323  I apologize, but I cannot verify who the curre...  \n",
       "324  I don't have access to a search engine to prov...  \n",
       "\n",
       "[325 rows x 4 columns]"
      ]
     },
     "execution_count": 5,
     "metadata": {},
     "output_type": "execute_result"
    }
   ],
   "source": [
    "df_llama_no_web"
   ]
  },
  {
   "cell_type": "code",
   "execution_count": 6,
   "metadata": {},
   "outputs": [],
   "source": [
    "from entity_align import extract_answer \n",
    "\n",
    "df_llama_no_web['confidence']=df_llama_no_web['prediction'].str.extract(r'(?i)\\b(high|medium|low)\\b')\n",
    "df_llama_no_web['answer'] = df_llama_no_web['prediction'].apply(lambda x:extract_answer(x))"
   ]
  },
  {
   "cell_type": "code",
   "execution_count": 9,
   "metadata": {},
   "outputs": [
    {
     "data": {
      "text/html": [
       "<div>\n",
       "<style scoped>\n",
       "    .dataframe tbody tr th:only-of-type {\n",
       "        vertical-align: middle;\n",
       "    }\n",
       "\n",
       "    .dataframe tbody tr th {\n",
       "        vertical-align: top;\n",
       "    }\n",
       "\n",
       "    .dataframe thead th {\n",
       "        text-align: right;\n",
       "    }\n",
       "</style>\n",
       "<table border=\"1\" class=\"dataframe\">\n",
       "  <thead>\n",
       "    <tr style=\"text-align: right;\">\n",
       "      <th></th>\n",
       "      <th>organizationLabel</th>\n",
       "      <th>positionLabel</th>\n",
       "      <th>officeholderLabel</th>\n",
       "      <th>prediction</th>\n",
       "      <th>confidence</th>\n",
       "      <th>answer</th>\n",
       "    </tr>\n",
       "  </thead>\n",
       "  <tbody>\n",
       "    <tr>\n",
       "      <th>0</th>\n",
       "      <td>African Development Bank</td>\n",
       "      <td>Akinwumi Adesina</td>\n",
       "      <td>Akinwumi Adesina</td>\n",
       "      <td>Answer: Akinwumi Adesina, Confidence: High.</td>\n",
       "      <td>High</td>\n",
       "      <td>Akinwumi Adesina</td>\n",
       "    </tr>\n",
       "    <tr>\n",
       "      <th>1</th>\n",
       "      <td>African Paralympic Committee</td>\n",
       "      <td>President of the African Paralympic Committee</td>\n",
       "      <td>Leonel da Rocha Pinto</td>\n",
       "      <td>I don't have access to a search engine to prov...</td>\n",
       "      <td>NaN</td>\n",
       "      <td>None</td>\n",
       "    </tr>\n",
       "    <tr>\n",
       "      <th>2</th>\n",
       "      <td>Afro-Asian People's Solidarity Organization</td>\n",
       "      <td>Anwar Sadat</td>\n",
       "      <td>Anwar Sadat</td>\n",
       "      <td>I couldn't find any information on the current...</td>\n",
       "      <td>NaN</td>\n",
       "      <td>None</td>\n",
       "    </tr>\n",
       "    <tr>\n",
       "      <th>3</th>\n",
       "      <td>Aga Khan Development Network</td>\n",
       "      <td>Ismaili imam</td>\n",
       "      <td>Ismaili imam</td>\n",
       "      <td>Answer: His Highness the Aga Khan IV, Confiden...</td>\n",
       "      <td>high</td>\n",
       "      <td>His Highness the Aga Khan IV</td>\n",
       "    </tr>\n",
       "    <tr>\n",
       "      <th>4</th>\n",
       "      <td>All European Academies</td>\n",
       "      <td>Antonio Loprieno</td>\n",
       "      <td>Antonio Loprieno</td>\n",
       "      <td>Answer: Antonio Loprieno, Confidence: medium</td>\n",
       "      <td>medium</td>\n",
       "      <td>Antonio Loprieno</td>\n",
       "    </tr>\n",
       "    <tr>\n",
       "      <th>...</th>\n",
       "      <td>...</td>\n",
       "      <td>...</td>\n",
       "      <td>...</td>\n",
       "      <td>...</td>\n",
       "      <td>...</td>\n",
       "      <td>...</td>\n",
       "    </tr>\n",
       "    <tr>\n",
       "      <th>320</th>\n",
       "      <td>World Women’s Snooker</td>\n",
       "      <td>Mandy Fisher</td>\n",
       "      <td>Mandy Fisher</td>\n",
       "      <td>Mandy Fisher, but now it's Mink Nutcharut</td>\n",
       "      <td>NaN</td>\n",
       "      <td>None</td>\n",
       "    </tr>\n",
       "    <tr>\n",
       "      <th>321</th>\n",
       "      <td>World Zionist Organization</td>\n",
       "      <td>Yaakov Hagoel</td>\n",
       "      <td>Yaakov Hagoel</td>\n",
       "      <td>Answer: Yaakov Hagoel, Confidence: high.</td>\n",
       "      <td>high</td>\n",
       "      <td>Yaakov Hagoel</td>\n",
       "    </tr>\n",
       "    <tr>\n",
       "      <th>322</th>\n",
       "      <td>World Baseball Softball Confederation</td>\n",
       "      <td>Riccardo Fraccari</td>\n",
       "      <td>Riccardo Fraccari</td>\n",
       "      <td>Riccardo Fraccari, Confidence: high.</td>\n",
       "      <td>high</td>\n",
       "      <td>None</td>\n",
       "    </tr>\n",
       "    <tr>\n",
       "      <th>323</th>\n",
       "      <td>Young Christian Workers</td>\n",
       "      <td>Laetitia M. Navarro</td>\n",
       "      <td>Laetitia M. Navarro</td>\n",
       "      <td>I apologize, but I cannot verify who the curre...</td>\n",
       "      <td>NaN</td>\n",
       "      <td>None</td>\n",
       "    </tr>\n",
       "    <tr>\n",
       "      <th>324</th>\n",
       "      <td>Young Pirates of Europe</td>\n",
       "      <td>Arnaldur Sigurðarson</td>\n",
       "      <td>Arnaldur Sigurðarson</td>\n",
       "      <td>I don't have access to a search engine to prov...</td>\n",
       "      <td>NaN</td>\n",
       "      <td>None</td>\n",
       "    </tr>\n",
       "  </tbody>\n",
       "</table>\n",
       "<p>325 rows × 6 columns</p>\n",
       "</div>"
      ],
      "text/plain": [
       "                               organizationLabel  \\\n",
       "0                       African Development Bank   \n",
       "1                   African Paralympic Committee   \n",
       "2    Afro-Asian People's Solidarity Organization   \n",
       "3                   Aga Khan Development Network   \n",
       "4                         All European Academies   \n",
       "..                                           ...   \n",
       "320                        World Women’s Snooker   \n",
       "321                   World Zionist Organization   \n",
       "322        World Baseball Softball Confederation   \n",
       "323                      Young Christian Workers   \n",
       "324                      Young Pirates of Europe   \n",
       "\n",
       "                                     positionLabel      officeholderLabel  \\\n",
       "0                                 Akinwumi Adesina       Akinwumi Adesina   \n",
       "1    President of the African Paralympic Committee  Leonel da Rocha Pinto   \n",
       "2                                      Anwar Sadat            Anwar Sadat   \n",
       "3                                     Ismaili imam           Ismaili imam   \n",
       "4                                 Antonio Loprieno       Antonio Loprieno   \n",
       "..                                             ...                    ...   \n",
       "320                                   Mandy Fisher           Mandy Fisher   \n",
       "321                                  Yaakov Hagoel          Yaakov Hagoel   \n",
       "322                              Riccardo Fraccari      Riccardo Fraccari   \n",
       "323                            Laetitia M. Navarro    Laetitia M. Navarro   \n",
       "324                           Arnaldur Sigurðarson   Arnaldur Sigurðarson   \n",
       "\n",
       "                                            prediction confidence  \\\n",
       "0          Answer: Akinwumi Adesina, Confidence: High.       High   \n",
       "1    I don't have access to a search engine to prov...        NaN   \n",
       "2    I couldn't find any information on the current...        NaN   \n",
       "3    Answer: His Highness the Aga Khan IV, Confiden...       high   \n",
       "4         Answer: Antonio Loprieno, Confidence: medium     medium   \n",
       "..                                                 ...        ...   \n",
       "320          Mandy Fisher, but now it's Mink Nutcharut        NaN   \n",
       "321           Answer: Yaakov Hagoel, Confidence: high.       high   \n",
       "322               Riccardo Fraccari, Confidence: high.       high   \n",
       "323  I apologize, but I cannot verify who the curre...        NaN   \n",
       "324  I don't have access to a search engine to prov...        NaN   \n",
       "\n",
       "                           answer  \n",
       "0                Akinwumi Adesina  \n",
       "1                            None  \n",
       "2                            None  \n",
       "3    His Highness the Aga Khan IV  \n",
       "4                Antonio Loprieno  \n",
       "..                            ...  \n",
       "320                          None  \n",
       "321                 Yaakov Hagoel  \n",
       "322                          None  \n",
       "323                          None  \n",
       "324                          None  \n",
       "\n",
       "[325 rows x 6 columns]"
      ]
     },
     "execution_count": 9,
     "metadata": {},
     "output_type": "execute_result"
    }
   ],
   "source": [
    "df_llama_no_web"
   ]
  },
  {
   "cell_type": "code",
   "execution_count": 11,
   "metadata": {},
   "outputs": [],
   "source": [
    "df_llama_no_web.drop(columns=['positionLabel','prediction']).to_csv(\"international_organizations_leadership_31-03_results_llama_no_web.csv\", index=False)"
   ]
  },
  {
   "cell_type": "code",
   "execution_count": 16,
   "metadata": {},
   "outputs": [],
   "source": [
    "\n",
    "df_llama_no_web['eval'] = [\n",
    "    rowwise_eval(a1, a2) if e1 is True else None\n",
    "    for a1, a2, e1 in zip(df['answer'], df_llama_no_web['answer'], df['eval'])\n",
    "]\n"
   ]
  },
  {
   "cell_type": "code",
   "execution_count": 18,
   "metadata": {},
   "outputs": [],
   "source": [
    "df_llama_no_web.to_csv(\"international_organizations_leadership_31-03_results_llama_no_web.csv\", index=False)"
   ]
  },
  {
   "cell_type": "code",
   "execution_count": 19,
   "metadata": {},
   "outputs": [],
   "source": [
    "df_llama_no_web.drop(columns=['positionLabel', 'prediction']).to_csv(\"international_organizations_leadership_31-03_results_llama_no_web.csv\", index=False)"
   ]
  },
  {
   "cell_type": "code",
   "execution_count": 78,
   "metadata": {},
   "outputs": [
    {
     "data": {
      "text/html": [
       "<div>\n",
       "<style scoped>\n",
       "    .dataframe tbody tr th:only-of-type {\n",
       "        vertical-align: middle;\n",
       "    }\n",
       "\n",
       "    .dataframe tbody tr th {\n",
       "        vertical-align: top;\n",
       "    }\n",
       "\n",
       "    .dataframe thead th {\n",
       "        text-align: right;\n",
       "    }\n",
       "</style>\n",
       "<table border=\"1\" class=\"dataframe\">\n",
       "  <thead>\n",
       "    <tr style=\"text-align: right;\">\n",
       "      <th></th>\n",
       "      <th>organizationLabel</th>\n",
       "      <th>positionLabel</th>\n",
       "      <th>officeholderLabel</th>\n",
       "      <th>prediction</th>\n",
       "      <th>confidence</th>\n",
       "      <th>answer</th>\n",
       "      <th>eval</th>\n",
       "    </tr>\n",
       "  </thead>\n",
       "  <tbody>\n",
       "    <tr>\n",
       "      <th>324</th>\n",
       "      <td>Young Pirates of Europe</td>\n",
       "      <td>Arnaldur Sigurðarson</td>\n",
       "      <td>Arnaldur Sigurðarson</td>\n",
       "      <td>I don't have access to a search engine to prov...</td>\n",
       "      <td>NaN</td>\n",
       "      <td>None</td>\n",
       "      <td>False</td>\n",
       "    </tr>\n",
       "  </tbody>\n",
       "</table>\n",
       "</div>"
      ],
      "text/plain": [
       "           organizationLabel         positionLabel     officeholderLabel  \\\n",
       "324  Young Pirates of Europe  Arnaldur Sigurðarson  Arnaldur Sigurðarson   \n",
       "\n",
       "                                            prediction confidence answer  \\\n",
       "324  I don't have access to a search engine to prov...        NaN   None   \n",
       "\n",
       "      eval  \n",
       "324  False  "
      ]
     },
     "execution_count": 78,
     "metadata": {},
     "output_type": "execute_result"
    }
   ],
   "source": [
    "df_llama_no_web.query(\"organizationLabel=='Young Pirates of Europe'\")\n"
   ]
  },
  {
   "cell_type": "code",
   "execution_count": 81,
   "metadata": {},
   "outputs": [],
   "source": [
    "df_llama_no_web.to_csv(\"backup.csv\",index=False)"
   ]
  },
  {
   "cell_type": "code",
   "execution_count": 82,
   "metadata": {},
   "outputs": [],
   "source": [
    "df = pd.read_csv(\"international_organizations_leadership_31-03_results_llama_no_web.csv\")"
   ]
  },
  {
   "cell_type": "code",
   "execution_count": 84,
   "metadata": {},
   "outputs": [
    {
     "data": {
      "text/plain": [
       "0.18885448916408668"
      ]
     },
     "execution_count": 84,
     "metadata": {},
     "output_type": "execute_result"
    }
   ],
   "source": [
    "df['eval'].mean()"
   ]
  },
  {
   "cell_type": "code",
   "execution_count": 2,
   "metadata": {},
   "outputs": [],
   "source": [
    "import pandas as pd\n",
    "\n",
    "df = pd.read_csv(\"international_organizations_leadership_31-03_results_gpt.csv\")"
   ]
  },
  {
   "cell_type": "code",
   "execution_count": 4,
   "metadata": {},
   "outputs": [],
   "source": [
    "import pandas as pd\n",
    "import re\n",
    "\n",
    "def extract_fields(text):\n",
    "    pattern = (\n",
    "        r\"Answer:\\s*(?P<answer>.*?)\\s*\"\n",
    "        r\"Confidence:\\s*(?P<confidence>.*?)\\s*\"\n",
    "        r\"Reference:\\s*(?P<reference>.*?)\\s*$\"\n",
    "    )\n",
    "    match = re.search(pattern, text, re.DOTALL)\n",
    "    if match:\n",
    "        return match.group(\"answer\"), match.group(\"confidence\"), match.group(\"reference\")\n",
    "    else:\n",
    "        return None, None, None\n",
    "\n",
    "df[['answer', 'confidence', 'reference']] = df['prediction'].astype(str).apply(\n",
    "    lambda x: pd.Series(extract_fields(x))\n",
    ")"
   ]
  },
  {
   "cell_type": "code",
   "execution_count": 5,
   "metadata": {},
   "outputs": [
    {
     "data": {
      "text/html": [
       "<div>\n",
       "<style scoped>\n",
       "    .dataframe tbody tr th:only-of-type {\n",
       "        vertical-align: middle;\n",
       "    }\n",
       "\n",
       "    .dataframe tbody tr th {\n",
       "        vertical-align: top;\n",
       "    }\n",
       "\n",
       "    .dataframe thead th {\n",
       "        text-align: right;\n",
       "    }\n",
       "</style>\n",
       "<table border=\"1\" class=\"dataframe\">\n",
       "  <thead>\n",
       "    <tr style=\"text-align: right;\">\n",
       "      <th></th>\n",
       "      <th>organizationLabel</th>\n",
       "      <th>positionLabel</th>\n",
       "      <th>officeholderLabel</th>\n",
       "      <th>prediction</th>\n",
       "      <th>answer</th>\n",
       "      <th>confidence</th>\n",
       "      <th>reference</th>\n",
       "    </tr>\n",
       "  </thead>\n",
       "  <tbody>\n",
       "    <tr>\n",
       "      <th>0</th>\n",
       "      <td>African Development Bank</td>\n",
       "      <td>Akinwumi Adesina</td>\n",
       "      <td>Akinwumi Adesina</td>\n",
       "      <td>Answer: Akinwumi Adesina\\nConfidence: high\\nRe...</td>\n",
       "      <td>Akinwumi Adesina</td>\n",
       "      <td>high</td>\n",
       "      <td>([afdb.org](https://www.afdb.org/en/about-us/o...</td>\n",
       "    </tr>\n",
       "    <tr>\n",
       "      <th>1</th>\n",
       "      <td>African Paralympic Committee</td>\n",
       "      <td>President of the African Paralympic Committee</td>\n",
       "      <td>Leonel da Rocha Pinto</td>\n",
       "      <td>Answer: Samson Deen\\nConfidence: High\\nReferen...</td>\n",
       "      <td>Samson Deen</td>\n",
       "      <td>High</td>\n",
       "      <td>([paralympic.org](https://www.paralympic.org/n...</td>\n",
       "    </tr>\n",
       "    <tr>\n",
       "      <th>2</th>\n",
       "      <td>Afro-Asian People's Solidarity Organization</td>\n",
       "      <td>Anwar Sadat</td>\n",
       "      <td>Anwar Sadat</td>\n",
       "      <td>Answer: Dr. Helmy El-Hadidi\\n\\nConfidence: Hig...</td>\n",
       "      <td>Dr. Helmy El-Hadidi</td>\n",
       "      <td>High</td>\n",
       "      <td>([aapsorg.org](https://www.aapsorg.org/en/?utm...</td>\n",
       "    </tr>\n",
       "    <tr>\n",
       "      <th>3</th>\n",
       "      <td>Aga Khan Development Network</td>\n",
       "      <td>Ismaili imam</td>\n",
       "      <td>Ismaili imam</td>\n",
       "      <td>Answer: His Highness Prince Rahim Aga Khan V\\n...</td>\n",
       "      <td>His Highness Prince Rahim Aga Khan V</td>\n",
       "      <td>high</td>\n",
       "      <td>([the.akdn](https://the.akdn/en/who-we-are?utm...</td>\n",
       "    </tr>\n",
       "    <tr>\n",
       "      <th>4</th>\n",
       "      <td>All European Academies</td>\n",
       "      <td>Antonio Loprieno</td>\n",
       "      <td>Antonio Loprieno</td>\n",
       "      <td>Answer: Paweł Rowiński\\nConfidence: high\\nRefe...</td>\n",
       "      <td>Paweł Rowiński</td>\n",
       "      <td>high</td>\n",
       "      <td>([allea.org](https://allea.org/allea-turns-30-...</td>\n",
       "    </tr>\n",
       "    <tr>\n",
       "      <th>...</th>\n",
       "      <td>...</td>\n",
       "      <td>...</td>\n",
       "      <td>...</td>\n",
       "      <td>...</td>\n",
       "      <td>...</td>\n",
       "      <td>...</td>\n",
       "      <td>...</td>\n",
       "    </tr>\n",
       "    <tr>\n",
       "      <th>320</th>\n",
       "      <td>World Women’s Snooker</td>\n",
       "      <td>Mandy Fisher</td>\n",
       "      <td>Mandy Fisher</td>\n",
       "      <td>Answer: Mandy Fisher\\nConfidence: high\\nRefere...</td>\n",
       "      <td>Mandy Fisher</td>\n",
       "      <td>high</td>\n",
       "      <td>([womenssnooker.com](https://www.womenssnooker...</td>\n",
       "    </tr>\n",
       "    <tr>\n",
       "      <th>321</th>\n",
       "      <td>World Zionist Organization</td>\n",
       "      <td>Yaakov Hagoel</td>\n",
       "      <td>Yaakov Hagoel</td>\n",
       "      <td>Answer: Tova Dorfman\\nConfidence: High\\nRefere...</td>\n",
       "      <td>Tova Dorfman</td>\n",
       "      <td>High</td>\n",
       "      <td>([wzo.org.il](https://www.wzo.org.il/page/offi...</td>\n",
       "    </tr>\n",
       "    <tr>\n",
       "      <th>322</th>\n",
       "      <td>World Baseball Softball Confederation</td>\n",
       "      <td>Riccardo Fraccari</td>\n",
       "      <td>Riccardo Fraccari</td>\n",
       "      <td>Answer: Riccardo Fraccari\\nConfidence: high\\nR...</td>\n",
       "      <td>Riccardo Fraccari</td>\n",
       "      <td>high</td>\n",
       "      <td>([en.wikipedia.org](https://en.wikipedia.org/w...</td>\n",
       "    </tr>\n",
       "    <tr>\n",
       "      <th>323</th>\n",
       "      <td>Young Christian Workers</td>\n",
       "      <td>Laetitia M. Navarro</td>\n",
       "      <td>Laetitia M. Navarro</td>\n",
       "      <td>Answer: Sarah Prenger\\n\\nConfidence: High\\n\\nR...</td>\n",
       "      <td>Sarah Prenger</td>\n",
       "      <td>High</td>\n",
       "      <td>([joci.org](https://joci.org/en/press-releases...</td>\n",
       "    </tr>\n",
       "    <tr>\n",
       "      <th>324</th>\n",
       "      <td>Young Pirates of Europe</td>\n",
       "      <td>Arnaldur Sigurðarson</td>\n",
       "      <td>Arnaldur Sigurðarson</td>\n",
       "      <td>Answer: Samuel Enenkl\\n\\nConfidence: high\\n\\nR...</td>\n",
       "      <td>Samuel Enenkl</td>\n",
       "      <td>high</td>\n",
       "      <td>([discourse.european-pirateparty.eu](https://d...</td>\n",
       "    </tr>\n",
       "  </tbody>\n",
       "</table>\n",
       "<p>325 rows × 7 columns</p>\n",
       "</div>"
      ],
      "text/plain": [
       "                               organizationLabel  \\\n",
       "0                       African Development Bank   \n",
       "1                   African Paralympic Committee   \n",
       "2    Afro-Asian People's Solidarity Organization   \n",
       "3                   Aga Khan Development Network   \n",
       "4                         All European Academies   \n",
       "..                                           ...   \n",
       "320                        World Women’s Snooker   \n",
       "321                   World Zionist Organization   \n",
       "322        World Baseball Softball Confederation   \n",
       "323                      Young Christian Workers   \n",
       "324                      Young Pirates of Europe   \n",
       "\n",
       "                                     positionLabel      officeholderLabel  \\\n",
       "0                                 Akinwumi Adesina       Akinwumi Adesina   \n",
       "1    President of the African Paralympic Committee  Leonel da Rocha Pinto   \n",
       "2                                      Anwar Sadat            Anwar Sadat   \n",
       "3                                     Ismaili imam           Ismaili imam   \n",
       "4                                 Antonio Loprieno       Antonio Loprieno   \n",
       "..                                             ...                    ...   \n",
       "320                                   Mandy Fisher           Mandy Fisher   \n",
       "321                                  Yaakov Hagoel          Yaakov Hagoel   \n",
       "322                              Riccardo Fraccari      Riccardo Fraccari   \n",
       "323                            Laetitia M. Navarro    Laetitia M. Navarro   \n",
       "324                           Arnaldur Sigurðarson   Arnaldur Sigurðarson   \n",
       "\n",
       "                                            prediction  \\\n",
       "0    Answer: Akinwumi Adesina\\nConfidence: high\\nRe...   \n",
       "1    Answer: Samson Deen\\nConfidence: High\\nReferen...   \n",
       "2    Answer: Dr. Helmy El-Hadidi\\n\\nConfidence: Hig...   \n",
       "3    Answer: His Highness Prince Rahim Aga Khan V\\n...   \n",
       "4    Answer: Paweł Rowiński\\nConfidence: high\\nRefe...   \n",
       "..                                                 ...   \n",
       "320  Answer: Mandy Fisher\\nConfidence: high\\nRefere...   \n",
       "321  Answer: Tova Dorfman\\nConfidence: High\\nRefere...   \n",
       "322  Answer: Riccardo Fraccari\\nConfidence: high\\nR...   \n",
       "323  Answer: Sarah Prenger\\n\\nConfidence: High\\n\\nR...   \n",
       "324  Answer: Samuel Enenkl\\n\\nConfidence: high\\n\\nR...   \n",
       "\n",
       "                                   answer confidence  \\\n",
       "0                        Akinwumi Adesina       high   \n",
       "1                             Samson Deen       High   \n",
       "2                     Dr. Helmy El-Hadidi       High   \n",
       "3    His Highness Prince Rahim Aga Khan V       high   \n",
       "4                          Paweł Rowiński       high   \n",
       "..                                    ...        ...   \n",
       "320                          Mandy Fisher       high   \n",
       "321                          Tova Dorfman       High   \n",
       "322                     Riccardo Fraccari       high   \n",
       "323                         Sarah Prenger       High   \n",
       "324                         Samuel Enenkl       high   \n",
       "\n",
       "                                             reference  \n",
       "0    ([afdb.org](https://www.afdb.org/en/about-us/o...  \n",
       "1    ([paralympic.org](https://www.paralympic.org/n...  \n",
       "2    ([aapsorg.org](https://www.aapsorg.org/en/?utm...  \n",
       "3    ([the.akdn](https://the.akdn/en/who-we-are?utm...  \n",
       "4    ([allea.org](https://allea.org/allea-turns-30-...  \n",
       "..                                                 ...  \n",
       "320  ([womenssnooker.com](https://www.womenssnooker...  \n",
       "321  ([wzo.org.il](https://www.wzo.org.il/page/offi...  \n",
       "322  ([en.wikipedia.org](https://en.wikipedia.org/w...  \n",
       "323  ([joci.org](https://joci.org/en/press-releases...  \n",
       "324  ([discourse.european-pirateparty.eu](https://d...  \n",
       "\n",
       "[325 rows x 7 columns]"
      ]
     },
     "execution_count": 5,
     "metadata": {},
     "output_type": "execute_result"
    }
   ],
   "source": [
    "df"
   ]
  },
  {
   "cell_type": "code",
   "execution_count": 7,
   "metadata": {},
   "outputs": [],
   "source": [
    "ref_io = pd.read_csv(\"exp_results/international_org_ann_r1.csv\")\n",
    "ref_bg = pd.read_csv(\"exp_results/bank_governors_results_deepseek.csv\")\n",
    "ref_ceo =pd.read_csv(\"exp_results/ceo_deepseek_with_web_processed.csv\")\n"
   ]
  },
  {
   "cell_type": "code",
   "execution_count": 34,
   "metadata": {},
   "outputs": [],
   "source": [
    "import pandas as pd\n",
    "\n",
    "bg_gpt_no_web=pd.read_csv(\"exp_results/bank_governors_01-04_results_gpt_no_web.csv\")\n",
    "ceo_gpt_no_web=pd.read_csv(\"exp_results/company_ceo_31-03_results_gpt_no_web.csv\")\n",
    "io_gpt_no_web=pd.read_csv(\"exp_results/international_organizations_leadership_31-03_results_gpt_no_web.csv\")"
   ]
  },
  {
   "cell_type": "code",
   "execution_count": 35,
   "metadata": {},
   "outputs": [],
   "source": [
    "from entity_align import extract_answer\n",
    "\n",
    "io_gpt_no_web['confidence'] = io_gpt_no_web['prediction'].str.extract(r'(?i)\\b(high|medium|low)\\b')\n",
    "io_gpt_no_web['answer'] = io_gpt_no_web['prediction'].apply(lambda x: extract_answer(x))"
   ]
  },
  {
   "cell_type": "code",
   "execution_count": null,
   "metadata": {},
   "outputs": [],
   "source": [
    "#inter =ceo_gpt_no_web.merge(ref_ceo[['companyLabel', 'answer']], on='companyLabel', how='left')"
   ]
  },
  {
   "cell_type": "code",
   "execution_count": 36,
   "metadata": {},
   "outputs": [],
   "source": [
    "io_gpt_no_web['eval'] = [\n",
    "    rowwise_eval(a1, a2) if e1 is True else None\n",
    "    for a1, a2, e1 in zip(ref_io['answer'], io_gpt_no_web['answer'], ref_io['eval'])\n",
    "]\n"
   ]
  },
  {
   "cell_type": "code",
   "execution_count": 38,
   "metadata": {},
   "outputs": [],
   "source": [
    "io_gpt_no_web[['organizationLabel','officeholderLabel', 'confidence', 'answer', 'eval']].to_csv(\"io_gpt_no_web.csv\", index=False)"
   ]
  },
  {
   "cell_type": "code",
   "execution_count": null,
   "metadata": {},
   "outputs": [],
   "source": []
  },
  {
   "cell_type": "code",
   "execution_count": 15,
   "metadata": {},
   "outputs": [],
   "source": [
    "df = pd.read_csv(\"int_org_31-03_results_gpt.csv\")"
   ]
  },
  {
   "cell_type": "code",
   "execution_count": 17,
   "metadata": {},
   "outputs": [
    {
     "data": {
      "text/plain": [
       "0.7337461300309598"
      ]
     },
     "execution_count": 17,
     "metadata": {},
     "output_type": "execute_result"
    }
   ],
   "source": [
    "df['eval'].mean()"
   ]
  },
  {
   "cell_type": "code",
   "execution_count": 18,
   "metadata": {},
   "outputs": [
    {
     "data": {
      "text/plain": [
       "86"
      ]
     },
     "execution_count": 18,
     "metadata": {},
     "output_type": "execute_result"
    }
   ],
   "source": [
    "len(df[df['eval']==False])"
   ]
  },
  {
   "cell_type": "code",
   "execution_count": 21,
   "metadata": {},
   "outputs": [
    {
     "data": {
      "text/plain": [
       "0"
      ]
     },
     "execution_count": 21,
     "metadata": {},
     "output_type": "execute_result"
    }
   ],
   "source": [
    "len(df[(df['eval'] == False) & (df['confidence'].str.lower() == 'low')])"
   ]
  },
  {
   "cell_type": "code",
   "execution_count": 2,
   "metadata": {},
   "outputs": [],
   "source": [
    "import pandas as pd\n",
    "\n",
    "bg_r1=pd.read_csv(\"exp_results/bank_governors_results_deepseek.csv\")\n",
    "bg_llama=pd.read_csv(\"exp_results/bank_governors_results_llama.csv\")\n",
    "bg_gpt=pd.read_csv(\"exp_results/bank_governors_01-04_gpt_web.csv\")\n",
    "ceo_r1=pd.read_csv(\"exp_results/ceo_deepseek_with_web_processed.csv\")\n",
    "ceo_llama=pd.read_csv(\"exp_results/comp_ceo_results_llama.csv\")\n",
    "ceo_gpt=pd.read_csv(\"exp_results/company_ceo_31-03_results_gpt.csv\")\n",
    "io_r1=pd.read_csv(\"exp_results/international_org_ann_r1.csv\")\n",
    "io_llama=pd.read_csv(\"exp_results/international_organizations_leadership_31-03_results_llama.csv\")\n",
    "io_gpt=pd.read_csv(\"exp_results/int_org_31-03_results_gpt.csv\")"
   ]
  },
  {
   "cell_type": "code",
   "execution_count": 3,
   "metadata": {},
   "outputs": [
    {
     "data": {
      "text/plain": [
       "0.9545454545454546"
      ]
     },
     "execution_count": 3,
     "metadata": {},
     "output_type": "execute_result"
    }
   ],
   "source": [
    "bg_r1['eval'].mean()"
   ]
  },
  {
   "cell_type": "code",
   "execution_count": 4,
   "metadata": {},
   "outputs": [
    {
     "data": {
      "text/plain": [
       "0.9349112426035503"
      ]
     },
     "execution_count": 4,
     "metadata": {},
     "output_type": "execute_result"
    }
   ],
   "source": [
    "ceo_r1['eval'].mean()"
   ]
  },
  {
   "cell_type": "code",
   "execution_count": 5,
   "metadata": {},
   "outputs": [
    {
     "data": {
      "text/plain": [
       "0.8668639053254438"
      ]
     },
     "execution_count": 5,
     "metadata": {},
     "output_type": "execute_result"
    }
   ],
   "source": [
    "ceo_llama['eval'].mean()"
   ]
  },
  {
   "cell_type": "code",
   "execution_count": 6,
   "metadata": {},
   "outputs": [
    {
     "data": {
      "text/plain": [
       "0.9112426035502958"
      ]
     },
     "execution_count": 6,
     "metadata": {},
     "output_type": "execute_result"
    }
   ],
   "source": [
    "ceo_gpt['eval'].mean()"
   ]
  },
  {
   "cell_type": "code",
   "execution_count": 7,
   "metadata": {},
   "outputs": [
    {
     "data": {
      "text/plain": [
       "0.7253086419753086"
      ]
     },
     "execution_count": 7,
     "metadata": {},
     "output_type": "execute_result"
    }
   ],
   "source": [
    "io_r1['eval'].mean()"
   ]
  },
  {
   "cell_type": "code",
   "execution_count": 8,
   "metadata": {},
   "outputs": [
    {
     "data": {
      "text/plain": [
       "0.7009345794392523"
      ]
     },
     "execution_count": 8,
     "metadata": {},
     "output_type": "execute_result"
    }
   ],
   "source": [
    "io_llama['eval'].mean()"
   ]
  },
  {
   "cell_type": "code",
   "execution_count": 34,
   "metadata": {},
   "outputs": [
    {
     "data": {
      "text/plain": [
       "0.7337461300309598"
      ]
     },
     "execution_count": 34,
     "metadata": {},
     "output_type": "execute_result"
    }
   ],
   "source": [
    "io_gpt['eval'].mean()"
   ]
  },
  {
   "cell_type": "code",
   "execution_count": 13,
   "metadata": {},
   "outputs": [],
   "source": [
    "io_gpt = io_gpt.merge(io_r1[['organizationLabel', 'outdated']], on = 'organizationLabel', how = 'left')"
   ]
  },
  {
   "cell_type": "code",
   "execution_count": 14,
   "metadata": {},
   "outputs": [
    {
     "data": {
      "text/plain": [
       "129"
      ]
     },
     "execution_count": 14,
     "metadata": {},
     "output_type": "execute_result"
    }
   ],
   "source": [
    "len(io_gpt[(io_gpt['outdated']==True) & (io_gpt['eval']==True)])"
   ]
  },
  {
   "cell_type": "code",
   "execution_count": 11,
   "metadata": {},
   "outputs": [
    {
     "data": {
      "text/plain": [
       "199"
      ]
     },
     "execution_count": 11,
     "metadata": {},
     "output_type": "execute_result"
    }
   ],
   "source": [
    "len(io_r1[io_llama['outdated']==True])"
   ]
  },
  {
   "cell_type": "code",
   "execution_count": 25,
   "metadata": {},
   "outputs": [],
   "source": [
    "bg_gpt = bg_gpt.merge(bg_llama[['bankLabel', 'outdated']], on = 'bankLabel', how = 'left')"
   ]
  },
  {
   "cell_type": "code",
   "execution_count": 26,
   "metadata": {},
   "outputs": [
    {
     "data": {
      "text/plain": [
       "12"
      ]
     },
     "execution_count": 26,
     "metadata": {},
     "output_type": "execute_result"
    }
   ],
   "source": [
    "len(bg_gpt[(bg_gpt['outdated']==True) & (bg_gpt['eval']==True)])"
   ]
  },
  {
   "cell_type": "code",
   "execution_count": 28,
   "metadata": {},
   "outputs": [
    {
     "data": {
      "text/plain": [
       "12"
      ]
     },
     "execution_count": 28,
     "metadata": {},
     "output_type": "execute_result"
    }
   ],
   "source": [
    "len(bg_llama[bg_llama['outdated']==True])"
   ]
  },
  {
   "cell_type": "code",
   "execution_count": 43,
   "metadata": {},
   "outputs": [
    {
     "data": {
      "text/plain": [
       "325"
      ]
     },
     "execution_count": 43,
     "metadata": {},
     "output_type": "execute_result"
    }
   ],
   "source": [
    "len(io_r1)"
   ]
  },
  {
   "cell_type": "code",
   "execution_count": 44,
   "metadata": {},
   "outputs": [
    {
     "data": {
      "text/plain": [
       "125"
      ]
     },
     "execution_count": 44,
     "metadata": {},
     "output_type": "execute_result"
    }
   ],
   "source": [
    "len(io_r1[(io_r1['outdated']==True) & (io_r1['eval']==True)])"
   ]
  },
  {
   "cell_type": "code",
   "execution_count": 47,
   "metadata": {},
   "outputs": [
    {
     "data": {
      "text/html": [
       "<div>\n",
       "<style scoped>\n",
       "    .dataframe tbody tr th:only-of-type {\n",
       "        vertical-align: middle;\n",
       "    }\n",
       "\n",
       "    .dataframe tbody tr th {\n",
       "        vertical-align: top;\n",
       "    }\n",
       "\n",
       "    .dataframe thead th {\n",
       "        text-align: right;\n",
       "    }\n",
       "</style>\n",
       "<table border=\"1\" class=\"dataframe\">\n",
       "  <thead>\n",
       "    <tr style=\"text-align: right;\">\n",
       "      <th></th>\n",
       "      <th>organizationLabel</th>\n",
       "      <th>officeholderLabel</th>\n",
       "      <th>confidence</th>\n",
       "      <th>answer</th>\n",
       "      <th>eval</th>\n",
       "      <th>outdated</th>\n",
       "    </tr>\n",
       "  </thead>\n",
       "  <tbody>\n",
       "    <tr>\n",
       "      <th>0</th>\n",
       "      <td>African Development Bank</td>\n",
       "      <td>Akinwumi Adesina</td>\n",
       "      <td>high</td>\n",
       "      <td>Akinwumi Adesina</td>\n",
       "      <td>True</td>\n",
       "      <td>False</td>\n",
       "    </tr>\n",
       "    <tr>\n",
       "      <th>1</th>\n",
       "      <td>African Paralympic Committee</td>\n",
       "      <td>Leonel da Rocha Pinto</td>\n",
       "      <td>High</td>\n",
       "      <td>Samson Deen</td>\n",
       "      <td>True</td>\n",
       "      <td>True</td>\n",
       "    </tr>\n",
       "    <tr>\n",
       "      <th>2</th>\n",
       "      <td>Afro-Asian People's Solidarity Organization</td>\n",
       "      <td>Anwar Sadat</td>\n",
       "      <td>High</td>\n",
       "      <td>Dr. Helmy El-Hadidi</td>\n",
       "      <td>True</td>\n",
       "      <td>True</td>\n",
       "    </tr>\n",
       "    <tr>\n",
       "      <th>3</th>\n",
       "      <td>Aga Khan Development Network</td>\n",
       "      <td>Ismaili imam</td>\n",
       "      <td>high</td>\n",
       "      <td>His Highness Prince Rahim Aga Khan V</td>\n",
       "      <td>True</td>\n",
       "      <td>True</td>\n",
       "    </tr>\n",
       "    <tr>\n",
       "      <th>4</th>\n",
       "      <td>All European Academies</td>\n",
       "      <td>Antonio Loprieno</td>\n",
       "      <td>high</td>\n",
       "      <td>Paweł Rowiński</td>\n",
       "      <td>False</td>\n",
       "      <td>True</td>\n",
       "    </tr>\n",
       "    <tr>\n",
       "      <th>...</th>\n",
       "      <td>...</td>\n",
       "      <td>...</td>\n",
       "      <td>...</td>\n",
       "      <td>...</td>\n",
       "      <td>...</td>\n",
       "      <td>...</td>\n",
       "    </tr>\n",
       "    <tr>\n",
       "      <th>319</th>\n",
       "      <td>World Women’s Snooker</td>\n",
       "      <td>Mandy Fisher</td>\n",
       "      <td>high</td>\n",
       "      <td>Mandy Fisher</td>\n",
       "      <td>True</td>\n",
       "      <td>False</td>\n",
       "    </tr>\n",
       "    <tr>\n",
       "      <th>320</th>\n",
       "      <td>World Zionist Organization</td>\n",
       "      <td>Yaakov Hagoel</td>\n",
       "      <td>High</td>\n",
       "      <td>Tova Dorfman</td>\n",
       "      <td>True</td>\n",
       "      <td>True</td>\n",
       "    </tr>\n",
       "    <tr>\n",
       "      <th>321</th>\n",
       "      <td>World Baseball Softball Confederation</td>\n",
       "      <td>Riccardo Fraccari</td>\n",
       "      <td>high</td>\n",
       "      <td>Riccardo Fraccari</td>\n",
       "      <td>True</td>\n",
       "      <td>False</td>\n",
       "    </tr>\n",
       "    <tr>\n",
       "      <th>322</th>\n",
       "      <td>Young Christian Workers</td>\n",
       "      <td>Laetitia M. Navarro</td>\n",
       "      <td>High</td>\n",
       "      <td>Sarah Prenger</td>\n",
       "      <td>True</td>\n",
       "      <td>True</td>\n",
       "    </tr>\n",
       "    <tr>\n",
       "      <th>323</th>\n",
       "      <td>Young Pirates of Europe</td>\n",
       "      <td>Arnaldur Sigurðarson</td>\n",
       "      <td>high</td>\n",
       "      <td>Samuel Enenkl</td>\n",
       "      <td>True</td>\n",
       "      <td>True</td>\n",
       "    </tr>\n",
       "  </tbody>\n",
       "</table>\n",
       "<p>324 rows × 6 columns</p>\n",
       "</div>"
      ],
      "text/plain": [
       "                               organizationLabel      officeholderLabel  \\\n",
       "0                       African Development Bank       Akinwumi Adesina   \n",
       "1                   African Paralympic Committee  Leonel da Rocha Pinto   \n",
       "2    Afro-Asian People's Solidarity Organization            Anwar Sadat   \n",
       "3                   Aga Khan Development Network           Ismaili imam   \n",
       "4                         All European Academies       Antonio Loprieno   \n",
       "..                                           ...                    ...   \n",
       "319                        World Women’s Snooker           Mandy Fisher   \n",
       "320                   World Zionist Organization          Yaakov Hagoel   \n",
       "321        World Baseball Softball Confederation      Riccardo Fraccari   \n",
       "322                      Young Christian Workers    Laetitia M. Navarro   \n",
       "323                      Young Pirates of Europe   Arnaldur Sigurðarson   \n",
       "\n",
       "    confidence                                answer   eval outdated  \n",
       "0         high                      Akinwumi Adesina   True    False  \n",
       "1         High                           Samson Deen   True     True  \n",
       "2         High                   Dr. Helmy El-Hadidi   True     True  \n",
       "3         high  His Highness Prince Rahim Aga Khan V   True     True  \n",
       "4         high                        Paweł Rowiński  False     True  \n",
       "..         ...                                   ...    ...      ...  \n",
       "319       high                          Mandy Fisher   True    False  \n",
       "320       High                          Tova Dorfman   True     True  \n",
       "321       high                     Riccardo Fraccari   True    False  \n",
       "322       High                         Sarah Prenger   True     True  \n",
       "323       high                         Samuel Enenkl   True     True  \n",
       "\n",
       "[324 rows x 6 columns]"
      ]
     },
     "execution_count": 47,
     "metadata": {},
     "output_type": "execute_result"
    }
   ],
   "source": [
    "io_gpt = io_gpt.merge(io_r1[['organizationLabel', 'outdated']], on='organizationLabel', how='left')\n",
    "io_gpt"
   ]
  },
  {
   "cell_type": "code",
   "execution_count": 48,
   "metadata": {},
   "outputs": [
    {
     "data": {
      "text/plain": [
       "129"
      ]
     },
     "execution_count": 48,
     "metadata": {},
     "output_type": "execute_result"
    }
   ],
   "source": [
    "len(io_gpt[(io_gpt['outdated']==True) & (io_gpt['eval']==True)])"
   ]
  },
  {
   "cell_type": "code",
   "execution_count": 5,
   "metadata": {},
   "outputs": [],
   "source": [
    "import pandas as pd\n",
    "\n",
    "bg = pd.read_csv(\"bg_gpt_no_web.csv\")\n",
    "ceo = pd.read_csv(\"ceo_gpt_no_web.csv\")\n",
    "io = pd.read_csv(\"io_gpt_no_web.csv\")"
   ]
  },
  {
   "cell_type": "code",
   "execution_count": 2,
   "metadata": {},
   "outputs": [
    {
     "data": {
      "text/plain": [
       "0.6086956521739131"
      ]
     },
     "execution_count": 2,
     "metadata": {},
     "output_type": "execute_result"
    }
   ],
   "source": [
    "bg['eval'].mean()"
   ]
  },
  {
   "cell_type": "code",
   "execution_count": 4,
   "metadata": {},
   "outputs": [
    {
     "data": {
      "text/plain": [
       "0.2153846153846154"
      ]
     },
     "execution_count": 4,
     "metadata": {},
     "output_type": "execute_result"
    }
   ],
   "source": [
    "io['eval'].mean()"
   ]
  },
  {
   "cell_type": "code",
   "execution_count": 6,
   "metadata": {},
   "outputs": [
    {
     "data": {
      "text/plain": [
       "0.47928994082840237"
      ]
     },
     "execution_count": 6,
     "metadata": {},
     "output_type": "execute_result"
    }
   ],
   "source": [
    "ceo['eval'].mean()"
   ]
  },
  {
   "cell_type": "code",
   "execution_count": 9,
   "metadata": {},
   "outputs": [],
   "source": [
    "bg_gpt_web=pd.read_csv(\"bank_governors_01-04_gpt_web.csv\")"
   ]
  },
  {
   "cell_type": "code",
   "execution_count": 10,
   "metadata": {},
   "outputs": [
    {
     "name": "stderr",
     "output_type": "stream",
     "text": [
      "/root/autovu/venv/lib/python3.8/site-packages/fuzzywuzzy/fuzz.py:11: UserWarning: Using slow pure-python SequenceMatcher. Install python-Levenshtein to remove this warning\n",
      "  warnings.warn('Using slow pure-python SequenceMatcher. Install python-Levenshtein to remove this warning')\n"
     ]
    }
   ],
   "source": [
    "from entity_align import extract_answer\n",
    "bg_gpt_web['answer'] = bg_gpt_web['prediction'].apply(lambda x: extract_answer(x))\n",
    "bg_gpt_web['confidence'] = bg_gpt_web['prediction'].str.extract(r'(?i)\\b(high|medium|low)\\b')"
   ]
  },
  {
   "cell_type": "code",
   "execution_count": 13,
   "metadata": {},
   "outputs": [],
   "source": [
    "bg_gpt_web['eval'] = [\n",
    "    rowwise_eval(a1, a2) if e1 is True else None\n",
    "    for a1, a2, e1 in zip(ref_bg['answer'], bg_gpt_web['answer'], ref_bg['eval'])\n",
    "]\n"
   ]
  },
  {
   "cell_type": "code",
   "execution_count": 14,
   "metadata": {},
   "outputs": [],
   "source": [
    "bg_gpt_web.to_csv(\"bank_governors_01-04_gpt_web.csv\", index=False)"
   ]
  },
  {
   "cell_type": "code",
   "execution_count": 15,
   "metadata": {},
   "outputs": [
    {
     "data": {
      "text/plain": [
       "1.0"
      ]
     },
     "execution_count": 15,
     "metadata": {},
     "output_type": "execute_result"
    }
   ],
   "source": [
    "bg_gpt_web = pd.read_csv(\"bank_governors_01-04_gpt_web.csv\")\n",
    "\n",
    "\n",
    "bg_gpt_web['eval'].mean()"
   ]
  },
  {
   "cell_type": "code",
   "execution_count": 2,
   "metadata": {},
   "outputs": [
    {
     "name": "stdout",
     "output_type": "stream",
     "text": [
      "Title: Mike Reyes - LISI AEROSPACE NORTH AMERICA - LinkedIn\n",
      "Snippet: Mike Reyes. Chief Executive Officer at LISI AEROSPACE NORTH AMERICA. LISI AEROSPACE NORTH AMERICA University of Phoenix ...\n",
      "Date: N/A\n",
      "\n",
      "Title: Governance - LISI GROUP\n",
      "Snippet: Lionel RIVET Chief Executive Officer ; Marie-Georges BOUICHET Chief Quality & Regulatory Affairs Officer ; Kenneth DURHAM VP General Manager LISI MEDICAL US.\n",
      "Date: N/A\n",
      "\n",
      "Title: LISI AEROSPACE NORTH AMERICA | 28 comments - LinkedIn\n",
      "Snippet: We are happy to announce the appointment of our new Chief Executive Officer - North America, Scott Wood, who will lead the Fasteners North ...\n",
      "Date: Sep 6, 2024\n",
      "\n",
      "Title: MANAGEMENT - LISI - Lisi Automotive\n",
      "Snippet: François LIOTARD, Chief Executive Officer. Françoise ZAUGG, Finance, Marketing & Internal Control Director ; Martin BELEY, Managing Director Mechanical Safety ...\n",
      "Date: N/A\n",
      "\n",
      "Title: LISI Group CEO and Key Executive Team - Craft.co\n",
      "Snippet: LISI Group's Chief Executive Officer, Director is Emmanuel Viellard. Other executives include Jean-Philippe Kohler, Chairman of the Board of Directors; ...\n",
      "Date: N/A\n",
      "\n",
      "Title: Emmanuel Neildez - CEO, LISI Aerospace at LISI GROUP | The Org\n",
      "Snippet: Lisi SA (LISI) is a France-based manufacturer of fasteners and assembly components for the Aerospace, Automotive, and medical implants industries.\n",
      "Date: N/A\n",
      "\n",
      "Title: Message from the management - LISI GROUP\n",
      "Snippet: ... LISI Group's long-term growth. ” Emmanuel VIELLARD LISI CEO. Jean-Philippe KOHLER LISI Chairman. 2024 was a year of contrasts that allowed the LISI Group to ...\n",
      "Date: N/A\n",
      "\n",
      "Title: Michael Reyes Email & Phone Number | Chief Executive Officer at ...\n",
      "Snippet: Michael Reyes is the Chief Executive Officer at LISI AEROSPACE based in Paris, Ile-de-France. Previously, Michael was the Vice President and General Manager ...\n",
      "Date: N/A\n",
      "\n",
      "Title: Becky Patel, Lisi Inc: Profile and Biography - Bloomberg Markets\n",
      "Snippet: Becky Patel is President/CEO at Lisi Inc. See Becky Patel's compensation, career history, education, & memberships.\n",
      "Date: N/A\n",
      "\n",
      "Title: LISI GROUP Company Overview, Contact Details & Competitors\n",
      "Snippet: Lisi Group hired Emmanuel Viellard as CEO on Jan 1st '16. Emmanuel Viellard became the CEO of Lisi SA ( EPA:FII ) in 2016. Oct 29, 2018 | simplywall.st.\n",
      "Date: N/A\n",
      "\n"
     ]
    }
   ],
   "source": [
    "from autovu import search\n",
    "\n",
    "search_result = search.results(\"Who is the current CEO of LISI?\")\n",
    "formatted_results = \"\\n\".join(\n",
    "        f\"Title: {res.get('title', 'N/A')}\\nSnippet: {res.get('snippet', 'N/A')}\\nDate: {res.get('date', 'N/A')}\\n\"\n",
    "        for res in search_result['organic']\n",
    "    )\n",
    "print(formatted_results)"
   ]
  },
  {
   "cell_type": "code",
   "execution_count": 4,
   "metadata": {},
   "outputs": [],
   "source": [
    "with open(\"example.txt\", \"w\", encoding=\"utf-8\") as file:\n",
    "    file.write(formatted_results)"
   ]
  },
  {
   "cell_type": "code",
   "execution_count": null,
   "metadata": {},
   "outputs": [],
   "source": []
  }
 ],
 "metadata": {
  "kernelspec": {
   "display_name": "venv",
   "language": "python",
   "name": "python3"
  },
  "language_info": {
   "codemirror_mode": {
    "name": "ipython",
    "version": 3
   },
   "file_extension": ".py",
   "mimetype": "text/x-python",
   "name": "python",
   "nbconvert_exporter": "python",
   "pygments_lexer": "ipython3",
   "version": "3.8.10"
  }
 },
 "nbformat": 4,
 "nbformat_minor": 2
}
