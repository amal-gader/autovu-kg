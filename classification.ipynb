{
 "cells": [
  {
   "cell_type": "code",
   "execution_count": 6,
   "metadata": {},
   "outputs": [],
   "source": [
    "\n",
    "\n",
    "from tqdm import tqdm\n",
    "from dotenv import load_dotenv\n",
    "import os\n",
    "import openai\n",
    "\n",
    "tqdm.pandas()\n",
    "load_dotenv()\n",
    "\n",
    "uni_api_key = os.getenv('UNI_API_KEY')\n",
    "\n",
    "client = openai.OpenAI(\n",
    "    api_key=uni_api_key,\n",
    "    base_url=\"https://llms-inference.innkube.fim.uni-passau.de\" )\n"
   ]
  },
  {
   "cell_type": "code",
   "execution_count": 2,
   "metadata": {},
   "outputs": [],
   "source": [
    "import pandas as pd\n",
    "\n",
    "\n",
    "def entity2id_codex():\n",
    "    with open('codex/entities.json', 'r') as file:\n",
    "            entities = pd.read_json(file, orient='index')\n",
    "    entities_dict = {index:row['label'] for index, row in entities.iterrows()}\n",
    "    with open('codex/relations.json', 'r') as file:\n",
    "            relations = pd.read_json(file, orient='index')\n",
    "    relations_dict = {index:row['label'] for index, row in relations.iterrows()}\n",
    "    return entities_dict, relations_dict"
   ]
  },
  {
   "cell_type": "code",
   "execution_count": 3,
   "metadata": {},
   "outputs": [],
   "source": [
    "input_file = \"humans_wikidata/humans_wikidata/type2relation2type_ttv.txt\"\n",
    "\n",
    "unique_relations = set()\n",
    "\n",
    "with open(input_file, \"r\", encoding=\"utf-8\") as f:\n",
    "    for line in f:\n",
    "        parts = line.strip().split(\"\\t\")\n",
    "        if len(parts) >= 2:\n",
    "            relation = parts[1].strip()\n",
    "            if \"/relation/\" in relation:\n",
    "                rel_id = relation.split(\"/\")[-1]\n",
    "                unique_relations.add(rel_id)\n",
    "\n",
    "sorted_relations = sorted(unique_relations)"
   ]
  },
  {
   "cell_type": "code",
   "execution_count": 4,
   "metadata": {},
   "outputs": [],
   "source": [
    "entities_dict, relations_dict = entity2id_codex()"
   ]
  },
  {
   "cell_type": "code",
   "execution_count": null,
   "metadata": {},
   "outputs": [],
   "source": [
    "human_wikidata_relations = []\n",
    "\n",
    "for rel in sorted_relations:\n",
    "    relation = relations_dict.get(rel, None)\n",
    "    if relation:\n",
    "        human_wikidata_relations.append(relation)"
   ]
  },
  {
   "cell_type": "code",
   "execution_count": 2,
   "metadata": {},
   "outputs": [],
   "source": [
    "with open('relations.txt', 'r') as f:\n",
    "    lines = f.readlines()\n",
    "    relations = [line.strip() for line in lines]"
   ]
  },
  {
   "cell_type": "code",
   "execution_count": 3,
   "metadata": {},
   "outputs": [
    {
     "data": {
      "text/plain": [
       "['cause of death',\n",
       " 'unmarried partner',\n",
       " 'place of birth',\n",
       " 'place of death',\n",
       " 'named after',\n",
       " 'cast member',\n",
       " 'drug used for treatment',\n",
       " 'member of sports team',\n",
       " 'medical condition',\n",
       " 'headquarters location',\n",
       " 'capital',\n",
       " 'religion',\n",
       " 'chairperson',\n",
       " 'occupation',\n",
       " 'sibling',\n",
       " 'residence',\n",
       " 'spouse',\n",
       " 'languages spoken, written, or signed',\n",
       " 'country of origin',\n",
       " 'member of political party',\n",
       " 'educated at',\n",
       " 'ethnic group',\n",
       " 'chief executive officer',\n",
       " 'head of state',\n",
       " 'country',\n",
       " 'creator',\n",
       " 'director',\n",
       " 'child',\n",
       " 'movement',\n",
       " 'author',\n",
       " 'instrument',\n",
       " 'member of',\n",
       " 'continent',\n",
       " 'practiced by',\n",
       " 'place of burial',\n",
       " 'diplomatic relation',\n",
       " 'founded by',\n",
       " 'employer',\n",
       " 'influenced by',\n",
       " 'field of work']"
      ]
     },
     "execution_count": 3,
     "metadata": {},
     "output_type": "execute_result"
    }
   ],
   "source": [
    "relations"
   ]
  },
  {
   "cell_type": "code",
   "execution_count": 7,
   "metadata": {},
   "outputs": [],
   "source": [
    "def classify_relation(prompt: str, model='llama3.1'):\n",
    "    \n",
    "    instruction = \"\"\"\n",
    "    You are a helpful assistant. Determine whether the given relation is a static or a dynamic relation.\n",
    "    A static relation is a relation that doesn't change over time, means that the associated facts remain the same over time.\n",
    "    While a dynamic relation changes over time, means that the associated facts change over time and have to be updated. \n",
    "    example: Cristiano Ronaldo is Born in Funchal, Portugal is a static fact, while Cristiano Ronaldo plays for Al-Nassr is a dynamic fact.\n",
    "    Answer with \"static\" or \"dynamic\" only, no explanation is required.\n",
    "    \"\"\"\n",
    "    response = client.chat.completions.create(\n",
    "        model=model,\n",
    "        messages=[\n",
    "            {\n",
    "                \"role\": \"system\",\n",
    "                \"content\": instruction\n",
    "            },\n",
    "\n",
    "            {\n",
    "                \"role\": \"user\",\n",
    "                \"content\": \"relation: \" + prompt\n",
    "            }]\n",
    "        )\n",
    "    return response.choices[0].message.content\n"
   ]
  },
  {
   "cell_type": "code",
   "execution_count": 13,
   "metadata": {},
   "outputs": [
    {
     "name": "stderr",
     "output_type": "stream",
     "text": [
      "Classifying relations:   0%|          | 0/40 [00:00<?, ?it/s]"
     ]
    },
    {
     "name": "stderr",
     "output_type": "stream",
     "text": [
      "Classifying relations: 100%|██████████| 40/40 [00:18<00:00,  2.14it/s]"
     ]
    },
    {
     "name": "stdout",
     "output_type": "stream",
     "text": [
      "{'cause of death': 'static', 'unmarried partner': 'dynamic', 'place of birth': 'static', 'place of death': 'static', 'named after': 'static', 'cast member': 'dynamic', 'drug used for treatment': 'static', 'member of sports team': 'dynamic', 'medical condition': 'dynamic', 'headquarters location': 'dynamic', 'capital': 'static', 'religion': 'static', 'chairperson': 'dynamic', 'occupation': 'dynamic', 'sibling': 'static', 'residence': 'dynamic', 'spouse': 'dynamic', 'languages spoken, written, or signed': 'dynamic', 'country of origin': 'static', 'member of political party': 'dynamic', 'educated at': 'static', 'ethnic group': 'static', 'chief executive officer': 'Dynamic', 'head of state': 'dynamic', 'country': 'static', 'creator': 'dynamic', 'director': 'dynamic', 'child': 'dynamic', 'movement': 'dynamic', 'author': 'dynamic', 'instrument': 'static', 'member of': 'dynamic', 'continent': 'static', 'practiced by': 'dynamic', 'place of burial': 'static', 'diplomatic relation': 'dynamic', 'founded by': 'static', 'employer': 'dynamic', 'influenced by': 'static', 'field of work': 'static'}\n"
     ]
    },
    {
     "name": "stderr",
     "output_type": "stream",
     "text": [
      "\n"
     ]
    }
   ],
   "source": [
    "relations_dict = {}\n",
    "for rel in tqdm(relations, desc=\"Classifying relations\"):\n",
    "    relations_dict[rel] = classify_relation(rel)\n",
    "\n",
    "\n",
    "print(relations_dict)"
   ]
  },
  {
   "cell_type": "code",
   "execution_count": 14,
   "metadata": {},
   "outputs": [],
   "source": [
    "import json\n",
    "with open(\"relations.dict\", \"w\") as f:\n",
    "    json.dump(relations_dict, f, indent=4)"
   ]
  }
 ],
 "metadata": {
  "kernelspec": {
   "display_name": "venv",
   "language": "python",
   "name": "python3"
  },
  "language_info": {
   "codemirror_mode": {
    "name": "ipython",
    "version": 3
   },
   "file_extension": ".py",
   "mimetype": "text/x-python",
   "name": "python",
   "nbconvert_exporter": "python",
   "pygments_lexer": "ipython3",
   "version": "3.8.10"
  }
 },
 "nbformat": 4,
 "nbformat_minor": 2
}
